{
 "cells": [
  {
   "cell_type": "code",
   "execution_count": 2,
   "metadata": {
    "ExecuteTime": {
     "end_time": "2023-09-04T01:27:09.592774Z",
     "start_time": "2023-09-04T01:27:08.810526Z"
    }
   },
   "outputs": [],
   "source": [
    "import os, sys\n",
    "\n",
    "module_path = os.path.abspath('../..')\n",
    "if module_path not in sys.path:\n",
    "    sys.path.append(module_path)\n",
    "\n",
    "import numpy as np\n",
    "import networkx as nx\n",
    "import matplotlib.pyplot as plt\n",
    "from unisys import gate, circuit\n",
    "from unisys.utils import operations, arch\n",
    "from unisys.mapping import heuristic\n"
   ]
  },
  {
   "cell_type": "markdown",
   "metadata": {
    "collapsed": false
   },
   "source": [
    "## SABRE routing algorithm"
   ]
  },
  {
   "cell_type": "markdown",
   "metadata": {
    "collapsed": false
   },
   "source": [
    "### Overview demo\n",
    "\n",
    "Overall, the SABRE routing algorithm will \"pass\" the circuit forward-and-backward for several periods and then perform a forward pass to search optimal SWAP gates to insert.\n",
    "\n",
    "The default bidirectional pass period number `k=3`, meaning searching for 2k+1 passes in total"
   ]
  },
  {
   "cell_type": "code",
   "execution_count": 3,
   "metadata": {
    "ExecuteTime": {
     "end_time": "2023-09-04T01:37:28.185026Z",
     "start_time": "2023-09-04T01:37:28.180213Z"
    },
    "collapsed": false
   },
   "outputs": [],
   "source": [
    "circ = circuit.Circuit([\n",
    "    gate.H.on(0), gate.H.on(2), gate.H.on(5),\n",
    "    gate.Z.on(0), gate.X.on(2, 1), gate.X.on(5, 4),\n",
    "    gate.X.on(1, 0), gate.X.on(3, 2),\n",
    "    gate.H.on(2), gate.H.on(3),\n",
    "    gate.X.on(2, 1), gate.X.on(5, 3),\n",
    "    gate.Z.on(3),\n",
    "    gate.X.on(3, 4),\n",
    "    gate.X.on(0, 3)\n",
    "])\n"
   ]
  },
  {
   "cell_type": "code",
   "execution_count": 7,
   "metadata": {
    "ExecuteTime": {
     "end_time": "2023-09-04T01:37:28.385811Z",
     "start_time": "2023-09-04T01:37:28.300438Z"
    },
    "collapsed": false
   },
   "outputs": [
    {
     "data": {
      "image/png": "[encoded data removed]",
      "text/plain": [
       "<Figure size 300x200 with 1 Axes>"
      ]
     },
     "metadata": {},
     "output_type": "display_data"
    }
   ],
   "source": [
    "device = arch.read_device_topology('./topology/oslo.graphml')\n",
    "plt.figure(figsize=(3, 2))\n",
    "nx.draw(device, with_labels=True)\n",
    "plt.title('coupling graph')\n",
    "plt.show()\n"
   ]
  },
  {
   "cell_type": "code",
   "execution_count": 9,
   "metadata": {
    "ExecuteTime": {
     "end_time": "2023-09-04T01:40:15.466159Z",
     "start_time": "2023-09-04T01:40:15.346844Z"
    },
    "collapsed": false
   },
   "outputs": [
    {
     "name": "stdout",
     "output_type": "stream",
     "text": [
      "dag nodes: [H{0}, H{2}, H{5}, Z{0}, X{2←1}, X{5←4}, X{1←0}, X{3←2}, H{2}, H{3}, X{2←1}, X{5←3}, Z{3}, X{3←4}, X{0←3}]\n",
      "--------------------------------------------------\n",
      "logical_qubits: [0, 1, 2, 3, 4, 5]\n",
      "physical_qubits: [0, 1, 2, 3, 4, 5, 6]\n",
      "initial_mapping: {0: 6, 1: 5, 2: 2, 3: 0, 4: 1, 5: 3}\n"
     ]
    },
    {
     "data": {
      "text/html": [
       "<pre style=\"white-space:pre;overflow-x:auto;line-height:normal;font-family:Menlo,'DejaVu Sans Mono',consolas,'Courier New',monospace\"><span style=\"color: #00ff00; text-decoration-color: #00ff00\">───────────────────────── </span>updated: <span style=\"font-weight: bold\">{</span><span style=\"color: #008080; text-decoration-color: #008080; font-weight: bold\">0</span>: <span style=\"color: #008080; text-decoration-color: #008080; font-weight: bold\">6</span>, <span style=\"color: #008080; text-decoration-color: #008080; font-weight: bold\">1</span>: <span style=\"color: #008080; text-decoration-color: #008080; font-weight: bold\">5</span>, <span style=\"color: #008080; text-decoration-color: #008080; font-weight: bold\">2</span>: <span style=\"color: #008080; text-decoration-color: #008080; font-weight: bold\">1</span>, <span style=\"color: #008080; text-decoration-color: #008080; font-weight: bold\">3</span>: <span style=\"color: #008080; text-decoration-color: #008080; font-weight: bold\">0</span>, <span style=\"color: #008080; text-decoration-color: #008080; font-weight: bold\">4</span>: <span style=\"color: #008080; text-decoration-color: #008080; font-weight: bold\">2</span>, <span style=\"color: #008080; text-decoration-color: #008080; font-weight: bold\">5</span>: <span style=\"color: #008080; text-decoration-color: #008080; font-weight: bold\">3</span><span style=\"font-weight: bold\">}</span>, after SWAP<span style=\"font-weight: bold\">{</span><span style=\"color: #008080; text-decoration-color: #008080; font-weight: bold\">2</span>|<span style=\"color: #008080; text-decoration-color: #008080; font-weight: bold\">4</span><span style=\"font-weight: bold\">}</span><span style=\"color: #00ff00; text-decoration-color: #00ff00\"> ──────────────────────────</span>\n",
       "</pre>\n"
      ],
      "text/plain": [
       "\u001b[92m───────────────────────── \u001b[0mupdated: \u001b[1m{\u001b[0m\u001b[1;36m0\u001b[0m: \u001b[1;36m6\u001b[0m, \u001b[1;36m1\u001b[0m: \u001b[1;36m5\u001b[0m, \u001b[1;36m2\u001b[0m: \u001b[1;36m1\u001b[0m, \u001b[1;36m3\u001b[0m: \u001b[1;36m0\u001b[0m, \u001b[1;36m4\u001b[0m: \u001b[1;36m2\u001b[0m, \u001b[1;36m5\u001b[0m: \u001b[1;36m3\u001b[0m\u001b[1m}\u001b[0m, after SWAP\u001b[1m{\u001b[0m\u001b[1;36m2\u001b[0m|\u001b[1;36m4\u001b[0m\u001b[1m}\u001b[0m\u001b[92m ──────────────────────────\u001b[0m\n"
      ]
     },
     "metadata": {},
     "output_type": "display_data"
    },
    {
     "data": {
      "text/html": [
       "<pre style=\"white-space:pre;overflow-x:auto;line-height:normal;font-family:Menlo,'DejaVu Sans Mono',consolas,'Courier New',monospace\"><span style=\"color: #00ff00; text-decoration-color: #00ff00\">───────────────────────── </span>updated: <span style=\"font-weight: bold\">{</span><span style=\"color: #008080; text-decoration-color: #008080; font-weight: bold\">0</span>: <span style=\"color: #008080; text-decoration-color: #008080; font-weight: bold\">6</span>, <span style=\"color: #008080; text-decoration-color: #008080; font-weight: bold\">1</span>: <span style=\"color: #008080; text-decoration-color: #008080; font-weight: bold\">3</span>, <span style=\"color: #008080; text-decoration-color: #008080; font-weight: bold\">2</span>: <span style=\"color: #008080; text-decoration-color: #008080; font-weight: bold\">1</span>, <span style=\"color: #008080; text-decoration-color: #008080; font-weight: bold\">3</span>: <span style=\"color: #008080; text-decoration-color: #008080; font-weight: bold\">0</span>, <span style=\"color: #008080; text-decoration-color: #008080; font-weight: bold\">4</span>: <span style=\"color: #008080; text-decoration-color: #008080; font-weight: bold\">2</span>, <span style=\"color: #008080; text-decoration-color: #008080; font-weight: bold\">5</span>: <span style=\"color: #008080; text-decoration-color: #008080; font-weight: bold\">5</span><span style=\"font-weight: bold\">}</span>, after SWAP<span style=\"font-weight: bold\">{</span><span style=\"color: #008080; text-decoration-color: #008080; font-weight: bold\">1</span>|<span style=\"color: #008080; text-decoration-color: #008080; font-weight: bold\">5</span><span style=\"font-weight: bold\">}</span><span style=\"color: #00ff00; text-decoration-color: #00ff00\"> ──────────────────────────</span>\n",
       "</pre>\n"
      ],
      "text/plain": [
       "\u001b[92m───────────────────────── \u001b[0mupdated: \u001b[1m{\u001b[0m\u001b[1;36m0\u001b[0m: \u001b[1;36m6\u001b[0m, \u001b[1;36m1\u001b[0m: \u001b[1;36m3\u001b[0m, \u001b[1;36m2\u001b[0m: \u001b[1;36m1\u001b[0m, \u001b[1;36m3\u001b[0m: \u001b[1;36m0\u001b[0m, \u001b[1;36m4\u001b[0m: \u001b[1;36m2\u001b[0m, \u001b[1;36m5\u001b[0m: \u001b[1;36m5\u001b[0m\u001b[1m}\u001b[0m, after SWAP\u001b[1m{\u001b[0m\u001b[1;36m1\u001b[0m|\u001b[1;36m5\u001b[0m\u001b[1m}\u001b[0m\u001b[92m ──────────────────────────\u001b[0m\n"
      ]
     },
     "metadata": {},
     "output_type": "display_data"
    },
    {
     "data": {
      "text/html": [
       "<pre style=\"white-space:pre;overflow-x:auto;line-height:normal;font-family:Menlo,'DejaVu Sans Mono',consolas,'Courier New',monospace\"><span style=\"color: #00ff00; text-decoration-color: #00ff00\">───────────────────────── </span>updated: <span style=\"font-weight: bold\">{</span><span style=\"color: #008080; text-decoration-color: #008080; font-weight: bold\">0</span>: <span style=\"color: #008080; text-decoration-color: #008080; font-weight: bold\">6</span>, <span style=\"color: #008080; text-decoration-color: #008080; font-weight: bold\">1</span>: <span style=\"color: #008080; text-decoration-color: #008080; font-weight: bold\">5</span>, <span style=\"color: #008080; text-decoration-color: #008080; font-weight: bold\">2</span>: <span style=\"color: #008080; text-decoration-color: #008080; font-weight: bold\">1</span>, <span style=\"color: #008080; text-decoration-color: #008080; font-weight: bold\">3</span>: <span style=\"color: #008080; text-decoration-color: #008080; font-weight: bold\">0</span>, <span style=\"color: #008080; text-decoration-color: #008080; font-weight: bold\">4</span>: <span style=\"color: #008080; text-decoration-color: #008080; font-weight: bold\">2</span>, <span style=\"color: #008080; text-decoration-color: #008080; font-weight: bold\">5</span>: <span style=\"color: #008080; text-decoration-color: #008080; font-weight: bold\">3</span><span style=\"font-weight: bold\">}</span>, after SWAP<span style=\"font-weight: bold\">{</span><span style=\"color: #008080; text-decoration-color: #008080; font-weight: bold\">1</span>|<span style=\"color: #008080; text-decoration-color: #008080; font-weight: bold\">5</span><span style=\"font-weight: bold\">}</span><span style=\"color: #00ff00; text-decoration-color: #00ff00\"> ──────────────────────────</span>\n",
       "</pre>\n"
      ],
      "text/plain": [
       "\u001b[92m───────────────────────── \u001b[0mupdated: \u001b[1m{\u001b[0m\u001b[1;36m0\u001b[0m: \u001b[1;36m6\u001b[0m, \u001b[1;36m1\u001b[0m: \u001b[1;36m5\u001b[0m, \u001b[1;36m2\u001b[0m: \u001b[1;36m1\u001b[0m, \u001b[1;36m3\u001b[0m: \u001b[1;36m0\u001b[0m, \u001b[1;36m4\u001b[0m: \u001b[1;36m2\u001b[0m, \u001b[1;36m5\u001b[0m: \u001b[1;36m3\u001b[0m\u001b[1m}\u001b[0m, after SWAP\u001b[1m{\u001b[0m\u001b[1;36m1\u001b[0m|\u001b[1;36m5\u001b[0m\u001b[1m}\u001b[0m\u001b[92m ──────────────────────────\u001b[0m\n"
      ]
     },
     "metadata": {},
     "output_type": "display_data"
    },
    {
     "data": {
      "text/html": [
       "<pre style=\"white-space:pre;overflow-x:auto;line-height:normal;font-family:Menlo,'DejaVu Sans Mono',consolas,'Courier New',monospace\"><span style=\"color: #00ff00; text-decoration-color: #00ff00\">───────────────────────── </span>updated: <span style=\"font-weight: bold\">{</span><span style=\"color: #008080; text-decoration-color: #008080; font-weight: bold\">0</span>: <span style=\"color: #008080; text-decoration-color: #008080; font-weight: bold\">6</span>, <span style=\"color: #008080; text-decoration-color: #008080; font-weight: bold\">1</span>: <span style=\"color: #008080; text-decoration-color: #008080; font-weight: bold\">5</span>, <span style=\"color: #008080; text-decoration-color: #008080; font-weight: bold\">2</span>: <span style=\"color: #008080; text-decoration-color: #008080; font-weight: bold\">3</span>, <span style=\"color: #008080; text-decoration-color: #008080; font-weight: bold\">3</span>: <span style=\"color: #008080; text-decoration-color: #008080; font-weight: bold\">0</span>, <span style=\"color: #008080; text-decoration-color: #008080; font-weight: bold\">4</span>: <span style=\"color: #008080; text-decoration-color: #008080; font-weight: bold\">2</span>, <span style=\"color: #008080; text-decoration-color: #008080; font-weight: bold\">5</span>: <span style=\"color: #008080; text-decoration-color: #008080; font-weight: bold\">1</span><span style=\"font-weight: bold\">}</span>, after SWAP<span style=\"font-weight: bold\">{</span><span style=\"color: #008080; text-decoration-color: #008080; font-weight: bold\">2</span>|<span style=\"color: #008080; text-decoration-color: #008080; font-weight: bold\">5</span><span style=\"font-weight: bold\">}</span><span style=\"color: #00ff00; text-decoration-color: #00ff00\"> ──────────────────────────</span>\n",
       "</pre>\n"
      ],
      "text/plain": [
       "\u001b[92m───────────────────────── \u001b[0mupdated: \u001b[1m{\u001b[0m\u001b[1;36m0\u001b[0m: \u001b[1;36m6\u001b[0m, \u001b[1;36m1\u001b[0m: \u001b[1;36m5\u001b[0m, \u001b[1;36m2\u001b[0m: \u001b[1;36m3\u001b[0m, \u001b[1;36m3\u001b[0m: \u001b[1;36m0\u001b[0m, \u001b[1;36m4\u001b[0m: \u001b[1;36m2\u001b[0m, \u001b[1;36m5\u001b[0m: \u001b[1;36m1\u001b[0m\u001b[1m}\u001b[0m, after SWAP\u001b[1m{\u001b[0m\u001b[1;36m2\u001b[0m|\u001b[1;36m5\u001b[0m\u001b[1m}\u001b[0m\u001b[92m ──────────────────────────\u001b[0m\n"
      ]
     },
     "metadata": {},
     "output_type": "display_data"
    },
    {
     "data": {
      "text/html": [
       "<pre style=\"white-space:pre;overflow-x:auto;line-height:normal;font-family:Menlo,'DejaVu Sans Mono',consolas,'Courier New',monospace\"><span style=\"color: #00ff00; text-decoration-color: #00ff00\">───────────────────────── </span>updated: <span style=\"font-weight: bold\">{</span><span style=\"color: #008080; text-decoration-color: #008080; font-weight: bold\">0</span>: <span style=\"color: #008080; text-decoration-color: #008080; font-weight: bold\">6</span>, <span style=\"color: #008080; text-decoration-color: #008080; font-weight: bold\">1</span>: <span style=\"color: #008080; text-decoration-color: #008080; font-weight: bold\">5</span>, <span style=\"color: #008080; text-decoration-color: #008080; font-weight: bold\">2</span>: <span style=\"color: #008080; text-decoration-color: #008080; font-weight: bold\">3</span>, <span style=\"color: #008080; text-decoration-color: #008080; font-weight: bold\">3</span>: <span style=\"color: #008080; text-decoration-color: #008080; font-weight: bold\">1</span>, <span style=\"color: #008080; text-decoration-color: #008080; font-weight: bold\">4</span>: <span style=\"color: #008080; text-decoration-color: #008080; font-weight: bold\">2</span>, <span style=\"color: #008080; text-decoration-color: #008080; font-weight: bold\">5</span>: <span style=\"color: #008080; text-decoration-color: #008080; font-weight: bold\">0</span><span style=\"font-weight: bold\">}</span>, after SWAP<span style=\"font-weight: bold\">{</span><span style=\"color: #008080; text-decoration-color: #008080; font-weight: bold\">3</span>|<span style=\"color: #008080; text-decoration-color: #008080; font-weight: bold\">5</span><span style=\"font-weight: bold\">}</span><span style=\"color: #00ff00; text-decoration-color: #00ff00\"> ──────────────────────────</span>\n",
       "</pre>\n"
      ],
      "text/plain": [
       "\u001b[92m───────────────────────── \u001b[0mupdated: \u001b[1m{\u001b[0m\u001b[1;36m0\u001b[0m: \u001b[1;36m6\u001b[0m, \u001b[1;36m1\u001b[0m: \u001b[1;36m5\u001b[0m, \u001b[1;36m2\u001b[0m: \u001b[1;36m3\u001b[0m, \u001b[1;36m3\u001b[0m: \u001b[1;36m1\u001b[0m, \u001b[1;36m4\u001b[0m: \u001b[1;36m2\u001b[0m, \u001b[1;36m5\u001b[0m: \u001b[1;36m0\u001b[0m\u001b[1m}\u001b[0m, after SWAP\u001b[1m{\u001b[0m\u001b[1;36m3\u001b[0m|\u001b[1;36m5\u001b[0m\u001b[1m}\u001b[0m\u001b[92m ──────────────────────────\u001b[0m\n"
      ]
     },
     "metadata": {},
     "output_type": "display_data"
    },
    {
     "data": {
      "text/html": [
       "<pre style=\"white-space:pre;overflow-x:auto;line-height:normal;font-family:Menlo,'DejaVu Sans Mono',consolas,'Courier New',monospace\"><span style=\"color: #00ff00; text-decoration-color: #00ff00\">───────────────────────── </span>updated: <span style=\"font-weight: bold\">{</span><span style=\"color: #008080; text-decoration-color: #008080; font-weight: bold\">0</span>: <span style=\"color: #008080; text-decoration-color: #008080; font-weight: bold\">5</span>, <span style=\"color: #008080; text-decoration-color: #008080; font-weight: bold\">1</span>: <span style=\"color: #008080; text-decoration-color: #008080; font-weight: bold\">6</span>, <span style=\"color: #008080; text-decoration-color: #008080; font-weight: bold\">2</span>: <span style=\"color: #008080; text-decoration-color: #008080; font-weight: bold\">3</span>, <span style=\"color: #008080; text-decoration-color: #008080; font-weight: bold\">3</span>: <span style=\"color: #008080; text-decoration-color: #008080; font-weight: bold\">1</span>, <span style=\"color: #008080; text-decoration-color: #008080; font-weight: bold\">4</span>: <span style=\"color: #008080; text-decoration-color: #008080; font-weight: bold\">2</span>, <span style=\"color: #008080; text-decoration-color: #008080; font-weight: bold\">5</span>: <span style=\"color: #008080; text-decoration-color: #008080; font-weight: bold\">0</span><span style=\"font-weight: bold\">}</span>, after SWAP<span style=\"font-weight: bold\">{</span><span style=\"color: #008080; text-decoration-color: #008080; font-weight: bold\">0</span>|<span style=\"color: #008080; text-decoration-color: #008080; font-weight: bold\">1</span><span style=\"font-weight: bold\">}</span><span style=\"color: #00ff00; text-decoration-color: #00ff00\"> ──────────────────────────</span>\n",
       "</pre>\n"
      ],
      "text/plain": [
       "\u001b[92m───────────────────────── \u001b[0mupdated: \u001b[1m{\u001b[0m\u001b[1;36m0\u001b[0m: \u001b[1;36m5\u001b[0m, \u001b[1;36m1\u001b[0m: \u001b[1;36m6\u001b[0m, \u001b[1;36m2\u001b[0m: \u001b[1;36m3\u001b[0m, \u001b[1;36m3\u001b[0m: \u001b[1;36m1\u001b[0m, \u001b[1;36m4\u001b[0m: \u001b[1;36m2\u001b[0m, \u001b[1;36m5\u001b[0m: \u001b[1;36m0\u001b[0m\u001b[1m}\u001b[0m, after SWAP\u001b[1m{\u001b[0m\u001b[1;36m0\u001b[0m|\u001b[1;36m1\u001b[0m\u001b[1m}\u001b[0m\u001b[92m ──────────────────────────\u001b[0m\n"
      ]
     },
     "metadata": {},
     "output_type": "display_data"
    },
    {
     "data": {
      "text/html": [
       "<pre style=\"white-space:pre;overflow-x:auto;line-height:normal;font-family:Menlo,'DejaVu Sans Mono',consolas,'Courier New',monospace\"><span style=\"color: #00ff00; text-decoration-color: #00ff00\">───────────────────────── </span>updated: <span style=\"font-weight: bold\">{</span><span style=\"color: #008080; text-decoration-color: #008080; font-weight: bold\">0</span>: <span style=\"color: #008080; text-decoration-color: #008080; font-weight: bold\">3</span>, <span style=\"color: #008080; text-decoration-color: #008080; font-weight: bold\">1</span>: <span style=\"color: #008080; text-decoration-color: #008080; font-weight: bold\">6</span>, <span style=\"color: #008080; text-decoration-color: #008080; font-weight: bold\">2</span>: <span style=\"color: #008080; text-decoration-color: #008080; font-weight: bold\">5</span>, <span style=\"color: #008080; text-decoration-color: #008080; font-weight: bold\">3</span>: <span style=\"color: #008080; text-decoration-color: #008080; font-weight: bold\">1</span>, <span style=\"color: #008080; text-decoration-color: #008080; font-weight: bold\">4</span>: <span style=\"color: #008080; text-decoration-color: #008080; font-weight: bold\">2</span>, <span style=\"color: #008080; text-decoration-color: #008080; font-weight: bold\">5</span>: <span style=\"color: #008080; text-decoration-color: #008080; font-weight: bold\">0</span><span style=\"font-weight: bold\">}</span>, after SWAP<span style=\"font-weight: bold\">{</span><span style=\"color: #008080; text-decoration-color: #008080; font-weight: bold\">0</span>|<span style=\"color: #008080; text-decoration-color: #008080; font-weight: bold\">2</span><span style=\"font-weight: bold\">}</span><span style=\"color: #00ff00; text-decoration-color: #00ff00\"> ──────────────────────────</span>\n",
       "</pre>\n"
      ],
      "text/plain": [
       "\u001b[92m───────────────────────── \u001b[0mupdated: \u001b[1m{\u001b[0m\u001b[1;36m0\u001b[0m: \u001b[1;36m3\u001b[0m, \u001b[1;36m1\u001b[0m: \u001b[1;36m6\u001b[0m, \u001b[1;36m2\u001b[0m: \u001b[1;36m5\u001b[0m, \u001b[1;36m3\u001b[0m: \u001b[1;36m1\u001b[0m, \u001b[1;36m4\u001b[0m: \u001b[1;36m2\u001b[0m, \u001b[1;36m5\u001b[0m: \u001b[1;36m0\u001b[0m\u001b[1m}\u001b[0m, after SWAP\u001b[1m{\u001b[0m\u001b[1;36m0\u001b[0m|\u001b[1;36m2\u001b[0m\u001b[1m}\u001b[0m\u001b[92m ──────────────────────────\u001b[0m\n"
      ]
     },
     "metadata": {},
     "output_type": "display_data"
    },
    {
     "name": "stdout",
     "output_type": "stream",
     "text": [
      "final_mapping: {0: 3, 1: 6, 2: 5, 3: 1, 4: 2, 5: 0}\n"
     ]
    },
    {
     "data": {
      "text/html": [
       "<pre style=\"white-space:pre;overflow-x:auto;line-height:normal;font-family:Menlo,'DejaVu Sans Mono',consolas,'Courier New',monospace\"><span style=\"color: #00ff00; text-decoration-color: #00ff00\">──────────────────────────────────────── </span>SABRE bidirectional pass period <span style=\"color: #008080; text-decoration-color: #008080; font-weight: bold\">0</span><span style=\"color: #00ff00; text-decoration-color: #00ff00\"> ────────────────────────────────────────</span>\n",
       "</pre>\n"
      ],
      "text/plain": [
       "\u001b[92m──────────────────────────────────────── \u001b[0mSABRE bidirectional pass period \u001b[1;36m0\u001b[0m\u001b[92m ────────────────────────────────────────\u001b[0m\n"
      ]
     },
     "metadata": {},
     "output_type": "display_data"
    },
    {
     "data": {
      "text/html": [
       "<pre style=\"white-space:pre;overflow-x:auto;line-height:normal;font-family:Menlo,'DejaVu Sans Mono',consolas,'Courier New',monospace\"><span style=\"color: #000080; text-decoration-color: #000080; font-weight: bold\">reversed pass</span>\n",
       "</pre>\n"
      ],
      "text/plain": [
       "\u001b[1;34mreversed pass\u001b[0m\n"
      ]
     },
     "metadata": {},
     "output_type": "display_data"
    },
    {
     "name": "stdout",
     "output_type": "stream",
     "text": [
      "dag nodes: [X{0←3}, X{3←4}, Z{3}, X{5←3}, X{2←1}, H{3}, H{2}, X{3←2}, X{1←0}, X{5←4}, X{2←1}, Z{0}, H{5}, H{2}, H{0}]\n",
      "initial_mapping: {0: 3, 1: 6, 2: 5, 3: 1, 4: 2, 5: 0}\n"
     ]
    },
    {
     "data": {
      "text/html": [
       "<pre style=\"white-space:pre;overflow-x:auto;line-height:normal;font-family:Menlo,'DejaVu Sans Mono',consolas,'Courier New',monospace\"><span style=\"color: #00ff00; text-decoration-color: #00ff00\">───────────────────────── </span>updated: <span style=\"font-weight: bold\">{</span><span style=\"color: #008080; text-decoration-color: #008080; font-weight: bold\">0</span>: <span style=\"color: #008080; text-decoration-color: #008080; font-weight: bold\">5</span>, <span style=\"color: #008080; text-decoration-color: #008080; font-weight: bold\">1</span>: <span style=\"color: #008080; text-decoration-color: #008080; font-weight: bold\">6</span>, <span style=\"color: #008080; text-decoration-color: #008080; font-weight: bold\">2</span>: <span style=\"color: #008080; text-decoration-color: #008080; font-weight: bold\">3</span>, <span style=\"color: #008080; text-decoration-color: #008080; font-weight: bold\">3</span>: <span style=\"color: #008080; text-decoration-color: #008080; font-weight: bold\">1</span>, <span style=\"color: #008080; text-decoration-color: #008080; font-weight: bold\">4</span>: <span style=\"color: #008080; text-decoration-color: #008080; font-weight: bold\">2</span>, <span style=\"color: #008080; text-decoration-color: #008080; font-weight: bold\">5</span>: <span style=\"color: #008080; text-decoration-color: #008080; font-weight: bold\">0</span><span style=\"font-weight: bold\">}</span>, after SWAP<span style=\"font-weight: bold\">{</span><span style=\"color: #008080; text-decoration-color: #008080; font-weight: bold\">0</span>|<span style=\"color: #008080; text-decoration-color: #008080; font-weight: bold\">2</span><span style=\"font-weight: bold\">}</span><span style=\"color: #00ff00; text-decoration-color: #00ff00\"> ──────────────────────────</span>\n",
       "</pre>\n"
      ],
      "text/plain": [
       "\u001b[92m───────────────────────── \u001b[0mupdated: \u001b[1m{\u001b[0m\u001b[1;36m0\u001b[0m: \u001b[1;36m5\u001b[0m, \u001b[1;36m1\u001b[0m: \u001b[1;36m6\u001b[0m, \u001b[1;36m2\u001b[0m: \u001b[1;36m3\u001b[0m, \u001b[1;36m3\u001b[0m: \u001b[1;36m1\u001b[0m, \u001b[1;36m4\u001b[0m: \u001b[1;36m2\u001b[0m, \u001b[1;36m5\u001b[0m: \u001b[1;36m0\u001b[0m\u001b[1m}\u001b[0m, after SWAP\u001b[1m{\u001b[0m\u001b[1;36m0\u001b[0m|\u001b[1;36m2\u001b[0m\u001b[1m}\u001b[0m\u001b[92m ──────────────────────────\u001b[0m\n"
      ]
     },
     "metadata": {},
     "output_type": "display_data"
    },
    {
     "data": {
      "text/html": [
       "<pre style=\"white-space:pre;overflow-x:auto;line-height:normal;font-family:Menlo,'DejaVu Sans Mono',consolas,'Courier New',monospace\"><span style=\"color: #00ff00; text-decoration-color: #00ff00\">───────────────────────── </span>updated: <span style=\"font-weight: bold\">{</span><span style=\"color: #008080; text-decoration-color: #008080; font-weight: bold\">0</span>: <span style=\"color: #008080; text-decoration-color: #008080; font-weight: bold\">5</span>, <span style=\"color: #008080; text-decoration-color: #008080; font-weight: bold\">1</span>: <span style=\"color: #008080; text-decoration-color: #008080; font-weight: bold\">6</span>, <span style=\"color: #008080; text-decoration-color: #008080; font-weight: bold\">2</span>: <span style=\"color: #008080; text-decoration-color: #008080; font-weight: bold\">3</span>, <span style=\"color: #008080; text-decoration-color: #008080; font-weight: bold\">3</span>: <span style=\"color: #008080; text-decoration-color: #008080; font-weight: bold\">2</span>, <span style=\"color: #008080; text-decoration-color: #008080; font-weight: bold\">4</span>: <span style=\"color: #008080; text-decoration-color: #008080; font-weight: bold\">1</span>, <span style=\"color: #008080; text-decoration-color: #008080; font-weight: bold\">5</span>: <span style=\"color: #008080; text-decoration-color: #008080; font-weight: bold\">0</span><span style=\"font-weight: bold\">}</span>, after SWAP<span style=\"font-weight: bold\">{</span><span style=\"color: #008080; text-decoration-color: #008080; font-weight: bold\">4</span>|<span style=\"color: #008080; text-decoration-color: #008080; font-weight: bold\">3</span><span style=\"font-weight: bold\">}</span><span style=\"color: #00ff00; text-decoration-color: #00ff00\"> ──────────────────────────</span>\n",
       "</pre>\n"
      ],
      "text/plain": [
       "\u001b[92m───────────────────────── \u001b[0mupdated: \u001b[1m{\u001b[0m\u001b[1;36m0\u001b[0m: \u001b[1;36m5\u001b[0m, \u001b[1;36m1\u001b[0m: \u001b[1;36m6\u001b[0m, \u001b[1;36m2\u001b[0m: \u001b[1;36m3\u001b[0m, \u001b[1;36m3\u001b[0m: \u001b[1;36m2\u001b[0m, \u001b[1;36m4\u001b[0m: \u001b[1;36m1\u001b[0m, \u001b[1;36m5\u001b[0m: \u001b[1;36m0\u001b[0m\u001b[1m}\u001b[0m, after SWAP\u001b[1m{\u001b[0m\u001b[1;36m4\u001b[0m|\u001b[1;36m3\u001b[0m\u001b[1m}\u001b[0m\u001b[92m ──────────────────────────\u001b[0m\n"
      ]
     },
     "metadata": {},
     "output_type": "display_data"
    },
    {
     "data": {
      "text/html": [
       "<pre style=\"white-space:pre;overflow-x:auto;line-height:normal;font-family:Menlo,'DejaVu Sans Mono',consolas,'Courier New',monospace\"><span style=\"color: #00ff00; text-decoration-color: #00ff00\">───────────────────────── </span>updated: <span style=\"font-weight: bold\">{</span><span style=\"color: #008080; text-decoration-color: #008080; font-weight: bold\">0</span>: <span style=\"color: #008080; text-decoration-color: #008080; font-weight: bold\">6</span>, <span style=\"color: #008080; text-decoration-color: #008080; font-weight: bold\">1</span>: <span style=\"color: #008080; text-decoration-color: #008080; font-weight: bold\">5</span>, <span style=\"color: #008080; text-decoration-color: #008080; font-weight: bold\">2</span>: <span style=\"color: #008080; text-decoration-color: #008080; font-weight: bold\">3</span>, <span style=\"color: #008080; text-decoration-color: #008080; font-weight: bold\">3</span>: <span style=\"color: #008080; text-decoration-color: #008080; font-weight: bold\">2</span>, <span style=\"color: #008080; text-decoration-color: #008080; font-weight: bold\">4</span>: <span style=\"color: #008080; text-decoration-color: #008080; font-weight: bold\">1</span>, <span style=\"color: #008080; text-decoration-color: #008080; font-weight: bold\">5</span>: <span style=\"color: #008080; text-decoration-color: #008080; font-weight: bold\">0</span><span style=\"font-weight: bold\">}</span>, after SWAP<span style=\"font-weight: bold\">{</span><span style=\"color: #008080; text-decoration-color: #008080; font-weight: bold\">1</span>|<span style=\"color: #008080; text-decoration-color: #008080; font-weight: bold\">0</span><span style=\"font-weight: bold\">}</span><span style=\"color: #00ff00; text-decoration-color: #00ff00\"> ──────────────────────────</span>\n",
       "</pre>\n"
      ],
      "text/plain": [
       "\u001b[92m───────────────────────── \u001b[0mupdated: \u001b[1m{\u001b[0m\u001b[1;36m0\u001b[0m: \u001b[1;36m6\u001b[0m, \u001b[1;36m1\u001b[0m: \u001b[1;36m5\u001b[0m, \u001b[1;36m2\u001b[0m: \u001b[1;36m3\u001b[0m, \u001b[1;36m3\u001b[0m: \u001b[1;36m2\u001b[0m, \u001b[1;36m4\u001b[0m: \u001b[1;36m1\u001b[0m, \u001b[1;36m5\u001b[0m: \u001b[1;36m0\u001b[0m\u001b[1m}\u001b[0m, after SWAP\u001b[1m{\u001b[0m\u001b[1;36m1\u001b[0m|\u001b[1;36m0\u001b[0m\u001b[1m}\u001b[0m\u001b[92m ──────────────────────────\u001b[0m\n"
      ]
     },
     "metadata": {},
     "output_type": "display_data"
    },
    {
     "name": "stdout",
     "output_type": "stream",
     "text": [
      "final_mapping: {0: 6, 1: 5, 2: 3, 3: 2, 4: 1, 5: 0}\n"
     ]
    },
    {
     "data": {
      "text/html": [
       "<pre style=\"white-space:pre;overflow-x:auto;line-height:normal;font-family:Menlo,'DejaVu Sans Mono',consolas,'Courier New',monospace\"><span style=\"color: #008000; text-decoration-color: #008000; font-weight: bold\">forward pass</span>\n",
       "</pre>\n"
      ],
      "text/plain": [
       "\u001b[1;32mforward pass\u001b[0m\n"
      ]
     },
     "metadata": {},
     "output_type": "display_data"
    },
    {
     "name": "stdout",
     "output_type": "stream",
     "text": [
      "dag nodes: [H{0}, H{2}, H{5}, Z{0}, X{2←1}, X{5←4}, X{1←0}, X{3←2}, H{2}, H{3}, X{2←1}, X{5←3}, Z{3}, X{3←4}, X{0←3}]\n",
      "initial_mapping: {0: 6, 1: 5, 2: 3, 3: 2, 4: 1, 5: 0}\n"
     ]
    },
    {
     "data": {
      "text/html": [
       "<pre style=\"white-space:pre;overflow-x:auto;line-height:normal;font-family:Menlo,'DejaVu Sans Mono',consolas,'Courier New',monospace\"><span style=\"color: #00ff00; text-decoration-color: #00ff00\">───────────────────────── </span>updated: <span style=\"font-weight: bold\">{</span><span style=\"color: #008080; text-decoration-color: #008080; font-weight: bold\">0</span>: <span style=\"color: #008080; text-decoration-color: #008080; font-weight: bold\">6</span>, <span style=\"color: #008080; text-decoration-color: #008080; font-weight: bold\">1</span>: <span style=\"color: #008080; text-decoration-color: #008080; font-weight: bold\">5</span>, <span style=\"color: #008080; text-decoration-color: #008080; font-weight: bold\">2</span>: <span style=\"color: #008080; text-decoration-color: #008080; font-weight: bold\">1</span>, <span style=\"color: #008080; text-decoration-color: #008080; font-weight: bold\">3</span>: <span style=\"color: #008080; text-decoration-color: #008080; font-weight: bold\">2</span>, <span style=\"color: #008080; text-decoration-color: #008080; font-weight: bold\">4</span>: <span style=\"color: #008080; text-decoration-color: #008080; font-weight: bold\">3</span>, <span style=\"color: #008080; text-decoration-color: #008080; font-weight: bold\">5</span>: <span style=\"color: #008080; text-decoration-color: #008080; font-weight: bold\">0</span><span style=\"font-weight: bold\">}</span>, after SWAP<span style=\"font-weight: bold\">{</span><span style=\"color: #008080; text-decoration-color: #008080; font-weight: bold\">2</span>|<span style=\"color: #008080; text-decoration-color: #008080; font-weight: bold\">4</span><span style=\"font-weight: bold\">}</span><span style=\"color: #00ff00; text-decoration-color: #00ff00\"> ──────────────────────────</span>\n",
       "</pre>\n"
      ],
      "text/plain": [
       "\u001b[92m───────────────────────── \u001b[0mupdated: \u001b[1m{\u001b[0m\u001b[1;36m0\u001b[0m: \u001b[1;36m6\u001b[0m, \u001b[1;36m1\u001b[0m: \u001b[1;36m5\u001b[0m, \u001b[1;36m2\u001b[0m: \u001b[1;36m1\u001b[0m, \u001b[1;36m3\u001b[0m: \u001b[1;36m2\u001b[0m, \u001b[1;36m4\u001b[0m: \u001b[1;36m3\u001b[0m, \u001b[1;36m5\u001b[0m: \u001b[1;36m0\u001b[0m\u001b[1m}\u001b[0m, after SWAP\u001b[1m{\u001b[0m\u001b[1;36m2\u001b[0m|\u001b[1;36m4\u001b[0m\u001b[1m}\u001b[0m\u001b[92m ──────────────────────────\u001b[0m\n"
      ]
     },
     "metadata": {},
     "output_type": "display_data"
    },
    {
     "data": {
      "text/html": [
       "<pre style=\"white-space:pre;overflow-x:auto;line-height:normal;font-family:Menlo,'DejaVu Sans Mono',consolas,'Courier New',monospace\"><span style=\"color: #00ff00; text-decoration-color: #00ff00\">───────────────────────── </span>updated: <span style=\"font-weight: bold\">{</span><span style=\"color: #008080; text-decoration-color: #008080; font-weight: bold\">0</span>: <span style=\"color: #008080; text-decoration-color: #008080; font-weight: bold\">6</span>, <span style=\"color: #008080; text-decoration-color: #008080; font-weight: bold\">1</span>: <span style=\"color: #008080; text-decoration-color: #008080; font-weight: bold\">3</span>, <span style=\"color: #008080; text-decoration-color: #008080; font-weight: bold\">2</span>: <span style=\"color: #008080; text-decoration-color: #008080; font-weight: bold\">1</span>, <span style=\"color: #008080; text-decoration-color: #008080; font-weight: bold\">3</span>: <span style=\"color: #008080; text-decoration-color: #008080; font-weight: bold\">2</span>, <span style=\"color: #008080; text-decoration-color: #008080; font-weight: bold\">4</span>: <span style=\"color: #008080; text-decoration-color: #008080; font-weight: bold\">5</span>, <span style=\"color: #008080; text-decoration-color: #008080; font-weight: bold\">5</span>: <span style=\"color: #008080; text-decoration-color: #008080; font-weight: bold\">0</span><span style=\"font-weight: bold\">}</span>, after SWAP<span style=\"font-weight: bold\">{</span><span style=\"color: #008080; text-decoration-color: #008080; font-weight: bold\">1</span>|<span style=\"color: #008080; text-decoration-color: #008080; font-weight: bold\">4</span><span style=\"font-weight: bold\">}</span><span style=\"color: #00ff00; text-decoration-color: #00ff00\"> ──────────────────────────</span>\n",
       "</pre>\n"
      ],
      "text/plain": [
       "\u001b[92m───────────────────────── \u001b[0mupdated: \u001b[1m{\u001b[0m\u001b[1;36m0\u001b[0m: \u001b[1;36m6\u001b[0m, \u001b[1;36m1\u001b[0m: \u001b[1;36m3\u001b[0m, \u001b[1;36m2\u001b[0m: \u001b[1;36m1\u001b[0m, \u001b[1;36m3\u001b[0m: \u001b[1;36m2\u001b[0m, \u001b[1;36m4\u001b[0m: \u001b[1;36m5\u001b[0m, \u001b[1;36m5\u001b[0m: \u001b[1;36m0\u001b[0m\u001b[1m}\u001b[0m, after SWAP\u001b[1m{\u001b[0m\u001b[1;36m1\u001b[0m|\u001b[1;36m4\u001b[0m\u001b[1m}\u001b[0m\u001b[92m ──────────────────────────\u001b[0m\n"
      ]
     },
     "metadata": {},
     "output_type": "display_data"
    },
    {
     "data": {
      "text/html": [
       "<pre style=\"white-space:pre;overflow-x:auto;line-height:normal;font-family:Menlo,'DejaVu Sans Mono',consolas,'Courier New',monospace\"><span style=\"color: #00ff00; text-decoration-color: #00ff00\">───────────────────────── </span>updated: <span style=\"font-weight: bold\">{</span><span style=\"color: #008080; text-decoration-color: #008080; font-weight: bold\">0</span>: <span style=\"color: #008080; text-decoration-color: #008080; font-weight: bold\">6</span>, <span style=\"color: #008080; text-decoration-color: #008080; font-weight: bold\">1</span>: <span style=\"color: #008080; text-decoration-color: #008080; font-weight: bold\">3</span>, <span style=\"color: #008080; text-decoration-color: #008080; font-weight: bold\">2</span>: <span style=\"color: #008080; text-decoration-color: #008080; font-weight: bold\">2</span>, <span style=\"color: #008080; text-decoration-color: #008080; font-weight: bold\">3</span>: <span style=\"color: #008080; text-decoration-color: #008080; font-weight: bold\">1</span>, <span style=\"color: #008080; text-decoration-color: #008080; font-weight: bold\">4</span>: <span style=\"color: #008080; text-decoration-color: #008080; font-weight: bold\">5</span>, <span style=\"color: #008080; text-decoration-color: #008080; font-weight: bold\">5</span>: <span style=\"color: #008080; text-decoration-color: #008080; font-weight: bold\">0</span><span style=\"font-weight: bold\">}</span>, after SWAP<span style=\"font-weight: bold\">{</span><span style=\"color: #008080; text-decoration-color: #008080; font-weight: bold\">3</span>|<span style=\"color: #008080; text-decoration-color: #008080; font-weight: bold\">2</span><span style=\"font-weight: bold\">}</span><span style=\"color: #00ff00; text-decoration-color: #00ff00\"> ──────────────────────────</span>\n",
       "</pre>\n"
      ],
      "text/plain": [
       "\u001b[92m───────────────────────── \u001b[0mupdated: \u001b[1m{\u001b[0m\u001b[1;36m0\u001b[0m: \u001b[1;36m6\u001b[0m, \u001b[1;36m1\u001b[0m: \u001b[1;36m3\u001b[0m, \u001b[1;36m2\u001b[0m: \u001b[1;36m2\u001b[0m, \u001b[1;36m3\u001b[0m: \u001b[1;36m1\u001b[0m, \u001b[1;36m4\u001b[0m: \u001b[1;36m5\u001b[0m, \u001b[1;36m5\u001b[0m: \u001b[1;36m0\u001b[0m\u001b[1m}\u001b[0m, after SWAP\u001b[1m{\u001b[0m\u001b[1;36m3\u001b[0m|\u001b[1;36m2\u001b[0m\u001b[1m}\u001b[0m\u001b[92m ──────────────────────────\u001b[0m\n"
      ]
     },
     "metadata": {},
     "output_type": "display_data"
    },
    {
     "data": {
      "text/html": [
       "<pre style=\"white-space:pre;overflow-x:auto;line-height:normal;font-family:Menlo,'DejaVu Sans Mono',consolas,'Courier New',monospace\"><span style=\"color: #00ff00; text-decoration-color: #00ff00\">───────────────────────── </span>updated: <span style=\"font-weight: bold\">{</span><span style=\"color: #008080; text-decoration-color: #008080; font-weight: bold\">0</span>: <span style=\"color: #008080; text-decoration-color: #008080; font-weight: bold\">6</span>, <span style=\"color: #008080; text-decoration-color: #008080; font-weight: bold\">1</span>: <span style=\"color: #008080; text-decoration-color: #008080; font-weight: bold\">1</span>, <span style=\"color: #008080; text-decoration-color: #008080; font-weight: bold\">2</span>: <span style=\"color: #008080; text-decoration-color: #008080; font-weight: bold\">2</span>, <span style=\"color: #008080; text-decoration-color: #008080; font-weight: bold\">3</span>: <span style=\"color: #008080; text-decoration-color: #008080; font-weight: bold\">3</span>, <span style=\"color: #008080; text-decoration-color: #008080; font-weight: bold\">4</span>: <span style=\"color: #008080; text-decoration-color: #008080; font-weight: bold\">5</span>, <span style=\"color: #008080; text-decoration-color: #008080; font-weight: bold\">5</span>: <span style=\"color: #008080; text-decoration-color: #008080; font-weight: bold\">0</span><span style=\"font-weight: bold\">}</span>, after SWAP<span style=\"font-weight: bold\">{</span><span style=\"color: #008080; text-decoration-color: #008080; font-weight: bold\">3</span>|<span style=\"color: #008080; text-decoration-color: #008080; font-weight: bold\">1</span><span style=\"font-weight: bold\">}</span><span style=\"color: #00ff00; text-decoration-color: #00ff00\"> ──────────────────────────</span>\n",
       "</pre>\n"
      ],
      "text/plain": [
       "\u001b[92m───────────────────────── \u001b[0mupdated: \u001b[1m{\u001b[0m\u001b[1;36m0\u001b[0m: \u001b[1;36m6\u001b[0m, \u001b[1;36m1\u001b[0m: \u001b[1;36m1\u001b[0m, \u001b[1;36m2\u001b[0m: \u001b[1;36m2\u001b[0m, \u001b[1;36m3\u001b[0m: \u001b[1;36m3\u001b[0m, \u001b[1;36m4\u001b[0m: \u001b[1;36m5\u001b[0m, \u001b[1;36m5\u001b[0m: \u001b[1;36m0\u001b[0m\u001b[1m}\u001b[0m, after SWAP\u001b[1m{\u001b[0m\u001b[1;36m3\u001b[0m|\u001b[1;36m1\u001b[0m\u001b[1m}\u001b[0m\u001b[92m ──────────────────────────\u001b[0m\n"
      ]
     },
     "metadata": {},
     "output_type": "display_data"
    },
    {
     "data": {
      "text/html": [
       "<pre style=\"white-space:pre;overflow-x:auto;line-height:normal;font-family:Menlo,'DejaVu Sans Mono',consolas,'Courier New',monospace\"><span style=\"color: #00ff00; text-decoration-color: #00ff00\">───────────────────────── </span>updated: <span style=\"font-weight: bold\">{</span><span style=\"color: #008080; text-decoration-color: #008080; font-weight: bold\">0</span>: <span style=\"color: #008080; text-decoration-color: #008080; font-weight: bold\">5</span>, <span style=\"color: #008080; text-decoration-color: #008080; font-weight: bold\">1</span>: <span style=\"color: #008080; text-decoration-color: #008080; font-weight: bold\">1</span>, <span style=\"color: #008080; text-decoration-color: #008080; font-weight: bold\">2</span>: <span style=\"color: #008080; text-decoration-color: #008080; font-weight: bold\">2</span>, <span style=\"color: #008080; text-decoration-color: #008080; font-weight: bold\">3</span>: <span style=\"color: #008080; text-decoration-color: #008080; font-weight: bold\">3</span>, <span style=\"color: #008080; text-decoration-color: #008080; font-weight: bold\">4</span>: <span style=\"color: #008080; text-decoration-color: #008080; font-weight: bold\">6</span>, <span style=\"color: #008080; text-decoration-color: #008080; font-weight: bold\">5</span>: <span style=\"color: #008080; text-decoration-color: #008080; font-weight: bold\">0</span><span style=\"font-weight: bold\">}</span>, after SWAP<span style=\"font-weight: bold\">{</span><span style=\"color: #008080; text-decoration-color: #008080; font-weight: bold\">0</span>|<span style=\"color: #008080; text-decoration-color: #008080; font-weight: bold\">4</span><span style=\"font-weight: bold\">}</span><span style=\"color: #00ff00; text-decoration-color: #00ff00\"> ──────────────────────────</span>\n",
       "</pre>\n"
      ],
      "text/plain": [
       "\u001b[92m───────────────────────── \u001b[0mupdated: \u001b[1m{\u001b[0m\u001b[1;36m0\u001b[0m: \u001b[1;36m5\u001b[0m, \u001b[1;36m1\u001b[0m: \u001b[1;36m1\u001b[0m, \u001b[1;36m2\u001b[0m: \u001b[1;36m2\u001b[0m, \u001b[1;36m3\u001b[0m: \u001b[1;36m3\u001b[0m, \u001b[1;36m4\u001b[0m: \u001b[1;36m6\u001b[0m, \u001b[1;36m5\u001b[0m: \u001b[1;36m0\u001b[0m\u001b[1m}\u001b[0m, after SWAP\u001b[1m{\u001b[0m\u001b[1;36m0\u001b[0m|\u001b[1;36m4\u001b[0m\u001b[1m}\u001b[0m\u001b[92m ──────────────────────────\u001b[0m\n"
      ]
     },
     "metadata": {},
     "output_type": "display_data"
    },
    {
     "name": "stdout",
     "output_type": "stream",
     "text": [
      "final_mapping: {0: 5, 1: 1, 2: 2, 3: 3, 4: 6, 5: 0}\n"
     ]
    },
    {
     "data": {
      "text/html": [
       "<pre style=\"white-space:pre;overflow-x:auto;line-height:normal;font-family:Menlo,'DejaVu Sans Mono',consolas,'Courier New',monospace\"><span style=\"color: #00ff00; text-decoration-color: #00ff00\">──────────────────────────────────────── </span>SABRE bidirectional pass period <span style=\"color: #008080; text-decoration-color: #008080; font-weight: bold\">1</span><span style=\"color: #00ff00; text-decoration-color: #00ff00\"> ────────────────────────────────────────</span>\n",
       "</pre>\n"
      ],
      "text/plain": [
       "\u001b[92m──────────────────────────────────────── \u001b[0mSABRE bidirectional pass period \u001b[1;36m1\u001b[0m\u001b[92m ────────────────────────────────────────\u001b[0m\n"
      ]
     },
     "metadata": {},
     "output_type": "display_data"
    },
    {
     "data": {
      "text/html": [
       "<pre style=\"white-space:pre;overflow-x:auto;line-height:normal;font-family:Menlo,'DejaVu Sans Mono',consolas,'Courier New',monospace\"><span style=\"color: #000080; text-decoration-color: #000080; font-weight: bold\">reversed pass</span>\n",
       "</pre>\n"
      ],
      "text/plain": [
       "\u001b[1;34mreversed pass\u001b[0m\n"
      ]
     },
     "metadata": {},
     "output_type": "display_data"
    },
    {
     "name": "stdout",
     "output_type": "stream",
     "text": [
      "dag nodes: [X{0←3}, X{3←4}, Z{3}, X{5←3}, X{2←1}, H{3}, H{2}, X{3←2}, X{1←0}, X{5←4}, X{2←1}, Z{0}, H{5}, H{2}, H{0}]\n",
      "initial_mapping: {0: 5, 1: 1, 2: 2, 3: 3, 4: 6, 5: 0}\n"
     ]
    },
    {
     "data": {
      "text/html": [
       "<pre style=\"white-space:pre;overflow-x:auto;line-height:normal;font-family:Menlo,'DejaVu Sans Mono',consolas,'Courier New',monospace\"><span style=\"color: #00ff00; text-decoration-color: #00ff00\">───────────────────────── </span>updated: <span style=\"font-weight: bold\">{</span><span style=\"color: #008080; text-decoration-color: #008080; font-weight: bold\">0</span>: <span style=\"color: #008080; text-decoration-color: #008080; font-weight: bold\">3</span>, <span style=\"color: #008080; text-decoration-color: #008080; font-weight: bold\">1</span>: <span style=\"color: #008080; text-decoration-color: #008080; font-weight: bold\">1</span>, <span style=\"color: #008080; text-decoration-color: #008080; font-weight: bold\">2</span>: <span style=\"color: #008080; text-decoration-color: #008080; font-weight: bold\">2</span>, <span style=\"color: #008080; text-decoration-color: #008080; font-weight: bold\">3</span>: <span style=\"color: #008080; text-decoration-color: #008080; font-weight: bold\">5</span>, <span style=\"color: #008080; text-decoration-color: #008080; font-weight: bold\">4</span>: <span style=\"color: #008080; text-decoration-color: #008080; font-weight: bold\">6</span>, <span style=\"color: #008080; text-decoration-color: #008080; font-weight: bold\">5</span>: <span style=\"color: #008080; text-decoration-color: #008080; font-weight: bold\">0</span><span style=\"font-weight: bold\">}</span>, after SWAP<span style=\"font-weight: bold\">{</span><span style=\"color: #008080; text-decoration-color: #008080; font-weight: bold\">0</span>|<span style=\"color: #008080; text-decoration-color: #008080; font-weight: bold\">3</span><span style=\"font-weight: bold\">}</span><span style=\"color: #00ff00; text-decoration-color: #00ff00\"> ──────────────────────────</span>\n",
       "</pre>\n"
      ],
      "text/plain": [
       "\u001b[92m───────────────────────── \u001b[0mupdated: \u001b[1m{\u001b[0m\u001b[1;36m0\u001b[0m: \u001b[1;36m3\u001b[0m, \u001b[1;36m1\u001b[0m: \u001b[1;36m1\u001b[0m, \u001b[1;36m2\u001b[0m: \u001b[1;36m2\u001b[0m, \u001b[1;36m3\u001b[0m: \u001b[1;36m5\u001b[0m, \u001b[1;36m4\u001b[0m: \u001b[1;36m6\u001b[0m, \u001b[1;36m5\u001b[0m: \u001b[1;36m0\u001b[0m\u001b[1m}\u001b[0m, after SWAP\u001b[1m{\u001b[0m\u001b[1;36m0\u001b[0m|\u001b[1;36m3\u001b[0m\u001b[1m}\u001b[0m\u001b[92m ──────────────────────────\u001b[0m\n"
      ]
     },
     "metadata": {},
     "output_type": "display_data"
    },
    {
     "data": {
      "text/html": [
       "<pre style=\"white-space:pre;overflow-x:auto;line-height:normal;font-family:Menlo,'DejaVu Sans Mono',consolas,'Courier New',monospace\"><span style=\"color: #00ff00; text-decoration-color: #00ff00\">───────────────────────── </span>updated: <span style=\"font-weight: bold\">{</span><span style=\"color: #008080; text-decoration-color: #008080; font-weight: bold\">0</span>: <span style=\"color: #008080; text-decoration-color: #008080; font-weight: bold\">3</span>, <span style=\"color: #008080; text-decoration-color: #008080; font-weight: bold\">1</span>: <span style=\"color: #008080; text-decoration-color: #008080; font-weight: bold\">0</span>, <span style=\"color: #008080; text-decoration-color: #008080; font-weight: bold\">2</span>: <span style=\"color: #008080; text-decoration-color: #008080; font-weight: bold\">2</span>, <span style=\"color: #008080; text-decoration-color: #008080; font-weight: bold\">3</span>: <span style=\"color: #008080; text-decoration-color: #008080; font-weight: bold\">5</span>, <span style=\"color: #008080; text-decoration-color: #008080; font-weight: bold\">4</span>: <span style=\"color: #008080; text-decoration-color: #008080; font-weight: bold\">6</span>, <span style=\"color: #008080; text-decoration-color: #008080; font-weight: bold\">5</span>: <span style=\"color: #008080; text-decoration-color: #008080; font-weight: bold\">1</span><span style=\"font-weight: bold\">}</span>, after SWAP<span style=\"font-weight: bold\">{</span><span style=\"color: #008080; text-decoration-color: #008080; font-weight: bold\">5</span>|<span style=\"color: #008080; text-decoration-color: #008080; font-weight: bold\">1</span><span style=\"font-weight: bold\">}</span><span style=\"color: #00ff00; text-decoration-color: #00ff00\"> ──────────────────────────</span>\n",
       "</pre>\n"
      ],
      "text/plain": [
       "\u001b[92m───────────────────────── \u001b[0mupdated: \u001b[1m{\u001b[0m\u001b[1;36m0\u001b[0m: \u001b[1;36m3\u001b[0m, \u001b[1;36m1\u001b[0m: \u001b[1;36m0\u001b[0m, \u001b[1;36m2\u001b[0m: \u001b[1;36m2\u001b[0m, \u001b[1;36m3\u001b[0m: \u001b[1;36m5\u001b[0m, \u001b[1;36m4\u001b[0m: \u001b[1;36m6\u001b[0m, \u001b[1;36m5\u001b[0m: \u001b[1;36m1\u001b[0m\u001b[1m}\u001b[0m, after SWAP\u001b[1m{\u001b[0m\u001b[1;36m5\u001b[0m|\u001b[1;36m1\u001b[0m\u001b[1m}\u001b[0m\u001b[92m ──────────────────────────\u001b[0m\n"
      ]
     },
     "metadata": {},
     "output_type": "display_data"
    },
    {
     "data": {
      "text/html": [
       "<pre style=\"white-space:pre;overflow-x:auto;line-height:normal;font-family:Menlo,'DejaVu Sans Mono',consolas,'Courier New',monospace\"><span style=\"color: #00ff00; text-decoration-color: #00ff00\">───────────────────────── </span>updated: <span style=\"font-weight: bold\">{</span><span style=\"color: #008080; text-decoration-color: #008080; font-weight: bold\">0</span>: <span style=\"color: #008080; text-decoration-color: #008080; font-weight: bold\">1</span>, <span style=\"color: #008080; text-decoration-color: #008080; font-weight: bold\">1</span>: <span style=\"color: #008080; text-decoration-color: #008080; font-weight: bold\">0</span>, <span style=\"color: #008080; text-decoration-color: #008080; font-weight: bold\">2</span>: <span style=\"color: #008080; text-decoration-color: #008080; font-weight: bold\">2</span>, <span style=\"color: #008080; text-decoration-color: #008080; font-weight: bold\">3</span>: <span style=\"color: #008080; text-decoration-color: #008080; font-weight: bold\">5</span>, <span style=\"color: #008080; text-decoration-color: #008080; font-weight: bold\">4</span>: <span style=\"color: #008080; text-decoration-color: #008080; font-weight: bold\">6</span>, <span style=\"color: #008080; text-decoration-color: #008080; font-weight: bold\">5</span>: <span style=\"color: #008080; text-decoration-color: #008080; font-weight: bold\">3</span><span style=\"font-weight: bold\">}</span>, after SWAP<span style=\"font-weight: bold\">{</span><span style=\"color: #008080; text-decoration-color: #008080; font-weight: bold\">5</span>|<span style=\"color: #008080; text-decoration-color: #008080; font-weight: bold\">0</span><span style=\"font-weight: bold\">}</span><span style=\"color: #00ff00; text-decoration-color: #00ff00\"> ──────────────────────────</span>\n",
       "</pre>\n"
      ],
      "text/plain": [
       "\u001b[92m───────────────────────── \u001b[0mupdated: \u001b[1m{\u001b[0m\u001b[1;36m0\u001b[0m: \u001b[1;36m1\u001b[0m, \u001b[1;36m1\u001b[0m: \u001b[1;36m0\u001b[0m, \u001b[1;36m2\u001b[0m: \u001b[1;36m2\u001b[0m, \u001b[1;36m3\u001b[0m: \u001b[1;36m5\u001b[0m, \u001b[1;36m4\u001b[0m: \u001b[1;36m6\u001b[0m, \u001b[1;36m5\u001b[0m: \u001b[1;36m3\u001b[0m\u001b[1m}\u001b[0m, after SWAP\u001b[1m{\u001b[0m\u001b[1;36m5\u001b[0m|\u001b[1;36m0\u001b[0m\u001b[1m}\u001b[0m\u001b[92m ──────────────────────────\u001b[0m\n"
      ]
     },
     "metadata": {},
     "output_type": "display_data"
    },
    {
     "data": {
      "text/html": [
       "<pre style=\"white-space:pre;overflow-x:auto;line-height:normal;font-family:Menlo,'DejaVu Sans Mono',consolas,'Courier New',monospace\"><span style=\"color: #00ff00; text-decoration-color: #00ff00\">───────────────────────── </span>updated: <span style=\"font-weight: bold\">{</span><span style=\"color: #008080; text-decoration-color: #008080; font-weight: bold\">0</span>: <span style=\"color: #008080; text-decoration-color: #008080; font-weight: bold\">2</span>, <span style=\"color: #008080; text-decoration-color: #008080; font-weight: bold\">1</span>: <span style=\"color: #008080; text-decoration-color: #008080; font-weight: bold\">0</span>, <span style=\"color: #008080; text-decoration-color: #008080; font-weight: bold\">2</span>: <span style=\"color: #008080; text-decoration-color: #008080; font-weight: bold\">1</span>, <span style=\"color: #008080; text-decoration-color: #008080; font-weight: bold\">3</span>: <span style=\"color: #008080; text-decoration-color: #008080; font-weight: bold\">5</span>, <span style=\"color: #008080; text-decoration-color: #008080; font-weight: bold\">4</span>: <span style=\"color: #008080; text-decoration-color: #008080; font-weight: bold\">6</span>, <span style=\"color: #008080; text-decoration-color: #008080; font-weight: bold\">5</span>: <span style=\"color: #008080; text-decoration-color: #008080; font-weight: bold\">3</span><span style=\"font-weight: bold\">}</span>, after SWAP<span style=\"font-weight: bold\">{</span><span style=\"color: #008080; text-decoration-color: #008080; font-weight: bold\">2</span>|<span style=\"color: #008080; text-decoration-color: #008080; font-weight: bold\">0</span><span style=\"font-weight: bold\">}</span><span style=\"color: #00ff00; text-decoration-color: #00ff00\"> ──────────────────────────</span>\n",
       "</pre>\n"
      ],
      "text/plain": [
       "\u001b[92m───────────────────────── \u001b[0mupdated: \u001b[1m{\u001b[0m\u001b[1;36m0\u001b[0m: \u001b[1;36m2\u001b[0m, \u001b[1;36m1\u001b[0m: \u001b[1;36m0\u001b[0m, \u001b[1;36m2\u001b[0m: \u001b[1;36m1\u001b[0m, \u001b[1;36m3\u001b[0m: \u001b[1;36m5\u001b[0m, \u001b[1;36m4\u001b[0m: \u001b[1;36m6\u001b[0m, \u001b[1;36m5\u001b[0m: \u001b[1;36m3\u001b[0m\u001b[1m}\u001b[0m, after SWAP\u001b[1m{\u001b[0m\u001b[1;36m2\u001b[0m|\u001b[1;36m0\u001b[0m\u001b[1m}\u001b[0m\u001b[92m ──────────────────────────\u001b[0m\n"
      ]
     },
     "metadata": {},
     "output_type": "display_data"
    },
    {
     "data": {
      "text/html": [
       "<pre style=\"white-space:pre;overflow-x:auto;line-height:normal;font-family:Menlo,'DejaVu Sans Mono',consolas,'Courier New',monospace\"><span style=\"color: #00ff00; text-decoration-color: #00ff00\">───────────────────────── </span>updated: <span style=\"font-weight: bold\">{</span><span style=\"color: #008080; text-decoration-color: #008080; font-weight: bold\">0</span>: <span style=\"color: #008080; text-decoration-color: #008080; font-weight: bold\">2</span>, <span style=\"color: #008080; text-decoration-color: #008080; font-weight: bold\">1</span>: <span style=\"color: #008080; text-decoration-color: #008080; font-weight: bold\">0</span>, <span style=\"color: #008080; text-decoration-color: #008080; font-weight: bold\">2</span>: <span style=\"color: #008080; text-decoration-color: #008080; font-weight: bold\">1</span>, <span style=\"color: #008080; text-decoration-color: #008080; font-weight: bold\">3</span>: <span style=\"color: #008080; text-decoration-color: #008080; font-weight: bold\">3</span>, <span style=\"color: #008080; text-decoration-color: #008080; font-weight: bold\">4</span>: <span style=\"color: #008080; text-decoration-color: #008080; font-weight: bold\">6</span>, <span style=\"color: #008080; text-decoration-color: #008080; font-weight: bold\">5</span>: <span style=\"color: #008080; text-decoration-color: #008080; font-weight: bold\">5</span><span style=\"font-weight: bold\">}</span>, after SWAP<span style=\"font-weight: bold\">{</span><span style=\"color: #008080; text-decoration-color: #008080; font-weight: bold\">3</span>|<span style=\"color: #008080; text-decoration-color: #008080; font-weight: bold\">5</span><span style=\"font-weight: bold\">}</span><span style=\"color: #00ff00; text-decoration-color: #00ff00\"> ──────────────────────────</span>\n",
       "</pre>\n"
      ],
      "text/plain": [
       "\u001b[92m───────────────────────── \u001b[0mupdated: \u001b[1m{\u001b[0m\u001b[1;36m0\u001b[0m: \u001b[1;36m2\u001b[0m, \u001b[1;36m1\u001b[0m: \u001b[1;36m0\u001b[0m, \u001b[1;36m2\u001b[0m: \u001b[1;36m1\u001b[0m, \u001b[1;36m3\u001b[0m: \u001b[1;36m3\u001b[0m, \u001b[1;36m4\u001b[0m: \u001b[1;36m6\u001b[0m, \u001b[1;36m5\u001b[0m: \u001b[1;36m5\u001b[0m\u001b[1m}\u001b[0m, after SWAP\u001b[1m{\u001b[0m\u001b[1;36m3\u001b[0m|\u001b[1;36m5\u001b[0m\u001b[1m}\u001b[0m\u001b[92m ──────────────────────────\u001b[0m\n"
      ]
     },
     "metadata": {},
     "output_type": "display_data"
    },
    {
     "name": "stdout",
     "output_type": "stream",
     "text": [
      "final_mapping: {0: 2, 1: 0, 2: 1, 3: 3, 4: 6, 5: 5}\n"
     ]
    },
    {
     "data": {
      "text/html": [
       "<pre style=\"white-space:pre;overflow-x:auto;line-height:normal;font-family:Menlo,'DejaVu Sans Mono',consolas,'Courier New',monospace\"><span style=\"color: #008000; text-decoration-color: #008000; font-weight: bold\">forward pass</span>\n",
       "</pre>\n"
      ],
      "text/plain": [
       "\u001b[1;32mforward pass\u001b[0m\n"
      ]
     },
     "metadata": {},
     "output_type": "display_data"
    },
    {
     "name": "stdout",
     "output_type": "stream",
     "text": [
      "dag nodes: [H{0}, H{2}, H{5}, Z{0}, X{2←1}, X{5←4}, X{1←0}, X{3←2}, H{2}, H{3}, X{2←1}, X{5←3}, Z{3}, X{3←4}, X{0←3}]\n",
      "initial_mapping: {0: 2, 1: 0, 2: 1, 3: 3, 4: 6, 5: 5}\n"
     ]
    },
    {
     "data": {
      "text/html": [
       "<pre style=\"white-space:pre;overflow-x:auto;line-height:normal;font-family:Menlo,'DejaVu Sans Mono',consolas,'Courier New',monospace\"><span style=\"color: #00ff00; text-decoration-color: #00ff00\">───────────────────────── </span>updated: <span style=\"font-weight: bold\">{</span><span style=\"color: #008080; text-decoration-color: #008080; font-weight: bold\">0</span>: <span style=\"color: #008080; text-decoration-color: #008080; font-weight: bold\">1</span>, <span style=\"color: #008080; text-decoration-color: #008080; font-weight: bold\">1</span>: <span style=\"color: #008080; text-decoration-color: #008080; font-weight: bold\">0</span>, <span style=\"color: #008080; text-decoration-color: #008080; font-weight: bold\">2</span>: <span style=\"color: #008080; text-decoration-color: #008080; font-weight: bold\">2</span>, <span style=\"color: #008080; text-decoration-color: #008080; font-weight: bold\">3</span>: <span style=\"color: #008080; text-decoration-color: #008080; font-weight: bold\">3</span>, <span style=\"color: #008080; text-decoration-color: #008080; font-weight: bold\">4</span>: <span style=\"color: #008080; text-decoration-color: #008080; font-weight: bold\">6</span>, <span style=\"color: #008080; text-decoration-color: #008080; font-weight: bold\">5</span>: <span style=\"color: #008080; text-decoration-color: #008080; font-weight: bold\">5</span><span style=\"font-weight: bold\">}</span>, after SWAP<span style=\"font-weight: bold\">{</span><span style=\"color: #008080; text-decoration-color: #008080; font-weight: bold\">0</span>|<span style=\"color: #008080; text-decoration-color: #008080; font-weight: bold\">2</span><span style=\"font-weight: bold\">}</span><span style=\"color: #00ff00; text-decoration-color: #00ff00\"> ──────────────────────────</span>\n",
       "</pre>\n"
      ],
      "text/plain": [
       "\u001b[92m───────────────────────── \u001b[0mupdated: \u001b[1m{\u001b[0m\u001b[1;36m0\u001b[0m: \u001b[1;36m1\u001b[0m, \u001b[1;36m1\u001b[0m: \u001b[1;36m0\u001b[0m, \u001b[1;36m2\u001b[0m: \u001b[1;36m2\u001b[0m, \u001b[1;36m3\u001b[0m: \u001b[1;36m3\u001b[0m, \u001b[1;36m4\u001b[0m: \u001b[1;36m6\u001b[0m, \u001b[1;36m5\u001b[0m: \u001b[1;36m5\u001b[0m\u001b[1m}\u001b[0m, after SWAP\u001b[1m{\u001b[0m\u001b[1;36m0\u001b[0m|\u001b[1;36m2\u001b[0m\u001b[1m}\u001b[0m\u001b[92m ──────────────────────────\u001b[0m\n"
      ]
     },
     "metadata": {},
     "output_type": "display_data"
    },
    {
     "data": {
      "text/html": [
       "<pre style=\"white-space:pre;overflow-x:auto;line-height:normal;font-family:Menlo,'DejaVu Sans Mono',consolas,'Courier New',monospace\"><span style=\"color: #00ff00; text-decoration-color: #00ff00\">───────────────────────── </span>updated: <span style=\"font-weight: bold\">{</span><span style=\"color: #008080; text-decoration-color: #008080; font-weight: bold\">0</span>: <span style=\"color: #008080; text-decoration-color: #008080; font-weight: bold\">1</span>, <span style=\"color: #008080; text-decoration-color: #008080; font-weight: bold\">1</span>: <span style=\"color: #008080; text-decoration-color: #008080; font-weight: bold\">0</span>, <span style=\"color: #008080; text-decoration-color: #008080; font-weight: bold\">2</span>: <span style=\"color: #008080; text-decoration-color: #008080; font-weight: bold\">2</span>, <span style=\"color: #008080; text-decoration-color: #008080; font-weight: bold\">3</span>: <span style=\"color: #008080; text-decoration-color: #008080; font-weight: bold\">3</span>, <span style=\"color: #008080; text-decoration-color: #008080; font-weight: bold\">4</span>: <span style=\"color: #008080; text-decoration-color: #008080; font-weight: bold\">5</span>, <span style=\"color: #008080; text-decoration-color: #008080; font-weight: bold\">5</span>: <span style=\"color: #008080; text-decoration-color: #008080; font-weight: bold\">6</span><span style=\"font-weight: bold\">}</span>, after SWAP<span style=\"font-weight: bold\">{</span><span style=\"color: #008080; text-decoration-color: #008080; font-weight: bold\">4</span>|<span style=\"color: #008080; text-decoration-color: #008080; font-weight: bold\">5</span><span style=\"font-weight: bold\">}</span><span style=\"color: #00ff00; text-decoration-color: #00ff00\"> ──────────────────────────</span>\n",
       "</pre>\n"
      ],
      "text/plain": [
       "\u001b[92m───────────────────────── \u001b[0mupdated: \u001b[1m{\u001b[0m\u001b[1;36m0\u001b[0m: \u001b[1;36m1\u001b[0m, \u001b[1;36m1\u001b[0m: \u001b[1;36m0\u001b[0m, \u001b[1;36m2\u001b[0m: \u001b[1;36m2\u001b[0m, \u001b[1;36m3\u001b[0m: \u001b[1;36m3\u001b[0m, \u001b[1;36m4\u001b[0m: \u001b[1;36m5\u001b[0m, \u001b[1;36m5\u001b[0m: \u001b[1;36m6\u001b[0m\u001b[1m}\u001b[0m, after SWAP\u001b[1m{\u001b[0m\u001b[1;36m4\u001b[0m|\u001b[1;36m5\u001b[0m\u001b[1m}\u001b[0m\u001b[92m ──────────────────────────\u001b[0m\n"
      ]
     },
     "metadata": {},
     "output_type": "display_data"
    },
    {
     "data": {
      "text/html": [
       "<pre style=\"white-space:pre;overflow-x:auto;line-height:normal;font-family:Menlo,'DejaVu Sans Mono',consolas,'Courier New',monospace\"><span style=\"color: #00ff00; text-decoration-color: #00ff00\">───────────────────────── </span>updated: <span style=\"font-weight: bold\">{</span><span style=\"color: #008080; text-decoration-color: #008080; font-weight: bold\">0</span>: <span style=\"color: #008080; text-decoration-color: #008080; font-weight: bold\">0</span>, <span style=\"color: #008080; text-decoration-color: #008080; font-weight: bold\">1</span>: <span style=\"color: #008080; text-decoration-color: #008080; font-weight: bold\">1</span>, <span style=\"color: #008080; text-decoration-color: #008080; font-weight: bold\">2</span>: <span style=\"color: #008080; text-decoration-color: #008080; font-weight: bold\">2</span>, <span style=\"color: #008080; text-decoration-color: #008080; font-weight: bold\">3</span>: <span style=\"color: #008080; text-decoration-color: #008080; font-weight: bold\">3</span>, <span style=\"color: #008080; text-decoration-color: #008080; font-weight: bold\">4</span>: <span style=\"color: #008080; text-decoration-color: #008080; font-weight: bold\">5</span>, <span style=\"color: #008080; text-decoration-color: #008080; font-weight: bold\">5</span>: <span style=\"color: #008080; text-decoration-color: #008080; font-weight: bold\">6</span><span style=\"font-weight: bold\">}</span>, after SWAP<span style=\"font-weight: bold\">{</span><span style=\"color: #008080; text-decoration-color: #008080; font-weight: bold\">1</span>|<span style=\"color: #008080; text-decoration-color: #008080; font-weight: bold\">0</span><span style=\"font-weight: bold\">}</span><span style=\"color: #00ff00; text-decoration-color: #00ff00\"> ──────────────────────────</span>\n",
       "</pre>\n"
      ],
      "text/plain": [
       "\u001b[92m───────────────────────── \u001b[0mupdated: \u001b[1m{\u001b[0m\u001b[1;36m0\u001b[0m: \u001b[1;36m0\u001b[0m, \u001b[1;36m1\u001b[0m: \u001b[1;36m1\u001b[0m, \u001b[1;36m2\u001b[0m: \u001b[1;36m2\u001b[0m, \u001b[1;36m3\u001b[0m: \u001b[1;36m3\u001b[0m, \u001b[1;36m4\u001b[0m: \u001b[1;36m5\u001b[0m, \u001b[1;36m5\u001b[0m: \u001b[1;36m6\u001b[0m\u001b[1m}\u001b[0m, after SWAP\u001b[1m{\u001b[0m\u001b[1;36m1\u001b[0m|\u001b[1;36m0\u001b[0m\u001b[1m}\u001b[0m\u001b[92m ──────────────────────────\u001b[0m\n"
      ]
     },
     "metadata": {},
     "output_type": "display_data"
    },
    {
     "name": "stdout",
     "output_type": "stream",
     "text": [
      "final_mapping: {0: 0, 1: 1, 2: 2, 3: 3, 4: 5, 5: 6}\n"
     ]
    },
    {
     "data": {
      "text/html": [
       "<pre style=\"white-space:pre;overflow-x:auto;line-height:normal;font-family:Menlo,'DejaVu Sans Mono',consolas,'Courier New',monospace\"><span style=\"color: #00ff00; text-decoration-color: #00ff00\">──────────────────────────────────────── </span>SABRE bidirectional pass period <span style=\"color: #008080; text-decoration-color: #008080; font-weight: bold\">2</span><span style=\"color: #00ff00; text-decoration-color: #00ff00\"> ────────────────────────────────────────</span>\n",
       "</pre>\n"
      ],
      "text/plain": [
       "\u001b[92m──────────────────────────────────────── \u001b[0mSABRE bidirectional pass period \u001b[1;36m2\u001b[0m\u001b[92m ────────────────────────────────────────\u001b[0m\n"
      ]
     },
     "metadata": {},
     "output_type": "display_data"
    },
    {
     "data": {
      "text/html": [
       "<pre style=\"white-space:pre;overflow-x:auto;line-height:normal;font-family:Menlo,'DejaVu Sans Mono',consolas,'Courier New',monospace\"><span style=\"color: #000080; text-decoration-color: #000080; font-weight: bold\">reversed pass</span>\n",
       "</pre>\n"
      ],
      "text/plain": [
       "\u001b[1;34mreversed pass\u001b[0m\n"
      ]
     },
     "metadata": {},
     "output_type": "display_data"
    },
    {
     "name": "stdout",
     "output_type": "stream",
     "text": [
      "dag nodes: [X{0←3}, X{3←4}, Z{3}, X{5←3}, X{2←1}, H{3}, H{2}, X{3←2}, X{1←0}, X{5←4}, X{2←1}, Z{0}, H{5}, H{2}, H{0}]\n",
      "initial_mapping: {0: 0, 1: 1, 2: 2, 3: 3, 4: 5, 5: 6}\n"
     ]
    },
    {
     "data": {
      "text/html": [
       "<pre style=\"white-space:pre;overflow-x:auto;line-height:normal;font-family:Menlo,'DejaVu Sans Mono',consolas,'Courier New',monospace\"><span style=\"color: #00ff00; text-decoration-color: #00ff00\">───────────────────────── </span>updated: <span style=\"font-weight: bold\">{</span><span style=\"color: #008080; text-decoration-color: #008080; font-weight: bold\">0</span>: <span style=\"color: #008080; text-decoration-color: #008080; font-weight: bold\">1</span>, <span style=\"color: #008080; text-decoration-color: #008080; font-weight: bold\">1</span>: <span style=\"color: #008080; text-decoration-color: #008080; font-weight: bold\">0</span>, <span style=\"color: #008080; text-decoration-color: #008080; font-weight: bold\">2</span>: <span style=\"color: #008080; text-decoration-color: #008080; font-weight: bold\">2</span>, <span style=\"color: #008080; text-decoration-color: #008080; font-weight: bold\">3</span>: <span style=\"color: #008080; text-decoration-color: #008080; font-weight: bold\">3</span>, <span style=\"color: #008080; text-decoration-color: #008080; font-weight: bold\">4</span>: <span style=\"color: #008080; text-decoration-color: #008080; font-weight: bold\">5</span>, <span style=\"color: #008080; text-decoration-color: #008080; font-weight: bold\">5</span>: <span style=\"color: #008080; text-decoration-color: #008080; font-weight: bold\">6</span><span style=\"font-weight: bold\">}</span>, after SWAP<span style=\"font-weight: bold\">{</span><span style=\"color: #008080; text-decoration-color: #008080; font-weight: bold\">0</span>|<span style=\"color: #008080; text-decoration-color: #008080; font-weight: bold\">1</span><span style=\"font-weight: bold\">}</span><span style=\"color: #00ff00; text-decoration-color: #00ff00\"> ──────────────────────────</span>\n",
       "</pre>\n"
      ],
      "text/plain": [
       "\u001b[92m───────────────────────── \u001b[0mupdated: \u001b[1m{\u001b[0m\u001b[1;36m0\u001b[0m: \u001b[1;36m1\u001b[0m, \u001b[1;36m1\u001b[0m: \u001b[1;36m0\u001b[0m, \u001b[1;36m2\u001b[0m: \u001b[1;36m2\u001b[0m, \u001b[1;36m3\u001b[0m: \u001b[1;36m3\u001b[0m, \u001b[1;36m4\u001b[0m: \u001b[1;36m5\u001b[0m, \u001b[1;36m5\u001b[0m: \u001b[1;36m6\u001b[0m\u001b[1m}\u001b[0m, after SWAP\u001b[1m{\u001b[0m\u001b[1;36m0\u001b[0m|\u001b[1;36m1\u001b[0m\u001b[1m}\u001b[0m\u001b[92m ──────────────────────────\u001b[0m\n"
      ]
     },
     "metadata": {},
     "output_type": "display_data"
    },
    {
     "data": {
      "text/html": [
       "<pre style=\"white-space:pre;overflow-x:auto;line-height:normal;font-family:Menlo,'DejaVu Sans Mono',consolas,'Courier New',monospace\"><span style=\"color: #00ff00; text-decoration-color: #00ff00\">───────────────────────── </span>updated: <span style=\"font-weight: bold\">{</span><span style=\"color: #008080; text-decoration-color: #008080; font-weight: bold\">0</span>: <span style=\"color: #008080; text-decoration-color: #008080; font-weight: bold\">1</span>, <span style=\"color: #008080; text-decoration-color: #008080; font-weight: bold\">1</span>: <span style=\"color: #008080; text-decoration-color: #008080; font-weight: bold\">0</span>, <span style=\"color: #008080; text-decoration-color: #008080; font-weight: bold\">2</span>: <span style=\"color: #008080; text-decoration-color: #008080; font-weight: bold\">2</span>, <span style=\"color: #008080; text-decoration-color: #008080; font-weight: bold\">3</span>: <span style=\"color: #008080; text-decoration-color: #008080; font-weight: bold\">3</span>, <span style=\"color: #008080; text-decoration-color: #008080; font-weight: bold\">4</span>: <span style=\"color: #008080; text-decoration-color: #008080; font-weight: bold\">6</span>, <span style=\"color: #008080; text-decoration-color: #008080; font-weight: bold\">5</span>: <span style=\"color: #008080; text-decoration-color: #008080; font-weight: bold\">5</span><span style=\"font-weight: bold\">}</span>, after SWAP<span style=\"font-weight: bold\">{</span><span style=\"color: #008080; text-decoration-color: #008080; font-weight: bold\">5</span>|<span style=\"color: #008080; text-decoration-color: #008080; font-weight: bold\">4</span><span style=\"font-weight: bold\">}</span><span style=\"color: #00ff00; text-decoration-color: #00ff00\"> ──────────────────────────</span>\n",
       "</pre>\n"
      ],
      "text/plain": [
       "\u001b[92m───────────────────────── \u001b[0mupdated: \u001b[1m{\u001b[0m\u001b[1;36m0\u001b[0m: \u001b[1;36m1\u001b[0m, \u001b[1;36m1\u001b[0m: \u001b[1;36m0\u001b[0m, \u001b[1;36m2\u001b[0m: \u001b[1;36m2\u001b[0m, \u001b[1;36m3\u001b[0m: \u001b[1;36m3\u001b[0m, \u001b[1;36m4\u001b[0m: \u001b[1;36m6\u001b[0m, \u001b[1;36m5\u001b[0m: \u001b[1;36m5\u001b[0m\u001b[1m}\u001b[0m, after SWAP\u001b[1m{\u001b[0m\u001b[1;36m5\u001b[0m|\u001b[1;36m4\u001b[0m\u001b[1m}\u001b[0m\u001b[92m ──────────────────────────\u001b[0m\n"
      ]
     },
     "metadata": {},
     "output_type": "display_data"
    },
    {
     "data": {
      "text/html": [
       "<pre style=\"white-space:pre;overflow-x:auto;line-height:normal;font-family:Menlo,'DejaVu Sans Mono',consolas,'Courier New',monospace\"><span style=\"color: #00ff00; text-decoration-color: #00ff00\">───────────────────────── </span>updated: <span style=\"font-weight: bold\">{</span><span style=\"color: #008080; text-decoration-color: #008080; font-weight: bold\">0</span>: <span style=\"color: #008080; text-decoration-color: #008080; font-weight: bold\">2</span>, <span style=\"color: #008080; text-decoration-color: #008080; font-weight: bold\">1</span>: <span style=\"color: #008080; text-decoration-color: #008080; font-weight: bold\">0</span>, <span style=\"color: #008080; text-decoration-color: #008080; font-weight: bold\">2</span>: <span style=\"color: #008080; text-decoration-color: #008080; font-weight: bold\">1</span>, <span style=\"color: #008080; text-decoration-color: #008080; font-weight: bold\">3</span>: <span style=\"color: #008080; text-decoration-color: #008080; font-weight: bold\">3</span>, <span style=\"color: #008080; text-decoration-color: #008080; font-weight: bold\">4</span>: <span style=\"color: #008080; text-decoration-color: #008080; font-weight: bold\">6</span>, <span style=\"color: #008080; text-decoration-color: #008080; font-weight: bold\">5</span>: <span style=\"color: #008080; text-decoration-color: #008080; font-weight: bold\">5</span><span style=\"font-weight: bold\">}</span>, after SWAP<span style=\"font-weight: bold\">{</span><span style=\"color: #008080; text-decoration-color: #008080; font-weight: bold\">2</span>|<span style=\"color: #008080; text-decoration-color: #008080; font-weight: bold\">0</span><span style=\"font-weight: bold\">}</span><span style=\"color: #00ff00; text-decoration-color: #00ff00\"> ──────────────────────────</span>\n",
       "</pre>\n"
      ],
      "text/plain": [
       "\u001b[92m───────────────────────── \u001b[0mupdated: \u001b[1m{\u001b[0m\u001b[1;36m0\u001b[0m: \u001b[1;36m2\u001b[0m, \u001b[1;36m1\u001b[0m: \u001b[1;36m0\u001b[0m, \u001b[1;36m2\u001b[0m: \u001b[1;36m1\u001b[0m, \u001b[1;36m3\u001b[0m: \u001b[1;36m3\u001b[0m, \u001b[1;36m4\u001b[0m: \u001b[1;36m6\u001b[0m, \u001b[1;36m5\u001b[0m: \u001b[1;36m5\u001b[0m\u001b[1m}\u001b[0m, after SWAP\u001b[1m{\u001b[0m\u001b[1;36m2\u001b[0m|\u001b[1;36m0\u001b[0m\u001b[1m}\u001b[0m\u001b[92m ──────────────────────────\u001b[0m\n"
      ]
     },
     "metadata": {},
     "output_type": "display_data"
    },
    {
     "name": "stdout",
     "output_type": "stream",
     "text": [
      "final_mapping: {0: 2, 1: 0, 2: 1, 3: 3, 4: 6, 5: 5}\n"
     ]
    },
    {
     "data": {
      "text/html": [
       "<pre style=\"white-space:pre;overflow-x:auto;line-height:normal;font-family:Menlo,'DejaVu Sans Mono',consolas,'Courier New',monospace\"><span style=\"color: #008000; text-decoration-color: #008000; font-weight: bold\">forward pass</span>\n",
       "</pre>\n"
      ],
      "text/plain": [
       "\u001b[1;32mforward pass\u001b[0m\n"
      ]
     },
     "metadata": {},
     "output_type": "display_data"
    },
    {
     "name": "stdout",
     "output_type": "stream",
     "text": [
      "dag nodes: [H{0}, H{2}, H{5}, Z{0}, X{2←1}, X{5←4}, X{1←0}, X{3←2}, H{2}, H{3}, X{2←1}, X{5←3}, Z{3}, X{3←4}, X{0←3}]\n",
      "initial_mapping: {0: 2, 1: 0, 2: 1, 3: 3, 4: 6, 5: 5}\n"
     ]
    },
    {
     "data": {
      "text/html": [
       "<pre style=\"white-space:pre;overflow-x:auto;line-height:normal;font-family:Menlo,'DejaVu Sans Mono',consolas,'Courier New',monospace\"><span style=\"color: #00ff00; text-decoration-color: #00ff00\">───────────────────────── </span>updated: <span style=\"font-weight: bold\">{</span><span style=\"color: #008080; text-decoration-color: #008080; font-weight: bold\">0</span>: <span style=\"color: #008080; text-decoration-color: #008080; font-weight: bold\">1</span>, <span style=\"color: #008080; text-decoration-color: #008080; font-weight: bold\">1</span>: <span style=\"color: #008080; text-decoration-color: #008080; font-weight: bold\">0</span>, <span style=\"color: #008080; text-decoration-color: #008080; font-weight: bold\">2</span>: <span style=\"color: #008080; text-decoration-color: #008080; font-weight: bold\">2</span>, <span style=\"color: #008080; text-decoration-color: #008080; font-weight: bold\">3</span>: <span style=\"color: #008080; text-decoration-color: #008080; font-weight: bold\">3</span>, <span style=\"color: #008080; text-decoration-color: #008080; font-weight: bold\">4</span>: <span style=\"color: #008080; text-decoration-color: #008080; font-weight: bold\">6</span>, <span style=\"color: #008080; text-decoration-color: #008080; font-weight: bold\">5</span>: <span style=\"color: #008080; text-decoration-color: #008080; font-weight: bold\">5</span><span style=\"font-weight: bold\">}</span>, after SWAP<span style=\"font-weight: bold\">{</span><span style=\"color: #008080; text-decoration-color: #008080; font-weight: bold\">0</span>|<span style=\"color: #008080; text-decoration-color: #008080; font-weight: bold\">2</span><span style=\"font-weight: bold\">}</span><span style=\"color: #00ff00; text-decoration-color: #00ff00\"> ──────────────────────────</span>\n",
       "</pre>\n"
      ],
      "text/plain": [
       "\u001b[92m───────────────────────── \u001b[0mupdated: \u001b[1m{\u001b[0m\u001b[1;36m0\u001b[0m: \u001b[1;36m1\u001b[0m, \u001b[1;36m1\u001b[0m: \u001b[1;36m0\u001b[0m, \u001b[1;36m2\u001b[0m: \u001b[1;36m2\u001b[0m, \u001b[1;36m3\u001b[0m: \u001b[1;36m3\u001b[0m, \u001b[1;36m4\u001b[0m: \u001b[1;36m6\u001b[0m, \u001b[1;36m5\u001b[0m: \u001b[1;36m5\u001b[0m\u001b[1m}\u001b[0m, after SWAP\u001b[1m{\u001b[0m\u001b[1;36m0\u001b[0m|\u001b[1;36m2\u001b[0m\u001b[1m}\u001b[0m\u001b[92m ──────────────────────────\u001b[0m\n"
      ]
     },
     "metadata": {},
     "output_type": "display_data"
    },
    {
     "data": {
      "text/html": [
       "<pre style=\"white-space:pre;overflow-x:auto;line-height:normal;font-family:Menlo,'DejaVu Sans Mono',consolas,'Courier New',monospace\"><span style=\"color: #00ff00; text-decoration-color: #00ff00\">───────────────────────── </span>updated: <span style=\"font-weight: bold\">{</span><span style=\"color: #008080; text-decoration-color: #008080; font-weight: bold\">0</span>: <span style=\"color: #008080; text-decoration-color: #008080; font-weight: bold\">1</span>, <span style=\"color: #008080; text-decoration-color: #008080; font-weight: bold\">1</span>: <span style=\"color: #008080; text-decoration-color: #008080; font-weight: bold\">0</span>, <span style=\"color: #008080; text-decoration-color: #008080; font-weight: bold\">2</span>: <span style=\"color: #008080; text-decoration-color: #008080; font-weight: bold\">2</span>, <span style=\"color: #008080; text-decoration-color: #008080; font-weight: bold\">3</span>: <span style=\"color: #008080; text-decoration-color: #008080; font-weight: bold\">3</span>, <span style=\"color: #008080; text-decoration-color: #008080; font-weight: bold\">4</span>: <span style=\"color: #008080; text-decoration-color: #008080; font-weight: bold\">5</span>, <span style=\"color: #008080; text-decoration-color: #008080; font-weight: bold\">5</span>: <span style=\"color: #008080; text-decoration-color: #008080; font-weight: bold\">6</span><span style=\"font-weight: bold\">}</span>, after SWAP<span style=\"font-weight: bold\">{</span><span style=\"color: #008080; text-decoration-color: #008080; font-weight: bold\">4</span>|<span style=\"color: #008080; text-decoration-color: #008080; font-weight: bold\">5</span><span style=\"font-weight: bold\">}</span><span style=\"color: #00ff00; text-decoration-color: #00ff00\"> ──────────────────────────</span>\n",
       "</pre>\n"
      ],
      "text/plain": [
       "\u001b[92m───────────────────────── \u001b[0mupdated: \u001b[1m{\u001b[0m\u001b[1;36m0\u001b[0m: \u001b[1;36m1\u001b[0m, \u001b[1;36m1\u001b[0m: \u001b[1;36m0\u001b[0m, \u001b[1;36m2\u001b[0m: \u001b[1;36m2\u001b[0m, \u001b[1;36m3\u001b[0m: \u001b[1;36m3\u001b[0m, \u001b[1;36m4\u001b[0m: \u001b[1;36m5\u001b[0m, \u001b[1;36m5\u001b[0m: \u001b[1;36m6\u001b[0m\u001b[1m}\u001b[0m, after SWAP\u001b[1m{\u001b[0m\u001b[1;36m4\u001b[0m|\u001b[1;36m5\u001b[0m\u001b[1m}\u001b[0m\u001b[92m ──────────────────────────\u001b[0m\n"
      ]
     },
     "metadata": {},
     "output_type": "display_data"
    },
    {
     "data": {
      "text/html": [
       "<pre style=\"white-space:pre;overflow-x:auto;line-height:normal;font-family:Menlo,'DejaVu Sans Mono',consolas,'Courier New',monospace\"><span style=\"color: #00ff00; text-decoration-color: #00ff00\">───────────────────────── </span>updated: <span style=\"font-weight: bold\">{</span><span style=\"color: #008080; text-decoration-color: #008080; font-weight: bold\">0</span>: <span style=\"color: #008080; text-decoration-color: #008080; font-weight: bold\">0</span>, <span style=\"color: #008080; text-decoration-color: #008080; font-weight: bold\">1</span>: <span style=\"color: #008080; text-decoration-color: #008080; font-weight: bold\">1</span>, <span style=\"color: #008080; text-decoration-color: #008080; font-weight: bold\">2</span>: <span style=\"color: #008080; text-decoration-color: #008080; font-weight: bold\">2</span>, <span style=\"color: #008080; text-decoration-color: #008080; font-weight: bold\">3</span>: <span style=\"color: #008080; text-decoration-color: #008080; font-weight: bold\">3</span>, <span style=\"color: #008080; text-decoration-color: #008080; font-weight: bold\">4</span>: <span style=\"color: #008080; text-decoration-color: #008080; font-weight: bold\">5</span>, <span style=\"color: #008080; text-decoration-color: #008080; font-weight: bold\">5</span>: <span style=\"color: #008080; text-decoration-color: #008080; font-weight: bold\">6</span><span style=\"font-weight: bold\">}</span>, after SWAP<span style=\"font-weight: bold\">{</span><span style=\"color: #008080; text-decoration-color: #008080; font-weight: bold\">1</span>|<span style=\"color: #008080; text-decoration-color: #008080; font-weight: bold\">0</span><span style=\"font-weight: bold\">}</span><span style=\"color: #00ff00; text-decoration-color: #00ff00\"> ──────────────────────────</span>\n",
       "</pre>\n"
      ],
      "text/plain": [
       "\u001b[92m───────────────────────── \u001b[0mupdated: \u001b[1m{\u001b[0m\u001b[1;36m0\u001b[0m: \u001b[1;36m0\u001b[0m, \u001b[1;36m1\u001b[0m: \u001b[1;36m1\u001b[0m, \u001b[1;36m2\u001b[0m: \u001b[1;36m2\u001b[0m, \u001b[1;36m3\u001b[0m: \u001b[1;36m3\u001b[0m, \u001b[1;36m4\u001b[0m: \u001b[1;36m5\u001b[0m, \u001b[1;36m5\u001b[0m: \u001b[1;36m6\u001b[0m\u001b[1m}\u001b[0m, after SWAP\u001b[1m{\u001b[0m\u001b[1;36m1\u001b[0m|\u001b[1;36m0\u001b[0m\u001b[1m}\u001b[0m\u001b[92m ──────────────────────────\u001b[0m\n"
      ]
     },
     "metadata": {},
     "output_type": "display_data"
    },
    {
     "name": "stdout",
     "output_type": "stream",
     "text": [
      "final_mapping: {0: 0, 1: 1, 2: 2, 3: 3, 4: 5, 5: 6}\n"
     ]
    }
   ],
   "source": [
    "mapped_circ, init_mapping, final_mapping = heuristic.sabre_search(circ, device)\n"
   ]
  },
  {
   "cell_type": "code",
   "execution_count": 13,
   "metadata": {
    "ExecuteTime": {
     "end_time": "2023-09-04T01:41:18.006774Z",
     "start_time": "2023-09-04T01:41:17.972365Z"
    },
    "collapsed": false
   },
   "outputs": [
    {
     "name": "stdout",
     "output_type": "stream",
     "text": [
      "original circuit: Circuit(num_gates: 15, num_qubits: 6, with_measure: False)\n"
     ]
    },
    {
     "ename": "AttributeError",
     "evalue": "module 'cirq' has no attribute 'GlobalPhaseGate'",
     "output_type": "error",
     "traceback": [
      "\u001b[0;31m---------------------------------------------------------------------------\u001b[0m",
      "\u001b[0;31mAttributeError\u001b[0m                            Traceback (most recent call last)",
      "File \u001b[0;32m~/opt/miniconda3/lib/python3.8/site-packages/IPython/core/formatters.py:708\u001b[0m, in \u001b[0;36mPlainTextFormatter.__call__\u001b[0;34m(self, obj)\u001b[0m\n\u001b[1;32m    701\u001b[0m stream \u001b[38;5;241m=\u001b[39m StringIO()\n\u001b[1;32m    702\u001b[0m printer \u001b[38;5;241m=\u001b[39m pretty\u001b[38;5;241m.\u001b[39mRepresentationPrinter(stream, \u001b[38;5;28mself\u001b[39m\u001b[38;5;241m.\u001b[39mverbose,\n\u001b[1;32m    703\u001b[0m     \u001b[38;5;28mself\u001b[39m\u001b[38;5;241m.\u001b[39mmax_width, \u001b[38;5;28mself\u001b[39m\u001b[38;5;241m.\u001b[39mnewline,\n\u001b[1;32m    704\u001b[0m     max_seq_length\u001b[38;5;241m=\u001b[39m\u001b[38;5;28mself\u001b[39m\u001b[38;5;241m.\u001b[39mmax_seq_length,\n\u001b[1;32m    705\u001b[0m     singleton_pprinters\u001b[38;5;241m=\u001b[39m\u001b[38;5;28mself\u001b[39m\u001b[38;5;241m.\u001b[39msingleton_printers,\n\u001b[1;32m    706\u001b[0m     type_pprinters\u001b[38;5;241m=\u001b[39m\u001b[38;5;28mself\u001b[39m\u001b[38;5;241m.\u001b[39mtype_printers,\n\u001b[1;32m    707\u001b[0m     deferred_pprinters\u001b[38;5;241m=\u001b[39m\u001b[38;5;28mself\u001b[39m\u001b[38;5;241m.\u001b[39mdeferred_printers)\n\u001b[0;32m--> 708\u001b[0m \u001b[43mprinter\u001b[49m\u001b[38;5;241;43m.\u001b[39;49m\u001b[43mpretty\u001b[49m\u001b[43m(\u001b[49m\u001b[43mobj\u001b[49m\u001b[43m)\u001b[49m\n\u001b[1;32m    709\u001b[0m printer\u001b[38;5;241m.\u001b[39mflush()\n\u001b[1;32m    710\u001b[0m \u001b[38;5;28;01mreturn\u001b[39;00m stream\u001b[38;5;241m.\u001b[39mgetvalue()\n",
      "File \u001b[0;32m~/opt/miniconda3/lib/python3.8/site-packages/IPython/lib/pretty.py:407\u001b[0m, in \u001b[0;36mRepresentationPrinter.pretty\u001b[0;34m(self, obj)\u001b[0m\n\u001b[1;32m    405\u001b[0m     meth \u001b[38;5;241m=\u001b[39m \u001b[38;5;28mcls\u001b[39m\u001b[38;5;241m.\u001b[39m_repr_pretty_\n\u001b[1;32m    406\u001b[0m     \u001b[38;5;28;01mif\u001b[39;00m \u001b[38;5;28mcallable\u001b[39m(meth):\n\u001b[0;32m--> 407\u001b[0m         \u001b[38;5;28;01mreturn\u001b[39;00m \u001b[43mmeth\u001b[49m\u001b[43m(\u001b[49m\u001b[43mobj\u001b[49m\u001b[43m,\u001b[49m\u001b[43m \u001b[49m\u001b[38;5;28;43mself\u001b[39;49m\u001b[43m,\u001b[49m\u001b[43m \u001b[49m\u001b[43mcycle\u001b[49m\u001b[43m)\u001b[49m\n\u001b[1;32m    408\u001b[0m \u001b[38;5;28;01mif\u001b[39;00m \u001b[38;5;28mcls\u001b[39m \u001b[38;5;129;01mis\u001b[39;00m \u001b[38;5;129;01mnot\u001b[39;00m \u001b[38;5;28mobject\u001b[39m \\\n\u001b[1;32m    409\u001b[0m         \u001b[38;5;129;01mand\u001b[39;00m \u001b[38;5;28mcallable\u001b[39m(\u001b[38;5;28mcls\u001b[39m\u001b[38;5;241m.\u001b[39m\u001b[38;5;18m__dict__\u001b[39m\u001b[38;5;241m.\u001b[39mget(\u001b[38;5;124m'\u001b[39m\u001b[38;5;124m__repr__\u001b[39m\u001b[38;5;124m'\u001b[39m)):\n\u001b[1;32m    410\u001b[0m     \u001b[38;5;28;01mreturn\u001b[39;00m _repr_pprint(obj, \u001b[38;5;28mself\u001b[39m, cycle)\n",
      "File \u001b[0;32m~/opt/miniconda3/lib/python3.8/site-packages/cirq/circuits/circuit.py:288\u001b[0m, in \u001b[0;36mAbstractCircuit._repr_pretty_\u001b[0;34m(self, p, cycle)\u001b[0m\n\u001b[1;32m    286\u001b[0m     p\u001b[38;5;241m.\u001b[39mtext(\u001b[38;5;124mf\u001b[39m\u001b[38;5;124m'\u001b[39m\u001b[38;5;132;01m{\u001b[39;00mcls_name\u001b[38;5;132;01m}\u001b[39;00m\u001b[38;5;124m(...)\u001b[39m\u001b[38;5;124m'\u001b[39m)\n\u001b[1;32m    287\u001b[0m \u001b[38;5;28;01melse\u001b[39;00m:\n\u001b[0;32m--> 288\u001b[0m     p\u001b[38;5;241m.\u001b[39mtext(\u001b[38;5;28;43mself\u001b[39;49m\u001b[38;5;241;43m.\u001b[39;49m\u001b[43mto_text_diagram\u001b[49m\u001b[43m(\u001b[49m\u001b[43m)\u001b[49m)\n",
      "File \u001b[0;32m~/opt/miniconda3/lib/python3.8/site-packages/cirq/circuits/circuit.py:1177\u001b[0m, in \u001b[0;36mAbstractCircuit.to_text_diagram\u001b[0;34m(self, use_unicode_characters, transpose, include_tags, precision, qubit_order)\u001b[0m\n\u001b[1;32m   1155\u001b[0m \u001b[38;5;28;01mdef\u001b[39;00m \u001b[38;5;21mto_text_diagram\u001b[39m(\n\u001b[1;32m   1156\u001b[0m     \u001b[38;5;28mself\u001b[39m,\n\u001b[1;32m   1157\u001b[0m     \u001b[38;5;241m*\u001b[39m,\n\u001b[0;32m   (...)\u001b[0m\n\u001b[1;32m   1162\u001b[0m     qubit_order: \u001b[38;5;124m'\u001b[39m\u001b[38;5;124mcirq.QubitOrderOrList\u001b[39m\u001b[38;5;124m'\u001b[39m \u001b[38;5;241m=\u001b[39m ops\u001b[38;5;241m.\u001b[39mQubitOrder\u001b[38;5;241m.\u001b[39mDEFAULT,\n\u001b[1;32m   1163\u001b[0m ) \u001b[38;5;241m-\u001b[39m\u001b[38;5;241m>\u001b[39m \u001b[38;5;28mstr\u001b[39m:\n\u001b[1;32m   1164\u001b[0m \u001b[38;5;250m    \u001b[39m\u001b[38;5;124;03m\"\"\"Returns text containing a diagram describing the circuit.\u001b[39;00m\n\u001b[1;32m   1165\u001b[0m \n\u001b[1;32m   1166\u001b[0m \u001b[38;5;124;03m    Args:\u001b[39;00m\n\u001b[0;32m   (...)\u001b[0m\n\u001b[1;32m   1175\u001b[0m \u001b[38;5;124;03m        The text diagram.\u001b[39;00m\n\u001b[1;32m   1176\u001b[0m \u001b[38;5;124;03m    \"\"\"\u001b[39;00m\n\u001b[0;32m-> 1177\u001b[0m     diagram \u001b[38;5;241m=\u001b[39m \u001b[38;5;28;43mself\u001b[39;49m\u001b[38;5;241;43m.\u001b[39;49m\u001b[43mto_text_diagram_drawer\u001b[49m\u001b[43m(\u001b[49m\n\u001b[1;32m   1178\u001b[0m \u001b[43m        \u001b[49m\u001b[43muse_unicode_characters\u001b[49m\u001b[38;5;241;43m=\u001b[39;49m\u001b[43muse_unicode_characters\u001b[49m\u001b[43m,\u001b[49m\n\u001b[1;32m   1179\u001b[0m \u001b[43m        \u001b[49m\u001b[43minclude_tags\u001b[49m\u001b[38;5;241;43m=\u001b[39;49m\u001b[43minclude_tags\u001b[49m\u001b[43m,\u001b[49m\n\u001b[1;32m   1180\u001b[0m \u001b[43m        \u001b[49m\u001b[43mprecision\u001b[49m\u001b[38;5;241;43m=\u001b[39;49m\u001b[43mprecision\u001b[49m\u001b[43m,\u001b[49m\n\u001b[1;32m   1181\u001b[0m \u001b[43m        \u001b[49m\u001b[43mqubit_order\u001b[49m\u001b[38;5;241;43m=\u001b[39;49m\u001b[43mqubit_order\u001b[49m\u001b[43m,\u001b[49m\n\u001b[1;32m   1182\u001b[0m \u001b[43m        \u001b[49m\u001b[43mtranspose\u001b[49m\u001b[38;5;241;43m=\u001b[39;49m\u001b[43mtranspose\u001b[49m\u001b[43m,\u001b[49m\n\u001b[1;32m   1183\u001b[0m \u001b[43m    \u001b[49m\u001b[43m)\u001b[49m\n\u001b[1;32m   1185\u001b[0m     \u001b[38;5;28;01mreturn\u001b[39;00m diagram\u001b[38;5;241m.\u001b[39mrender(\n\u001b[1;32m   1186\u001b[0m         crossing_char\u001b[38;5;241m=\u001b[39m(\u001b[38;5;28;01mNone\u001b[39;00m \u001b[38;5;28;01mif\u001b[39;00m use_unicode_characters \u001b[38;5;28;01melse\u001b[39;00m (\u001b[38;5;124m'\u001b[39m\u001b[38;5;124m-\u001b[39m\u001b[38;5;124m'\u001b[39m \u001b[38;5;28;01mif\u001b[39;00m transpose \u001b[38;5;28;01melse\u001b[39;00m \u001b[38;5;124m'\u001b[39m\u001b[38;5;124m|\u001b[39m\u001b[38;5;124m'\u001b[39m)),\n\u001b[1;32m   1187\u001b[0m         horizontal_spacing\u001b[38;5;241m=\u001b[39m\u001b[38;5;241m1\u001b[39m \u001b[38;5;28;01mif\u001b[39;00m transpose \u001b[38;5;28;01melse\u001b[39;00m \u001b[38;5;241m3\u001b[39m,\n\u001b[1;32m   1188\u001b[0m         use_unicode_characters\u001b[38;5;241m=\u001b[39muse_unicode_characters,\n\u001b[1;32m   1189\u001b[0m     )\n",
      "File \u001b[0;32m~/opt/miniconda3/lib/python3.8/site-packages/cirq/circuits/circuit.py:1250\u001b[0m, in \u001b[0;36mAbstractCircuit.to_text_diagram_drawer\u001b[0;34m(self, use_unicode_characters, qubit_namer, transpose, include_tags, draw_moment_groups, precision, qubit_order, get_circuit_diagram_info)\u001b[0m\n\u001b[1;32m   1247\u001b[0m     diagram\u001b[38;5;241m.\u001b[39mwrite(\u001b[38;5;241m0\u001b[39m, i, name)\n\u001b[1;32m   1248\u001b[0m first_annotation_row \u001b[38;5;241m=\u001b[39m \u001b[38;5;28mmax\u001b[39m(label_map\u001b[38;5;241m.\u001b[39mvalues(), default\u001b[38;5;241m=\u001b[39m\u001b[38;5;241m0\u001b[39m) \u001b[38;5;241m+\u001b[39m \u001b[38;5;241m1\u001b[39m\n\u001b[0;32m-> 1250\u001b[0m \u001b[38;5;28;01mif\u001b[39;00m \u001b[38;5;28;43many\u001b[39;49m\u001b[43m(\u001b[49m\u001b[38;5;28;43misinstance\u001b[39;49m\u001b[43m(\u001b[49m\u001b[43mop\u001b[49m\u001b[38;5;241;43m.\u001b[39;49m\u001b[43mgate\u001b[49m\u001b[43m,\u001b[49m\u001b[43m \u001b[49m\u001b[43mcirq\u001b[49m\u001b[38;5;241;43m.\u001b[39;49m\u001b[43mGlobalPhaseGate\u001b[49m\u001b[43m)\u001b[49m\u001b[43m \u001b[49m\u001b[38;5;28;43;01mfor\u001b[39;49;00m\u001b[43m \u001b[49m\u001b[43mop\u001b[49m\u001b[43m \u001b[49m\u001b[38;5;129;43;01min\u001b[39;49;00m\u001b[43m \u001b[49m\u001b[38;5;28;43mself\u001b[39;49m\u001b[38;5;241;43m.\u001b[39;49m\u001b[43mall_operations\u001b[49m\u001b[43m(\u001b[49m\u001b[43m)\u001b[49m\u001b[43m)\u001b[49m:\n\u001b[1;32m   1251\u001b[0m     diagram\u001b[38;5;241m.\u001b[39mwrite(\u001b[38;5;241m0\u001b[39m, \u001b[38;5;28mmax\u001b[39m(label_map\u001b[38;5;241m.\u001b[39mvalues(), default\u001b[38;5;241m=\u001b[39m\u001b[38;5;241m0\u001b[39m) \u001b[38;5;241m+\u001b[39m \u001b[38;5;241m1\u001b[39m, \u001b[38;5;124m'\u001b[39m\u001b[38;5;124mglobal phase:\u001b[39m\u001b[38;5;124m'\u001b[39m)\n\u001b[1;32m   1252\u001b[0m     first_annotation_row \u001b[38;5;241m+\u001b[39m\u001b[38;5;241m=\u001b[39m \u001b[38;5;241m1\u001b[39m\n",
      "File \u001b[0;32m~/opt/miniconda3/lib/python3.8/site-packages/cirq/circuits/circuit.py:1250\u001b[0m, in \u001b[0;36m<genexpr>\u001b[0;34m(.0)\u001b[0m\n\u001b[1;32m   1247\u001b[0m     diagram\u001b[38;5;241m.\u001b[39mwrite(\u001b[38;5;241m0\u001b[39m, i, name)\n\u001b[1;32m   1248\u001b[0m first_annotation_row \u001b[38;5;241m=\u001b[39m \u001b[38;5;28mmax\u001b[39m(label_map\u001b[38;5;241m.\u001b[39mvalues(), default\u001b[38;5;241m=\u001b[39m\u001b[38;5;241m0\u001b[39m) \u001b[38;5;241m+\u001b[39m \u001b[38;5;241m1\u001b[39m\n\u001b[0;32m-> 1250\u001b[0m \u001b[38;5;28;01mif\u001b[39;00m \u001b[38;5;28many\u001b[39m(\u001b[38;5;28misinstance\u001b[39m(op\u001b[38;5;241m.\u001b[39mgate, \u001b[43mcirq\u001b[49m\u001b[38;5;241;43m.\u001b[39;49m\u001b[43mGlobalPhaseGate\u001b[49m) \u001b[38;5;28;01mfor\u001b[39;00m op \u001b[38;5;129;01min\u001b[39;00m \u001b[38;5;28mself\u001b[39m\u001b[38;5;241m.\u001b[39mall_operations()):\n\u001b[1;32m   1251\u001b[0m     diagram\u001b[38;5;241m.\u001b[39mwrite(\u001b[38;5;241m0\u001b[39m, \u001b[38;5;28mmax\u001b[39m(label_map\u001b[38;5;241m.\u001b[39mvalues(), default\u001b[38;5;241m=\u001b[39m\u001b[38;5;241m0\u001b[39m) \u001b[38;5;241m+\u001b[39m \u001b[38;5;241m1\u001b[39m, \u001b[38;5;124m'\u001b[39m\u001b[38;5;124mglobal phase:\u001b[39m\u001b[38;5;124m'\u001b[39m)\n\u001b[1;32m   1252\u001b[0m     first_annotation_row \u001b[38;5;241m+\u001b[39m\u001b[38;5;241m=\u001b[39m \u001b[38;5;241m1\u001b[39m\n",
      "\u001b[0;31mAttributeError\u001b[0m: module 'cirq' has no attribute 'GlobalPhaseGate'"
     ]
    },
    {
     "ename": "AttributeError",
     "evalue": "module 'cirq' has no attribute 'GlobalPhaseGate'",
     "output_type": "error",
     "traceback": [
      "\u001b[0;31m---------------------------------------------------------------------------\u001b[0m",
      "\u001b[0;31mAttributeError\u001b[0m                            Traceback (most recent call last)",
      "File \u001b[0;32m~/opt/miniconda3/lib/python3.8/site-packages/IPython/core/formatters.py:344\u001b[0m, in \u001b[0;36mBaseFormatter.__call__\u001b[0;34m(self, obj)\u001b[0m\n\u001b[1;32m    342\u001b[0m     method \u001b[38;5;241m=\u001b[39m get_real_method(obj, \u001b[38;5;28mself\u001b[39m\u001b[38;5;241m.\u001b[39mprint_method)\n\u001b[1;32m    343\u001b[0m     \u001b[38;5;28;01mif\u001b[39;00m method \u001b[38;5;129;01mis\u001b[39;00m \u001b[38;5;129;01mnot\u001b[39;00m \u001b[38;5;28;01mNone\u001b[39;00m:\n\u001b[0;32m--> 344\u001b[0m         \u001b[38;5;28;01mreturn\u001b[39;00m \u001b[43mmethod\u001b[49m\u001b[43m(\u001b[49m\u001b[43m)\u001b[49m\n\u001b[1;32m    345\u001b[0m     \u001b[38;5;28;01mreturn\u001b[39;00m \u001b[38;5;28;01mNone\u001b[39;00m\n\u001b[1;32m    346\u001b[0m \u001b[38;5;28;01melse\u001b[39;00m:\n",
      "File \u001b[0;32m~/opt/miniconda3/lib/python3.8/site-packages/cirq/circuits/circuit.py:294\u001b[0m, in \u001b[0;36mAbstractCircuit._repr_html_\u001b[0;34m(self)\u001b[0m\n\u001b[1;32m    290\u001b[0m \u001b[38;5;28;01mdef\u001b[39;00m \u001b[38;5;21m_repr_html_\u001b[39m(\u001b[38;5;28mself\u001b[39m) \u001b[38;5;241m-\u001b[39m\u001b[38;5;241m>\u001b[39m \u001b[38;5;28mstr\u001b[39m:\n\u001b[1;32m    291\u001b[0m \u001b[38;5;250m    \u001b[39m\u001b[38;5;124;03m\"\"\"Print ASCII diagram in Jupyter notebook without wrapping lines.\"\"\"\u001b[39;00m\n\u001b[1;32m    292\u001b[0m     \u001b[38;5;28;01mreturn\u001b[39;00m (\n\u001b[1;32m    293\u001b[0m         \u001b[38;5;124m'\u001b[39m\u001b[38;5;124m<pre style=\u001b[39m\u001b[38;5;124m\"\u001b[39m\u001b[38;5;124moverflow: auto; white-space: pre;\u001b[39m\u001b[38;5;124m\"\u001b[39m\u001b[38;5;124m>\u001b[39m\u001b[38;5;124m'\u001b[39m\n\u001b[0;32m--> 294\u001b[0m         \u001b[38;5;241m+\u001b[39m html\u001b[38;5;241m.\u001b[39mescape(\u001b[38;5;28;43mself\u001b[39;49m\u001b[38;5;241;43m.\u001b[39;49m\u001b[43mto_text_diagram\u001b[49m\u001b[43m(\u001b[49m\u001b[43m)\u001b[49m)\n\u001b[1;32m    295\u001b[0m         \u001b[38;5;241m+\u001b[39m \u001b[38;5;124m'\u001b[39m\u001b[38;5;124m</pre>\u001b[39m\u001b[38;5;124m'\u001b[39m\n\u001b[1;32m    296\u001b[0m     )\n",
      "File \u001b[0;32m~/opt/miniconda3/lib/python3.8/site-packages/cirq/circuits/circuit.py:1177\u001b[0m, in \u001b[0;36mAbstractCircuit.to_text_diagram\u001b[0;34m(self, use_unicode_characters, transpose, include_tags, precision, qubit_order)\u001b[0m\n\u001b[1;32m   1155\u001b[0m \u001b[38;5;28;01mdef\u001b[39;00m \u001b[38;5;21mto_text_diagram\u001b[39m(\n\u001b[1;32m   1156\u001b[0m     \u001b[38;5;28mself\u001b[39m,\n\u001b[1;32m   1157\u001b[0m     \u001b[38;5;241m*\u001b[39m,\n\u001b[0;32m   (...)\u001b[0m\n\u001b[1;32m   1162\u001b[0m     qubit_order: \u001b[38;5;124m'\u001b[39m\u001b[38;5;124mcirq.QubitOrderOrList\u001b[39m\u001b[38;5;124m'\u001b[39m \u001b[38;5;241m=\u001b[39m ops\u001b[38;5;241m.\u001b[39mQubitOrder\u001b[38;5;241m.\u001b[39mDEFAULT,\n\u001b[1;32m   1163\u001b[0m ) \u001b[38;5;241m-\u001b[39m\u001b[38;5;241m>\u001b[39m \u001b[38;5;28mstr\u001b[39m:\n\u001b[1;32m   1164\u001b[0m \u001b[38;5;250m    \u001b[39m\u001b[38;5;124;03m\"\"\"Returns text containing a diagram describing the circuit.\u001b[39;00m\n\u001b[1;32m   1165\u001b[0m \n\u001b[1;32m   1166\u001b[0m \u001b[38;5;124;03m    Args:\u001b[39;00m\n\u001b[0;32m   (...)\u001b[0m\n\u001b[1;32m   1175\u001b[0m \u001b[38;5;124;03m        The text diagram.\u001b[39;00m\n\u001b[1;32m   1176\u001b[0m \u001b[38;5;124;03m    \"\"\"\u001b[39;00m\n\u001b[0;32m-> 1177\u001b[0m     diagram \u001b[38;5;241m=\u001b[39m \u001b[38;5;28;43mself\u001b[39;49m\u001b[38;5;241;43m.\u001b[39;49m\u001b[43mto_text_diagram_drawer\u001b[49m\u001b[43m(\u001b[49m\n\u001b[1;32m   1178\u001b[0m \u001b[43m        \u001b[49m\u001b[43muse_unicode_characters\u001b[49m\u001b[38;5;241;43m=\u001b[39;49m\u001b[43muse_unicode_characters\u001b[49m\u001b[43m,\u001b[49m\n\u001b[1;32m   1179\u001b[0m \u001b[43m        \u001b[49m\u001b[43minclude_tags\u001b[49m\u001b[38;5;241;43m=\u001b[39;49m\u001b[43minclude_tags\u001b[49m\u001b[43m,\u001b[49m\n\u001b[1;32m   1180\u001b[0m \u001b[43m        \u001b[49m\u001b[43mprecision\u001b[49m\u001b[38;5;241;43m=\u001b[39;49m\u001b[43mprecision\u001b[49m\u001b[43m,\u001b[49m\n\u001b[1;32m   1181\u001b[0m \u001b[43m        \u001b[49m\u001b[43mqubit_order\u001b[49m\u001b[38;5;241;43m=\u001b[39;49m\u001b[43mqubit_order\u001b[49m\u001b[43m,\u001b[49m\n\u001b[1;32m   1182\u001b[0m \u001b[43m        \u001b[49m\u001b[43mtranspose\u001b[49m\u001b[38;5;241;43m=\u001b[39;49m\u001b[43mtranspose\u001b[49m\u001b[43m,\u001b[49m\n\u001b[1;32m   1183\u001b[0m \u001b[43m    \u001b[49m\u001b[43m)\u001b[49m\n\u001b[1;32m   1185\u001b[0m     \u001b[38;5;28;01mreturn\u001b[39;00m diagram\u001b[38;5;241m.\u001b[39mrender(\n\u001b[1;32m   1186\u001b[0m         crossing_char\u001b[38;5;241m=\u001b[39m(\u001b[38;5;28;01mNone\u001b[39;00m \u001b[38;5;28;01mif\u001b[39;00m use_unicode_characters \u001b[38;5;28;01melse\u001b[39;00m (\u001b[38;5;124m'\u001b[39m\u001b[38;5;124m-\u001b[39m\u001b[38;5;124m'\u001b[39m \u001b[38;5;28;01mif\u001b[39;00m transpose \u001b[38;5;28;01melse\u001b[39;00m \u001b[38;5;124m'\u001b[39m\u001b[38;5;124m|\u001b[39m\u001b[38;5;124m'\u001b[39m)),\n\u001b[1;32m   1187\u001b[0m         horizontal_spacing\u001b[38;5;241m=\u001b[39m\u001b[38;5;241m1\u001b[39m \u001b[38;5;28;01mif\u001b[39;00m transpose \u001b[38;5;28;01melse\u001b[39;00m \u001b[38;5;241m3\u001b[39m,\n\u001b[1;32m   1188\u001b[0m         use_unicode_characters\u001b[38;5;241m=\u001b[39muse_unicode_characters,\n\u001b[1;32m   1189\u001b[0m     )\n",
      "File \u001b[0;32m~/opt/miniconda3/lib/python3.8/site-packages/cirq/circuits/circuit.py:1250\u001b[0m, in \u001b[0;36mAbstractCircuit.to_text_diagram_drawer\u001b[0;34m(self, use_unicode_characters, qubit_namer, transpose, include_tags, draw_moment_groups, precision, qubit_order, get_circuit_diagram_info)\u001b[0m\n\u001b[1;32m   1247\u001b[0m     diagram\u001b[38;5;241m.\u001b[39mwrite(\u001b[38;5;241m0\u001b[39m, i, name)\n\u001b[1;32m   1248\u001b[0m first_annotation_row \u001b[38;5;241m=\u001b[39m \u001b[38;5;28mmax\u001b[39m(label_map\u001b[38;5;241m.\u001b[39mvalues(), default\u001b[38;5;241m=\u001b[39m\u001b[38;5;241m0\u001b[39m) \u001b[38;5;241m+\u001b[39m \u001b[38;5;241m1\u001b[39m\n\u001b[0;32m-> 1250\u001b[0m \u001b[38;5;28;01mif\u001b[39;00m \u001b[38;5;28;43many\u001b[39;49m\u001b[43m(\u001b[49m\u001b[38;5;28;43misinstance\u001b[39;49m\u001b[43m(\u001b[49m\u001b[43mop\u001b[49m\u001b[38;5;241;43m.\u001b[39;49m\u001b[43mgate\u001b[49m\u001b[43m,\u001b[49m\u001b[43m \u001b[49m\u001b[43mcirq\u001b[49m\u001b[38;5;241;43m.\u001b[39;49m\u001b[43mGlobalPhaseGate\u001b[49m\u001b[43m)\u001b[49m\u001b[43m \u001b[49m\u001b[38;5;28;43;01mfor\u001b[39;49;00m\u001b[43m \u001b[49m\u001b[43mop\u001b[49m\u001b[43m \u001b[49m\u001b[38;5;129;43;01min\u001b[39;49;00m\u001b[43m \u001b[49m\u001b[38;5;28;43mself\u001b[39;49m\u001b[38;5;241;43m.\u001b[39;49m\u001b[43mall_operations\u001b[49m\u001b[43m(\u001b[49m\u001b[43m)\u001b[49m\u001b[43m)\u001b[49m:\n\u001b[1;32m   1251\u001b[0m     diagram\u001b[38;5;241m.\u001b[39mwrite(\u001b[38;5;241m0\u001b[39m, \u001b[38;5;28mmax\u001b[39m(label_map\u001b[38;5;241m.\u001b[39mvalues(), default\u001b[38;5;241m=\u001b[39m\u001b[38;5;241m0\u001b[39m) \u001b[38;5;241m+\u001b[39m \u001b[38;5;241m1\u001b[39m, \u001b[38;5;124m'\u001b[39m\u001b[38;5;124mglobal phase:\u001b[39m\u001b[38;5;124m'\u001b[39m)\n\u001b[1;32m   1252\u001b[0m     first_annotation_row \u001b[38;5;241m+\u001b[39m\u001b[38;5;241m=\u001b[39m \u001b[38;5;241m1\u001b[39m\n",
      "File \u001b[0;32m~/opt/miniconda3/lib/python3.8/site-packages/cirq/circuits/circuit.py:1250\u001b[0m, in \u001b[0;36m<genexpr>\u001b[0;34m(.0)\u001b[0m\n\u001b[1;32m   1247\u001b[0m     diagram\u001b[38;5;241m.\u001b[39mwrite(\u001b[38;5;241m0\u001b[39m, i, name)\n\u001b[1;32m   1248\u001b[0m first_annotation_row \u001b[38;5;241m=\u001b[39m \u001b[38;5;28mmax\u001b[39m(label_map\u001b[38;5;241m.\u001b[39mvalues(), default\u001b[38;5;241m=\u001b[39m\u001b[38;5;241m0\u001b[39m) \u001b[38;5;241m+\u001b[39m \u001b[38;5;241m1\u001b[39m\n\u001b[0;32m-> 1250\u001b[0m \u001b[38;5;28;01mif\u001b[39;00m \u001b[38;5;28many\u001b[39m(\u001b[38;5;28misinstance\u001b[39m(op\u001b[38;5;241m.\u001b[39mgate, \u001b[43mcirq\u001b[49m\u001b[38;5;241;43m.\u001b[39;49m\u001b[43mGlobalPhaseGate\u001b[49m) \u001b[38;5;28;01mfor\u001b[39;00m op \u001b[38;5;129;01min\u001b[39;00m \u001b[38;5;28mself\u001b[39m\u001b[38;5;241m.\u001b[39mall_operations()):\n\u001b[1;32m   1251\u001b[0m     diagram\u001b[38;5;241m.\u001b[39mwrite(\u001b[38;5;241m0\u001b[39m, \u001b[38;5;28mmax\u001b[39m(label_map\u001b[38;5;241m.\u001b[39mvalues(), default\u001b[38;5;241m=\u001b[39m\u001b[38;5;241m0\u001b[39m) \u001b[38;5;241m+\u001b[39m \u001b[38;5;241m1\u001b[39m, \u001b[38;5;124m'\u001b[39m\u001b[38;5;124mglobal phase:\u001b[39m\u001b[38;5;124m'\u001b[39m)\n\u001b[1;32m   1252\u001b[0m     first_annotation_row \u001b[38;5;241m+\u001b[39m\u001b[38;5;241m=\u001b[39m \u001b[38;5;241m1\u001b[39m\n",
      "\u001b[0;31mAttributeError\u001b[0m: module 'cirq' has no attribute 'GlobalPhaseGate'"
     ]
    }
   ],
   "source": [
    "# original circuit\n",
    "print('original circuit:', circ)\n",
    "circ.to_cirq()\n"
   ]
  },
  {
   "cell_type": "code",
   "execution_count": 14,
   "metadata": {
    "ExecuteTime": {
     "end_time": "2023-09-04T01:41:32.760783Z",
     "start_time": "2023-09-04T01:41:32.721584Z"
    },
    "collapsed": false
   },
   "outputs": [
    {
     "name": "stdout",
     "output_type": "stream",
     "text": [
      "mapped circuit: Circuit(num_gates: 24, num_qubits: 6, with_measure: False)\n",
      "init_mapping: {0: 2, 1: 0, 2: 1, 3: 3, 4: 6, 5: 5}\n",
      "final_mapping: {0: 0, 1: 1, 2: 2, 3: 3, 4: 5, 5: 6}\n"
     ]
    },
    {
     "ename": "AttributeError",
     "evalue": "module 'cirq' has no attribute 'GlobalPhaseGate'",
     "output_type": "error",
     "traceback": [
      "\u001b[0;31m---------------------------------------------------------------------------\u001b[0m",
      "\u001b[0;31mAttributeError\u001b[0m                            Traceback (most recent call last)",
      "File \u001b[0;32m~/opt/miniconda3/lib/python3.8/site-packages/IPython/core/formatters.py:708\u001b[0m, in \u001b[0;36mPlainTextFormatter.__call__\u001b[0;34m(self, obj)\u001b[0m\n\u001b[1;32m    701\u001b[0m stream \u001b[38;5;241m=\u001b[39m StringIO()\n\u001b[1;32m    702\u001b[0m printer \u001b[38;5;241m=\u001b[39m pretty\u001b[38;5;241m.\u001b[39mRepresentationPrinter(stream, \u001b[38;5;28mself\u001b[39m\u001b[38;5;241m.\u001b[39mverbose,\n\u001b[1;32m    703\u001b[0m     \u001b[38;5;28mself\u001b[39m\u001b[38;5;241m.\u001b[39mmax_width, \u001b[38;5;28mself\u001b[39m\u001b[38;5;241m.\u001b[39mnewline,\n\u001b[1;32m    704\u001b[0m     max_seq_length\u001b[38;5;241m=\u001b[39m\u001b[38;5;28mself\u001b[39m\u001b[38;5;241m.\u001b[39mmax_seq_length,\n\u001b[1;32m    705\u001b[0m     singleton_pprinters\u001b[38;5;241m=\u001b[39m\u001b[38;5;28mself\u001b[39m\u001b[38;5;241m.\u001b[39msingleton_printers,\n\u001b[1;32m    706\u001b[0m     type_pprinters\u001b[38;5;241m=\u001b[39m\u001b[38;5;28mself\u001b[39m\u001b[38;5;241m.\u001b[39mtype_printers,\n\u001b[1;32m    707\u001b[0m     deferred_pprinters\u001b[38;5;241m=\u001b[39m\u001b[38;5;28mself\u001b[39m\u001b[38;5;241m.\u001b[39mdeferred_printers)\n\u001b[0;32m--> 708\u001b[0m \u001b[43mprinter\u001b[49m\u001b[38;5;241;43m.\u001b[39;49m\u001b[43mpretty\u001b[49m\u001b[43m(\u001b[49m\u001b[43mobj\u001b[49m\u001b[43m)\u001b[49m\n\u001b[1;32m    709\u001b[0m printer\u001b[38;5;241m.\u001b[39mflush()\n\u001b[1;32m    710\u001b[0m \u001b[38;5;28;01mreturn\u001b[39;00m stream\u001b[38;5;241m.\u001b[39mgetvalue()\n",
      "File \u001b[0;32m~/opt/miniconda3/lib/python3.8/site-packages/IPython/lib/pretty.py:407\u001b[0m, in \u001b[0;36mRepresentationPrinter.pretty\u001b[0;34m(self, obj)\u001b[0m\n\u001b[1;32m    405\u001b[0m     meth \u001b[38;5;241m=\u001b[39m \u001b[38;5;28mcls\u001b[39m\u001b[38;5;241m.\u001b[39m_repr_pretty_\n\u001b[1;32m    406\u001b[0m     \u001b[38;5;28;01mif\u001b[39;00m \u001b[38;5;28mcallable\u001b[39m(meth):\n\u001b[0;32m--> 407\u001b[0m         \u001b[38;5;28;01mreturn\u001b[39;00m \u001b[43mmeth\u001b[49m\u001b[43m(\u001b[49m\u001b[43mobj\u001b[49m\u001b[43m,\u001b[49m\u001b[43m \u001b[49m\u001b[38;5;28;43mself\u001b[39;49m\u001b[43m,\u001b[49m\u001b[43m \u001b[49m\u001b[43mcycle\u001b[49m\u001b[43m)\u001b[49m\n\u001b[1;32m    408\u001b[0m \u001b[38;5;28;01mif\u001b[39;00m \u001b[38;5;28mcls\u001b[39m \u001b[38;5;129;01mis\u001b[39;00m \u001b[38;5;129;01mnot\u001b[39;00m \u001b[38;5;28mobject\u001b[39m \\\n\u001b[1;32m    409\u001b[0m         \u001b[38;5;129;01mand\u001b[39;00m \u001b[38;5;28mcallable\u001b[39m(\u001b[38;5;28mcls\u001b[39m\u001b[38;5;241m.\u001b[39m\u001b[38;5;18m__dict__\u001b[39m\u001b[38;5;241m.\u001b[39mget(\u001b[38;5;124m'\u001b[39m\u001b[38;5;124m__repr__\u001b[39m\u001b[38;5;124m'\u001b[39m)):\n\u001b[1;32m    410\u001b[0m     \u001b[38;5;28;01mreturn\u001b[39;00m _repr_pprint(obj, \u001b[38;5;28mself\u001b[39m, cycle)\n",
      "File \u001b[0;32m~/opt/miniconda3/lib/python3.8/site-packages/cirq/circuits/circuit.py:288\u001b[0m, in \u001b[0;36mAbstractCircuit._repr_pretty_\u001b[0;34m(self, p, cycle)\u001b[0m\n\u001b[1;32m    286\u001b[0m     p\u001b[38;5;241m.\u001b[39mtext(\u001b[38;5;124mf\u001b[39m\u001b[38;5;124m'\u001b[39m\u001b[38;5;132;01m{\u001b[39;00mcls_name\u001b[38;5;132;01m}\u001b[39;00m\u001b[38;5;124m(...)\u001b[39m\u001b[38;5;124m'\u001b[39m)\n\u001b[1;32m    287\u001b[0m \u001b[38;5;28;01melse\u001b[39;00m:\n\u001b[0;32m--> 288\u001b[0m     p\u001b[38;5;241m.\u001b[39mtext(\u001b[38;5;28;43mself\u001b[39;49m\u001b[38;5;241;43m.\u001b[39;49m\u001b[43mto_text_diagram\u001b[49m\u001b[43m(\u001b[49m\u001b[43m)\u001b[49m)\n",
      "File \u001b[0;32m~/opt/miniconda3/lib/python3.8/site-packages/cirq/circuits/circuit.py:1177\u001b[0m, in \u001b[0;36mAbstractCircuit.to_text_diagram\u001b[0;34m(self, use_unicode_characters, transpose, include_tags, precision, qubit_order)\u001b[0m\n\u001b[1;32m   1155\u001b[0m \u001b[38;5;28;01mdef\u001b[39;00m \u001b[38;5;21mto_text_diagram\u001b[39m(\n\u001b[1;32m   1156\u001b[0m     \u001b[38;5;28mself\u001b[39m,\n\u001b[1;32m   1157\u001b[0m     \u001b[38;5;241m*\u001b[39m,\n\u001b[0;32m   (...)\u001b[0m\n\u001b[1;32m   1162\u001b[0m     qubit_order: \u001b[38;5;124m'\u001b[39m\u001b[38;5;124mcirq.QubitOrderOrList\u001b[39m\u001b[38;5;124m'\u001b[39m \u001b[38;5;241m=\u001b[39m ops\u001b[38;5;241m.\u001b[39mQubitOrder\u001b[38;5;241m.\u001b[39mDEFAULT,\n\u001b[1;32m   1163\u001b[0m ) \u001b[38;5;241m-\u001b[39m\u001b[38;5;241m>\u001b[39m \u001b[38;5;28mstr\u001b[39m:\n\u001b[1;32m   1164\u001b[0m \u001b[38;5;250m    \u001b[39m\u001b[38;5;124;03m\"\"\"Returns text containing a diagram describing the circuit.\u001b[39;00m\n\u001b[1;32m   1165\u001b[0m \n\u001b[1;32m   1166\u001b[0m \u001b[38;5;124;03m    Args:\u001b[39;00m\n\u001b[0;32m   (...)\u001b[0m\n\u001b[1;32m   1175\u001b[0m \u001b[38;5;124;03m        The text diagram.\u001b[39;00m\n\u001b[1;32m   1176\u001b[0m \u001b[38;5;124;03m    \"\"\"\u001b[39;00m\n\u001b[0;32m-> 1177\u001b[0m     diagram \u001b[38;5;241m=\u001b[39m \u001b[38;5;28;43mself\u001b[39;49m\u001b[38;5;241;43m.\u001b[39;49m\u001b[43mto_text_diagram_drawer\u001b[49m\u001b[43m(\u001b[49m\n\u001b[1;32m   1178\u001b[0m \u001b[43m        \u001b[49m\u001b[43muse_unicode_characters\u001b[49m\u001b[38;5;241;43m=\u001b[39;49m\u001b[43muse_unicode_characters\u001b[49m\u001b[43m,\u001b[49m\n\u001b[1;32m   1179\u001b[0m \u001b[43m        \u001b[49m\u001b[43minclude_tags\u001b[49m\u001b[38;5;241;43m=\u001b[39;49m\u001b[43minclude_tags\u001b[49m\u001b[43m,\u001b[49m\n\u001b[1;32m   1180\u001b[0m \u001b[43m        \u001b[49m\u001b[43mprecision\u001b[49m\u001b[38;5;241;43m=\u001b[39;49m\u001b[43mprecision\u001b[49m\u001b[43m,\u001b[49m\n\u001b[1;32m   1181\u001b[0m \u001b[43m        \u001b[49m\u001b[43mqubit_order\u001b[49m\u001b[38;5;241;43m=\u001b[39;49m\u001b[43mqubit_order\u001b[49m\u001b[43m,\u001b[49m\n\u001b[1;32m   1182\u001b[0m \u001b[43m        \u001b[49m\u001b[43mtranspose\u001b[49m\u001b[38;5;241;43m=\u001b[39;49m\u001b[43mtranspose\u001b[49m\u001b[43m,\u001b[49m\n\u001b[1;32m   1183\u001b[0m \u001b[43m    \u001b[49m\u001b[43m)\u001b[49m\n\u001b[1;32m   1185\u001b[0m     \u001b[38;5;28;01mreturn\u001b[39;00m diagram\u001b[38;5;241m.\u001b[39mrender(\n\u001b[1;32m   1186\u001b[0m         crossing_char\u001b[38;5;241m=\u001b[39m(\u001b[38;5;28;01mNone\u001b[39;00m \u001b[38;5;28;01mif\u001b[39;00m use_unicode_characters \u001b[38;5;28;01melse\u001b[39;00m (\u001b[38;5;124m'\u001b[39m\u001b[38;5;124m-\u001b[39m\u001b[38;5;124m'\u001b[39m \u001b[38;5;28;01mif\u001b[39;00m transpose \u001b[38;5;28;01melse\u001b[39;00m \u001b[38;5;124m'\u001b[39m\u001b[38;5;124m|\u001b[39m\u001b[38;5;124m'\u001b[39m)),\n\u001b[1;32m   1187\u001b[0m         horizontal_spacing\u001b[38;5;241m=\u001b[39m\u001b[38;5;241m1\u001b[39m \u001b[38;5;28;01mif\u001b[39;00m transpose \u001b[38;5;28;01melse\u001b[39;00m \u001b[38;5;241m3\u001b[39m,\n\u001b[1;32m   1188\u001b[0m         use_unicode_characters\u001b[38;5;241m=\u001b[39muse_unicode_characters,\n\u001b[1;32m   1189\u001b[0m     )\n",
      "File \u001b[0;32m~/opt/miniconda3/lib/python3.8/site-packages/cirq/circuits/circuit.py:1250\u001b[0m, in \u001b[0;36mAbstractCircuit.to_text_diagram_drawer\u001b[0;34m(self, use_unicode_characters, qubit_namer, transpose, include_tags, draw_moment_groups, precision, qubit_order, get_circuit_diagram_info)\u001b[0m\n\u001b[1;32m   1247\u001b[0m     diagram\u001b[38;5;241m.\u001b[39mwrite(\u001b[38;5;241m0\u001b[39m, i, name)\n\u001b[1;32m   1248\u001b[0m first_annotation_row \u001b[38;5;241m=\u001b[39m \u001b[38;5;28mmax\u001b[39m(label_map\u001b[38;5;241m.\u001b[39mvalues(), default\u001b[38;5;241m=\u001b[39m\u001b[38;5;241m0\u001b[39m) \u001b[38;5;241m+\u001b[39m \u001b[38;5;241m1\u001b[39m\n\u001b[0;32m-> 1250\u001b[0m \u001b[38;5;28;01mif\u001b[39;00m \u001b[38;5;28;43many\u001b[39;49m\u001b[43m(\u001b[49m\u001b[38;5;28;43misinstance\u001b[39;49m\u001b[43m(\u001b[49m\u001b[43mop\u001b[49m\u001b[38;5;241;43m.\u001b[39;49m\u001b[43mgate\u001b[49m\u001b[43m,\u001b[49m\u001b[43m \u001b[49m\u001b[43mcirq\u001b[49m\u001b[38;5;241;43m.\u001b[39;49m\u001b[43mGlobalPhaseGate\u001b[49m\u001b[43m)\u001b[49m\u001b[43m \u001b[49m\u001b[38;5;28;43;01mfor\u001b[39;49;00m\u001b[43m \u001b[49m\u001b[43mop\u001b[49m\u001b[43m \u001b[49m\u001b[38;5;129;43;01min\u001b[39;49;00m\u001b[43m \u001b[49m\u001b[38;5;28;43mself\u001b[39;49m\u001b[38;5;241;43m.\u001b[39;49m\u001b[43mall_operations\u001b[49m\u001b[43m(\u001b[49m\u001b[43m)\u001b[49m\u001b[43m)\u001b[49m:\n\u001b[1;32m   1251\u001b[0m     diagram\u001b[38;5;241m.\u001b[39mwrite(\u001b[38;5;241m0\u001b[39m, \u001b[38;5;28mmax\u001b[39m(label_map\u001b[38;5;241m.\u001b[39mvalues(), default\u001b[38;5;241m=\u001b[39m\u001b[38;5;241m0\u001b[39m) \u001b[38;5;241m+\u001b[39m \u001b[38;5;241m1\u001b[39m, \u001b[38;5;124m'\u001b[39m\u001b[38;5;124mglobal phase:\u001b[39m\u001b[38;5;124m'\u001b[39m)\n\u001b[1;32m   1252\u001b[0m     first_annotation_row \u001b[38;5;241m+\u001b[39m\u001b[38;5;241m=\u001b[39m \u001b[38;5;241m1\u001b[39m\n",
      "File \u001b[0;32m~/opt/miniconda3/lib/python3.8/site-packages/cirq/circuits/circuit.py:1250\u001b[0m, in \u001b[0;36m<genexpr>\u001b[0;34m(.0)\u001b[0m\n\u001b[1;32m   1247\u001b[0m     diagram\u001b[38;5;241m.\u001b[39mwrite(\u001b[38;5;241m0\u001b[39m, i, name)\n\u001b[1;32m   1248\u001b[0m first_annotation_row \u001b[38;5;241m=\u001b[39m \u001b[38;5;28mmax\u001b[39m(label_map\u001b[38;5;241m.\u001b[39mvalues(), default\u001b[38;5;241m=\u001b[39m\u001b[38;5;241m0\u001b[39m) \u001b[38;5;241m+\u001b[39m \u001b[38;5;241m1\u001b[39m\n\u001b[0;32m-> 1250\u001b[0m \u001b[38;5;28;01mif\u001b[39;00m \u001b[38;5;28many\u001b[39m(\u001b[38;5;28misinstance\u001b[39m(op\u001b[38;5;241m.\u001b[39mgate, \u001b[43mcirq\u001b[49m\u001b[38;5;241;43m.\u001b[39;49m\u001b[43mGlobalPhaseGate\u001b[49m) \u001b[38;5;28;01mfor\u001b[39;00m op \u001b[38;5;129;01min\u001b[39;00m \u001b[38;5;28mself\u001b[39m\u001b[38;5;241m.\u001b[39mall_operations()):\n\u001b[1;32m   1251\u001b[0m     diagram\u001b[38;5;241m.\u001b[39mwrite(\u001b[38;5;241m0\u001b[39m, \u001b[38;5;28mmax\u001b[39m(label_map\u001b[38;5;241m.\u001b[39mvalues(), default\u001b[38;5;241m=\u001b[39m\u001b[38;5;241m0\u001b[39m) \u001b[38;5;241m+\u001b[39m \u001b[38;5;241m1\u001b[39m, \u001b[38;5;124m'\u001b[39m\u001b[38;5;124mglobal phase:\u001b[39m\u001b[38;5;124m'\u001b[39m)\n\u001b[1;32m   1252\u001b[0m     first_annotation_row \u001b[38;5;241m+\u001b[39m\u001b[38;5;241m=\u001b[39m \u001b[38;5;241m1\u001b[39m\n",
      "\u001b[0;31mAttributeError\u001b[0m: module 'cirq' has no attribute 'GlobalPhaseGate'"
     ]
    },
    {
     "ename": "AttributeError",
     "evalue": "module 'cirq' has no attribute 'GlobalPhaseGate'",
     "output_type": "error",
     "traceback": [
      "\u001b[0;31m---------------------------------------------------------------------------\u001b[0m",
      "\u001b[0;31mAttributeError\u001b[0m                            Traceback (most recent call last)",
      "File \u001b[0;32m~/opt/miniconda3/lib/python3.8/site-packages/IPython/core/formatters.py:344\u001b[0m, in \u001b[0;36mBaseFormatter.__call__\u001b[0;34m(self, obj)\u001b[0m\n\u001b[1;32m    342\u001b[0m     method \u001b[38;5;241m=\u001b[39m get_real_method(obj, \u001b[38;5;28mself\u001b[39m\u001b[38;5;241m.\u001b[39mprint_method)\n\u001b[1;32m    343\u001b[0m     \u001b[38;5;28;01mif\u001b[39;00m method \u001b[38;5;129;01mis\u001b[39;00m \u001b[38;5;129;01mnot\u001b[39;00m \u001b[38;5;28;01mNone\u001b[39;00m:\n\u001b[0;32m--> 344\u001b[0m         \u001b[38;5;28;01mreturn\u001b[39;00m \u001b[43mmethod\u001b[49m\u001b[43m(\u001b[49m\u001b[43m)\u001b[49m\n\u001b[1;32m    345\u001b[0m     \u001b[38;5;28;01mreturn\u001b[39;00m \u001b[38;5;28;01mNone\u001b[39;00m\n\u001b[1;32m    346\u001b[0m \u001b[38;5;28;01melse\u001b[39;00m:\n",
      "File \u001b[0;32m~/opt/miniconda3/lib/python3.8/site-packages/cirq/circuits/circuit.py:294\u001b[0m, in \u001b[0;36mAbstractCircuit._repr_html_\u001b[0;34m(self)\u001b[0m\n\u001b[1;32m    290\u001b[0m \u001b[38;5;28;01mdef\u001b[39;00m \u001b[38;5;21m_repr_html_\u001b[39m(\u001b[38;5;28mself\u001b[39m) \u001b[38;5;241m-\u001b[39m\u001b[38;5;241m>\u001b[39m \u001b[38;5;28mstr\u001b[39m:\n\u001b[1;32m    291\u001b[0m \u001b[38;5;250m    \u001b[39m\u001b[38;5;124;03m\"\"\"Print ASCII diagram in Jupyter notebook without wrapping lines.\"\"\"\u001b[39;00m\n\u001b[1;32m    292\u001b[0m     \u001b[38;5;28;01mreturn\u001b[39;00m (\n\u001b[1;32m    293\u001b[0m         \u001b[38;5;124m'\u001b[39m\u001b[38;5;124m<pre style=\u001b[39m\u001b[38;5;124m\"\u001b[39m\u001b[38;5;124moverflow: auto; white-space: pre;\u001b[39m\u001b[38;5;124m\"\u001b[39m\u001b[38;5;124m>\u001b[39m\u001b[38;5;124m'\u001b[39m\n\u001b[0;32m--> 294\u001b[0m         \u001b[38;5;241m+\u001b[39m html\u001b[38;5;241m.\u001b[39mescape(\u001b[38;5;28;43mself\u001b[39;49m\u001b[38;5;241;43m.\u001b[39;49m\u001b[43mto_text_diagram\u001b[49m\u001b[43m(\u001b[49m\u001b[43m)\u001b[49m)\n\u001b[1;32m    295\u001b[0m         \u001b[38;5;241m+\u001b[39m \u001b[38;5;124m'\u001b[39m\u001b[38;5;124m</pre>\u001b[39m\u001b[38;5;124m'\u001b[39m\n\u001b[1;32m    296\u001b[0m     )\n",
      "File \u001b[0;32m~/opt/miniconda3/lib/python3.8/site-packages/cirq/circuits/circuit.py:1177\u001b[0m, in \u001b[0;36mAbstractCircuit.to_text_diagram\u001b[0;34m(self, use_unicode_characters, transpose, include_tags, precision, qubit_order)\u001b[0m\n\u001b[1;32m   1155\u001b[0m \u001b[38;5;28;01mdef\u001b[39;00m \u001b[38;5;21mto_text_diagram\u001b[39m(\n\u001b[1;32m   1156\u001b[0m     \u001b[38;5;28mself\u001b[39m,\n\u001b[1;32m   1157\u001b[0m     \u001b[38;5;241m*\u001b[39m,\n\u001b[0;32m   (...)\u001b[0m\n\u001b[1;32m   1162\u001b[0m     qubit_order: \u001b[38;5;124m'\u001b[39m\u001b[38;5;124mcirq.QubitOrderOrList\u001b[39m\u001b[38;5;124m'\u001b[39m \u001b[38;5;241m=\u001b[39m ops\u001b[38;5;241m.\u001b[39mQubitOrder\u001b[38;5;241m.\u001b[39mDEFAULT,\n\u001b[1;32m   1163\u001b[0m ) \u001b[38;5;241m-\u001b[39m\u001b[38;5;241m>\u001b[39m \u001b[38;5;28mstr\u001b[39m:\n\u001b[1;32m   1164\u001b[0m \u001b[38;5;250m    \u001b[39m\u001b[38;5;124;03m\"\"\"Returns text containing a diagram describing the circuit.\u001b[39;00m\n\u001b[1;32m   1165\u001b[0m \n\u001b[1;32m   1166\u001b[0m \u001b[38;5;124;03m    Args:\u001b[39;00m\n\u001b[0;32m   (...)\u001b[0m\n\u001b[1;32m   1175\u001b[0m \u001b[38;5;124;03m        The text diagram.\u001b[39;00m\n\u001b[1;32m   1176\u001b[0m \u001b[38;5;124;03m    \"\"\"\u001b[39;00m\n\u001b[0;32m-> 1177\u001b[0m     diagram \u001b[38;5;241m=\u001b[39m \u001b[38;5;28;43mself\u001b[39;49m\u001b[38;5;241;43m.\u001b[39;49m\u001b[43mto_text_diagram_drawer\u001b[49m\u001b[43m(\u001b[49m\n\u001b[1;32m   1178\u001b[0m \u001b[43m        \u001b[49m\u001b[43muse_unicode_characters\u001b[49m\u001b[38;5;241;43m=\u001b[39;49m\u001b[43muse_unicode_characters\u001b[49m\u001b[43m,\u001b[49m\n\u001b[1;32m   1179\u001b[0m \u001b[43m        \u001b[49m\u001b[43minclude_tags\u001b[49m\u001b[38;5;241;43m=\u001b[39;49m\u001b[43minclude_tags\u001b[49m\u001b[43m,\u001b[49m\n\u001b[1;32m   1180\u001b[0m \u001b[43m        \u001b[49m\u001b[43mprecision\u001b[49m\u001b[38;5;241;43m=\u001b[39;49m\u001b[43mprecision\u001b[49m\u001b[43m,\u001b[49m\n\u001b[1;32m   1181\u001b[0m \u001b[43m        \u001b[49m\u001b[43mqubit_order\u001b[49m\u001b[38;5;241;43m=\u001b[39;49m\u001b[43mqubit_order\u001b[49m\u001b[43m,\u001b[49m\n\u001b[1;32m   1182\u001b[0m \u001b[43m        \u001b[49m\u001b[43mtranspose\u001b[49m\u001b[38;5;241;43m=\u001b[39;49m\u001b[43mtranspose\u001b[49m\u001b[43m,\u001b[49m\n\u001b[1;32m   1183\u001b[0m \u001b[43m    \u001b[49m\u001b[43m)\u001b[49m\n\u001b[1;32m   1185\u001b[0m     \u001b[38;5;28;01mreturn\u001b[39;00m diagram\u001b[38;5;241m.\u001b[39mrender(\n\u001b[1;32m   1186\u001b[0m         crossing_char\u001b[38;5;241m=\u001b[39m(\u001b[38;5;28;01mNone\u001b[39;00m \u001b[38;5;28;01mif\u001b[39;00m use_unicode_characters \u001b[38;5;28;01melse\u001b[39;00m (\u001b[38;5;124m'\u001b[39m\u001b[38;5;124m-\u001b[39m\u001b[38;5;124m'\u001b[39m \u001b[38;5;28;01mif\u001b[39;00m transpose \u001b[38;5;28;01melse\u001b[39;00m \u001b[38;5;124m'\u001b[39m\u001b[38;5;124m|\u001b[39m\u001b[38;5;124m'\u001b[39m)),\n\u001b[1;32m   1187\u001b[0m         horizontal_spacing\u001b[38;5;241m=\u001b[39m\u001b[38;5;241m1\u001b[39m \u001b[38;5;28;01mif\u001b[39;00m transpose \u001b[38;5;28;01melse\u001b[39;00m \u001b[38;5;241m3\u001b[39m,\n\u001b[1;32m   1188\u001b[0m         use_unicode_characters\u001b[38;5;241m=\u001b[39muse_unicode_characters,\n\u001b[1;32m   1189\u001b[0m     )\n",
      "File \u001b[0;32m~/opt/miniconda3/lib/python3.8/site-packages/cirq/circuits/circuit.py:1250\u001b[0m, in \u001b[0;36mAbstractCircuit.to_text_diagram_drawer\u001b[0;34m(self, use_unicode_characters, qubit_namer, transpose, include_tags, draw_moment_groups, precision, qubit_order, get_circuit_diagram_info)\u001b[0m\n\u001b[1;32m   1247\u001b[0m     diagram\u001b[38;5;241m.\u001b[39mwrite(\u001b[38;5;241m0\u001b[39m, i, name)\n\u001b[1;32m   1248\u001b[0m first_annotation_row \u001b[38;5;241m=\u001b[39m \u001b[38;5;28mmax\u001b[39m(label_map\u001b[38;5;241m.\u001b[39mvalues(), default\u001b[38;5;241m=\u001b[39m\u001b[38;5;241m0\u001b[39m) \u001b[38;5;241m+\u001b[39m \u001b[38;5;241m1\u001b[39m\n\u001b[0;32m-> 1250\u001b[0m \u001b[38;5;28;01mif\u001b[39;00m \u001b[38;5;28;43many\u001b[39;49m\u001b[43m(\u001b[49m\u001b[38;5;28;43misinstance\u001b[39;49m\u001b[43m(\u001b[49m\u001b[43mop\u001b[49m\u001b[38;5;241;43m.\u001b[39;49m\u001b[43mgate\u001b[49m\u001b[43m,\u001b[49m\u001b[43m \u001b[49m\u001b[43mcirq\u001b[49m\u001b[38;5;241;43m.\u001b[39;49m\u001b[43mGlobalPhaseGate\u001b[49m\u001b[43m)\u001b[49m\u001b[43m \u001b[49m\u001b[38;5;28;43;01mfor\u001b[39;49;00m\u001b[43m \u001b[49m\u001b[43mop\u001b[49m\u001b[43m \u001b[49m\u001b[38;5;129;43;01min\u001b[39;49;00m\u001b[43m \u001b[49m\u001b[38;5;28;43mself\u001b[39;49m\u001b[38;5;241;43m.\u001b[39;49m\u001b[43mall_operations\u001b[49m\u001b[43m(\u001b[49m\u001b[43m)\u001b[49m\u001b[43m)\u001b[49m:\n\u001b[1;32m   1251\u001b[0m     diagram\u001b[38;5;241m.\u001b[39mwrite(\u001b[38;5;241m0\u001b[39m, \u001b[38;5;28mmax\u001b[39m(label_map\u001b[38;5;241m.\u001b[39mvalues(), default\u001b[38;5;241m=\u001b[39m\u001b[38;5;241m0\u001b[39m) \u001b[38;5;241m+\u001b[39m \u001b[38;5;241m1\u001b[39m, \u001b[38;5;124m'\u001b[39m\u001b[38;5;124mglobal phase:\u001b[39m\u001b[38;5;124m'\u001b[39m)\n\u001b[1;32m   1252\u001b[0m     first_annotation_row \u001b[38;5;241m+\u001b[39m\u001b[38;5;241m=\u001b[39m \u001b[38;5;241m1\u001b[39m\n",
      "File \u001b[0;32m~/opt/miniconda3/lib/python3.8/site-packages/cirq/circuits/circuit.py:1250\u001b[0m, in \u001b[0;36m<genexpr>\u001b[0;34m(.0)\u001b[0m\n\u001b[1;32m   1247\u001b[0m     diagram\u001b[38;5;241m.\u001b[39mwrite(\u001b[38;5;241m0\u001b[39m, i, name)\n\u001b[1;32m   1248\u001b[0m first_annotation_row \u001b[38;5;241m=\u001b[39m \u001b[38;5;28mmax\u001b[39m(label_map\u001b[38;5;241m.\u001b[39mvalues(), default\u001b[38;5;241m=\u001b[39m\u001b[38;5;241m0\u001b[39m) \u001b[38;5;241m+\u001b[39m \u001b[38;5;241m1\u001b[39m\n\u001b[0;32m-> 1250\u001b[0m \u001b[38;5;28;01mif\u001b[39;00m \u001b[38;5;28many\u001b[39m(\u001b[38;5;28misinstance\u001b[39m(op\u001b[38;5;241m.\u001b[39mgate, \u001b[43mcirq\u001b[49m\u001b[38;5;241;43m.\u001b[39;49m\u001b[43mGlobalPhaseGate\u001b[49m) \u001b[38;5;28;01mfor\u001b[39;00m op \u001b[38;5;129;01min\u001b[39;00m \u001b[38;5;28mself\u001b[39m\u001b[38;5;241m.\u001b[39mall_operations()):\n\u001b[1;32m   1251\u001b[0m     diagram\u001b[38;5;241m.\u001b[39mwrite(\u001b[38;5;241m0\u001b[39m, \u001b[38;5;28mmax\u001b[39m(label_map\u001b[38;5;241m.\u001b[39mvalues(), default\u001b[38;5;241m=\u001b[39m\u001b[38;5;241m0\u001b[39m) \u001b[38;5;241m+\u001b[39m \u001b[38;5;241m1\u001b[39m, \u001b[38;5;124m'\u001b[39m\u001b[38;5;124mglobal phase:\u001b[39m\u001b[38;5;124m'\u001b[39m)\n\u001b[1;32m   1252\u001b[0m     first_annotation_row \u001b[38;5;241m+\u001b[39m\u001b[38;5;241m=\u001b[39m \u001b[38;5;241m1\u001b[39m\n",
      "\u001b[0;31mAttributeError\u001b[0m: module 'cirq' has no attribute 'GlobalPhaseGate'"
     ]
    }
   ],
   "source": [
    "# mapped circuit\n",
    "print('mapped circuit:', mapped_circ)\n",
    "print('init_mapping:', init_mapping)\n",
    "print('final_mapping:', final_mapping)\n",
    "mapped_circ.to_cirq()\n"
   ]
  },
  {
   "cell_type": "code",
   "execution_count": null,
   "metadata": {},
   "outputs": [],
   "source": [
    "# mapped circuit\n",
    "print('mapped circuit:', mapped_circ)\n",
    "print('init_mapping:', init_mapping)\n",
    "print('final_mapping:', final_mapping)\n",
    "mapped_circ.to_cirq()\n"
   ]
  },
  {
   "cell_type": "code",
   "execution_count": 46,
   "metadata": {
    "ExecuteTime": {
     "end_time": "2023-09-04T01:41:53.820860Z",
     "start_time": "2023-09-04T01:41:53.792155Z"
    },
    "collapsed": false
   },
   "outputs": [
    {
     "data": {
      "text/plain": [
       "True"
      ]
     },
     "execution_count": 46,
     "metadata": {},
     "output_type": "execute_result"
    }
   ],
   "source": [
    "# verify the mapped circuit\n",
    "arch.verify_mapped_circuit(circ, mapped_circ, init_mapping, final_mapping)\n"
   ]
  },
  {
   "cell_type": "markdown",
   "metadata": {
    "collapsed": false
   },
   "source": [
    "### Detailed demo\n",
    "\n",
    "Herein we can see the detailed process of the one pass of SABRE routing algorithm."
   ]
  },
  {
   "cell_type": "code",
   "execution_count": 4,
   "metadata": {
    "ExecuteTime": {
     "end_time": "2023-09-04T01:27:11.528081Z",
     "start_time": "2023-09-04T01:27:11.526026Z"
    },
    "collapsed": false
   },
   "outputs": [
    {
     "name": "stdout",
     "output_type": "stream",
     "text": [
      "dag nodes: [0, 1, 2, 3, 4, 5, 6, 7, 8, 9, 10, 11, 12, 13, 14]\n",
      "--------------------------------------------------\n",
      "logical_qubits: [0, 1, 2, 3, 4, 5]\n",
      "physical_qubits: [0, 1, 2, 3, 4, 5, 6]\n",
      "initial_mapping: {0: 0, 1: 1, 2: 2, 3: 3, 4: 4, 5: 5}\n",
      "final_mapping: {0: 1, 1: 2, 2: 0, 3: 3, 4: 5, 5: 4}\n"
     ]
    }
   ],
   "source": [
    "circ_with_swaps, mappings = heuristic.sabre_search_one_pass(circ, device, return_circ_with_swaps=True, gene_init_mapping_type='trivial')\n"
   ]
  },
  {
   "cell_type": "code",
   "execution_count": 5,
   "metadata": {
    "ExecuteTime": {
     "end_time": "2023-09-04T01:27:18.559612Z",
     "start_time": "2023-09-04T01:27:18.118212Z"
    },
    "collapsed": false
   },
   "outputs": [
    {
     "data": {
      "text/html": [
       "<pre style=\"word-wrap: normal;white-space: pre;background: #fff0;line-height: 1.1;font-family: &quot;Courier New&quot;,Courier,monospace\">     ┌───┐┌───┐                         ┌───┐\n",
       "q_0: ┤ H ├┤ Z ├──■──────────────────────┤ X ├\n",
       "     └───┘└───┘┌─┴─┐                    └─┬─┘\n",
       "q_1: ───────■──┤ X ├───────■──────────────┼──\n",
       "     ┌───┐┌─┴─┐└───┘┌───┐┌─┴─┐            │  \n",
       "q_2: ┤ H ├┤ X ├──■──┤ H ├┤ X ├────────────┼──\n",
       "     └───┘└───┘┌─┴─┐├───┤└───┘┌───┐┌───┐  │  \n",
       "q_3: ──────────┤ X ├┤ H ├──■──┤ Z ├┤ X ├──■──\n",
       "               └───┘└───┘  │  └───┘└─┬─┘     \n",
       "q_4: ───────■──────────────┼─────────■───────\n",
       "     ┌───┐┌─┴─┐          ┌─┴─┐               \n",
       "q_5: ┤ H ├┤ X ├──────────┤ X ├───────────────\n",
       "     └───┘└───┘          └───┘               </pre>"
      ],
      "text/plain": [
       "     ┌───┐┌───┐                         ┌───┐\n",
       "q_0: ┤ H ├┤ Z ├──■──────────────────────┤ X ├\n",
       "     └───┘└───┘┌─┴─┐                    └─┬─┘\n",
       "q_1: ───────■──┤ X ├───────■──────────────┼──\n",
       "     ┌───┐┌─┴─┐└───┘┌───┐┌─┴─┐            │  \n",
       "q_2: ┤ H ├┤ X ├──■──┤ H ├┤ X ├────────────┼──\n",
       "     └───┘└───┘┌─┴─┐├───┤└───┘┌───┐┌───┐  │  \n",
       "q_3: ──────────┤ X ├┤ H ├──■──┤ Z ├┤ X ├──■──\n",
       "               └───┘└───┘  │  └───┘└─┬─┘     \n",
       "q_4: ───────■──────────────┼─────────■───────\n",
       "     ┌───┐┌─┴─┐          ┌─┴─┐               \n",
       "q_5: ┤ H ├┤ X ├──────────┤ X ├───────────────\n",
       "     └───┘└───┘          └───┘               "
      ]
     },
     "execution_count": 5,
     "metadata": {},
     "output_type": "execute_result"
    }
   ],
   "source": [
    "# original circuit\n",
    "circ.to_qiskit().draw()\n"
   ]
  },
  {
   "cell_type": "code",
   "execution_count": 6,
   "metadata": {
    "ExecuteTime": {
     "end_time": "2023-09-04T01:27:19.202207Z",
     "start_time": "2023-09-04T01:27:19.155738Z"
    },
    "collapsed": false
   },
   "outputs": [
    {
     "data": {
      "text/html": [
       "<pre style=\"word-wrap: normal;white-space: pre;background: #fff0;line-height: 1.1;font-family: &quot;Courier New&quot;,Courier,monospace\">     ┌───┐┌───┐                                 ┌───┐\n",
       "q_0: ┤ H ├┤ Z ├──■──────────────────────X───────┤ X ├\n",
       "     └───┘└───┘┌─┴─┐                    │       └─┬─┘\n",
       "q_1: ───────■──┤ X ├─X─────────────■────┼─────────┼──\n",
       "     ┌───┐┌─┴─┐└───┘ │      ┌───┐┌─┴─┐  │         │  \n",
       "q_2: ┤ H ├┤ X ├──────X───■──┤ H ├┤ X ├──X─────────┼──\n",
       "     └───┘└───┘        ┌─┴─┐├───┤└───┘┌───┐┌───┐  │  \n",
       "q_3: ──────────────────┤ X ├┤ H ├──■──┤ Z ├┤ X ├──■──\n",
       "                       └───┘└───┘  │  └───┘└─┬─┘     \n",
       "q_4: ───────■──────────────────────┼────X────■───────\n",
       "     ┌───┐┌─┴─┐                  ┌─┴─┐  │            \n",
       "q_5: ┤ H ├┤ X ├──────────────────┤ X ├──X────────────\n",
       "     └───┘└───┘                  └───┘               </pre>"
      ],
      "text/plain": [
       "     ┌───┐┌───┐                                 ┌───┐\n",
       "q_0: ┤ H ├┤ Z ├──■──────────────────────X───────┤ X ├\n",
       "     └───┘└───┘┌─┴─┐                    │       └─┬─┘\n",
       "q_1: ───────■──┤ X ├─X─────────────■────┼─────────┼──\n",
       "     ┌───┐┌─┴─┐└───┘ │      ┌───┐┌─┴─┐  │         │  \n",
       "q_2: ┤ H ├┤ X ├──────X───■──┤ H ├┤ X ├──X─────────┼──\n",
       "     └───┘└───┘        ┌─┴─┐├───┤└───┘┌───┐┌───┐  │  \n",
       "q_3: ──────────────────┤ X ├┤ H ├──■──┤ Z ├┤ X ├──■──\n",
       "                       └───┘└───┘  │  └───┘└─┬─┘     \n",
       "q_4: ───────■──────────────────────┼────X────■───────\n",
       "     ┌───┐┌─┴─┐                  ┌─┴─┐  │            \n",
       "q_5: ┤ H ├┤ X ├──────────────────┤ X ├──X────────────\n",
       "     └───┘└───┘                  └───┘               "
      ]
     },
     "execution_count": 6,
     "metadata": {},
     "output_type": "execute_result"
    }
   ],
   "source": [
    "# circuit with inserted swaps\n",
    "circ_with_swaps.to_qiskit().draw()\n"
   ]
  },
  {
   "cell_type": "markdown",
   "metadata": {
    "collapsed": false
   },
   "source": [
    "As we can see, there are 3 SWAP gates inserted, so the result maintains 4 intermediate mappings (the first one is the initial mapping; the last one is the final mapping). \n",
    "\n",
    "We can unify such a circuit to generate a circuit with only the initial and final mappings, i.e., all the inner intermediate mappings hold the same, which will be more convenient for execution analysis and execution on hardware."
   ]
  },
  {
   "cell_type": "code",
   "execution_count": 8,
   "metadata": {
    "ExecuteTime": {
     "end_time": "2023-09-04T01:31:11.881530Z",
     "start_time": "2023-09-04T01:31:11.879127Z"
    },
    "collapsed": false
   },
   "outputs": [
    {
     "data": {
      "text/plain": [
       "[{0: 0, 1: 1, 2: 2, 3: 3, 4: 4, 5: 5},\n",
       " {0: 0, 1: 2, 2: 1, 3: 3, 4: 4, 5: 5},\n",
       " {0: 0, 1: 2, 2: 1, 3: 3, 4: 5, 5: 4},\n",
       " {0: 1, 1: 2, 2: 0, 3: 3, 4: 5, 5: 4}]"
      ]
     },
     "execution_count": 8,
     "metadata": {},
     "output_type": "execute_result"
    }
   ],
   "source": [
    "mappings\n"
   ]
  },
  {
   "cell_type": "code",
   "execution_count": 13,
   "metadata": {
    "ExecuteTime": {
     "end_time": "2023-09-04T01:32:36.011520Z",
     "start_time": "2023-09-04T01:32:35.968308Z"
    },
    "collapsed": false
   },
   "outputs": [
    {
     "data": {
      "text/html": [
       "<pre style=\"word-wrap: normal;white-space: pre;background: #fff0;line-height: 1.1;font-family: &quot;Courier New&quot;,Courier,monospace\">     ┌───┐┌───┐                                   ┌───┐     ┌───┐          \n",
       "q_0: ┤ H ├┤ Z ├──■────────────────────────────────┤ X ├──■──┤ X ├──────────\n",
       "     └───┘└───┘┌─┴─┐     ┌───┐          ┌───┐┌───┐└─┬─┘┌─┴─┐└─┬─┘     ┌───┐\n",
       "q_1: ───────■──┤ X ├──■──┤ X ├──■────■──┤ H ├┤ X ├──■──┤ X ├──■───────┤ X ├\n",
       "     ┌───┐┌─┴─┐└───┘┌─┴─┐└─┬─┘┌─┴─┐  │  └───┘└─┬─┘     └───┘          └─┬─┘\n",
       "q_2: ┤ H ├┤ X ├─────┤ X ├──■──┤ X ├──┼─────────■────────────────────────┼──\n",
       "     └───┘└───┘     └───┘     └───┘┌─┴─┐┌───┐     ┌───┐          ┌───┐  │  \n",
       "q_3: ──────────────────────────────┤ X ├┤ H ├──■──┤ Z ├──────────┤ X ├──■──\n",
       "                                   └───┘└───┘  │  ├───┤     ┌───┐└─┬─┘     \n",
       "q_4: ───────■──────────────────────────────────┼──┤ X ├──■──┤ X ├──┼───────\n",
       "     ┌───┐┌─┴─┐                              ┌─┴─┐└─┬─┘┌─┴─┐└─┬─┘  │       \n",
       "q_5: ┤ H ├┤ X ├──────────────────────────────┤ X ├──■──┤ X ├──■────■───────\n",
       "     └───┘└───┘                              └───┘     └───┘               </pre>"
      ],
      "text/plain": [
       "     ┌───┐┌───┐                                   ┌───┐     ┌───┐          \n",
       "q_0: ┤ H ├┤ Z ├──■────────────────────────────────┤ X ├──■──┤ X ├──────────\n",
       "     └───┘└───┘┌─┴─┐     ┌───┐          ┌───┐┌───┐└─┬─┘┌─┴─┐└─┬─┘     ┌───┐\n",
       "q_1: ───────■──┤ X ├──■──┤ X ├──■────■──┤ H ├┤ X ├──■──┤ X ├──■───────┤ X ├\n",
       "     ┌───┐┌─┴─┐└───┘┌─┴─┐└─┬─┘┌─┴─┐  │  └───┘└─┬─┘     └───┘          └─┬─┘\n",
       "q_2: ┤ H ├┤ X ├─────┤ X ├──■──┤ X ├──┼─────────■────────────────────────┼──\n",
       "     └───┘└───┘     └───┘     └───┘┌─┴─┐┌───┐     ┌───┐          ┌───┐  │  \n",
       "q_3: ──────────────────────────────┤ X ├┤ H ├──■──┤ Z ├──────────┤ X ├──■──\n",
       "                                   └───┘└───┘  │  ├───┤     ┌───┐└─┬─┘     \n",
       "q_4: ───────■──────────────────────────────────┼──┤ X ├──■──┤ X ├──┼───────\n",
       "     ┌───┐┌─┴─┐                              ┌─┴─┐└─┬─┘┌─┴─┐└─┬─┘  │       \n",
       "q_5: ┤ H ├┤ X ├──────────────────────────────┤ X ├──■──┤ X ├──■────■───────\n",
       "     └───┘└───┘                              └───┘     └───┘               "
      ]
     },
     "execution_count": 13,
     "metadata": {},
     "output_type": "execute_result"
    }
   ],
   "source": [
    "# mapped circuit with only init_mapping and final_mapping\n",
    "init_mapping, final_mapping = mappings[0], mappings[-1]\n",
    "mapped_circ = arch.unify_mapped_circuit(circ_with_swaps, mappings)\n",
    "mapped_circ.to_qiskit().draw()\n"
   ]
  },
  {
   "cell_type": "markdown",
   "metadata": {
    "collapsed": false
   },
   "source": [
    "Then let us see whether the `mapped_circ` is unitary equivalent to the original circuit `circ`."
   ]
  },
  {
   "cell_type": "code",
   "execution_count": 12,
   "metadata": {
    "ExecuteTime": {
     "end_time": "2023-09-04T01:32:27.132893Z",
     "start_time": "2023-09-04T01:32:27.109188Z"
    }
   },
   "outputs": [
    {
     "data": {
      "text/plain": [
       "True"
      ]
     },
     "execution_count": 12,
     "metadata": {},
     "output_type": "execute_result"
    }
   ],
   "source": [
    "arch.verify_mapped_circuit(circ, mapped_circ, init_mapping, final_mapping)\n"
   ]
  },
  {
   "cell_type": "code",
   "execution_count": 13,
   "metadata": {
    "ExecuteTime": {
     "end_time": "2023-09-04T01:32:48.198269Z",
     "start_time": "2023-09-04T01:32:48.186389Z"
    }
   },
   "outputs": [],
   "source": []
  },
  {
   "cell_type": "code",
   "execution_count": 13,
   "metadata": {
    "ExecuteTime": {
     "end_time": "2023-09-04T01:32:48.341093Z",
     "start_time": "2023-09-04T01:32:48.334987Z"
    },
    "collapsed": false
   },
   "outputs": [],
   "source": []
  },
  {
   "cell_type": "code",
   "execution_count": 13,
   "metadata": {
    "ExecuteTime": {
     "end_time": "2023-09-04T01:32:48.478295Z",
     "start_time": "2023-09-04T01:32:48.472515Z"
    },
    "collapsed": false
   },
   "outputs": [],
   "source": []
  },
  {
   "cell_type": "code",
   "execution_count": 13,
   "metadata": {
    "ExecuteTime": {
     "end_time": "2023-09-04T01:32:48.577393Z",
     "start_time": "2023-09-04T01:32:48.570249Z"
    },
    "collapsed": false
   },
   "outputs": [],
   "source": []
  },
  {
   "cell_type": "code",
   "execution_count": 13,
   "metadata": {
    "ExecuteTime": {
     "end_time": "2023-09-04T01:32:48.748536Z",
     "start_time": "2023-09-04T01:32:48.741300Z"
    },
    "collapsed": false
   },
   "outputs": [],
   "source": []
  },
  {
   "cell_type": "code",
   "execution_count": 13,
   "metadata": {
    "ExecuteTime": {
     "end_time": "2023-09-04T01:32:48.888844Z",
     "start_time": "2023-09-04T01:32:48.880716Z"
    },
    "collapsed": false
   },
   "outputs": [],
   "source": []
  },
  {
   "cell_type": "code",
   "execution_count": 13,
   "metadata": {
    "ExecuteTime": {
     "end_time": "2023-09-04T01:32:49.014443Z",
     "start_time": "2023-09-04T01:32:49.006689Z"
    },
    "collapsed": false
   },
   "outputs": [],
   "source": []
  },
  {
   "cell_type": "code",
   "execution_count": null,
   "metadata": {
    "collapsed": false
   },
   "outputs": [],
   "source": []
  }
 ],
 "metadata": {
  "kernelspec": {
   "display_name": "base",
   "language": "python",
   "name": "python3"
  },
  "language_info": {
   "codemirror_mode": {
    "name": "ipython",
    "version": 3
   },
   "file_extension": ".py",
   "mimetype": "text/x-python",
   "name": "python",
   "nbconvert_exporter": "python",
   "pygments_lexer": "ipython3",
   "version": "3.8.18"
  },
  "orig_nbformat": 4
 },
 "nbformat": 4,
 "nbformat_minor": 2
}
