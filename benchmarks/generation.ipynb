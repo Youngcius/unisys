{
 "cells": [
  {
   "cell_type": "code",
   "execution_count": 3,
   "metadata": {},
   "outputs": [],
   "source": [
    "import qiskit\n",
    "import cirq\n",
    "from qiskit import QuantumCircuit\n",
    "from qiskit.compiler import transpile\n",
    "from qiskit.transpiler import PassManager, CouplingMap\n",
    "from qiskit.transpiler import passes\n",
    "from qiskit.circuit import library\n",
    "from qiskit import algorithms\n",
    "from qiskit.circuit import random\n",
    "import numpy as np\n",
    "import matplotlib.pyplot as plt\n",
    "import networkx as nx\n"
   ]
  },
  {
   "cell_type": "markdown",
   "metadata": {},
   "source": [
    "**Generate and analyze some circuit instances**"
   ]
  },
  {
   "cell_type": "code",
   "execution_count": 2,
   "metadata": {},
   "outputs": [
    {
     "data": {
      "text/html": [
       "<pre style=\"word-wrap: normal;white-space: pre;background: #fff0;line-height: 1.1;font-family: &quot;Courier New&quot;,Courier,monospace\">                                                       ┌───┐      \n",
       "q_0: ───────────────────■─────────────────────■────■───┤ T ├───■──\n",
       "                        │             ┌───┐   │  ┌─┴─┐┌┴───┴┐┌─┴─┐\n",
       "q_1: ───────■───────────┼─────────■───┤ T ├───┼──┤ X ├┤ Tdg ├┤ X ├\n",
       "     ┌───┐┌─┴─┐┌─────┐┌─┴─┐┌───┐┌─┴─┐┌┴───┴┐┌─┴─┐├───┤└┬───┬┘└───┘\n",
       "q_2: ┤ H ├┤ X ├┤ Tdg ├┤ X ├┤ T ├┤ X ├┤ Tdg ├┤ X ├┤ T ├─┤ H ├──────\n",
       "     └───┘└───┘└─────┘└───┘└───┘└───┘└─────┘└───┘└───┘ └───┘      </pre>"
      ],
      "text/plain": [
       "                                                       ┌───┐      \n",
       "q_0: ───────────────────■─────────────────────■────■───┤ T ├───■──\n",
       "                        │             ┌───┐   │  ┌─┴─┐┌┴───┴┐┌─┴─┐\n",
       "q_1: ───────■───────────┼─────────■───┤ T ├───┼──┤ X ├┤ Tdg ├┤ X ├\n",
       "     ┌───┐┌─┴─┐┌─────┐┌─┴─┐┌───┐┌─┴─┐┌┴───┴┐┌─┴─┐├───┤└┬───┬┘└───┘\n",
       "q_2: ┤ H ├┤ X ├┤ Tdg ├┤ X ├┤ T ├┤ X ├┤ Tdg ├┤ X ├┤ T ├─┤ H ├──────\n",
       "     └───┘└───┘└─────┘└───┘└───┘└───┘└─────┘└───┘└───┘ └───┘      "
      ]
     },
     "execution_count": 2,
     "metadata": {},
     "output_type": "execute_result"
    }
   ],
   "source": [
    "################################################\n",
    "# Original CCX gate\n",
    "################################################\n",
    "qc = QuantumCircuit(3)\n",
    "qc.toffoli(0, 1, 2)\n",
    "qc = qc.decompose()\n",
    "qc.draw()\n",
    "# qc.qasm(filename='./demos/ccx.qasm')\n",
    "# qc.qasm(filename='./buildingblocks/ccx.qasm')\n"
   ]
  },
  {
   "cell_type": "code",
   "execution_count": 3,
   "metadata": {},
   "outputs": [
    {
     "data": {
      "text/html": [
       "<pre style=\"word-wrap: normal;white-space: pre;background: #fff0;line-height: 1.1;font-family: &quot;Courier New&quot;,Courier,monospace\">                      ┌───┐                                    ┌───┐           »\n",
       "q_0: ─────────────■───┤ X ├──■─────────────────────────────■───┤ T ├───────────»\n",
       "                ┌─┴─┐ └─┬─┘┌─┴─┐               ┌───┐     ┌─┴─┐┌┴───┴┐┌───┐┌───┐»\n",
       "q_1: ───────■───┤ X ├───■──┤ X ├──■─────────■──┤ X ├──■──┤ X ├┤ Tdg ├┤ X ├┤ T ├»\n",
       "     ┌───┐┌─┴─┐┌┴───┴┐     └───┘┌─┴─┐┌───┐┌─┴─┐└─┬─┘┌─┴─┐└───┘└─────┘└─┬─┘└───┘»\n",
       "q_2: ┤ H ├┤ X ├┤ Tdg ├──────────┤ X ├┤ T ├┤ X ├──■──┤ X ├──────────────■───────»\n",
       "     └───┘└───┘└─────┘          └───┘└───┘└───┘     └───┘                      »\n",
       "«               ┌───┐                      \n",
       "«q_0: ───────■──┤ X ├──■───────────────────\n",
       "«     ┌───┐┌─┴─┐└─┬─┘┌─┴─┐┌───┐┌─────┐┌───┐\n",
       "«q_1: ┤ H ├┤ X ├──■──┤ X ├┤ X ├┤ Tdg ├┤ X ├\n",
       "«     └───┘└───┘     └───┘└─┬─┘└┬───┬┘└─┬─┘\n",
       "«q_2: ──────────────────────■───┤ T ├───■──\n",
       "«                               └───┘      </pre>"
      ],
      "text/plain": [
       "                      ┌───┐                                    ┌───┐           »\n",
       "q_0: ─────────────■───┤ X ├──■─────────────────────────────■───┤ T ├───────────»\n",
       "                ┌─┴─┐ └─┬─┘┌─┴─┐               ┌───┐     ┌─┴─┐┌┴───┴┐┌───┐┌───┐»\n",
       "q_1: ───────■───┤ X ├───■──┤ X ├──■─────────■──┤ X ├──■──┤ X ├┤ Tdg ├┤ X ├┤ T ├»\n",
       "     ┌───┐┌─┴─┐┌┴───┴┐     └───┘┌─┴─┐┌───┐┌─┴─┐└─┬─┘┌─┴─┐└───┘└─────┘└─┬─┘└───┘»\n",
       "q_2: ┤ H ├┤ X ├┤ Tdg ├──────────┤ X ├┤ T ├┤ X ├──■──┤ X ├──────────────■───────»\n",
       "     └───┘└───┘└─────┘          └───┘└───┘└───┘     └───┘                      »\n",
       "«               ┌───┐                      \n",
       "«q_0: ───────■──┤ X ├──■───────────────────\n",
       "«     ┌───┐┌─┴─┐└─┬─┘┌─┴─┐┌───┐┌─────┐┌───┐\n",
       "«q_1: ┤ H ├┤ X ├──■──┤ X ├┤ X ├┤ Tdg ├┤ X ├\n",
       "«     └───┘└───┘     └───┘└─┬─┘└┬───┬┘└─┬─┘\n",
       "«q_2: ──────────────────────■───┤ T ├───■──\n",
       "«                               └───┘      "
      ]
     },
     "execution_count": 3,
     "metadata": {},
     "output_type": "execute_result"
    }
   ],
   "source": [
    "################################################\n",
    "# CCX(0,1,2) with linear connectivity\n",
    "################################################\n",
    "connectivity = [[0, 1], [1, 2]]\n",
    "qc = QuantumCircuit(3)\n",
    "qc.ccx(0, 1, 2)\n",
    "manager = PassManager([\n",
    "    passes.Unroller(['h', 's', 't', 'sdg', 'tdg', 'cx']),\n",
    "    passes.SabreSwap(CouplingMap(connectivity)),\n",
    "    passes.Unroller(['h', 's', 't', 'sdg', 'tdg', 'cx']),\n",
    "])\n",
    "qc = manager.run(qc)\n",
    "qc.draw()\n",
    "# qc.qasm(filename='./demos/ccx012.qasm')\n"
   ]
  },
  {
   "cell_type": "code",
   "execution_count": 4,
   "metadata": {},
   "outputs": [
    {
     "data": {
      "text/html": [
       "<pre style=\"word-wrap: normal;white-space: pre;background: #fff0;line-height: 1.1;font-family: &quot;Courier New&quot;,Courier,monospace\">                                                                ┌───┐          »\n",
       "q_0: ───────────────────■─────────────────────■──────────────■──┤ X ├──■───────»\n",
       "     ┌───┐┌───┐┌─────┐┌─┴─┐┌───┐┌───┐┌─────┐┌─┴─┐┌───┐┌───┐┌─┴─┐└─┬─┘┌─┴─┐     »\n",
       "q_1: ┤ H ├┤ X ├┤ Tdg ├┤ X ├┤ T ├┤ X ├┤ Tdg ├┤ X ├┤ T ├┤ H ├┤ X ├──■──┤ X ├──■──»\n",
       "     └───┘└─┬─┘└─────┘└───┘└───┘└─┬─┘└┬───┬┘└───┘└───┘└───┘└───┘     └───┘┌─┴─┐»\n",
       "q_2: ───────■─────────────────────■───┤ T ├───────────────────────────────┤ X ├»\n",
       "                                      └───┘                               └───┘»\n",
       "«                 \n",
       "«q_0: ────────────\n",
       "«      ┌───┐      \n",
       "«q_1: ─┤ T ├───■──\n",
       "«     ┌┴───┴┐┌─┴─┐\n",
       "«q_2: ┤ Tdg ├┤ X ├\n",
       "«     └─────┘└───┘</pre>"
      ],
      "text/plain": [
       "                                                                ┌───┐          »\n",
       "q_0: ───────────────────■─────────────────────■──────────────■──┤ X ├──■───────»\n",
       "     ┌───┐┌───┐┌─────┐┌─┴─┐┌───┐┌───┐┌─────┐┌─┴─┐┌───┐┌───┐┌─┴─┐└─┬─┘┌─┴─┐     »\n",
       "q_1: ┤ H ├┤ X ├┤ Tdg ├┤ X ├┤ T ├┤ X ├┤ Tdg ├┤ X ├┤ T ├┤ H ├┤ X ├──■──┤ X ├──■──»\n",
       "     └───┘└─┬─┘└─────┘└───┘└───┘└─┬─┘└┬───┬┘└───┘└───┘└───┘└───┘     └───┘┌─┴─┐»\n",
       "q_2: ───────■─────────────────────■───┤ T ├───────────────────────────────┤ X ├»\n",
       "                                      └───┘                               └───┘»\n",
       "«                 \n",
       "«q_0: ────────────\n",
       "«      ┌───┐      \n",
       "«q_1: ─┤ T ├───■──\n",
       "«     ┌┴───┴┐┌─┴─┐\n",
       "«q_2: ┤ Tdg ├┤ X ├\n",
       "«     └─────┘└───┘"
      ]
     },
     "execution_count": 4,
     "metadata": {},
     "output_type": "execute_result"
    }
   ],
   "source": [
    "################################################\n",
    "# CCX(0,2,1) with linear connectivity\n",
    "################################################\n",
    "connectivity = [[0, 1], [1, 2]]\n",
    "qc = QuantumCircuit(3)\n",
    "qc.ccx(0, 2, 1)\n",
    "manager = PassManager([\n",
    "    passes.Unroller(['h', 's', 't', 'sdg', 'tdg', 'cx']),\n",
    "    passes.SabreSwap(CouplingMap(connectivity)),\n",
    "    passes.Unroller(['h', 's', 't', 'sdg', 'tdg', 'cx']),\n",
    "])\n",
    "qc = manager.run(qc)\n",
    "qc.draw()\n",
    "# qc.qasm(filename='./demos/ccx021.qasm')\n"
   ]
  },
  {
   "cell_type": "code",
   "execution_count": 5,
   "metadata": {},
   "outputs": [
    {
     "data": {
      "text/html": [
       "<pre style=\"word-wrap: normal;white-space: pre;background: #fff0;line-height: 1.1;font-family: &quot;Courier New&quot;,Courier,monospace\">                                                            ┌───┐           \n",
       "q_0: ────────────────────────■─────────────────────■────■───┤ T ├───■───────\n",
       "     ┌───┐                   │             ┌───┐   │  ┌─┴─┐┌┴───┴┐┌─┴─┐┌───┐\n",
       "q_1: ┤ X ├───────■───────────┼─────────■───┤ T ├───┼──┤ X ├┤ Tdg ├┤ X ├┤ X ├\n",
       "     └─┬─┘┌───┐┌─┴─┐┌─────┐┌─┴─┐┌───┐┌─┴─┐┌┴───┴┐┌─┴─┐├───┤└┬───┬┘└───┘└─┬─┘\n",
       "q_2: ──■──┤ H ├┤ X ├┤ Tdg ├┤ X ├┤ T ├┤ X ├┤ Tdg ├┤ X ├┤ T ├─┤ H ├────────■──\n",
       "          └───┘└───┘└─────┘└───┘└───┘└───┘└─────┘└───┘└───┘ └───┘           </pre>"
      ],
      "text/plain": [
       "                                                            ┌───┐           \n",
       "q_0: ────────────────────────■─────────────────────■────■───┤ T ├───■───────\n",
       "     ┌───┐                   │             ┌───┐   │  ┌─┴─┐┌┴───┴┐┌─┴─┐┌───┐\n",
       "q_1: ┤ X ├───────■───────────┼─────────■───┤ T ├───┼──┤ X ├┤ Tdg ├┤ X ├┤ X ├\n",
       "     └─┬─┘┌───┐┌─┴─┐┌─────┐┌─┴─┐┌───┐┌─┴─┐┌┴───┴┐┌─┴─┐├───┤└┬───┬┘└───┘└─┬─┘\n",
       "q_2: ──■──┤ H ├┤ X ├┤ Tdg ├┤ X ├┤ T ├┤ X ├┤ Tdg ├┤ X ├┤ T ├─┤ H ├────────■──\n",
       "          └───┘└───┘└─────┘└───┘└───┘└───┘└─────┘└───┘└───┘ └───┘           "
      ]
     },
     "execution_count": 5,
     "metadata": {},
     "output_type": "execute_result"
    }
   ],
   "source": [
    "################################################\n",
    "# CSWAP\n",
    "################################################\n",
    "qc = QuantumCircuit(3)\n",
    "qc.cswap(0, 1, 2)\n",
    "qc = qc.decompose().decompose()\n",
    "qc.draw()\n",
    "# qc.qasm(filename='./buildingblocks/cswap.qasm')\n"
   ]
  },
  {
   "cell_type": "code",
   "execution_count": 18,
   "metadata": {},
   "outputs": [
    {
     "data": {
      "image/png": "[encoded data removed]",
      "text/plain": [
       "<Figure size 1708.89x367.889 with 1 Axes>"
      ]
     },
     "execution_count": 18,
     "metadata": {},
     "output_type": "execute_result"
    }
   ],
   "source": [
    "################################################\n",
    "# random circuit (n=4)\n",
    "################################################\n",
    "qc = random.random_circuit(4, depth=8, max_operands=2, seed=123)\n",
    "manager = PassManager([\n",
    "    passes.Unroller(['id', 'u3', 'cx']),\n",
    "    passes.Optimize1qGates(),\n",
    "])\n",
    "qc = manager.run(qc)\n",
    "qc.decompose('swap').draw('mpl')\n",
    "# qc.qasm(filename='./demos/rand4.qasm')\n"
   ]
  },
  {
   "cell_type": "code",
   "execution_count": 17,
   "metadata": {},
   "outputs": [
    {
     "name": "stdout",
     "output_type": "stream",
     "text": [
      "OPENQASM 2.0;\n",
      "include \"qelib1.inc\";\n",
      "qreg q[4];\n",
      "rx(5.8015477) q[0];\n",
      "ry(1.1584423) q[1];\n",
      "y q[2];\n",
      "cx q[0],q[2];\n",
      "tdg q[0];\n",
      "sdg q[2];\n",
      "swap q[2],q[0];\n",
      "s q[0];\n",
      "z q[0];\n",
      "u1(5.7717371) q[2];\n",
      "y q[3];\n",
      "swap q[1],q[3];\n",
      "rx(1.3431123) q[1];\n",
      "z q[3];\n",
      "cy q[1],q[3];\n",
      "u3(1.769979,6.3437615,2.137258) q[1];\n",
      "crz(3.664595) q[0],q[1];\n",
      "t q[0];\n",
      "id q[1];\n",
      "h q[3];\n",
      "rzz(5.4330091) q[2],q[3];\n",
      "h q[2];\n",
      "t q[2];\n",
      "u1(1.49481) q[3];\n",
      "z q[3];\n",
      "\n"
     ]
    }
   ],
   "source": [
    "print(qc.qasm())\n"
   ]
  },
  {
   "cell_type": "code",
   "execution_count": 14,
   "metadata": {},
   "outputs": [
    {
     "name": "stdout",
     "output_type": "stream",
     "text": [
      "OPENQASM 2.0;\n",
      "include \"qelib1.inc\";\n",
      "qreg q[4];\n",
      "u3(5.8015477,-pi/2,pi/2) q[0];\n",
      "u3(1.1584423,0,0) q[1];\n",
      "u3(pi,pi/2,pi/2) q[2];\n",
      "cx q[0],q[2];\n",
      "u1(-pi/4) q[0];\n",
      "u1(-pi/2) q[2];\n",
      "cx q[2],q[0];\n",
      "cx q[0],q[2];\n",
      "cx q[2],q[0];\n",
      "u1(3*pi/2) q[0];\n",
      "u1(5.7717371) q[2];\n",
      "u3(pi,pi/2,pi/2) q[3];\n",
      "cx q[1],q[3];\n",
      "cx q[3],q[1];\n",
      "cx q[1],q[3];\n",
      "u3(1.3431123,-pi/2,pi/2) q[1];\n",
      "u1(pi/2) q[3];\n",
      "cx q[1],q[3];\n",
      "u3(1.769979,1.8928737,2.137258) q[1];\n",
      "cx q[0],q[1];\n",
      "u1(-1.8322975) q[1];\n",
      "cx q[0],q[1];\n",
      "u1(pi/4) q[0];\n",
      "id q[1];\n",
      "u2(0,3*pi/2) q[3];\n",
      "cx q[2],q[3];\n",
      "u1(5.4330091) q[3];\n",
      "cx q[2],q[3];\n",
      "u2(pi/4,pi) q[2];\n",
      "u1(4.6364026) q[3];\n",
      "\n"
     ]
    }
   ],
   "source": [
    "print(qc.qasm())\n"
   ]
  },
  {
   "cell_type": "code",
   "execution_count": 7,
   "metadata": {},
   "outputs": [],
   "source": [
    "################################################\n",
    "# CDKM Ripple Adder\n",
    "################################################\n",
    "# for m in [10, 20, 30]:\n",
    "#     qc = library.CDKMRippleCarryAdder(m).decompose().decompose().decompose('ccx')\n",
    "#     qc.qasm(filename='./buildingblocks/cdkm_adder_{}.qasm'.format(m))\n"
   ]
  },
  {
   "cell_type": "code",
   "execution_count": 9,
   "metadata": {},
   "outputs": [
    {
     "data": {
      "image/png": "[encoded data removed]",
      "text/plain": [
       "<Figure size 731.792x702.333 with 1 Axes>"
      ]
     },
     "execution_count": 9,
     "metadata": {},
     "output_type": "execute_result"
    }
   ],
   "source": [
    "qc = library.CDKMRippleCarryAdder(3).decompose()\n",
    "qc.draw('mpl')\n"
   ]
  },
  {
   "cell_type": "code",
   "execution_count": 36,
   "metadata": {},
   "outputs": [],
   "source": [
    "import cirq\n",
    "\n",
    "\n",
    "def MAJ(q0, q1, q2):\n",
    "    return [cirq.CX(q2, q1), cirq.CX(q2, q0), cirq.CCX(q0, q1, q2)]\n",
    "\n",
    "\n",
    "def UMA(q0, q1, q2):\n",
    "    return [cirq.CCX(q0, q1, q2), cirq.CX(q2, q0), cirq.CX(q2, q1)]\n",
    "\n",
    "for m in [10, 20, 30]:\n",
    "    n = 2 * m + 2\n",
    "    a = cirq.NamedQubit.range(m, prefix='a')\n",
    "    b = cirq.NamedQubit.range(m, prefix='b')\n",
    "    cin = cirq.NamedQubit('cin')\n",
    "    cout = cirq.NamedQubit('cout')\n",
    "\n",
    "    circ = cirq.Circuit()\n",
    "    for i in range(m):\n",
    "        if i == 0:\n",
    "            circ.append(MAJ(cin, b[i], a[i]))\n",
    "        else:\n",
    "            circ.append(MAJ(a[i-1], b[i], a[i]))\n",
    "    circ.append(cirq.CX(a[m-1], cout))\n",
    "    for i in range(m-1, -1, -1):\n",
    "        if i == 0:\n",
    "            circ.append(UMA(cin, b[i], a[i]))\n",
    "        else:\n",
    "            circ.append(UMA(a[i-1], b[i], a[i]))\n",
    "    qc = QuantumCircuit.from_qasm_str(circ.to_qasm()).decompose('ccx')\n",
    "    qc.qasm(filename='./buildingblocks/cdkm_adder_{}.qasm'.format(m))\n"
   ]
  },
  {
   "cell_type": "code",
   "execution_count": 28,
   "metadata": {},
   "outputs": [
    {
     "data": {
      "text/html": [
       "<pre style=\"word-wrap: normal;white-space: pre;background: #fff0;line-height: 1.1;font-family: &quot;Courier New&quot;,Courier,monospace\">                         ┌───┐┌───┐                                   ┌───┐»\n",
       "q_0: ──■──────────────■──┤ X ├┤ X ├──■─────────────────────────────■──┤ X ├»\n",
       "       │              │  └─┬─┘└─┬─┘┌─┴─┐┌───┐               ┌───┐┌─┴─┐└─┬─┘»\n",
       "q_1: ──┼────■─────────┼────┼────■──┤ X ├┤ X ├──■─────────■──┤ X ├┤ X ├──■──»\n",
       "       │    │         │    │       └─┬─┘└─┬─┘┌─┴─┐     ┌─┴─┐└─┬─┘└─┬─┘     »\n",
       "q_2: ──┼────┼────■────┼────┼─────────┼────■──┤ X ├──■──┤ X ├──■────┼────■──»\n",
       "     ┌─┴─┐  │    │    │    │         │       └─┬─┘  │  └─┬─┘       │    │  »\n",
       "q_3: ┤ X ├──┼────┼────┼────■─────────┼─────────┼────┼────┼─────────┼────┼──»\n",
       "     └───┘┌─┴─┐  │    │    │         │         │    │    │         │    │  »\n",
       "q_4: ─────┤ X ├──┼────┼────┼─────────■─────────┼────┼────┼─────────■────┼──»\n",
       "          └───┘┌─┴─┐  │    │                   │    │    │            ┌─┴─┐»\n",
       "q_5: ──────────┤ X ├──┼────┼───────────────────■────┼────■────────────┤ X ├»\n",
       "               └───┘┌─┴─┐  │                        │                 └───┘»\n",
       "q_6: ───────────────┤ X ├──■────────────────────────┼──────────────────────»\n",
       "                    └───┘                         ┌─┴─┐                    »\n",
       "q_7: ─────────────────────────────────────────────┤ X ├────────────────────»\n",
       "                                                  └───┘                    »\n",
       "«          ┌───┐          \n",
       "«q_0: ─────┤ X ├──■────■──\n",
       "«          └─┬─┘  │    │  \n",
       "«q_1: ──■────┼────┼────┼──\n",
       "«       │    │    │    │  \n",
       "«q_2: ──┼────┼────┼────┼──\n",
       "«       │    │    │  ┌─┴─┐\n",
       "«q_3: ──┼────■────┼──┤ X ├\n",
       "«     ┌─┴─┐  │    │  └───┘\n",
       "«q_4: ┤ X ├──┼────┼───────\n",
       "«     └───┘  │    │       \n",
       "«q_5: ───────┼────┼───────\n",
       "«            │  ┌─┴─┐     \n",
       "«q_6: ───────■──┤ X ├─────\n",
       "«               └───┘     \n",
       "«q_7: ────────────────────\n",
       "«                         </pre>"
      ],
      "text/plain": [
       "                         ┌───┐┌───┐                                   ┌───┐»\n",
       "q_0: ──■──────────────■──┤ X ├┤ X ├──■─────────────────────────────■──┤ X ├»\n",
       "       │              │  └─┬─┘└─┬─┘┌─┴─┐┌───┐               ┌───┐┌─┴─┐└─┬─┘»\n",
       "q_1: ──┼────■─────────┼────┼────■──┤ X ├┤ X ├──■─────────■──┤ X ├┤ X ├──■──»\n",
       "       │    │         │    │       └─┬─┘└─┬─┘┌─┴─┐     ┌─┴─┐└─┬─┘└─┬─┘     »\n",
       "q_2: ──┼────┼────■────┼────┼─────────┼────■──┤ X ├──■──┤ X ├──■────┼────■──»\n",
       "     ┌─┴─┐  │    │    │    │         │       └─┬─┘  │  └─┬─┘       │    │  »\n",
       "q_3: ┤ X ├──┼────┼────┼────■─────────┼─────────┼────┼────┼─────────┼────┼──»\n",
       "     └───┘┌─┴─┐  │    │    │         │         │    │    │         │    │  »\n",
       "q_4: ─────┤ X ├──┼────┼────┼─────────■─────────┼────┼────┼─────────■────┼──»\n",
       "          └───┘┌─┴─┐  │    │                   │    │    │            ┌─┴─┐»\n",
       "q_5: ──────────┤ X ├──┼────┼───────────────────■────┼────■────────────┤ X ├»\n",
       "               └───┘┌─┴─┐  │                        │                 └───┘»\n",
       "q_6: ───────────────┤ X ├──■────────────────────────┼──────────────────────»\n",
       "                    └───┘                         ┌─┴─┐                    »\n",
       "q_7: ─────────────────────────────────────────────┤ X ├────────────────────»\n",
       "                                                  └───┘                    »\n",
       "«          ┌───┐          \n",
       "«q_0: ─────┤ X ├──■────■──\n",
       "«          └─┬─┘  │    │  \n",
       "«q_1: ──■────┼────┼────┼──\n",
       "«       │    │    │    │  \n",
       "«q_2: ──┼────┼────┼────┼──\n",
       "«       │    │    │  ┌─┴─┐\n",
       "«q_3: ──┼────■────┼──┤ X ├\n",
       "«     ┌─┴─┐  │    │  └───┘\n",
       "«q_4: ┤ X ├──┼────┼───────\n",
       "«     └───┘  │    │       \n",
       "«q_5: ───────┼────┼───────\n",
       "«            │  ┌─┴─┐     \n",
       "«q_6: ───────■──┤ X ├─────\n",
       "«               └───┘     \n",
       "«q_7: ────────────────────\n",
       "«                         "
      ]
     },
     "execution_count": 28,
     "metadata": {},
     "output_type": "execute_result"
    }
   ],
   "source": [
    "QuantumCircuit.from_qasm_str(circ.to_qasm()).draw()\n"
   ]
  },
  {
   "cell_type": "code",
   "execution_count": 26,
   "metadata": {},
   "outputs": [
    {
     "name": "stdout",
     "output_type": "stream",
     "text": [
      "// Generated from Cirq v1.0.0\n",
      "\n",
      "OPENQASM 2.0;\n",
      "include \"qelib1.inc\";\n",
      "\n",
      "\n",
      "// Qubits: [a0, a1, a2, b0, b1, b2, cin, cout]\n",
      "qreg q[8];\n",
      "\n",
      "\n",
      "cx q[0],q[3];\n",
      "cx q[1],q[4];\n",
      "cx q[2],q[5];\n",
      "cx q[0],q[6];\n",
      "ccx q[6],q[3],q[0];\n",
      "cx q[1],q[0];\n",
      "ccx q[0],q[4],q[1];\n",
      "cx q[2],q[1];\n",
      "ccx q[1],q[5],q[2];\n",
      "cx q[2],q[7];\n",
      "ccx q[1],q[5],q[2];\n",
      "cx q[2],q[1];\n",
      "cx q[2],q[5];\n",
      "ccx q[0],q[4],q[1];\n",
      "cx q[1],q[0];\n",
      "cx q[1],q[4];\n",
      "ccx q[6],q[3],q[0];\n",
      "cx q[0],q[6];\n",
      "cx q[0],q[3];\n",
      "\n"
     ]
    }
   ],
   "source": [
    "print(circ.to_qasm())\n"
   ]
  },
  {
   "cell_type": "code",
   "execution_count": 4,
   "metadata": {},
   "outputs": [
    {
     "data": {
      "text/plain": [
       "[Qubit(QuantumRegister(1, 'cin'), 0),\n",
       " Qubit(QuantumRegister(3, 'a'), 0),\n",
       " Qubit(QuantumRegister(3, 'a'), 1),\n",
       " Qubit(QuantumRegister(3, 'a'), 2),\n",
       " Qubit(QuantumRegister(3, 'b'), 0),\n",
       " Qubit(QuantumRegister(3, 'b'), 1),\n",
       " Qubit(QuantumRegister(3, 'b'), 2),\n",
       " Qubit(QuantumRegister(1, 'cout'), 0)]"
      ]
     },
     "execution_count": 4,
     "metadata": {},
     "output_type": "execute_result"
    }
   ],
   "source": [
    "for i, qubit in enumerate(qc.qubits):\n",
    "    "
   ]
  },
  {
   "cell_type": "code",
   "execution_count": 11,
   "metadata": {},
   "outputs": [
    {
     "name": "stderr",
     "output_type": "stream",
     "text": [
      "/tmp/ipykernel_14777/2032686549.py:1: DeprecationWarning: Back-references to from Bit instances to their containing Registers have been deprecated. Instead, inspect Registers to find their contained Bits.\n",
      "  qc.qubits[0].register.name = '1111'\n"
     ]
    },
    {
     "ename": "AttributeError",
     "evalue": "can't set attribute",
     "output_type": "error",
     "traceback": [
      "\u001b[0;31m---------------------------------------------------------------------------\u001b[0m",
      "\u001b[0;31mAttributeError\u001b[0m                            Traceback (most recent call last)",
      "\u001b[1;32m/home/rose/git-projects/compilation-su4/benchmarks/generation.ipynb Cell 11\u001b[0m line \u001b[0;36m1\n\u001b[0;32m----> <a href='vscode-notebook-cell:/home/rose/git-projects/compilation-su4/benchmarks/generation.ipynb#X23sZmlsZQ%3D%3D?line=0'>1</a>\u001b[0m qc\u001b[39m.\u001b[39mqubits[\u001b[39m0\u001b[39m]\u001b[39m.\u001b[39mregister\u001b[39m.\u001b[39mname \u001b[39m=\u001b[39m \u001b[39m'\u001b[39m\u001b[39m1111\u001b[39m\u001b[39m'\u001b[39m\n",
      "\u001b[0;31mAttributeError\u001b[0m: can't set attribute"
     ]
    }
   ],
   "source": [
    "qc.qubits[0].register.name = '1111'\n"
   ]
  },
  {
   "cell_type": "code",
   "execution_count": null,
   "metadata": {},
   "outputs": [],
   "source": []
  },
  {
   "cell_type": "code",
   "execution_count": 9,
   "metadata": {},
   "outputs": [],
   "source": [
    "################################################\n",
    "# QAOA algorithm (n=8, 16, 32, 64)\n",
    "################################################\n",
    "# np.random.seed(123)\n",
    "# for n in [8, 16, 32, 64]:\n",
    "#     g = nx.connected_watts_strogatz_graph(n, 4, 0.5, seed=123)\n",
    "#     edges = list(g.edges)\n",
    "#     n = g.number_of_nodes()  # number of qubits\n",
    "#     l = n  # number of layers\n",
    "#     qc = QuantumCircuit(n)\n",
    "#     # superposition layer\n",
    "#     qc.h(range(n))\n",
    "\n",
    "#     for _ in range(l):\n",
    "#         # U_D layer\n",
    "#         for i, j in edges:\n",
    "#             qc.cx(i, j)\n",
    "#             qc.rz(np.random.uniform(-np.pi, np.pi), j)\n",
    "#             qc.cx(i, j)\n",
    "#         # U_B layer\n",
    "#         for i in range(n):\n",
    "#             qc.rx(np.random.uniform(-np.pi, np.pi), i)\n",
    "\n",
    "#     qc.qasm(filename='applications/qaoa_{}.qasm'.format(n))\n",
    "\n",
    "np.random.seed(123)\n",
    "for n in [8, 16, 32, 64]:\n",
    "    g = nx.connected_watts_strogatz_graph(n, 4, 0.5, seed=123)\n",
    "    edges = list(g.edges)\n",
    "    n = g.number_of_nodes()  # number of qubits\n",
    "    l = n  # number of layers\n",
    "    qubits = cirq.LineQubit.range(n)\n",
    "    circ = cirq.Circuit()\n",
    "    \n",
    "    # superposition layer\n",
    "    circ.append(cirq.H.on_each(*qubits))\n",
    "\n",
    "    for _ in range(l):\n",
    "        # U_D layer\n",
    "        for i, j in edges:\n",
    "            circ.append([\n",
    "                cirq.CX(qubits[i], qubits[j]),\n",
    "                cirq.Rz(rads=np.random.uniform(-np.pi, np.pi)).on(qubits[j]),\n",
    "                cirq.CX(qubits[i], qubits[j]),\n",
    "            ])\n",
    "        # U_B layer\n",
    "        for i in range(n):\n",
    "            circ.append(cirq.Rx(rads=np.random.uniform(-np.pi, np.pi)).on(qubits[i]))\n",
    "\n",
    "    with open('applications/qaoa_{}.qasm'.format(n), 'w') as f:\n",
    "        f.write(circ.to_qasm())\n"
   ]
  },
  {
   "cell_type": "code",
   "execution_count": 45,
   "metadata": {},
   "outputs": [],
   "source": [
    "################################################\n",
    "# Ising model (n=8, 16, 32, 64)\n",
    "################################################\n",
    "\n"
   ]
  },
  {
   "cell_type": "code",
   "execution_count": 65,
   "metadata": {},
   "outputs": [
    {
     "data": {
      "text/plain": [
       "cirq.ops.pauli_gates._PauliX"
      ]
     },
     "execution_count": 65,
     "metadata": {},
     "output_type": "execute_result"
    }
   ],
   "source": [
    "type(cirq.X)\n"
   ]
  },
  {
   "cell_type": "code",
   "execution_count": 66,
   "metadata": {},
   "outputs": [
    {
     "data": {
      "text/plain": [
       "cirq.ops.pauli_string.SingleQubitPauliStringGateOperation"
      ]
     },
     "execution_count": 66,
     "metadata": {},
     "output_type": "execute_result"
    }
   ],
   "source": [
    "type(cirq.X.on(cirq.LineQubit(0)))\n"
   ]
  },
  {
   "cell_type": "code",
   "execution_count": 68,
   "metadata": {},
   "outputs": [
    {
     "data": {
      "text/plain": [
       "((1.0,\n",
       "  array([[0.+0.j, 1.+0.j],\n",
       "         [1.+0.j, 0.+0.j]])),)"
      ]
     },
     "execution_count": 68,
     "metadata": {},
     "output_type": "execute_result"
    }
   ],
   "source": [
    "cirq.mixture(cirq.X)\n"
   ]
  },
  {
   "cell_type": "code",
   "execution_count": 73,
   "metadata": {},
   "outputs": [
    {
     "data": {
      "text/plain": [
       "cirq.Rx(rads=3.141592653589793).on(cirq.LineQubit(0))"
      ]
     },
     "execution_count": 73,
     "metadata": {},
     "output_type": "execute_result"
    }
   ],
   "source": [
    "cirq.rx(rads=np.pi).on(cirq.LineQubit(0))\n"
   ]
  },
  {
   "cell_type": "code",
   "execution_count": null,
   "metadata": {},
   "outputs": [],
   "source": []
  }
 ],
 "metadata": {
  "kernelspec": {
   "display_name": "base",
   "language": "python",
   "name": "python3"
  },
  "language_info": {
   "codemirror_mode": {
    "name": "ipython",
    "version": 3
   },
   "file_extension": ".py",
   "mimetype": "text/x-python",
   "name": "python",
   "nbconvert_exporter": "python",
   "pygments_lexer": "ipython3",
   "version": "3.9.18"
  }
 },
 "nbformat": 4,
 "nbformat_minor": 2
}
