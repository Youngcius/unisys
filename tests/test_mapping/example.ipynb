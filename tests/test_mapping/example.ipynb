{
 "cells": [
  {
   "cell_type": "code",
   "execution_count": 1,
   "metadata": {
    "ExecuteTime": {
     "end_time": "2023-09-04T01:27:09.592774Z",
     "start_time": "2023-09-04T01:27:08.810526Z"
    }
   },
   "outputs": [],
   "source": [
    "import os, sys\n",
    "\n",
    "module_path = os.path.abspath('../..')\n",
    "if module_path not in sys.path:\n",
    "    sys.path.append(module_path)\n",
    "\n",
    "import numpy as np\n",
    "import networkx as nx\n",
    "import matplotlib.pyplot as plt\n",
    "from unisys import gate, circuit\n",
    "from unisys.utils import operations, arch\n",
    "from unisys.mapping import heuristic\n"
   ]
  },
  {
   "cell_type": "markdown",
   "metadata": {
    "collapsed": false
   },
   "source": [
    "## SABRE routing algorithm"
   ]
  },
  {
   "cell_type": "markdown",
   "metadata": {
    "collapsed": false
   },
   "source": [
    "### Overview demo\n",
    "\n",
    "Overall, the SABRE routing algorithm will \"pass\" the circuit forward-and-backward for several periods and then perform a forward pass to search optimal SWAP gates to insert.\n",
    "\n",
    "The default bidirectional pass period number `k=3`, meaning searching for 2k+1 passes in total"
   ]
  },
  {
   "cell_type": "code",
   "execution_count": 2,
   "metadata": {
    "ExecuteTime": {
     "end_time": "2023-09-04T01:37:28.185026Z",
     "start_time": "2023-09-04T01:37:28.180213Z"
    },
    "collapsed": false
   },
   "outputs": [],
   "source": [
    "circ = circuit.Circuit([\n",
    "    gate.H.on(0), gate.H.on(2), gate.H.on(5),\n",
    "    gate.Z.on(0), gate.X.on(2, 1), gate.X.on(5, 4),\n",
    "    gate.X.on(1, 0), gate.X.on(3, 2),\n",
    "    gate.H.on(2), gate.H.on(3),\n",
    "    gate.X.on(2, 1), gate.X.on(5, 3),\n",
    "    gate.Z.on(3),\n",
    "    gate.X.on(3, 4),\n",
    "    gate.X.on(0, 3)\n",
    "])\n"
   ]
  },
  {
   "cell_type": "code",
   "execution_count": 3,
   "metadata": {
    "ExecuteTime": {
     "end_time": "2023-09-04T01:37:28.385811Z",
     "start_time": "2023-09-04T01:37:28.300438Z"
    },
    "collapsed": false
   },
   "outputs": [
    {
     "data": {
      "image/png": "[encoded data removed]",
      "text/plain": [
       "<Figure size 300x200 with 1 Axes>"
      ]
     },
     "metadata": {},
     "output_type": "display_data"
    }
   ],
   "source": [
    "device = arch.read_device_topology('./topology/oslo.graphml')\n",
    "plt.figure(figsize=(3, 2))\n",
    "nx.draw(device, with_labels=True)\n",
    "plt.title('coupling graph')\n",
    "plt.show()\n"
   ]
  },
  {
   "cell_type": "code",
   "execution_count": 4,
   "metadata": {
    "ExecuteTime": {
     "end_time": "2023-09-04T01:40:15.466159Z",
     "start_time": "2023-09-04T01:40:15.346844Z"
    },
    "collapsed": false
   },
   "outputs": [
    {
     "name": "stdout",
     "output_type": "stream",
     "text": [
      "dag nodes: [H{0}, H{2}, H{5}, Z{0}, X{2←1}, X{5←4}, X{1←0}, X{3←2}, H{2}, H{3}, X{2←1}, X{5←3}, Z{3}, X{3←4}, X{0←3}]\n",
      "--------------------------------------------------\n",
      "logical_qubits: [0, 1, 2, 3, 4, 5]\n",
      "physical_qubits: [0, 1, 2, 3, 4, 5, 6]\n",
      "initial_mapping: {0: 3, 1: 2, 2: 0, 3: 5, 4: 6, 5: 1}\n"
     ]
    },
    {
     "data": {
      "text/html": [
       "<pre style=\"white-space:pre;overflow-x:auto;line-height:normal;font-family:Menlo,'DejaVu Sans Mono',consolas,'Courier New',monospace\"><span style=\"color: #00ff00; text-decoration-color: #00ff00\">───────────────────────── </span>updated: <span style=\"font-weight: bold\">{</span><span style=\"color: #008080; text-decoration-color: #008080; font-weight: bold\">0</span>: <span style=\"color: #008080; text-decoration-color: #008080; font-weight: bold\">1</span>, <span style=\"color: #008080; text-decoration-color: #008080; font-weight: bold\">1</span>: <span style=\"color: #008080; text-decoration-color: #008080; font-weight: bold\">2</span>, <span style=\"color: #008080; text-decoration-color: #008080; font-weight: bold\">2</span>: <span style=\"color: #008080; text-decoration-color: #008080; font-weight: bold\">0</span>, <span style=\"color: #008080; text-decoration-color: #008080; font-weight: bold\">3</span>: <span style=\"color: #008080; text-decoration-color: #008080; font-weight: bold\">5</span>, <span style=\"color: #008080; text-decoration-color: #008080; font-weight: bold\">4</span>: <span style=\"color: #008080; text-decoration-color: #008080; font-weight: bold\">6</span>, <span style=\"color: #008080; text-decoration-color: #008080; font-weight: bold\">5</span>: <span style=\"color: #008080; text-decoration-color: #008080; font-weight: bold\">3</span><span style=\"font-weight: bold\">}</span>, after SWAP<span style=\"font-weight: bold\">{</span><span style=\"color: #008080; text-decoration-color: #008080; font-weight: bold\">5</span>|<span style=\"color: #008080; text-decoration-color: #008080; font-weight: bold\">0</span><span style=\"font-weight: bold\">}</span><span style=\"color: #00ff00; text-decoration-color: #00ff00\"> ──────────────────────────</span>\n",
       "</pre>\n"
      ],
      "text/plain": [
       "\u001b[92m───────────────────────── \u001b[0mupdated: \u001b[1m{\u001b[0m\u001b[1;36m0\u001b[0m: \u001b[1;36m1\u001b[0m, \u001b[1;36m1\u001b[0m: \u001b[1;36m2\u001b[0m, \u001b[1;36m2\u001b[0m: \u001b[1;36m0\u001b[0m, \u001b[1;36m3\u001b[0m: \u001b[1;36m5\u001b[0m, \u001b[1;36m4\u001b[0m: \u001b[1;36m6\u001b[0m, \u001b[1;36m5\u001b[0m: \u001b[1;36m3\u001b[0m\u001b[1m}\u001b[0m, after SWAP\u001b[1m{\u001b[0m\u001b[1;36m5\u001b[0m|\u001b[1;36m0\u001b[0m\u001b[1m}\u001b[0m\u001b[92m ──────────────────────────\u001b[0m\n"
      ]
     },
     "metadata": {},
     "output_type": "display_data"
    },
    {
     "data": {
      "text/html": [
       "<pre style=\"white-space:pre;overflow-x:auto;line-height:normal;font-family:Menlo,'DejaVu Sans Mono',consolas,'Courier New',monospace\"><span style=\"color: #00ff00; text-decoration-color: #00ff00\">───────────────────────── </span>updated: <span style=\"font-weight: bold\">{</span><span style=\"color: #008080; text-decoration-color: #008080; font-weight: bold\">0</span>: <span style=\"color: #008080; text-decoration-color: #008080; font-weight: bold\">2</span>, <span style=\"color: #008080; text-decoration-color: #008080; font-weight: bold\">1</span>: <span style=\"color: #008080; text-decoration-color: #008080; font-weight: bold\">1</span>, <span style=\"color: #008080; text-decoration-color: #008080; font-weight: bold\">2</span>: <span style=\"color: #008080; text-decoration-color: #008080; font-weight: bold\">0</span>, <span style=\"color: #008080; text-decoration-color: #008080; font-weight: bold\">3</span>: <span style=\"color: #008080; text-decoration-color: #008080; font-weight: bold\">5</span>, <span style=\"color: #008080; text-decoration-color: #008080; font-weight: bold\">4</span>: <span style=\"color: #008080; text-decoration-color: #008080; font-weight: bold\">6</span>, <span style=\"color: #008080; text-decoration-color: #008080; font-weight: bold\">5</span>: <span style=\"color: #008080; text-decoration-color: #008080; font-weight: bold\">3</span><span style=\"font-weight: bold\">}</span>, after SWAP<span style=\"font-weight: bold\">{</span><span style=\"color: #008080; text-decoration-color: #008080; font-weight: bold\">1</span>|<span style=\"color: #008080; text-decoration-color: #008080; font-weight: bold\">0</span><span style=\"font-weight: bold\">}</span><span style=\"color: #00ff00; text-decoration-color: #00ff00\"> ──────────────────────────</span>\n",
       "</pre>\n"
      ],
      "text/plain": [
       "\u001b[92m───────────────────────── \u001b[0mupdated: \u001b[1m{\u001b[0m\u001b[1;36m0\u001b[0m: \u001b[1;36m2\u001b[0m, \u001b[1;36m1\u001b[0m: \u001b[1;36m1\u001b[0m, \u001b[1;36m2\u001b[0m: \u001b[1;36m0\u001b[0m, \u001b[1;36m3\u001b[0m: \u001b[1;36m5\u001b[0m, \u001b[1;36m4\u001b[0m: \u001b[1;36m6\u001b[0m, \u001b[1;36m5\u001b[0m: \u001b[1;36m3\u001b[0m\u001b[1m}\u001b[0m, after SWAP\u001b[1m{\u001b[0m\u001b[1;36m1\u001b[0m|\u001b[1;36m0\u001b[0m\u001b[1m}\u001b[0m\u001b[92m ──────────────────────────\u001b[0m\n"
      ]
     },
     "metadata": {},
     "output_type": "display_data"
    },
    {
     "data": {
      "text/html": [
       "<pre style=\"white-space:pre;overflow-x:auto;line-height:normal;font-family:Menlo,'DejaVu Sans Mono',consolas,'Courier New',monospace\"><span style=\"color: #00ff00; text-decoration-color: #00ff00\">───────────────────────── </span>updated: <span style=\"font-weight: bold\">{</span><span style=\"color: #008080; text-decoration-color: #008080; font-weight: bold\">0</span>: <span style=\"color: #008080; text-decoration-color: #008080; font-weight: bold\">2</span>, <span style=\"color: #008080; text-decoration-color: #008080; font-weight: bold\">1</span>: <span style=\"color: #008080; text-decoration-color: #008080; font-weight: bold\">1</span>, <span style=\"color: #008080; text-decoration-color: #008080; font-weight: bold\">2</span>: <span style=\"color: #008080; text-decoration-color: #008080; font-weight: bold\">0</span>, <span style=\"color: #008080; text-decoration-color: #008080; font-weight: bold\">3</span>: <span style=\"color: #008080; text-decoration-color: #008080; font-weight: bold\">3</span>, <span style=\"color: #008080; text-decoration-color: #008080; font-weight: bold\">4</span>: <span style=\"color: #008080; text-decoration-color: #008080; font-weight: bold\">6</span>, <span style=\"color: #008080; text-decoration-color: #008080; font-weight: bold\">5</span>: <span style=\"color: #008080; text-decoration-color: #008080; font-weight: bold\">5</span><span style=\"font-weight: bold\">}</span>, after SWAP<span style=\"font-weight: bold\">{</span><span style=\"color: #008080; text-decoration-color: #008080; font-weight: bold\">3</span>|<span style=\"color: #008080; text-decoration-color: #008080; font-weight: bold\">5</span><span style=\"font-weight: bold\">}</span><span style=\"color: #00ff00; text-decoration-color: #00ff00\"> ──────────────────────────</span>\n",
       "</pre>\n"
      ],
      "text/plain": [
       "\u001b[92m───────────────────────── \u001b[0mupdated: \u001b[1m{\u001b[0m\u001b[1;36m0\u001b[0m: \u001b[1;36m2\u001b[0m, \u001b[1;36m1\u001b[0m: \u001b[1;36m1\u001b[0m, \u001b[1;36m2\u001b[0m: \u001b[1;36m0\u001b[0m, \u001b[1;36m3\u001b[0m: \u001b[1;36m3\u001b[0m, \u001b[1;36m4\u001b[0m: \u001b[1;36m6\u001b[0m, \u001b[1;36m5\u001b[0m: \u001b[1;36m5\u001b[0m\u001b[1m}\u001b[0m, after SWAP\u001b[1m{\u001b[0m\u001b[1;36m3\u001b[0m|\u001b[1;36m5\u001b[0m\u001b[1m}\u001b[0m\u001b[92m ──────────────────────────\u001b[0m\n"
      ]
     },
     "metadata": {},
     "output_type": "display_data"
    },
    {
     "data": {
      "text/html": [
       "<pre style=\"white-space:pre;overflow-x:auto;line-height:normal;font-family:Menlo,'DejaVu Sans Mono',consolas,'Courier New',monospace\"><span style=\"color: #00ff00; text-decoration-color: #00ff00\">───────────────────────── </span>updated: <span style=\"font-weight: bold\">{</span><span style=\"color: #008080; text-decoration-color: #008080; font-weight: bold\">0</span>: <span style=\"color: #008080; text-decoration-color: #008080; font-weight: bold\">2</span>, <span style=\"color: #008080; text-decoration-color: #008080; font-weight: bold\">1</span>: <span style=\"color: #008080; text-decoration-color: #008080; font-weight: bold\">0</span>, <span style=\"color: #008080; text-decoration-color: #008080; font-weight: bold\">2</span>: <span style=\"color: #008080; text-decoration-color: #008080; font-weight: bold\">1</span>, <span style=\"color: #008080; text-decoration-color: #008080; font-weight: bold\">3</span>: <span style=\"color: #008080; text-decoration-color: #008080; font-weight: bold\">3</span>, <span style=\"color: #008080; text-decoration-color: #008080; font-weight: bold\">4</span>: <span style=\"color: #008080; text-decoration-color: #008080; font-weight: bold\">6</span>, <span style=\"color: #008080; text-decoration-color: #008080; font-weight: bold\">5</span>: <span style=\"color: #008080; text-decoration-color: #008080; font-weight: bold\">5</span><span style=\"font-weight: bold\">}</span>, after SWAP<span style=\"font-weight: bold\">{</span><span style=\"color: #008080; text-decoration-color: #008080; font-weight: bold\">2</span>|<span style=\"color: #008080; text-decoration-color: #008080; font-weight: bold\">1</span><span style=\"font-weight: bold\">}</span><span style=\"color: #00ff00; text-decoration-color: #00ff00\"> ──────────────────────────</span>\n",
       "</pre>\n"
      ],
      "text/plain": [
       "\u001b[92m───────────────────────── \u001b[0mupdated: \u001b[1m{\u001b[0m\u001b[1;36m0\u001b[0m: \u001b[1;36m2\u001b[0m, \u001b[1;36m1\u001b[0m: \u001b[1;36m0\u001b[0m, \u001b[1;36m2\u001b[0m: \u001b[1;36m1\u001b[0m, \u001b[1;36m3\u001b[0m: \u001b[1;36m3\u001b[0m, \u001b[1;36m4\u001b[0m: \u001b[1;36m6\u001b[0m, \u001b[1;36m5\u001b[0m: \u001b[1;36m5\u001b[0m\u001b[1m}\u001b[0m, after SWAP\u001b[1m{\u001b[0m\u001b[1;36m2\u001b[0m|\u001b[1;36m1\u001b[0m\u001b[1m}\u001b[0m\u001b[92m ──────────────────────────\u001b[0m\n"
      ]
     },
     "metadata": {},
     "output_type": "display_data"
    },
    {
     "data": {
      "text/html": [
       "<pre style=\"white-space:pre;overflow-x:auto;line-height:normal;font-family:Menlo,'DejaVu Sans Mono',consolas,'Courier New',monospace\"><span style=\"color: #00ff00; text-decoration-color: #00ff00\">───────────────────────── </span>updated: <span style=\"font-weight: bold\">{</span><span style=\"color: #008080; text-decoration-color: #008080; font-weight: bold\">0</span>: <span style=\"color: #008080; text-decoration-color: #008080; font-weight: bold\">2</span>, <span style=\"color: #008080; text-decoration-color: #008080; font-weight: bold\">1</span>: <span style=\"color: #008080; text-decoration-color: #008080; font-weight: bold\">0</span>, <span style=\"color: #008080; text-decoration-color: #008080; font-weight: bold\">2</span>: <span style=\"color: #008080; text-decoration-color: #008080; font-weight: bold\">1</span>, <span style=\"color: #008080; text-decoration-color: #008080; font-weight: bold\">3</span>: <span style=\"color: #008080; text-decoration-color: #008080; font-weight: bold\">3</span>, <span style=\"color: #008080; text-decoration-color: #008080; font-weight: bold\">4</span>: <span style=\"color: #008080; text-decoration-color: #008080; font-weight: bold\">5</span>, <span style=\"color: #008080; text-decoration-color: #008080; font-weight: bold\">5</span>: <span style=\"color: #008080; text-decoration-color: #008080; font-weight: bold\">6</span><span style=\"font-weight: bold\">}</span>, after SWAP<span style=\"font-weight: bold\">{</span><span style=\"color: #008080; text-decoration-color: #008080; font-weight: bold\">4</span>|<span style=\"color: #008080; text-decoration-color: #008080; font-weight: bold\">5</span><span style=\"font-weight: bold\">}</span><span style=\"color: #00ff00; text-decoration-color: #00ff00\"> ──────────────────────────</span>\n",
       "</pre>\n"
      ],
      "text/plain": [
       "\u001b[92m───────────────────────── \u001b[0mupdated: \u001b[1m{\u001b[0m\u001b[1;36m0\u001b[0m: \u001b[1;36m2\u001b[0m, \u001b[1;36m1\u001b[0m: \u001b[1;36m0\u001b[0m, \u001b[1;36m2\u001b[0m: \u001b[1;36m1\u001b[0m, \u001b[1;36m3\u001b[0m: \u001b[1;36m3\u001b[0m, \u001b[1;36m4\u001b[0m: \u001b[1;36m5\u001b[0m, \u001b[1;36m5\u001b[0m: \u001b[1;36m6\u001b[0m\u001b[1m}\u001b[0m, after SWAP\u001b[1m{\u001b[0m\u001b[1;36m4\u001b[0m|\u001b[1;36m5\u001b[0m\u001b[1m}\u001b[0m\u001b[92m ──────────────────────────\u001b[0m\n"
      ]
     },
     "metadata": {},
     "output_type": "display_data"
    },
    {
     "data": {
      "text/html": [
       "<pre style=\"white-space:pre;overflow-x:auto;line-height:normal;font-family:Menlo,'DejaVu Sans Mono',consolas,'Courier New',monospace\"><span style=\"color: #00ff00; text-decoration-color: #00ff00\">───────────────────────── </span>updated: <span style=\"font-weight: bold\">{</span><span style=\"color: #008080; text-decoration-color: #008080; font-weight: bold\">0</span>: <span style=\"color: #008080; text-decoration-color: #008080; font-weight: bold\">1</span>, <span style=\"color: #008080; text-decoration-color: #008080; font-weight: bold\">1</span>: <span style=\"color: #008080; text-decoration-color: #008080; font-weight: bold\">0</span>, <span style=\"color: #008080; text-decoration-color: #008080; font-weight: bold\">2</span>: <span style=\"color: #008080; text-decoration-color: #008080; font-weight: bold\">2</span>, <span style=\"color: #008080; text-decoration-color: #008080; font-weight: bold\">3</span>: <span style=\"color: #008080; text-decoration-color: #008080; font-weight: bold\">3</span>, <span style=\"color: #008080; text-decoration-color: #008080; font-weight: bold\">4</span>: <span style=\"color: #008080; text-decoration-color: #008080; font-weight: bold\">5</span>, <span style=\"color: #008080; text-decoration-color: #008080; font-weight: bold\">5</span>: <span style=\"color: #008080; text-decoration-color: #008080; font-weight: bold\">6</span><span style=\"font-weight: bold\">}</span>, after SWAP<span style=\"font-weight: bold\">{</span><span style=\"color: #008080; text-decoration-color: #008080; font-weight: bold\">0</span>|<span style=\"color: #008080; text-decoration-color: #008080; font-weight: bold\">2</span><span style=\"font-weight: bold\">}</span><span style=\"color: #00ff00; text-decoration-color: #00ff00\"> ──────────────────────────</span>\n",
       "</pre>\n"
      ],
      "text/plain": [
       "\u001b[92m───────────────────────── \u001b[0mupdated: \u001b[1m{\u001b[0m\u001b[1;36m0\u001b[0m: \u001b[1;36m1\u001b[0m, \u001b[1;36m1\u001b[0m: \u001b[1;36m0\u001b[0m, \u001b[1;36m2\u001b[0m: \u001b[1;36m2\u001b[0m, \u001b[1;36m3\u001b[0m: \u001b[1;36m3\u001b[0m, \u001b[1;36m4\u001b[0m: \u001b[1;36m5\u001b[0m, \u001b[1;36m5\u001b[0m: \u001b[1;36m6\u001b[0m\u001b[1m}\u001b[0m, after SWAP\u001b[1m{\u001b[0m\u001b[1;36m0\u001b[0m|\u001b[1;36m2\u001b[0m\u001b[1m}\u001b[0m\u001b[92m ──────────────────────────\u001b[0m\n"
      ]
     },
     "metadata": {},
     "output_type": "display_data"
    },
    {
     "name": "stdout",
     "output_type": "stream",
     "text": [
      "final_mapping: {0: 1, 1: 0, 2: 2, 3: 3, 4: 5, 5: 6}\n"
     ]
    },
    {
     "data": {
      "text/html": [
       "<pre style=\"white-space:pre;overflow-x:auto;line-height:normal;font-family:Menlo,'DejaVu Sans Mono',consolas,'Courier New',monospace\"><span style=\"color: #00ff00; text-decoration-color: #00ff00\">──────────────────────────────────────── </span>SABRE bidirectional pass period <span style=\"color: #008080; text-decoration-color: #008080; font-weight: bold\">0</span><span style=\"color: #00ff00; text-decoration-color: #00ff00\"> ────────────────────────────────────────</span>\n",
       "</pre>\n"
      ],
      "text/plain": [
       "\u001b[92m──────────────────────────────────────── \u001b[0mSABRE bidirectional pass period \u001b[1;36m0\u001b[0m\u001b[92m ────────────────────────────────────────\u001b[0m\n"
      ]
     },
     "metadata": {},
     "output_type": "display_data"
    },
    {
     "data": {
      "text/html": [
       "<pre style=\"white-space:pre;overflow-x:auto;line-height:normal;font-family:Menlo,'DejaVu Sans Mono',consolas,'Courier New',monospace\"><span style=\"color: #000080; text-decoration-color: #000080; font-weight: bold\">reversed pass</span>\n",
       "</pre>\n"
      ],
      "text/plain": [
       "\u001b[1;34mreversed pass\u001b[0m\n"
      ]
     },
     "metadata": {},
     "output_type": "display_data"
    },
    {
     "name": "stdout",
     "output_type": "stream",
     "text": [
      "dag nodes: [X{0←3}, X{3←4}, Z{3}, X{5←3}, X{2←1}, H{3}, H{2}, X{3←2}, X{1←0}, X{5←4}, X{2←1}, Z{0}, H{5}, H{2}, H{0}]\n",
      "initial_mapping: {0: 1, 1: 0, 2: 2, 3: 3, 4: 5, 5: 6}\n"
     ]
    },
    {
     "data": {
      "text/html": [
       "<pre style=\"white-space:pre;overflow-x:auto;line-height:normal;font-family:Menlo,'DejaVu Sans Mono',consolas,'Courier New',monospace\"><span style=\"color: #00ff00; text-decoration-color: #00ff00\">───────────────────────── </span>updated: <span style=\"font-weight: bold\">{</span><span style=\"color: #008080; text-decoration-color: #008080; font-weight: bold\">0</span>: <span style=\"color: #008080; text-decoration-color: #008080; font-weight: bold\">0</span>, <span style=\"color: #008080; text-decoration-color: #008080; font-weight: bold\">1</span>: <span style=\"color: #008080; text-decoration-color: #008080; font-weight: bold\">1</span>, <span style=\"color: #008080; text-decoration-color: #008080; font-weight: bold\">2</span>: <span style=\"color: #008080; text-decoration-color: #008080; font-weight: bold\">2</span>, <span style=\"color: #008080; text-decoration-color: #008080; font-weight: bold\">3</span>: <span style=\"color: #008080; text-decoration-color: #008080; font-weight: bold\">3</span>, <span style=\"color: #008080; text-decoration-color: #008080; font-weight: bold\">4</span>: <span style=\"color: #008080; text-decoration-color: #008080; font-weight: bold\">5</span>, <span style=\"color: #008080; text-decoration-color: #008080; font-weight: bold\">5</span>: <span style=\"color: #008080; text-decoration-color: #008080; font-weight: bold\">6</span><span style=\"font-weight: bold\">}</span>, after SWAP<span style=\"font-weight: bold\">{</span><span style=\"color: #008080; text-decoration-color: #008080; font-weight: bold\">1</span>|<span style=\"color: #008080; text-decoration-color: #008080; font-weight: bold\">0</span><span style=\"font-weight: bold\">}</span><span style=\"color: #00ff00; text-decoration-color: #00ff00\"> ──────────────────────────</span>\n",
       "</pre>\n"
      ],
      "text/plain": [
       "\u001b[92m───────────────────────── \u001b[0mupdated: \u001b[1m{\u001b[0m\u001b[1;36m0\u001b[0m: \u001b[1;36m0\u001b[0m, \u001b[1;36m1\u001b[0m: \u001b[1;36m1\u001b[0m, \u001b[1;36m2\u001b[0m: \u001b[1;36m2\u001b[0m, \u001b[1;36m3\u001b[0m: \u001b[1;36m3\u001b[0m, \u001b[1;36m4\u001b[0m: \u001b[1;36m5\u001b[0m, \u001b[1;36m5\u001b[0m: \u001b[1;36m6\u001b[0m\u001b[1m}\u001b[0m, after SWAP\u001b[1m{\u001b[0m\u001b[1;36m1\u001b[0m|\u001b[1;36m0\u001b[0m\u001b[1m}\u001b[0m\u001b[92m ──────────────────────────\u001b[0m\n"
      ]
     },
     "metadata": {},
     "output_type": "display_data"
    },
    {
     "data": {
      "text/html": [
       "<pre style=\"white-space:pre;overflow-x:auto;line-height:normal;font-family:Menlo,'DejaVu Sans Mono',consolas,'Courier New',monospace\"><span style=\"color: #00ff00; text-decoration-color: #00ff00\">───────────────────────── </span>updated: <span style=\"font-weight: bold\">{</span><span style=\"color: #008080; text-decoration-color: #008080; font-weight: bold\">0</span>: <span style=\"color: #008080; text-decoration-color: #008080; font-weight: bold\">0</span>, <span style=\"color: #008080; text-decoration-color: #008080; font-weight: bold\">1</span>: <span style=\"color: #008080; text-decoration-color: #008080; font-weight: bold\">1</span>, <span style=\"color: #008080; text-decoration-color: #008080; font-weight: bold\">2</span>: <span style=\"color: #008080; text-decoration-color: #008080; font-weight: bold\">2</span>, <span style=\"color: #008080; text-decoration-color: #008080; font-weight: bold\">3</span>: <span style=\"color: #008080; text-decoration-color: #008080; font-weight: bold\">3</span>, <span style=\"color: #008080; text-decoration-color: #008080; font-weight: bold\">4</span>: <span style=\"color: #008080; text-decoration-color: #008080; font-weight: bold\">6</span>, <span style=\"color: #008080; text-decoration-color: #008080; font-weight: bold\">5</span>: <span style=\"color: #008080; text-decoration-color: #008080; font-weight: bold\">5</span><span style=\"font-weight: bold\">}</span>, after SWAP<span style=\"font-weight: bold\">{</span><span style=\"color: #008080; text-decoration-color: #008080; font-weight: bold\">5</span>|<span style=\"color: #008080; text-decoration-color: #008080; font-weight: bold\">4</span><span style=\"font-weight: bold\">}</span><span style=\"color: #00ff00; text-decoration-color: #00ff00\"> ──────────────────────────</span>\n",
       "</pre>\n"
      ],
      "text/plain": [
       "\u001b[92m───────────────────────── \u001b[0mupdated: \u001b[1m{\u001b[0m\u001b[1;36m0\u001b[0m: \u001b[1;36m0\u001b[0m, \u001b[1;36m1\u001b[0m: \u001b[1;36m1\u001b[0m, \u001b[1;36m2\u001b[0m: \u001b[1;36m2\u001b[0m, \u001b[1;36m3\u001b[0m: \u001b[1;36m3\u001b[0m, \u001b[1;36m4\u001b[0m: \u001b[1;36m6\u001b[0m, \u001b[1;36m5\u001b[0m: \u001b[1;36m5\u001b[0m\u001b[1m}\u001b[0m, after SWAP\u001b[1m{\u001b[0m\u001b[1;36m5\u001b[0m|\u001b[1;36m4\u001b[0m\u001b[1m}\u001b[0m\u001b[92m ──────────────────────────\u001b[0m\n"
      ]
     },
     "metadata": {},
     "output_type": "display_data"
    },
    {
     "data": {
      "text/html": [
       "<pre style=\"white-space:pre;overflow-x:auto;line-height:normal;font-family:Menlo,'DejaVu Sans Mono',consolas,'Courier New',monospace\"><span style=\"color: #00ff00; text-decoration-color: #00ff00\">───────────────────────── </span>updated: <span style=\"font-weight: bold\">{</span><span style=\"color: #008080; text-decoration-color: #008080; font-weight: bold\">0</span>: <span style=\"color: #008080; text-decoration-color: #008080; font-weight: bold\">0</span>, <span style=\"color: #008080; text-decoration-color: #008080; font-weight: bold\">1</span>: <span style=\"color: #008080; text-decoration-color: #008080; font-weight: bold\">2</span>, <span style=\"color: #008080; text-decoration-color: #008080; font-weight: bold\">2</span>: <span style=\"color: #008080; text-decoration-color: #008080; font-weight: bold\">1</span>, <span style=\"color: #008080; text-decoration-color: #008080; font-weight: bold\">3</span>: <span style=\"color: #008080; text-decoration-color: #008080; font-weight: bold\">3</span>, <span style=\"color: #008080; text-decoration-color: #008080; font-weight: bold\">4</span>: <span style=\"color: #008080; text-decoration-color: #008080; font-weight: bold\">6</span>, <span style=\"color: #008080; text-decoration-color: #008080; font-weight: bold\">5</span>: <span style=\"color: #008080; text-decoration-color: #008080; font-weight: bold\">5</span><span style=\"font-weight: bold\">}</span>, after SWAP<span style=\"font-weight: bold\">{</span><span style=\"color: #008080; text-decoration-color: #008080; font-weight: bold\">2</span>|<span style=\"color: #008080; text-decoration-color: #008080; font-weight: bold\">1</span><span style=\"font-weight: bold\">}</span><span style=\"color: #00ff00; text-decoration-color: #00ff00\"> ──────────────────────────</span>\n",
       "</pre>\n"
      ],
      "text/plain": [
       "\u001b[92m───────────────────────── \u001b[0mupdated: \u001b[1m{\u001b[0m\u001b[1;36m0\u001b[0m: \u001b[1;36m0\u001b[0m, \u001b[1;36m1\u001b[0m: \u001b[1;36m2\u001b[0m, \u001b[1;36m2\u001b[0m: \u001b[1;36m1\u001b[0m, \u001b[1;36m3\u001b[0m: \u001b[1;36m3\u001b[0m, \u001b[1;36m4\u001b[0m: \u001b[1;36m6\u001b[0m, \u001b[1;36m5\u001b[0m: \u001b[1;36m5\u001b[0m\u001b[1m}\u001b[0m, after SWAP\u001b[1m{\u001b[0m\u001b[1;36m2\u001b[0m|\u001b[1;36m1\u001b[0m\u001b[1m}\u001b[0m\u001b[92m ──────────────────────────\u001b[0m\n"
      ]
     },
     "metadata": {},
     "output_type": "display_data"
    },
    {
     "name": "stdout",
     "output_type": "stream",
     "text": [
      "final_mapping: {0: 0, 1: 2, 2: 1, 3: 3, 4: 6, 5: 5}\n"
     ]
    },
    {
     "data": {
      "text/html": [
       "<pre style=\"white-space:pre;overflow-x:auto;line-height:normal;font-family:Menlo,'DejaVu Sans Mono',consolas,'Courier New',monospace\"><span style=\"color: #008000; text-decoration-color: #008000; font-weight: bold\">forward pass</span>\n",
       "</pre>\n"
      ],
      "text/plain": [
       "\u001b[1;32mforward pass\u001b[0m\n"
      ]
     },
     "metadata": {},
     "output_type": "display_data"
    },
    {
     "name": "stdout",
     "output_type": "stream",
     "text": [
      "dag nodes: [H{0}, H{2}, H{5}, Z{0}, X{2←1}, X{5←4}, X{1←0}, X{3←2}, H{2}, H{3}, X{2←1}, X{5←3}, Z{3}, X{3←4}, X{0←3}]\n",
      "initial_mapping: {0: 0, 1: 2, 2: 1, 3: 3, 4: 6, 5: 5}\n"
     ]
    },
    {
     "data": {
      "text/html": [
       "<pre style=\"white-space:pre;overflow-x:auto;line-height:normal;font-family:Menlo,'DejaVu Sans Mono',consolas,'Courier New',monospace\"><span style=\"color: #00ff00; text-decoration-color: #00ff00\">───────────────────────── </span>updated: <span style=\"font-weight: bold\">{</span><span style=\"color: #008080; text-decoration-color: #008080; font-weight: bold\">0</span>: <span style=\"color: #008080; text-decoration-color: #008080; font-weight: bold\">1</span>, <span style=\"color: #008080; text-decoration-color: #008080; font-weight: bold\">1</span>: <span style=\"color: #008080; text-decoration-color: #008080; font-weight: bold\">2</span>, <span style=\"color: #008080; text-decoration-color: #008080; font-weight: bold\">2</span>: <span style=\"color: #008080; text-decoration-color: #008080; font-weight: bold\">0</span>, <span style=\"color: #008080; text-decoration-color: #008080; font-weight: bold\">3</span>: <span style=\"color: #008080; text-decoration-color: #008080; font-weight: bold\">3</span>, <span style=\"color: #008080; text-decoration-color: #008080; font-weight: bold\">4</span>: <span style=\"color: #008080; text-decoration-color: #008080; font-weight: bold\">6</span>, <span style=\"color: #008080; text-decoration-color: #008080; font-weight: bold\">5</span>: <span style=\"color: #008080; text-decoration-color: #008080; font-weight: bold\">5</span><span style=\"font-weight: bold\">}</span>, after SWAP<span style=\"font-weight: bold\">{</span><span style=\"color: #008080; text-decoration-color: #008080; font-weight: bold\">0</span>|<span style=\"color: #008080; text-decoration-color: #008080; font-weight: bold\">2</span><span style=\"font-weight: bold\">}</span><span style=\"color: #00ff00; text-decoration-color: #00ff00\"> ──────────────────────────</span>\n",
       "</pre>\n"
      ],
      "text/plain": [
       "\u001b[92m───────────────────────── \u001b[0mupdated: \u001b[1m{\u001b[0m\u001b[1;36m0\u001b[0m: \u001b[1;36m1\u001b[0m, \u001b[1;36m1\u001b[0m: \u001b[1;36m2\u001b[0m, \u001b[1;36m2\u001b[0m: \u001b[1;36m0\u001b[0m, \u001b[1;36m3\u001b[0m: \u001b[1;36m3\u001b[0m, \u001b[1;36m4\u001b[0m: \u001b[1;36m6\u001b[0m, \u001b[1;36m5\u001b[0m: \u001b[1;36m5\u001b[0m\u001b[1m}\u001b[0m, after SWAP\u001b[1m{\u001b[0m\u001b[1;36m0\u001b[0m|\u001b[1;36m2\u001b[0m\u001b[1m}\u001b[0m\u001b[92m ──────────────────────────\u001b[0m\n"
      ]
     },
     "metadata": {},
     "output_type": "display_data"
    },
    {
     "data": {
      "text/html": [
       "<pre style=\"white-space:pre;overflow-x:auto;line-height:normal;font-family:Menlo,'DejaVu Sans Mono',consolas,'Courier New',monospace\"><span style=\"color: #00ff00; text-decoration-color: #00ff00\">───────────────────────── </span>updated: <span style=\"font-weight: bold\">{</span><span style=\"color: #008080; text-decoration-color: #008080; font-weight: bold\">0</span>: <span style=\"color: #008080; text-decoration-color: #008080; font-weight: bold\">1</span>, <span style=\"color: #008080; text-decoration-color: #008080; font-weight: bold\">1</span>: <span style=\"color: #008080; text-decoration-color: #008080; font-weight: bold\">2</span>, <span style=\"color: #008080; text-decoration-color: #008080; font-weight: bold\">2</span>: <span style=\"color: #008080; text-decoration-color: #008080; font-weight: bold\">0</span>, <span style=\"color: #008080; text-decoration-color: #008080; font-weight: bold\">3</span>: <span style=\"color: #008080; text-decoration-color: #008080; font-weight: bold\">3</span>, <span style=\"color: #008080; text-decoration-color: #008080; font-weight: bold\">4</span>: <span style=\"color: #008080; text-decoration-color: #008080; font-weight: bold\">5</span>, <span style=\"color: #008080; text-decoration-color: #008080; font-weight: bold\">5</span>: <span style=\"color: #008080; text-decoration-color: #008080; font-weight: bold\">6</span><span style=\"font-weight: bold\">}</span>, after SWAP<span style=\"font-weight: bold\">{</span><span style=\"color: #008080; text-decoration-color: #008080; font-weight: bold\">4</span>|<span style=\"color: #008080; text-decoration-color: #008080; font-weight: bold\">5</span><span style=\"font-weight: bold\">}</span><span style=\"color: #00ff00; text-decoration-color: #00ff00\"> ──────────────────────────</span>\n",
       "</pre>\n"
      ],
      "text/plain": [
       "\u001b[92m───────────────────────── \u001b[0mupdated: \u001b[1m{\u001b[0m\u001b[1;36m0\u001b[0m: \u001b[1;36m1\u001b[0m, \u001b[1;36m1\u001b[0m: \u001b[1;36m2\u001b[0m, \u001b[1;36m2\u001b[0m: \u001b[1;36m0\u001b[0m, \u001b[1;36m3\u001b[0m: \u001b[1;36m3\u001b[0m, \u001b[1;36m4\u001b[0m: \u001b[1;36m5\u001b[0m, \u001b[1;36m5\u001b[0m: \u001b[1;36m6\u001b[0m\u001b[1m}\u001b[0m, after SWAP\u001b[1m{\u001b[0m\u001b[1;36m4\u001b[0m|\u001b[1;36m5\u001b[0m\u001b[1m}\u001b[0m\u001b[92m ──────────────────────────\u001b[0m\n"
      ]
     },
     "metadata": {},
     "output_type": "display_data"
    },
    {
     "data": {
      "text/html": [
       "<pre style=\"white-space:pre;overflow-x:auto;line-height:normal;font-family:Menlo,'DejaVu Sans Mono',consolas,'Courier New',monospace\"><span style=\"color: #00ff00; text-decoration-color: #00ff00\">───────────────────────── </span>updated: <span style=\"font-weight: bold\">{</span><span style=\"color: #008080; text-decoration-color: #008080; font-weight: bold\">0</span>: <span style=\"color: #008080; text-decoration-color: #008080; font-weight: bold\">2</span>, <span style=\"color: #008080; text-decoration-color: #008080; font-weight: bold\">1</span>: <span style=\"color: #008080; text-decoration-color: #008080; font-weight: bold\">1</span>, <span style=\"color: #008080; text-decoration-color: #008080; font-weight: bold\">2</span>: <span style=\"color: #008080; text-decoration-color: #008080; font-weight: bold\">0</span>, <span style=\"color: #008080; text-decoration-color: #008080; font-weight: bold\">3</span>: <span style=\"color: #008080; text-decoration-color: #008080; font-weight: bold\">3</span>, <span style=\"color: #008080; text-decoration-color: #008080; font-weight: bold\">4</span>: <span style=\"color: #008080; text-decoration-color: #008080; font-weight: bold\">5</span>, <span style=\"color: #008080; text-decoration-color: #008080; font-weight: bold\">5</span>: <span style=\"color: #008080; text-decoration-color: #008080; font-weight: bold\">6</span><span style=\"font-weight: bold\">}</span>, after SWAP<span style=\"font-weight: bold\">{</span><span style=\"color: #008080; text-decoration-color: #008080; font-weight: bold\">1</span>|<span style=\"color: #008080; text-decoration-color: #008080; font-weight: bold\">0</span><span style=\"font-weight: bold\">}</span><span style=\"color: #00ff00; text-decoration-color: #00ff00\"> ──────────────────────────</span>\n",
       "</pre>\n"
      ],
      "text/plain": [
       "\u001b[92m───────────────────────── \u001b[0mupdated: \u001b[1m{\u001b[0m\u001b[1;36m0\u001b[0m: \u001b[1;36m2\u001b[0m, \u001b[1;36m1\u001b[0m: \u001b[1;36m1\u001b[0m, \u001b[1;36m2\u001b[0m: \u001b[1;36m0\u001b[0m, \u001b[1;36m3\u001b[0m: \u001b[1;36m3\u001b[0m, \u001b[1;36m4\u001b[0m: \u001b[1;36m5\u001b[0m, \u001b[1;36m5\u001b[0m: \u001b[1;36m6\u001b[0m\u001b[1m}\u001b[0m, after SWAP\u001b[1m{\u001b[0m\u001b[1;36m1\u001b[0m|\u001b[1;36m0\u001b[0m\u001b[1m}\u001b[0m\u001b[92m ──────────────────────────\u001b[0m\n"
      ]
     },
     "metadata": {},
     "output_type": "display_data"
    },
    {
     "name": "stdout",
     "output_type": "stream",
     "text": [
      "final_mapping: {0: 2, 1: 1, 2: 0, 3: 3, 4: 5, 5: 6}\n"
     ]
    },
    {
     "data": {
      "text/html": [
       "<pre style=\"white-space:pre;overflow-x:auto;line-height:normal;font-family:Menlo,'DejaVu Sans Mono',consolas,'Courier New',monospace\"><span style=\"color: #00ff00; text-decoration-color: #00ff00\">──────────────────────────────────────── </span>SABRE bidirectional pass period <span style=\"color: #008080; text-decoration-color: #008080; font-weight: bold\">1</span><span style=\"color: #00ff00; text-decoration-color: #00ff00\"> ────────────────────────────────────────</span>\n",
       "</pre>\n"
      ],
      "text/plain": [
       "\u001b[92m──────────────────────────────────────── \u001b[0mSABRE bidirectional pass period \u001b[1;36m1\u001b[0m\u001b[92m ────────────────────────────────────────\u001b[0m\n"
      ]
     },
     "metadata": {},
     "output_type": "display_data"
    },
    {
     "data": {
      "text/html": [
       "<pre style=\"white-space:pre;overflow-x:auto;line-height:normal;font-family:Menlo,'DejaVu Sans Mono',consolas,'Courier New',monospace\"><span style=\"color: #000080; text-decoration-color: #000080; font-weight: bold\">reversed pass</span>\n",
       "</pre>\n"
      ],
      "text/plain": [
       "\u001b[1;34mreversed pass\u001b[0m\n"
      ]
     },
     "metadata": {},
     "output_type": "display_data"
    },
    {
     "name": "stdout",
     "output_type": "stream",
     "text": [
      "dag nodes: [X{0←3}, X{3←4}, Z{3}, X{5←3}, X{2←1}, H{3}, H{2}, X{3←2}, X{1←0}, X{5←4}, X{2←1}, Z{0}, H{5}, H{2}, H{0}]\n",
      "initial_mapping: {0: 2, 1: 1, 2: 0, 3: 3, 4: 5, 5: 6}\n"
     ]
    },
    {
     "data": {
      "text/html": [
       "<pre style=\"white-space:pre;overflow-x:auto;line-height:normal;font-family:Menlo,'DejaVu Sans Mono',consolas,'Courier New',monospace\"><span style=\"color: #00ff00; text-decoration-color: #00ff00\">───────────────────────── </span>updated: <span style=\"font-weight: bold\">{</span><span style=\"color: #008080; text-decoration-color: #008080; font-weight: bold\">0</span>: <span style=\"color: #008080; text-decoration-color: #008080; font-weight: bold\">1</span>, <span style=\"color: #008080; text-decoration-color: #008080; font-weight: bold\">1</span>: <span style=\"color: #008080; text-decoration-color: #008080; font-weight: bold\">2</span>, <span style=\"color: #008080; text-decoration-color: #008080; font-weight: bold\">2</span>: <span style=\"color: #008080; text-decoration-color: #008080; font-weight: bold\">0</span>, <span style=\"color: #008080; text-decoration-color: #008080; font-weight: bold\">3</span>: <span style=\"color: #008080; text-decoration-color: #008080; font-weight: bold\">3</span>, <span style=\"color: #008080; text-decoration-color: #008080; font-weight: bold\">4</span>: <span style=\"color: #008080; text-decoration-color: #008080; font-weight: bold\">5</span>, <span style=\"color: #008080; text-decoration-color: #008080; font-weight: bold\">5</span>: <span style=\"color: #008080; text-decoration-color: #008080; font-weight: bold\">6</span><span style=\"font-weight: bold\">}</span>, after SWAP<span style=\"font-weight: bold\">{</span><span style=\"color: #008080; text-decoration-color: #008080; font-weight: bold\">0</span>|<span style=\"color: #008080; text-decoration-color: #008080; font-weight: bold\">1</span><span style=\"font-weight: bold\">}</span><span style=\"color: #00ff00; text-decoration-color: #00ff00\"> ──────────────────────────</span>\n",
       "</pre>\n"
      ],
      "text/plain": [
       "\u001b[92m───────────────────────── \u001b[0mupdated: \u001b[1m{\u001b[0m\u001b[1;36m0\u001b[0m: \u001b[1;36m1\u001b[0m, \u001b[1;36m1\u001b[0m: \u001b[1;36m2\u001b[0m, \u001b[1;36m2\u001b[0m: \u001b[1;36m0\u001b[0m, \u001b[1;36m3\u001b[0m: \u001b[1;36m3\u001b[0m, \u001b[1;36m4\u001b[0m: \u001b[1;36m5\u001b[0m, \u001b[1;36m5\u001b[0m: \u001b[1;36m6\u001b[0m\u001b[1m}\u001b[0m, after SWAP\u001b[1m{\u001b[0m\u001b[1;36m0\u001b[0m|\u001b[1;36m1\u001b[0m\u001b[1m}\u001b[0m\u001b[92m ──────────────────────────\u001b[0m\n"
      ]
     },
     "metadata": {},
     "output_type": "display_data"
    },
    {
     "data": {
      "text/html": [
       "<pre style=\"white-space:pre;overflow-x:auto;line-height:normal;font-family:Menlo,'DejaVu Sans Mono',consolas,'Courier New',monospace\"><span style=\"color: #00ff00; text-decoration-color: #00ff00\">───────────────────────── </span>updated: <span style=\"font-weight: bold\">{</span><span style=\"color: #008080; text-decoration-color: #008080; font-weight: bold\">0</span>: <span style=\"color: #008080; text-decoration-color: #008080; font-weight: bold\">1</span>, <span style=\"color: #008080; text-decoration-color: #008080; font-weight: bold\">1</span>: <span style=\"color: #008080; text-decoration-color: #008080; font-weight: bold\">2</span>, <span style=\"color: #008080; text-decoration-color: #008080; font-weight: bold\">2</span>: <span style=\"color: #008080; text-decoration-color: #008080; font-weight: bold\">0</span>, <span style=\"color: #008080; text-decoration-color: #008080; font-weight: bold\">3</span>: <span style=\"color: #008080; text-decoration-color: #008080; font-weight: bold\">3</span>, <span style=\"color: #008080; text-decoration-color: #008080; font-weight: bold\">4</span>: <span style=\"color: #008080; text-decoration-color: #008080; font-weight: bold\">6</span>, <span style=\"color: #008080; text-decoration-color: #008080; font-weight: bold\">5</span>: <span style=\"color: #008080; text-decoration-color: #008080; font-weight: bold\">5</span><span style=\"font-weight: bold\">}</span>, after SWAP<span style=\"font-weight: bold\">{</span><span style=\"color: #008080; text-decoration-color: #008080; font-weight: bold\">5</span>|<span style=\"color: #008080; text-decoration-color: #008080; font-weight: bold\">4</span><span style=\"font-weight: bold\">}</span><span style=\"color: #00ff00; text-decoration-color: #00ff00\"> ──────────────────────────</span>\n",
       "</pre>\n"
      ],
      "text/plain": [
       "\u001b[92m───────────────────────── \u001b[0mupdated: \u001b[1m{\u001b[0m\u001b[1;36m0\u001b[0m: \u001b[1;36m1\u001b[0m, \u001b[1;36m1\u001b[0m: \u001b[1;36m2\u001b[0m, \u001b[1;36m2\u001b[0m: \u001b[1;36m0\u001b[0m, \u001b[1;36m3\u001b[0m: \u001b[1;36m3\u001b[0m, \u001b[1;36m4\u001b[0m: \u001b[1;36m6\u001b[0m, \u001b[1;36m5\u001b[0m: \u001b[1;36m5\u001b[0m\u001b[1m}\u001b[0m, after SWAP\u001b[1m{\u001b[0m\u001b[1;36m5\u001b[0m|\u001b[1;36m4\u001b[0m\u001b[1m}\u001b[0m\u001b[92m ──────────────────────────\u001b[0m\n"
      ]
     },
     "metadata": {},
     "output_type": "display_data"
    },
    {
     "data": {
      "text/html": [
       "<pre style=\"white-space:pre;overflow-x:auto;line-height:normal;font-family:Menlo,'DejaVu Sans Mono',consolas,'Courier New',monospace\"><span style=\"color: #00ff00; text-decoration-color: #00ff00\">───────────────────────── </span>updated: <span style=\"font-weight: bold\">{</span><span style=\"color: #008080; text-decoration-color: #008080; font-weight: bold\">0</span>: <span style=\"color: #008080; text-decoration-color: #008080; font-weight: bold\">0</span>, <span style=\"color: #008080; text-decoration-color: #008080; font-weight: bold\">1</span>: <span style=\"color: #008080; text-decoration-color: #008080; font-weight: bold\">2</span>, <span style=\"color: #008080; text-decoration-color: #008080; font-weight: bold\">2</span>: <span style=\"color: #008080; text-decoration-color: #008080; font-weight: bold\">1</span>, <span style=\"color: #008080; text-decoration-color: #008080; font-weight: bold\">3</span>: <span style=\"color: #008080; text-decoration-color: #008080; font-weight: bold\">3</span>, <span style=\"color: #008080; text-decoration-color: #008080; font-weight: bold\">4</span>: <span style=\"color: #008080; text-decoration-color: #008080; font-weight: bold\">6</span>, <span style=\"color: #008080; text-decoration-color: #008080; font-weight: bold\">5</span>: <span style=\"color: #008080; text-decoration-color: #008080; font-weight: bold\">5</span><span style=\"font-weight: bold\">}</span>, after SWAP<span style=\"font-weight: bold\">{</span><span style=\"color: #008080; text-decoration-color: #008080; font-weight: bold\">2</span>|<span style=\"color: #008080; text-decoration-color: #008080; font-weight: bold\">0</span><span style=\"font-weight: bold\">}</span><span style=\"color: #00ff00; text-decoration-color: #00ff00\"> ──────────────────────────</span>\n",
       "</pre>\n"
      ],
      "text/plain": [
       "\u001b[92m───────────────────────── \u001b[0mupdated: \u001b[1m{\u001b[0m\u001b[1;36m0\u001b[0m: \u001b[1;36m0\u001b[0m, \u001b[1;36m1\u001b[0m: \u001b[1;36m2\u001b[0m, \u001b[1;36m2\u001b[0m: \u001b[1;36m1\u001b[0m, \u001b[1;36m3\u001b[0m: \u001b[1;36m3\u001b[0m, \u001b[1;36m4\u001b[0m: \u001b[1;36m6\u001b[0m, \u001b[1;36m5\u001b[0m: \u001b[1;36m5\u001b[0m\u001b[1m}\u001b[0m, after SWAP\u001b[1m{\u001b[0m\u001b[1;36m2\u001b[0m|\u001b[1;36m0\u001b[0m\u001b[1m}\u001b[0m\u001b[92m ──────────────────────────\u001b[0m\n"
      ]
     },
     "metadata": {},
     "output_type": "display_data"
    },
    {
     "name": "stdout",
     "output_type": "stream",
     "text": [
      "final_mapping: {0: 0, 1: 2, 2: 1, 3: 3, 4: 6, 5: 5}\n"
     ]
    },
    {
     "data": {
      "text/html": [
       "<pre style=\"white-space:pre;overflow-x:auto;line-height:normal;font-family:Menlo,'DejaVu Sans Mono',consolas,'Courier New',monospace\"><span style=\"color: #008000; text-decoration-color: #008000; font-weight: bold\">forward pass</span>\n",
       "</pre>\n"
      ],
      "text/plain": [
       "\u001b[1;32mforward pass\u001b[0m\n"
      ]
     },
     "metadata": {},
     "output_type": "display_data"
    },
    {
     "name": "stdout",
     "output_type": "stream",
     "text": [
      "dag nodes: [H{0}, H{2}, H{5}, Z{0}, X{2←1}, X{5←4}, X{1←0}, X{3←2}, H{2}, H{3}, X{2←1}, X{5←3}, Z{3}, X{3←4}, X{0←3}]\n",
      "initial_mapping: {0: 0, 1: 2, 2: 1, 3: 3, 4: 6, 5: 5}\n"
     ]
    },
    {
     "data": {
      "text/html": [
       "<pre style=\"white-space:pre;overflow-x:auto;line-height:normal;font-family:Menlo,'DejaVu Sans Mono',consolas,'Courier New',monospace\"><span style=\"color: #00ff00; text-decoration-color: #00ff00\">───────────────────────── </span>updated: <span style=\"font-weight: bold\">{</span><span style=\"color: #008080; text-decoration-color: #008080; font-weight: bold\">0</span>: <span style=\"color: #008080; text-decoration-color: #008080; font-weight: bold\">1</span>, <span style=\"color: #008080; text-decoration-color: #008080; font-weight: bold\">1</span>: <span style=\"color: #008080; text-decoration-color: #008080; font-weight: bold\">2</span>, <span style=\"color: #008080; text-decoration-color: #008080; font-weight: bold\">2</span>: <span style=\"color: #008080; text-decoration-color: #008080; font-weight: bold\">0</span>, <span style=\"color: #008080; text-decoration-color: #008080; font-weight: bold\">3</span>: <span style=\"color: #008080; text-decoration-color: #008080; font-weight: bold\">3</span>, <span style=\"color: #008080; text-decoration-color: #008080; font-weight: bold\">4</span>: <span style=\"color: #008080; text-decoration-color: #008080; font-weight: bold\">6</span>, <span style=\"color: #008080; text-decoration-color: #008080; font-weight: bold\">5</span>: <span style=\"color: #008080; text-decoration-color: #008080; font-weight: bold\">5</span><span style=\"font-weight: bold\">}</span>, after SWAP<span style=\"font-weight: bold\">{</span><span style=\"color: #008080; text-decoration-color: #008080; font-weight: bold\">0</span>|<span style=\"color: #008080; text-decoration-color: #008080; font-weight: bold\">2</span><span style=\"font-weight: bold\">}</span><span style=\"color: #00ff00; text-decoration-color: #00ff00\"> ──────────────────────────</span>\n",
       "</pre>\n"
      ],
      "text/plain": [
       "\u001b[92m───────────────────────── \u001b[0mupdated: \u001b[1m{\u001b[0m\u001b[1;36m0\u001b[0m: \u001b[1;36m1\u001b[0m, \u001b[1;36m1\u001b[0m: \u001b[1;36m2\u001b[0m, \u001b[1;36m2\u001b[0m: \u001b[1;36m0\u001b[0m, \u001b[1;36m3\u001b[0m: \u001b[1;36m3\u001b[0m, \u001b[1;36m4\u001b[0m: \u001b[1;36m6\u001b[0m, \u001b[1;36m5\u001b[0m: \u001b[1;36m5\u001b[0m\u001b[1m}\u001b[0m, after SWAP\u001b[1m{\u001b[0m\u001b[1;36m0\u001b[0m|\u001b[1;36m2\u001b[0m\u001b[1m}\u001b[0m\u001b[92m ──────────────────────────\u001b[0m\n"
      ]
     },
     "metadata": {},
     "output_type": "display_data"
    },
    {
     "data": {
      "text/html": [
       "<pre style=\"white-space:pre;overflow-x:auto;line-height:normal;font-family:Menlo,'DejaVu Sans Mono',consolas,'Courier New',monospace\"><span style=\"color: #00ff00; text-decoration-color: #00ff00\">───────────────────────── </span>updated: <span style=\"font-weight: bold\">{</span><span style=\"color: #008080; text-decoration-color: #008080; font-weight: bold\">0</span>: <span style=\"color: #008080; text-decoration-color: #008080; font-weight: bold\">1</span>, <span style=\"color: #008080; text-decoration-color: #008080; font-weight: bold\">1</span>: <span style=\"color: #008080; text-decoration-color: #008080; font-weight: bold\">2</span>, <span style=\"color: #008080; text-decoration-color: #008080; font-weight: bold\">2</span>: <span style=\"color: #008080; text-decoration-color: #008080; font-weight: bold\">0</span>, <span style=\"color: #008080; text-decoration-color: #008080; font-weight: bold\">3</span>: <span style=\"color: #008080; text-decoration-color: #008080; font-weight: bold\">3</span>, <span style=\"color: #008080; text-decoration-color: #008080; font-weight: bold\">4</span>: <span style=\"color: #008080; text-decoration-color: #008080; font-weight: bold\">5</span>, <span style=\"color: #008080; text-decoration-color: #008080; font-weight: bold\">5</span>: <span style=\"color: #008080; text-decoration-color: #008080; font-weight: bold\">6</span><span style=\"font-weight: bold\">}</span>, after SWAP<span style=\"font-weight: bold\">{</span><span style=\"color: #008080; text-decoration-color: #008080; font-weight: bold\">4</span>|<span style=\"color: #008080; text-decoration-color: #008080; font-weight: bold\">5</span><span style=\"font-weight: bold\">}</span><span style=\"color: #00ff00; text-decoration-color: #00ff00\"> ──────────────────────────</span>\n",
       "</pre>\n"
      ],
      "text/plain": [
       "\u001b[92m───────────────────────── \u001b[0mupdated: \u001b[1m{\u001b[0m\u001b[1;36m0\u001b[0m: \u001b[1;36m1\u001b[0m, \u001b[1;36m1\u001b[0m: \u001b[1;36m2\u001b[0m, \u001b[1;36m2\u001b[0m: \u001b[1;36m0\u001b[0m, \u001b[1;36m3\u001b[0m: \u001b[1;36m3\u001b[0m, \u001b[1;36m4\u001b[0m: \u001b[1;36m5\u001b[0m, \u001b[1;36m5\u001b[0m: \u001b[1;36m6\u001b[0m\u001b[1m}\u001b[0m, after SWAP\u001b[1m{\u001b[0m\u001b[1;36m4\u001b[0m|\u001b[1;36m5\u001b[0m\u001b[1m}\u001b[0m\u001b[92m ──────────────────────────\u001b[0m\n"
      ]
     },
     "metadata": {},
     "output_type": "display_data"
    },
    {
     "data": {
      "text/html": [
       "<pre style=\"white-space:pre;overflow-x:auto;line-height:normal;font-family:Menlo,'DejaVu Sans Mono',consolas,'Courier New',monospace\"><span style=\"color: #00ff00; text-decoration-color: #00ff00\">───────────────────────── </span>updated: <span style=\"font-weight: bold\">{</span><span style=\"color: #008080; text-decoration-color: #008080; font-weight: bold\">0</span>: <span style=\"color: #008080; text-decoration-color: #008080; font-weight: bold\">2</span>, <span style=\"color: #008080; text-decoration-color: #008080; font-weight: bold\">1</span>: <span style=\"color: #008080; text-decoration-color: #008080; font-weight: bold\">1</span>, <span style=\"color: #008080; text-decoration-color: #008080; font-weight: bold\">2</span>: <span style=\"color: #008080; text-decoration-color: #008080; font-weight: bold\">0</span>, <span style=\"color: #008080; text-decoration-color: #008080; font-weight: bold\">3</span>: <span style=\"color: #008080; text-decoration-color: #008080; font-weight: bold\">3</span>, <span style=\"color: #008080; text-decoration-color: #008080; font-weight: bold\">4</span>: <span style=\"color: #008080; text-decoration-color: #008080; font-weight: bold\">5</span>, <span style=\"color: #008080; text-decoration-color: #008080; font-weight: bold\">5</span>: <span style=\"color: #008080; text-decoration-color: #008080; font-weight: bold\">6</span><span style=\"font-weight: bold\">}</span>, after SWAP<span style=\"font-weight: bold\">{</span><span style=\"color: #008080; text-decoration-color: #008080; font-weight: bold\">1</span>|<span style=\"color: #008080; text-decoration-color: #008080; font-weight: bold\">0</span><span style=\"font-weight: bold\">}</span><span style=\"color: #00ff00; text-decoration-color: #00ff00\"> ──────────────────────────</span>\n",
       "</pre>\n"
      ],
      "text/plain": [
       "\u001b[92m───────────────────────── \u001b[0mupdated: \u001b[1m{\u001b[0m\u001b[1;36m0\u001b[0m: \u001b[1;36m2\u001b[0m, \u001b[1;36m1\u001b[0m: \u001b[1;36m1\u001b[0m, \u001b[1;36m2\u001b[0m: \u001b[1;36m0\u001b[0m, \u001b[1;36m3\u001b[0m: \u001b[1;36m3\u001b[0m, \u001b[1;36m4\u001b[0m: \u001b[1;36m5\u001b[0m, \u001b[1;36m5\u001b[0m: \u001b[1;36m6\u001b[0m\u001b[1m}\u001b[0m, after SWAP\u001b[1m{\u001b[0m\u001b[1;36m1\u001b[0m|\u001b[1;36m0\u001b[0m\u001b[1m}\u001b[0m\u001b[92m ──────────────────────────\u001b[0m\n"
      ]
     },
     "metadata": {},
     "output_type": "display_data"
    },
    {
     "name": "stdout",
     "output_type": "stream",
     "text": [
      "final_mapping: {0: 2, 1: 1, 2: 0, 3: 3, 4: 5, 5: 6}\n"
     ]
    },
    {
     "data": {
      "text/html": [
       "<pre style=\"white-space:pre;overflow-x:auto;line-height:normal;font-family:Menlo,'DejaVu Sans Mono',consolas,'Courier New',monospace\"><span style=\"color: #00ff00; text-decoration-color: #00ff00\">──────────────────────────────────────── </span>SABRE bidirectional pass period <span style=\"color: #008080; text-decoration-color: #008080; font-weight: bold\">2</span><span style=\"color: #00ff00; text-decoration-color: #00ff00\"> ────────────────────────────────────────</span>\n",
       "</pre>\n"
      ],
      "text/plain": [
       "\u001b[92m──────────────────────────────────────── \u001b[0mSABRE bidirectional pass period \u001b[1;36m2\u001b[0m\u001b[92m ────────────────────────────────────────\u001b[0m\n"
      ]
     },
     "metadata": {},
     "output_type": "display_data"
    },
    {
     "data": {
      "text/html": [
       "<pre style=\"white-space:pre;overflow-x:auto;line-height:normal;font-family:Menlo,'DejaVu Sans Mono',consolas,'Courier New',monospace\"><span style=\"color: #000080; text-decoration-color: #000080; font-weight: bold\">reversed pass</span>\n",
       "</pre>\n"
      ],
      "text/plain": [
       "\u001b[1;34mreversed pass\u001b[0m\n"
      ]
     },
     "metadata": {},
     "output_type": "display_data"
    },
    {
     "name": "stdout",
     "output_type": "stream",
     "text": [
      "dag nodes: [X{0←3}, X{3←4}, Z{3}, X{5←3}, X{2←1}, H{3}, H{2}, X{3←2}, X{1←0}, X{5←4}, X{2←1}, Z{0}, H{5}, H{2}, H{0}]\n",
      "initial_mapping: {0: 2, 1: 1, 2: 0, 3: 3, 4: 5, 5: 6}\n"
     ]
    },
    {
     "data": {
      "text/html": [
       "<pre style=\"white-space:pre;overflow-x:auto;line-height:normal;font-family:Menlo,'DejaVu Sans Mono',consolas,'Courier New',monospace\"><span style=\"color: #00ff00; text-decoration-color: #00ff00\">───────────────────────── </span>updated: <span style=\"font-weight: bold\">{</span><span style=\"color: #008080; text-decoration-color: #008080; font-weight: bold\">0</span>: <span style=\"color: #008080; text-decoration-color: #008080; font-weight: bold\">1</span>, <span style=\"color: #008080; text-decoration-color: #008080; font-weight: bold\">1</span>: <span style=\"color: #008080; text-decoration-color: #008080; font-weight: bold\">2</span>, <span style=\"color: #008080; text-decoration-color: #008080; font-weight: bold\">2</span>: <span style=\"color: #008080; text-decoration-color: #008080; font-weight: bold\">0</span>, <span style=\"color: #008080; text-decoration-color: #008080; font-weight: bold\">3</span>: <span style=\"color: #008080; text-decoration-color: #008080; font-weight: bold\">3</span>, <span style=\"color: #008080; text-decoration-color: #008080; font-weight: bold\">4</span>: <span style=\"color: #008080; text-decoration-color: #008080; font-weight: bold\">5</span>, <span style=\"color: #008080; text-decoration-color: #008080; font-weight: bold\">5</span>: <span style=\"color: #008080; text-decoration-color: #008080; font-weight: bold\">6</span><span style=\"font-weight: bold\">}</span>, after SWAP<span style=\"font-weight: bold\">{</span><span style=\"color: #008080; text-decoration-color: #008080; font-weight: bold\">0</span>|<span style=\"color: #008080; text-decoration-color: #008080; font-weight: bold\">1</span><span style=\"font-weight: bold\">}</span><span style=\"color: #00ff00; text-decoration-color: #00ff00\"> ──────────────────────────</span>\n",
       "</pre>\n"
      ],
      "text/plain": [
       "\u001b[92m───────────────────────── \u001b[0mupdated: \u001b[1m{\u001b[0m\u001b[1;36m0\u001b[0m: \u001b[1;36m1\u001b[0m, \u001b[1;36m1\u001b[0m: \u001b[1;36m2\u001b[0m, \u001b[1;36m2\u001b[0m: \u001b[1;36m0\u001b[0m, \u001b[1;36m3\u001b[0m: \u001b[1;36m3\u001b[0m, \u001b[1;36m4\u001b[0m: \u001b[1;36m5\u001b[0m, \u001b[1;36m5\u001b[0m: \u001b[1;36m6\u001b[0m\u001b[1m}\u001b[0m, after SWAP\u001b[1m{\u001b[0m\u001b[1;36m0\u001b[0m|\u001b[1;36m1\u001b[0m\u001b[1m}\u001b[0m\u001b[92m ──────────────────────────\u001b[0m\n"
      ]
     },
     "metadata": {},
     "output_type": "display_data"
    },
    {
     "data": {
      "text/html": [
       "<pre style=\"white-space:pre;overflow-x:auto;line-height:normal;font-family:Menlo,'DejaVu Sans Mono',consolas,'Courier New',monospace\"><span style=\"color: #00ff00; text-decoration-color: #00ff00\">───────────────────────── </span>updated: <span style=\"font-weight: bold\">{</span><span style=\"color: #008080; text-decoration-color: #008080; font-weight: bold\">0</span>: <span style=\"color: #008080; text-decoration-color: #008080; font-weight: bold\">1</span>, <span style=\"color: #008080; text-decoration-color: #008080; font-weight: bold\">1</span>: <span style=\"color: #008080; text-decoration-color: #008080; font-weight: bold\">2</span>, <span style=\"color: #008080; text-decoration-color: #008080; font-weight: bold\">2</span>: <span style=\"color: #008080; text-decoration-color: #008080; font-weight: bold\">0</span>, <span style=\"color: #008080; text-decoration-color: #008080; font-weight: bold\">3</span>: <span style=\"color: #008080; text-decoration-color: #008080; font-weight: bold\">3</span>, <span style=\"color: #008080; text-decoration-color: #008080; font-weight: bold\">4</span>: <span style=\"color: #008080; text-decoration-color: #008080; font-weight: bold\">6</span>, <span style=\"color: #008080; text-decoration-color: #008080; font-weight: bold\">5</span>: <span style=\"color: #008080; text-decoration-color: #008080; font-weight: bold\">5</span><span style=\"font-weight: bold\">}</span>, after SWAP<span style=\"font-weight: bold\">{</span><span style=\"color: #008080; text-decoration-color: #008080; font-weight: bold\">5</span>|<span style=\"color: #008080; text-decoration-color: #008080; font-weight: bold\">4</span><span style=\"font-weight: bold\">}</span><span style=\"color: #00ff00; text-decoration-color: #00ff00\"> ──────────────────────────</span>\n",
       "</pre>\n"
      ],
      "text/plain": [
       "\u001b[92m───────────────────────── \u001b[0mupdated: \u001b[1m{\u001b[0m\u001b[1;36m0\u001b[0m: \u001b[1;36m1\u001b[0m, \u001b[1;36m1\u001b[0m: \u001b[1;36m2\u001b[0m, \u001b[1;36m2\u001b[0m: \u001b[1;36m0\u001b[0m, \u001b[1;36m3\u001b[0m: \u001b[1;36m3\u001b[0m, \u001b[1;36m4\u001b[0m: \u001b[1;36m6\u001b[0m, \u001b[1;36m5\u001b[0m: \u001b[1;36m5\u001b[0m\u001b[1m}\u001b[0m, after SWAP\u001b[1m{\u001b[0m\u001b[1;36m5\u001b[0m|\u001b[1;36m4\u001b[0m\u001b[1m}\u001b[0m\u001b[92m ──────────────────────────\u001b[0m\n"
      ]
     },
     "metadata": {},
     "output_type": "display_data"
    },
    {
     "data": {
      "text/html": [
       "<pre style=\"white-space:pre;overflow-x:auto;line-height:normal;font-family:Menlo,'DejaVu Sans Mono',consolas,'Courier New',monospace\"><span style=\"color: #00ff00; text-decoration-color: #00ff00\">───────────────────────── </span>updated: <span style=\"font-weight: bold\">{</span><span style=\"color: #008080; text-decoration-color: #008080; font-weight: bold\">0</span>: <span style=\"color: #008080; text-decoration-color: #008080; font-weight: bold\">0</span>, <span style=\"color: #008080; text-decoration-color: #008080; font-weight: bold\">1</span>: <span style=\"color: #008080; text-decoration-color: #008080; font-weight: bold\">2</span>, <span style=\"color: #008080; text-decoration-color: #008080; font-weight: bold\">2</span>: <span style=\"color: #008080; text-decoration-color: #008080; font-weight: bold\">1</span>, <span style=\"color: #008080; text-decoration-color: #008080; font-weight: bold\">3</span>: <span style=\"color: #008080; text-decoration-color: #008080; font-weight: bold\">3</span>, <span style=\"color: #008080; text-decoration-color: #008080; font-weight: bold\">4</span>: <span style=\"color: #008080; text-decoration-color: #008080; font-weight: bold\">6</span>, <span style=\"color: #008080; text-decoration-color: #008080; font-weight: bold\">5</span>: <span style=\"color: #008080; text-decoration-color: #008080; font-weight: bold\">5</span><span style=\"font-weight: bold\">}</span>, after SWAP<span style=\"font-weight: bold\">{</span><span style=\"color: #008080; text-decoration-color: #008080; font-weight: bold\">2</span>|<span style=\"color: #008080; text-decoration-color: #008080; font-weight: bold\">0</span><span style=\"font-weight: bold\">}</span><span style=\"color: #00ff00; text-decoration-color: #00ff00\"> ──────────────────────────</span>\n",
       "</pre>\n"
      ],
      "text/plain": [
       "\u001b[92m───────────────────────── \u001b[0mupdated: \u001b[1m{\u001b[0m\u001b[1;36m0\u001b[0m: \u001b[1;36m0\u001b[0m, \u001b[1;36m1\u001b[0m: \u001b[1;36m2\u001b[0m, \u001b[1;36m2\u001b[0m: \u001b[1;36m1\u001b[0m, \u001b[1;36m3\u001b[0m: \u001b[1;36m3\u001b[0m, \u001b[1;36m4\u001b[0m: \u001b[1;36m6\u001b[0m, \u001b[1;36m5\u001b[0m: \u001b[1;36m5\u001b[0m\u001b[1m}\u001b[0m, after SWAP\u001b[1m{\u001b[0m\u001b[1;36m2\u001b[0m|\u001b[1;36m0\u001b[0m\u001b[1m}\u001b[0m\u001b[92m ──────────────────────────\u001b[0m\n"
      ]
     },
     "metadata": {},
     "output_type": "display_data"
    },
    {
     "name": "stdout",
     "output_type": "stream",
     "text": [
      "final_mapping: {0: 0, 1: 2, 2: 1, 3: 3, 4: 6, 5: 5}\n"
     ]
    },
    {
     "data": {
      "text/html": [
       "<pre style=\"white-space:pre;overflow-x:auto;line-height:normal;font-family:Menlo,'DejaVu Sans Mono',consolas,'Courier New',monospace\"><span style=\"color: #008000; text-decoration-color: #008000; font-weight: bold\">forward pass</span>\n",
       "</pre>\n"
      ],
      "text/plain": [
       "\u001b[1;32mforward pass\u001b[0m\n"
      ]
     },
     "metadata": {},
     "output_type": "display_data"
    },
    {
     "name": "stdout",
     "output_type": "stream",
     "text": [
      "dag nodes: [H{0}, H{2}, H{5}, Z{0}, X{2←1}, X{5←4}, X{1←0}, X{3←2}, H{2}, H{3}, X{2←1}, X{5←3}, Z{3}, X{3←4}, X{0←3}]\n",
      "initial_mapping: {0: 0, 1: 2, 2: 1, 3: 3, 4: 6, 5: 5}\n"
     ]
    },
    {
     "data": {
      "text/html": [
       "<pre style=\"white-space:pre;overflow-x:auto;line-height:normal;font-family:Menlo,'DejaVu Sans Mono',consolas,'Courier New',monospace\"><span style=\"color: #00ff00; text-decoration-color: #00ff00\">───────────────────────── </span>updated: <span style=\"font-weight: bold\">{</span><span style=\"color: #008080; text-decoration-color: #008080; font-weight: bold\">0</span>: <span style=\"color: #008080; text-decoration-color: #008080; font-weight: bold\">1</span>, <span style=\"color: #008080; text-decoration-color: #008080; font-weight: bold\">1</span>: <span style=\"color: #008080; text-decoration-color: #008080; font-weight: bold\">2</span>, <span style=\"color: #008080; text-decoration-color: #008080; font-weight: bold\">2</span>: <span style=\"color: #008080; text-decoration-color: #008080; font-weight: bold\">0</span>, <span style=\"color: #008080; text-decoration-color: #008080; font-weight: bold\">3</span>: <span style=\"color: #008080; text-decoration-color: #008080; font-weight: bold\">3</span>, <span style=\"color: #008080; text-decoration-color: #008080; font-weight: bold\">4</span>: <span style=\"color: #008080; text-decoration-color: #008080; font-weight: bold\">6</span>, <span style=\"color: #008080; text-decoration-color: #008080; font-weight: bold\">5</span>: <span style=\"color: #008080; text-decoration-color: #008080; font-weight: bold\">5</span><span style=\"font-weight: bold\">}</span>, after SWAP<span style=\"font-weight: bold\">{</span><span style=\"color: #008080; text-decoration-color: #008080; font-weight: bold\">0</span>|<span style=\"color: #008080; text-decoration-color: #008080; font-weight: bold\">2</span><span style=\"font-weight: bold\">}</span><span style=\"color: #00ff00; text-decoration-color: #00ff00\"> ──────────────────────────</span>\n",
       "</pre>\n"
      ],
      "text/plain": [
       "\u001b[92m───────────────────────── \u001b[0mupdated: \u001b[1m{\u001b[0m\u001b[1;36m0\u001b[0m: \u001b[1;36m1\u001b[0m, \u001b[1;36m1\u001b[0m: \u001b[1;36m2\u001b[0m, \u001b[1;36m2\u001b[0m: \u001b[1;36m0\u001b[0m, \u001b[1;36m3\u001b[0m: \u001b[1;36m3\u001b[0m, \u001b[1;36m4\u001b[0m: \u001b[1;36m6\u001b[0m, \u001b[1;36m5\u001b[0m: \u001b[1;36m5\u001b[0m\u001b[1m}\u001b[0m, after SWAP\u001b[1m{\u001b[0m\u001b[1;36m0\u001b[0m|\u001b[1;36m2\u001b[0m\u001b[1m}\u001b[0m\u001b[92m ──────────────────────────\u001b[0m\n"
      ]
     },
     "metadata": {},
     "output_type": "display_data"
    },
    {
     "data": {
      "text/html": [
       "<pre style=\"white-space:pre;overflow-x:auto;line-height:normal;font-family:Menlo,'DejaVu Sans Mono',consolas,'Courier New',monospace\"><span style=\"color: #00ff00; text-decoration-color: #00ff00\">───────────────────────── </span>updated: <span style=\"font-weight: bold\">{</span><span style=\"color: #008080; text-decoration-color: #008080; font-weight: bold\">0</span>: <span style=\"color: #008080; text-decoration-color: #008080; font-weight: bold\">1</span>, <span style=\"color: #008080; text-decoration-color: #008080; font-weight: bold\">1</span>: <span style=\"color: #008080; text-decoration-color: #008080; font-weight: bold\">2</span>, <span style=\"color: #008080; text-decoration-color: #008080; font-weight: bold\">2</span>: <span style=\"color: #008080; text-decoration-color: #008080; font-weight: bold\">0</span>, <span style=\"color: #008080; text-decoration-color: #008080; font-weight: bold\">3</span>: <span style=\"color: #008080; text-decoration-color: #008080; font-weight: bold\">3</span>, <span style=\"color: #008080; text-decoration-color: #008080; font-weight: bold\">4</span>: <span style=\"color: #008080; text-decoration-color: #008080; font-weight: bold\">5</span>, <span style=\"color: #008080; text-decoration-color: #008080; font-weight: bold\">5</span>: <span style=\"color: #008080; text-decoration-color: #008080; font-weight: bold\">6</span><span style=\"font-weight: bold\">}</span>, after SWAP<span style=\"font-weight: bold\">{</span><span style=\"color: #008080; text-decoration-color: #008080; font-weight: bold\">4</span>|<span style=\"color: #008080; text-decoration-color: #008080; font-weight: bold\">5</span><span style=\"font-weight: bold\">}</span><span style=\"color: #00ff00; text-decoration-color: #00ff00\"> ──────────────────────────</span>\n",
       "</pre>\n"
      ],
      "text/plain": [
       "\u001b[92m───────────────────────── \u001b[0mupdated: \u001b[1m{\u001b[0m\u001b[1;36m0\u001b[0m: \u001b[1;36m1\u001b[0m, \u001b[1;36m1\u001b[0m: \u001b[1;36m2\u001b[0m, \u001b[1;36m2\u001b[0m: \u001b[1;36m0\u001b[0m, \u001b[1;36m3\u001b[0m: \u001b[1;36m3\u001b[0m, \u001b[1;36m4\u001b[0m: \u001b[1;36m5\u001b[0m, \u001b[1;36m5\u001b[0m: \u001b[1;36m6\u001b[0m\u001b[1m}\u001b[0m, after SWAP\u001b[1m{\u001b[0m\u001b[1;36m4\u001b[0m|\u001b[1;36m5\u001b[0m\u001b[1m}\u001b[0m\u001b[92m ──────────────────────────\u001b[0m\n"
      ]
     },
     "metadata": {},
     "output_type": "display_data"
    },
    {
     "data": {
      "text/html": [
       "<pre style=\"white-space:pre;overflow-x:auto;line-height:normal;font-family:Menlo,'DejaVu Sans Mono',consolas,'Courier New',monospace\"><span style=\"color: #00ff00; text-decoration-color: #00ff00\">───────────────────────── </span>updated: <span style=\"font-weight: bold\">{</span><span style=\"color: #008080; text-decoration-color: #008080; font-weight: bold\">0</span>: <span style=\"color: #008080; text-decoration-color: #008080; font-weight: bold\">2</span>, <span style=\"color: #008080; text-decoration-color: #008080; font-weight: bold\">1</span>: <span style=\"color: #008080; text-decoration-color: #008080; font-weight: bold\">1</span>, <span style=\"color: #008080; text-decoration-color: #008080; font-weight: bold\">2</span>: <span style=\"color: #008080; text-decoration-color: #008080; font-weight: bold\">0</span>, <span style=\"color: #008080; text-decoration-color: #008080; font-weight: bold\">3</span>: <span style=\"color: #008080; text-decoration-color: #008080; font-weight: bold\">3</span>, <span style=\"color: #008080; text-decoration-color: #008080; font-weight: bold\">4</span>: <span style=\"color: #008080; text-decoration-color: #008080; font-weight: bold\">5</span>, <span style=\"color: #008080; text-decoration-color: #008080; font-weight: bold\">5</span>: <span style=\"color: #008080; text-decoration-color: #008080; font-weight: bold\">6</span><span style=\"font-weight: bold\">}</span>, after SWAP<span style=\"font-weight: bold\">{</span><span style=\"color: #008080; text-decoration-color: #008080; font-weight: bold\">1</span>|<span style=\"color: #008080; text-decoration-color: #008080; font-weight: bold\">0</span><span style=\"font-weight: bold\">}</span><span style=\"color: #00ff00; text-decoration-color: #00ff00\"> ──────────────────────────</span>\n",
       "</pre>\n"
      ],
      "text/plain": [
       "\u001b[92m───────────────────────── \u001b[0mupdated: \u001b[1m{\u001b[0m\u001b[1;36m0\u001b[0m: \u001b[1;36m2\u001b[0m, \u001b[1;36m1\u001b[0m: \u001b[1;36m1\u001b[0m, \u001b[1;36m2\u001b[0m: \u001b[1;36m0\u001b[0m, \u001b[1;36m3\u001b[0m: \u001b[1;36m3\u001b[0m, \u001b[1;36m4\u001b[0m: \u001b[1;36m5\u001b[0m, \u001b[1;36m5\u001b[0m: \u001b[1;36m6\u001b[0m\u001b[1m}\u001b[0m, after SWAP\u001b[1m{\u001b[0m\u001b[1;36m1\u001b[0m|\u001b[1;36m0\u001b[0m\u001b[1m}\u001b[0m\u001b[92m ──────────────────────────\u001b[0m\n"
      ]
     },
     "metadata": {},
     "output_type": "display_data"
    },
    {
     "name": "stdout",
     "output_type": "stream",
     "text": [
      "final_mapping: {0: 2, 1: 1, 2: 0, 3: 3, 4: 5, 5: 6}\n"
     ]
    }
   ],
   "source": [
    "mapped_circ, init_mapping, final_mapping = heuristic.sabre_search(circ, device)\n"
   ]
  },
  {
   "cell_type": "code",
   "execution_count": 6,
   "metadata": {
    "ExecuteTime": {
     "end_time": "2023-09-04T01:41:18.006774Z",
     "start_time": "2023-09-04T01:41:17.972365Z"
    },
    "collapsed": false
   },
   "outputs": [
    {
     "name": "stdout",
     "output_type": "stream",
     "text": [
      "original circuit: Circuit(num_gates: 15, num_qubits: 6)\n"
     ]
    },
    {
     "data": {
      "text/html": [
       "<pre style=\"overflow: auto; white-space: pre;\">q_0: ───H───Z───@───────────────────X───\n",
       "                │                   │\n",
       "q_1: ───────@───X───────@───────────┼───\n",
       "            │           │           │\n",
       "q_2: ───H───X───@───H───X───────────┼───\n",
       "                │                   │\n",
       "q_3: ───────────X───H───@───Z───X───@───\n",
       "                        │       │\n",
       "q_4: ───────@───────────┼───────@───────\n",
       "            │           │\n",
       "q_5: ───H───X───────────X───────────────</pre>"
      ],
      "text/plain": [
       "q_0: ───H───Z───@───────────────────X───\n",
       "                │                   │\n",
       "q_1: ───────@───X───────@───────────┼───\n",
       "            │           │           │\n",
       "q_2: ───H───X───@───H───X───────────┼───\n",
       "                │                   │\n",
       "q_3: ───────────X───H───@───Z───X───@───\n",
       "                        │       │\n",
       "q_4: ───────@───────────┼───────@───────\n",
       "            │           │\n",
       "q_5: ───H───X───────────X───────────────"
      ]
     },
     "execution_count": 6,
     "metadata": {},
     "output_type": "execute_result"
    }
   ],
   "source": [
    "# original circuit\n",
    "print('original circuit:', circ)\n",
    "circ.to_cirq()\n"
   ]
  },
  {
   "cell_type": "code",
   "execution_count": 7,
   "metadata": {
    "ExecuteTime": {
     "end_time": "2023-09-04T01:41:32.760783Z",
     "start_time": "2023-09-04T01:41:32.721584Z"
    },
    "collapsed": false
   },
   "outputs": [
    {
     "name": "stdout",
     "output_type": "stream",
     "text": [
      "mapped circuit: Circuit(num_gates: 24, num_qubits: 6)\n",
      "init_mapping: {0: 0, 1: 2, 2: 1, 3: 3, 4: 6, 5: 5}\n",
      "final_mapping: {0: 2, 1: 1, 2: 0, 3: 3, 4: 5, 5: 6}\n"
     ]
    },
    {
     "data": {
      "text/html": [
       "<pre style=\"overflow: auto; white-space: pre;\">q_0: ───H───Z───────────X───@───X───────────────────────────X───\n",
       "                        │   │   │                           │\n",
       "q_1: ───────@───────────┼───┼───┼───X───────────X───@───X───┼───\n",
       "            │           │   │   │   │           │   │   │   │\n",
       "q_2: ───H───X───@───H───@───X───@───@───────X───@───X───@───@───\n",
       "                │                           │\n",
       "q_3: ───────────X───H───@───Z───────────X───@───────────────────\n",
       "                        │               │\n",
       "q_4: ───────@───────────┼───X───@───X───┼───────────────────────\n",
       "            │           │   │   │   │   │\n",
       "q_5: ───H───X───────────X───@───X───@───@───────────────────────</pre>"
      ],
      "text/plain": [
       "q_0: ───H───Z───────────X───@───X───────────────────────────X───\n",
       "                        │   │   │                           │\n",
       "q_1: ───────@───────────┼───┼───┼───X───────────X───@───X───┼───\n",
       "            │           │   │   │   │           │   │   │   │\n",
       "q_2: ───H───X───@───H───@───X───@───@───────X───@───X───@───@───\n",
       "                │                           │\n",
       "q_3: ───────────X───H───@───Z───────────X───@───────────────────\n",
       "                        │               │\n",
       "q_4: ───────@───────────┼───X───@───X───┼───────────────────────\n",
       "            │           │   │   │   │   │\n",
       "q_5: ───H───X───────────X───@───X───@───@───────────────────────"
      ]
     },
     "execution_count": 7,
     "metadata": {},
     "output_type": "execute_result"
    }
   ],
   "source": [
    "# mapped circuit\n",
    "print('mapped circuit:', mapped_circ)\n",
    "print('init_mapping:', init_mapping)\n",
    "print('final_mapping:', final_mapping)\n",
    "mapped_circ.to_cirq()\n"
   ]
  },
  {
   "cell_type": "code",
   "execution_count": 9,
   "metadata": {
    "ExecuteTime": {
     "end_time": "2023-09-04T01:41:53.820860Z",
     "start_time": "2023-09-04T01:41:53.792155Z"
    },
    "collapsed": false
   },
   "outputs": [
    {
     "data": {
      "text/plain": [
       "True"
      ]
     },
     "execution_count": 9,
     "metadata": {},
     "output_type": "execute_result"
    }
   ],
   "source": [
    "# verify the mapped circuit\n",
    "arch.verify_mapped_circuit(circ, mapped_circ, init_mapping, final_mapping)\n"
   ]
  },
  {
   "cell_type": "markdown",
   "metadata": {
    "collapsed": false
   },
   "source": [
    "### Detailed demo\n",
    "\n",
    "Herein we can see the detailed process of the one pass of SABRE routing algorithm."
   ]
  },
  {
   "cell_type": "code",
   "execution_count": 10,
   "metadata": {
    "ExecuteTime": {
     "end_time": "2023-09-04T01:27:11.528081Z",
     "start_time": "2023-09-04T01:27:11.526026Z"
    },
    "collapsed": false
   },
   "outputs": [
    {
     "name": "stdout",
     "output_type": "stream",
     "text": [
      "dag nodes: [H{0}, H{2}, H{5}, Z{0}, X{2←1}, X{5←4}, X{1←0}, X{3←2}, H{2}, H{3}, X{2←1}, X{5←3}, Z{3}, X{3←4}, X{0←3}]\n",
      "--------------------------------------------------\n",
      "logical_qubits: [0, 1, 2, 3, 4, 5]\n",
      "physical_qubits: [0, 1, 2, 3, 4, 5, 6]\n",
      "initial_mapping: {0: 0, 1: 1, 2: 2, 3: 3, 4: 4, 5: 5}\n"
     ]
    },
    {
     "data": {
      "text/html": [
       "<pre style=\"white-space:pre;overflow-x:auto;line-height:normal;font-family:Menlo,'DejaVu Sans Mono',consolas,'Courier New',monospace\"><span style=\"color: #00ff00; text-decoration-color: #00ff00\">───────────────────────── </span>updated: <span style=\"font-weight: bold\">{</span><span style=\"color: #008080; text-decoration-color: #008080; font-weight: bold\">0</span>: <span style=\"color: #008080; text-decoration-color: #008080; font-weight: bold\">0</span>, <span style=\"color: #008080; text-decoration-color: #008080; font-weight: bold\">1</span>: <span style=\"color: #008080; text-decoration-color: #008080; font-weight: bold\">2</span>, <span style=\"color: #008080; text-decoration-color: #008080; font-weight: bold\">2</span>: <span style=\"color: #008080; text-decoration-color: #008080; font-weight: bold\">1</span>, <span style=\"color: #008080; text-decoration-color: #008080; font-weight: bold\">3</span>: <span style=\"color: #008080; text-decoration-color: #008080; font-weight: bold\">3</span>, <span style=\"color: #008080; text-decoration-color: #008080; font-weight: bold\">4</span>: <span style=\"color: #008080; text-decoration-color: #008080; font-weight: bold\">4</span>, <span style=\"color: #008080; text-decoration-color: #008080; font-weight: bold\">5</span>: <span style=\"color: #008080; text-decoration-color: #008080; font-weight: bold\">5</span><span style=\"font-weight: bold\">}</span>, after SWAP<span style=\"font-weight: bold\">{</span><span style=\"color: #008080; text-decoration-color: #008080; font-weight: bold\">2</span>|<span style=\"color: #008080; text-decoration-color: #008080; font-weight: bold\">1</span><span style=\"font-weight: bold\">}</span><span style=\"color: #00ff00; text-decoration-color: #00ff00\"> ──────────────────────────</span>\n",
       "</pre>\n"
      ],
      "text/plain": [
       "\u001b[92m───────────────────────── \u001b[0mupdated: \u001b[1m{\u001b[0m\u001b[1;36m0\u001b[0m: \u001b[1;36m0\u001b[0m, \u001b[1;36m1\u001b[0m: \u001b[1;36m2\u001b[0m, \u001b[1;36m2\u001b[0m: \u001b[1;36m1\u001b[0m, \u001b[1;36m3\u001b[0m: \u001b[1;36m3\u001b[0m, \u001b[1;36m4\u001b[0m: \u001b[1;36m4\u001b[0m, \u001b[1;36m5\u001b[0m: \u001b[1;36m5\u001b[0m\u001b[1m}\u001b[0m, after SWAP\u001b[1m{\u001b[0m\u001b[1;36m2\u001b[0m|\u001b[1;36m1\u001b[0m\u001b[1m}\u001b[0m\u001b[92m ──────────────────────────\u001b[0m\n"
      ]
     },
     "metadata": {},
     "output_type": "display_data"
    },
    {
     "data": {
      "text/html": [
       "<pre style=\"white-space:pre;overflow-x:auto;line-height:normal;font-family:Menlo,'DejaVu Sans Mono',consolas,'Courier New',monospace\"><span style=\"color: #00ff00; text-decoration-color: #00ff00\">───────────────────────── </span>updated: <span style=\"font-weight: bold\">{</span><span style=\"color: #008080; text-decoration-color: #008080; font-weight: bold\">0</span>: <span style=\"color: #008080; text-decoration-color: #008080; font-weight: bold\">0</span>, <span style=\"color: #008080; text-decoration-color: #008080; font-weight: bold\">1</span>: <span style=\"color: #008080; text-decoration-color: #008080; font-weight: bold\">2</span>, <span style=\"color: #008080; text-decoration-color: #008080; font-weight: bold\">2</span>: <span style=\"color: #008080; text-decoration-color: #008080; font-weight: bold\">1</span>, <span style=\"color: #008080; text-decoration-color: #008080; font-weight: bold\">3</span>: <span style=\"color: #008080; text-decoration-color: #008080; font-weight: bold\">3</span>, <span style=\"color: #008080; text-decoration-color: #008080; font-weight: bold\">4</span>: <span style=\"color: #008080; text-decoration-color: #008080; font-weight: bold\">5</span>, <span style=\"color: #008080; text-decoration-color: #008080; font-weight: bold\">5</span>: <span style=\"color: #008080; text-decoration-color: #008080; font-weight: bold\">4</span><span style=\"font-weight: bold\">}</span>, after SWAP<span style=\"font-weight: bold\">{</span><span style=\"color: #008080; text-decoration-color: #008080; font-weight: bold\">4</span>|<span style=\"color: #008080; text-decoration-color: #008080; font-weight: bold\">5</span><span style=\"font-weight: bold\">}</span><span style=\"color: #00ff00; text-decoration-color: #00ff00\"> ──────────────────────────</span>\n",
       "</pre>\n"
      ],
      "text/plain": [
       "\u001b[92m───────────────────────── \u001b[0mupdated: \u001b[1m{\u001b[0m\u001b[1;36m0\u001b[0m: \u001b[1;36m0\u001b[0m, \u001b[1;36m1\u001b[0m: \u001b[1;36m2\u001b[0m, \u001b[1;36m2\u001b[0m: \u001b[1;36m1\u001b[0m, \u001b[1;36m3\u001b[0m: \u001b[1;36m3\u001b[0m, \u001b[1;36m4\u001b[0m: \u001b[1;36m5\u001b[0m, \u001b[1;36m5\u001b[0m: \u001b[1;36m4\u001b[0m\u001b[1m}\u001b[0m, after SWAP\u001b[1m{\u001b[0m\u001b[1;36m4\u001b[0m|\u001b[1;36m5\u001b[0m\u001b[1m}\u001b[0m\u001b[92m ──────────────────────────\u001b[0m\n"
      ]
     },
     "metadata": {},
     "output_type": "display_data"
    },
    {
     "data": {
      "text/html": [
       "<pre style=\"white-space:pre;overflow-x:auto;line-height:normal;font-family:Menlo,'DejaVu Sans Mono',consolas,'Courier New',monospace\"><span style=\"color: #00ff00; text-decoration-color: #00ff00\">───────────────────────── </span>updated: <span style=\"font-weight: bold\">{</span><span style=\"color: #008080; text-decoration-color: #008080; font-weight: bold\">0</span>: <span style=\"color: #008080; text-decoration-color: #008080; font-weight: bold\">1</span>, <span style=\"color: #008080; text-decoration-color: #008080; font-weight: bold\">1</span>: <span style=\"color: #008080; text-decoration-color: #008080; font-weight: bold\">2</span>, <span style=\"color: #008080; text-decoration-color: #008080; font-weight: bold\">2</span>: <span style=\"color: #008080; text-decoration-color: #008080; font-weight: bold\">0</span>, <span style=\"color: #008080; text-decoration-color: #008080; font-weight: bold\">3</span>: <span style=\"color: #008080; text-decoration-color: #008080; font-weight: bold\">3</span>, <span style=\"color: #008080; text-decoration-color: #008080; font-weight: bold\">4</span>: <span style=\"color: #008080; text-decoration-color: #008080; font-weight: bold\">5</span>, <span style=\"color: #008080; text-decoration-color: #008080; font-weight: bold\">5</span>: <span style=\"color: #008080; text-decoration-color: #008080; font-weight: bold\">4</span><span style=\"font-weight: bold\">}</span>, after SWAP<span style=\"font-weight: bold\">{</span><span style=\"color: #008080; text-decoration-color: #008080; font-weight: bold\">0</span>|<span style=\"color: #008080; text-decoration-color: #008080; font-weight: bold\">2</span><span style=\"font-weight: bold\">}</span><span style=\"color: #00ff00; text-decoration-color: #00ff00\"> ──────────────────────────</span>\n",
       "</pre>\n"
      ],
      "text/plain": [
       "\u001b[92m───────────────────────── \u001b[0mupdated: \u001b[1m{\u001b[0m\u001b[1;36m0\u001b[0m: \u001b[1;36m1\u001b[0m, \u001b[1;36m1\u001b[0m: \u001b[1;36m2\u001b[0m, \u001b[1;36m2\u001b[0m: \u001b[1;36m0\u001b[0m, \u001b[1;36m3\u001b[0m: \u001b[1;36m3\u001b[0m, \u001b[1;36m4\u001b[0m: \u001b[1;36m5\u001b[0m, \u001b[1;36m5\u001b[0m: \u001b[1;36m4\u001b[0m\u001b[1m}\u001b[0m, after SWAP\u001b[1m{\u001b[0m\u001b[1;36m0\u001b[0m|\u001b[1;36m2\u001b[0m\u001b[1m}\u001b[0m\u001b[92m ──────────────────────────\u001b[0m\n"
      ]
     },
     "metadata": {},
     "output_type": "display_data"
    },
    {
     "name": "stdout",
     "output_type": "stream",
     "text": [
      "final_mapping: {0: 1, 1: 2, 2: 0, 3: 3, 4: 5, 5: 4}\n"
     ]
    }
   ],
   "source": [
    "circ_with_swaps, mappings = heuristic.sabre_search_one_pass(circ, device, return_circ_with_swaps=True, gene_init_mapping_type='trivial')\n"
   ]
  },
  {
   "cell_type": "code",
   "execution_count": 11,
   "metadata": {
    "ExecuteTime": {
     "end_time": "2023-09-04T01:27:18.559612Z",
     "start_time": "2023-09-04T01:27:18.118212Z"
    },
    "collapsed": false
   },
   "outputs": [
    {
     "data": {
      "text/html": [
       "<pre style=\"word-wrap: normal;white-space: pre;background: #fff0;line-height: 1.1;font-family: &quot;Courier New&quot;,Courier,monospace\">     ┌───┐┌───┐                         ┌───┐\n",
       "q_0: ┤ H ├┤ Z ├──■──────────────────────┤ X ├\n",
       "     └───┘└───┘┌─┴─┐                    └─┬─┘\n",
       "q_1: ───────■──┤ X ├───────■──────────────┼──\n",
       "     ┌───┐┌─┴─┐└───┘┌───┐┌─┴─┐            │  \n",
       "q_2: ┤ H ├┤ X ├──■──┤ H ├┤ X ├────────────┼──\n",
       "     └───┘└───┘┌─┴─┐├───┤└───┘┌───┐┌───┐  │  \n",
       "q_3: ──────────┤ X ├┤ H ├──■──┤ Z ├┤ X ├──■──\n",
       "               └───┘└───┘  │  └───┘└─┬─┘     \n",
       "q_4: ───────■──────────────┼─────────■───────\n",
       "     ┌───┐┌─┴─┐          ┌─┴─┐               \n",
       "q_5: ┤ H ├┤ X ├──────────┤ X ├───────────────\n",
       "     └───┘└───┘          └───┘               </pre>"
      ],
      "text/plain": [
       "     ┌───┐┌───┐                         ┌───┐\n",
       "q_0: ┤ H ├┤ Z ├──■──────────────────────┤ X ├\n",
       "     └───┘└───┘┌─┴─┐                    └─┬─┘\n",
       "q_1: ───────■──┤ X ├───────■──────────────┼──\n",
       "     ┌───┐┌─┴─┐└───┘┌───┐┌─┴─┐            │  \n",
       "q_2: ┤ H ├┤ X ├──■──┤ H ├┤ X ├────────────┼──\n",
       "     └───┘└───┘┌─┴─┐├───┤└───┘┌───┐┌───┐  │  \n",
       "q_3: ──────────┤ X ├┤ H ├──■──┤ Z ├┤ X ├──■──\n",
       "               └───┘└───┘  │  └───┘└─┬─┘     \n",
       "q_4: ───────■──────────────┼─────────■───────\n",
       "     ┌───┐┌─┴─┐          ┌─┴─┐               \n",
       "q_5: ┤ H ├┤ X ├──────────┤ X ├───────────────\n",
       "     └───┘└───┘          └───┘               "
      ]
     },
     "execution_count": 11,
     "metadata": {},
     "output_type": "execute_result"
    }
   ],
   "source": [
    "# original circuit\n",
    "circ.to_qiskit().draw()\n"
   ]
  },
  {
   "cell_type": "code",
   "execution_count": 12,
   "metadata": {
    "ExecuteTime": {
     "end_time": "2023-09-04T01:27:19.202207Z",
     "start_time": "2023-09-04T01:27:19.155738Z"
    },
    "collapsed": false
   },
   "outputs": [
    {
     "data": {
      "text/html": [
       "<pre style=\"word-wrap: normal;white-space: pre;background: #fff0;line-height: 1.1;font-family: &quot;Courier New&quot;,Courier,monospace\">     ┌───┐┌───┐                                 ┌───┐\n",
       "q_0: ┤ H ├┤ Z ├──■──────────────────────X───────┤ X ├\n",
       "     └───┘└───┘┌─┴─┐                    │       └─┬─┘\n",
       "q_1: ───────■──┤ X ├─X─────────────■────┼─────────┼──\n",
       "     ┌───┐┌─┴─┐└───┘ │      ┌───┐┌─┴─┐  │         │  \n",
       "q_2: ┤ H ├┤ X ├──────X───■──┤ H ├┤ X ├──X─────────┼──\n",
       "     └───┘└───┘        ┌─┴─┐├───┤└───┘┌───┐┌───┐  │  \n",
       "q_3: ──────────────────┤ X ├┤ H ├──■──┤ Z ├┤ X ├──■──\n",
       "                       └───┘└───┘  │  └───┘└─┬─┘     \n",
       "q_4: ───────■──────────────────────┼────X────■───────\n",
       "     ┌───┐┌─┴─┐                  ┌─┴─┐  │            \n",
       "q_5: ┤ H ├┤ X ├──────────────────┤ X ├──X────────────\n",
       "     └───┘└───┘                  └───┘               </pre>"
      ],
      "text/plain": [
       "     ┌───┐┌───┐                                 ┌───┐\n",
       "q_0: ┤ H ├┤ Z ├──■──────────────────────X───────┤ X ├\n",
       "     └───┘└───┘┌─┴─┐                    │       └─┬─┘\n",
       "q_1: ───────■──┤ X ├─X─────────────■────┼─────────┼──\n",
       "     ┌───┐┌─┴─┐└───┘ │      ┌───┐┌─┴─┐  │         │  \n",
       "q_2: ┤ H ├┤ X ├──────X───■──┤ H ├┤ X ├──X─────────┼──\n",
       "     └───┘└───┘        ┌─┴─┐├───┤└───┘┌───┐┌───┐  │  \n",
       "q_3: ──────────────────┤ X ├┤ H ├──■──┤ Z ├┤ X ├──■──\n",
       "                       └───┘└───┘  │  └───┘└─┬─┘     \n",
       "q_4: ───────■──────────────────────┼────X────■───────\n",
       "     ┌───┐┌─┴─┐                  ┌─┴─┐  │            \n",
       "q_5: ┤ H ├┤ X ├──────────────────┤ X ├──X────────────\n",
       "     └───┘└───┘                  └───┘               "
      ]
     },
     "execution_count": 12,
     "metadata": {},
     "output_type": "execute_result"
    }
   ],
   "source": [
    "# circuit with inserted swaps\n",
    "circ_with_swaps.to_qiskit().draw()\n"
   ]
  },
  {
   "cell_type": "markdown",
   "metadata": {
    "collapsed": false
   },
   "source": [
    "As we can see, there are 3 SWAP gates inserted, so the result maintains 4 intermediate mappings (the first one is the initial mapping; the last one is the final mapping). \n",
    "\n",
    "We can unify such a circuit to generate a circuit with only the initial and final mappings, i.e., all the inner intermediate mappings hold the same, which will be more convenient for execution analysis and execution on hardware."
   ]
  },
  {
   "cell_type": "code",
   "execution_count": 13,
   "metadata": {
    "ExecuteTime": {
     "end_time": "2023-09-04T01:31:11.881530Z",
     "start_time": "2023-09-04T01:31:11.879127Z"
    },
    "collapsed": false
   },
   "outputs": [
    {
     "data": {
      "text/plain": [
       "[{0: 0, 1: 1, 2: 2, 3: 3, 4: 4, 5: 5},\n",
       " {0: 0, 1: 2, 2: 1, 3: 3, 4: 4, 5: 5},\n",
       " {0: 0, 1: 2, 2: 1, 3: 3, 4: 5, 5: 4},\n",
       " {0: 1, 1: 2, 2: 0, 3: 3, 4: 5, 5: 4}]"
      ]
     },
     "execution_count": 13,
     "metadata": {},
     "output_type": "execute_result"
    }
   ],
   "source": [
    "mappings\n"
   ]
  },
  {
   "cell_type": "code",
   "execution_count": 14,
   "metadata": {
    "ExecuteTime": {
     "end_time": "2023-09-04T01:32:36.011520Z",
     "start_time": "2023-09-04T01:32:35.968308Z"
    },
    "collapsed": false
   },
   "outputs": [
    {
     "data": {
      "text/html": [
       "<pre style=\"word-wrap: normal;white-space: pre;background: #fff0;line-height: 1.1;font-family: &quot;Courier New&quot;,Courier,monospace\">     ┌───┐┌───┐                                   ┌───┐     ┌───┐          \n",
       "q_0: ┤ H ├┤ Z ├──■────────────────────────────────┤ X ├──■──┤ X ├──────────\n",
       "     └───┘└───┘┌─┴─┐     ┌───┐          ┌───┐┌───┐└─┬─┘┌─┴─┐└─┬─┘     ┌───┐\n",
       "q_1: ───────■──┤ X ├──■──┤ X ├──■────■──┤ H ├┤ X ├──■──┤ X ├──■───────┤ X ├\n",
       "     ┌───┐┌─┴─┐└───┘┌─┴─┐└─┬─┘┌─┴─┐  │  └───┘└─┬─┘     └───┘          └─┬─┘\n",
       "q_2: ┤ H ├┤ X ├─────┤ X ├──■──┤ X ├──┼─────────■────────────────────────┼──\n",
       "     └───┘└───┘     └───┘     └───┘┌─┴─┐┌───┐     ┌───┐          ┌───┐  │  \n",
       "q_3: ──────────────────────────────┤ X ├┤ H ├──■──┤ Z ├──────────┤ X ├──■──\n",
       "                                   └───┘└───┘  │  ├───┤     ┌───┐└─┬─┘     \n",
       "q_4: ───────■──────────────────────────────────┼──┤ X ├──■──┤ X ├──┼───────\n",
       "     ┌───┐┌─┴─┐                              ┌─┴─┐└─┬─┘┌─┴─┐└─┬─┘  │       \n",
       "q_5: ┤ H ├┤ X ├──────────────────────────────┤ X ├──■──┤ X ├──■────■───────\n",
       "     └───┘└───┘                              └───┘     └───┘               </pre>"
      ],
      "text/plain": [
       "     ┌───┐┌───┐                                   ┌───┐     ┌───┐          \n",
       "q_0: ┤ H ├┤ Z ├──■────────────────────────────────┤ X ├──■──┤ X ├──────────\n",
       "     └───┘└───┘┌─┴─┐     ┌───┐          ┌───┐┌───┐└─┬─┘┌─┴─┐└─┬─┘     ┌───┐\n",
       "q_1: ───────■──┤ X ├──■──┤ X ├──■────■──┤ H ├┤ X ├──■──┤ X ├──■───────┤ X ├\n",
       "     ┌───┐┌─┴─┐└───┘┌─┴─┐└─┬─┘┌─┴─┐  │  └───┘└─┬─┘     └───┘          └─┬─┘\n",
       "q_2: ┤ H ├┤ X ├─────┤ X ├──■──┤ X ├──┼─────────■────────────────────────┼──\n",
       "     └───┘└───┘     └───┘     └───┘┌─┴─┐┌───┐     ┌───┐          ┌───┐  │  \n",
       "q_3: ──────────────────────────────┤ X ├┤ H ├──■──┤ Z ├──────────┤ X ├──■──\n",
       "                                   └───┘└───┘  │  ├───┤     ┌───┐└─┬─┘     \n",
       "q_4: ───────■──────────────────────────────────┼──┤ X ├──■──┤ X ├──┼───────\n",
       "     ┌───┐┌─┴─┐                              ┌─┴─┐└─┬─┘┌─┴─┐└─┬─┘  │       \n",
       "q_5: ┤ H ├┤ X ├──────────────────────────────┤ X ├──■──┤ X ├──■────■───────\n",
       "     └───┘└───┘                              └───┘     └───┘               "
      ]
     },
     "execution_count": 14,
     "metadata": {},
     "output_type": "execute_result"
    }
   ],
   "source": [
    "# mapped circuit with only init_mapping and final_mapping\n",
    "init_mapping, final_mapping = mappings[0], mappings[-1]\n",
    "mapped_circ = arch.unify_mapped_circuit(circ_with_swaps, mappings)\n",
    "mapped_circ.to_qiskit().draw()\n"
   ]
  },
  {
   "cell_type": "markdown",
   "metadata": {
    "collapsed": false
   },
   "source": [
    "Then let us see whether the `mapped_circ` is unitary equivalent to the original circuit `circ`."
   ]
  },
  {
   "cell_type": "code",
   "execution_count": 15,
   "metadata": {
    "ExecuteTime": {
     "end_time": "2023-09-04T01:32:27.132893Z",
     "start_time": "2023-09-04T01:32:27.109188Z"
    }
   },
   "outputs": [
    {
     "data": {
      "text/plain": [
       "True"
      ]
     },
     "execution_count": 15,
     "metadata": {},
     "output_type": "execute_result"
    }
   ],
   "source": [
    "arch.verify_mapped_circuit(circ, mapped_circ, init_mapping, final_mapping)\n"
   ]
  },
  {
   "cell_type": "code",
   "execution_count": null,
   "metadata": {
    "ExecuteTime": {
     "end_time": "2023-09-04T01:32:48.198269Z",
     "start_time": "2023-09-04T01:32:48.186389Z"
    }
   },
   "outputs": [],
   "source": []
  },
  {
   "cell_type": "code",
   "execution_count": 13,
   "metadata": {
    "ExecuteTime": {
     "end_time": "2023-09-04T01:32:48.341093Z",
     "start_time": "2023-09-04T01:32:48.334987Z"
    },
    "collapsed": false
   },
   "outputs": [],
   "source": []
  }
 ],
 "metadata": {
  "kernelspec": {
   "display_name": "base",
   "language": "python",
   "name": "python3"
  },
  "language_info": {
   "codemirror_mode": {
    "name": "ipython",
    "version": 3
   },
   "file_extension": ".py",
   "mimetype": "text/x-python",
   "name": "python",
   "nbconvert_exporter": "python",
   "pygments_lexer": "ipython3",
   "version": "3.9.18"
  },
  "orig_nbformat": 4
 },
 "nbformat": 4,
 "nbformat_minor": 2
}
