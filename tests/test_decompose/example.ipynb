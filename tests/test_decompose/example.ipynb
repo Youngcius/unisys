{
 "cells": [
  {
   "cell_type": "code",
   "execution_count": 1,
   "metadata": {
    "collapsed": false,
    "pycharm": {
     "name": "#%%\n"
    }
   },
   "outputs": [],
   "source": [
    "from functools import reduce\n",
    "import numpy as np\n",
    "import networkx as nx\n",
    "import matplotlib.pyplot as plt\n",
    "from scipy.stats import unitary_group\n",
    "\n",
    "import os, sys\n",
    "module_path = os.path.abspath('../..')\n",
    "if module_path not in sys.path:\n",
    "    sys.path.append(module_path)\n",
    "\n",
    "from unisys import gate\n",
    "from unisys.utils import operator\n",
    "from unisys import spam, decompose\n",
    "\n",
    "rand_unitary = unitary_group.rvs\n"
   ]
  },
  {
   "attachments": {},
   "cell_type": "markdown",
   "metadata": {},
   "source": [
    "**Gate decomposition examples:**\n",
    "\n",
    "- Fixed gate decomposition\n",
    "  - SWAP \n",
    "  - CH\n",
    "  - CCX\n",
    "  - ...\n",
    "- Universal gate decomposition\n",
    "  - Tensor product decomposition\n",
    "  - ABC decomposition (2-qubit controlled-U gate)\n",
    "  - KAK decomposition (arbitrary 2-qubit gate)\n",
    "  - Quantum Shannon decomposition (arbitrary unitary gate)\n",
    "  - m-control n-target CU gate decomposition\n",
    "- Continuous-variable unitary synthesis\n",
    "  - Reck decomposition\n",
    "\n",
    "**State preparation examples:**\n",
    "- Arbitrary two-qubit state preparation\n",
    "- Arbitrary three-qubit state preparation\n"
   ]
  },
  {
   "attachments": {},
   "cell_type": "markdown",
   "metadata": {},
   "source": [
    "## Gate Decomposition"
   ]
  },
  {
   "cell_type": "markdown",
   "metadata": {},
   "source": [
    "### Fixed gate decomposition"
   ]
  },
  {
   "attachments": {},
   "cell_type": "markdown",
   "metadata": {},
   "source": [
    "#### SWAP gate"
   ]
  },
  {
   "cell_type": "code",
   "execution_count": 2,
   "metadata": {},
   "outputs": [
    {
     "name": "stdout",
     "output_type": "stream",
     "text": [
      "Circuit(num_gates: 3, num_qubits: 2, with_measure: False)\n"
     ]
    },
    {
     "data": {
      "text/html": [
       "<pre style=\"word-wrap: normal;white-space: pre;background: #fff0;line-height: 1.1;font-family: &quot;Courier New&quot;,Courier,monospace\">     ┌───┐     ┌───┐\n",
       "q_0: ┤ X ├──■──┤ X ├\n",
       "     └─┬─┘┌─┴─┐└─┬─┘\n",
       "q_1: ──■──┤ X ├──■──\n",
       "          └───┘     </pre>"
      ],
      "text/plain": [
       "     ┌───┐     ┌───┐\n",
       "q_0: ┤ X ├──■──┤ X ├\n",
       "     └─┬─┘┌─┴─┐└─┬─┘\n",
       "q_1: ──■──┤ X ├──■──\n",
       "          └───┘     "
      ]
     },
     "execution_count": 2,
     "metadata": {},
     "output_type": "execute_result"
    }
   ],
   "source": [
    "circ = decompose.swap_decompose(gate.SWAP.on([0, 1]))\n",
    "print(circ)\n",
    "circ.to_qiskit().draw()\n"
   ]
  },
  {
   "cell_type": "markdown",
   "metadata": {},
   "source": [
    "#### CH gate"
   ]
  },
  {
   "cell_type": "code",
   "execution_count": 3,
   "metadata": {},
   "outputs": [
    {
     "name": "stdout",
     "output_type": "stream",
     "text": [
      "Circuit(num_gates: 7, num_qubits: 2, with_measure: False)\n"
     ]
    },
    {
     "data": {
      "text/html": [
       "<pre style=\"word-wrap: normal;white-space: pre;background: #fff0;line-height: 1.1;font-family: &quot;Courier New&quot;,Courier,monospace\">                                            \n",
       "q_0: ───────────────────────────────────────\n",
       "                                            \n",
       "q_1: ─────────────────■─────────────────────\n",
       "     ┌───┐┌───┐┌───┐┌─┴─┐┌─────┐┌───┐┌─────┐\n",
       "q_2: ┤ S ├┤ H ├┤ T ├┤ X ├┤ Tdg ├┤ H ├┤ Sdg ├\n",
       "     └───┘└───┘└───┘└───┘└─────┘└───┘└─────┘</pre>"
      ],
      "text/plain": [
       "                                            \n",
       "q_0: ───────────────────────────────────────\n",
       "                                            \n",
       "q_1: ─────────────────■─────────────────────\n",
       "     ┌───┐┌───┐┌───┐┌─┴─┐┌─────┐┌───┐┌─────┐\n",
       "q_2: ┤ S ├┤ H ├┤ T ├┤ X ├┤ Tdg ├┤ H ├┤ Sdg ├\n",
       "     └───┘└───┘└───┘└───┘└─────┘└───┘└─────┘"
      ]
     },
     "execution_count": 3,
     "metadata": {},
     "output_type": "execute_result"
    }
   ],
   "source": [
    "circ = decompose.ch_decompose(gate.H.on(2, 1))\n",
    "print(circ)\n",
    "circ.to_qiskit().draw()\n"
   ]
  },
  {
   "cell_type": "code",
   "execution_count": 4,
   "metadata": {},
   "outputs": [
    {
     "name": "stdout",
     "output_type": "stream",
     "text": [
      "// Author: zhy\n",
      "// Time: 2023-08-04 20:46:36\n",
      "\n",
      "OPENQASM 2.0;\n",
      "include \"qelib1.inc\";\n",
      "\n",
      "\n",
      "// Qubits: [0, 1, 2]\n",
      "qreg q[3];\n",
      "\n",
      "// Quantum gate operations\n",
      "s q[2];\n",
      "h q[2];\n",
      "t q[2];\n",
      "cx q[1], q[2];\n",
      "tdg q[2];\n",
      "h q[2];\n",
      "sdg q[2];\n",
      "\n"
     ]
    }
   ],
   "source": [
    "print(circ.to_qasm())\n"
   ]
  },
  {
   "cell_type": "markdown",
   "metadata": {},
   "source": [
    "#### CCX gate"
   ]
  },
  {
   "cell_type": "code",
   "execution_count": 5,
   "metadata": {},
   "outputs": [
    {
     "name": "stdout",
     "output_type": "stream",
     "text": [
      "Circuit(num_gates: 15, num_qubits: 3, with_measure: False)\n"
     ]
    },
    {
     "data": {
      "text/html": [
       "<pre style=\"word-wrap: normal;white-space: pre;background: #fff0;line-height: 1.1;font-family: &quot;Courier New&quot;,Courier,monospace\">                                      ┌───┐      ┌───┐┌─────┐┌───┐\n",
       "q_0: ───────■─────────────────────■───┤ T ├──────┤ X ├┤ Tdg ├┤ X ├\n",
       "            │                     │   └───┘      └─┬─┘└┬───┬┘└─┬─┘\n",
       "q_1: ───────┼───────────■─────────┼───────────■────■───┤ T ├───■──\n",
       "     ┌───┐┌─┴─┐┌─────┐┌─┴─┐┌───┐┌─┴─┐┌─────┐┌─┴─┐┌───┐ ├───┤      \n",
       "q_2: ┤ H ├┤ X ├┤ Tdg ├┤ X ├┤ T ├┤ X ├┤ Tdg ├┤ X ├┤ T ├─┤ H ├──────\n",
       "     └───┘└───┘└─────┘└───┘└───┘└───┘└─────┘└───┘└───┘ └───┘      </pre>"
      ],
      "text/plain": [
       "                                      ┌───┐      ┌───┐┌─────┐┌───┐\n",
       "q_0: ───────■─────────────────────■───┤ T ├──────┤ X ├┤ Tdg ├┤ X ├\n",
       "            │                     │   └───┘      └─┬─┘└┬───┬┘└─┬─┘\n",
       "q_1: ───────┼───────────■─────────┼───────────■────■───┤ T ├───■──\n",
       "     ┌───┐┌─┴─┐┌─────┐┌─┴─┐┌───┐┌─┴─┐┌─────┐┌─┴─┐┌───┐ ├───┤      \n",
       "q_2: ┤ H ├┤ X ├┤ Tdg ├┤ X ├┤ T ├┤ X ├┤ Tdg ├┤ X ├┤ T ├─┤ H ├──────\n",
       "     └───┘└───┘└─────┘└───┘└───┘└───┘└─────┘└───┘└───┘ └───┘      "
      ]
     },
     "execution_count": 5,
     "metadata": {},
     "output_type": "execute_result"
    }
   ],
   "source": [
    "circ = decompose.ccx_decompose(gate.X.on([2], [0,1]))\n",
    "print(circ)\n",
    "circ.to_qiskit().draw()\n"
   ]
  },
  {
   "cell_type": "code",
   "execution_count": 6,
   "metadata": {},
   "outputs": [
    {
     "name": "stdout",
     "output_type": "stream",
     "text": [
      "0 H: targ [2]\n",
      "1 X: targ [2] | ctrl [0]\n",
      "2 TDG: targ [2]\n",
      "3 X: targ [2] | ctrl [1]\n",
      "4 T: targ [2]\n",
      "5 X: targ [2] | ctrl [0]\n",
      "6 TDG: targ [2]\n",
      "7 X: targ [2] | ctrl [1]\n",
      "8 T: targ [2]\n",
      "9 T: targ [0]\n",
      "10 X: targ [0] | ctrl [1]\n",
      "11 H: targ [2]\n",
      "12 T: targ [1]\n",
      "13 TDG: targ [0]\n",
      "14 X: targ [0] | ctrl [1]\n"
     ]
    }
   ],
   "source": [
    "for i, g in enumerate(circ):\n",
    "    print(i, g)\n"
   ]
  },
  {
   "cell_type": "code",
   "execution_count": 7,
   "metadata": {},
   "outputs": [
    {
     "data": {
      "image/png": "[encoded data removed]",
      "text/plain": [
       "<Figure size 600x300 with 1 Axes>"
      ]
     },
     "metadata": {},
     "output_type": "display_data"
    }
   ],
   "source": [
    "plt.figure(figsize=(6,3))\n",
    "dag = circ.to_dag()\n",
    "nx.draw(dag, with_labels=True, labels={i: circ[i].math_repr() for i in dag.nodes}, font_size=10, node_size=400)\n",
    "plt.show()\n"
   ]
  },
  {
   "cell_type": "markdown",
   "metadata": {},
   "source": [
    "### Universal gate decomposition"
   ]
  },
  {
   "cell_type": "markdown",
   "metadata": {},
   "source": [
    "#### Tensor product decomposition"
   ]
  },
  {
   "attachments": {},
   "cell_type": "markdown",
   "metadata": {},
   "source": [
    "**$X \\otimes Y$ gate**"
   ]
  },
  {
   "cell_type": "code",
   "execution_count": 8,
   "metadata": {},
   "outputs": [
    {
     "name": "stdout",
     "output_type": "stream",
     "text": [
      "[[0.+0.j 0.-0.j 0.+0.j 0.-1.j]\n",
      " [0.+0.j 0.+0.j 0.+1.j 0.+0.j]\n",
      " [0.+0.j 0.-1.j 0.+0.j 0.-0.j]\n",
      " [0.+1.j 0.+0.j 0.+0.j 0.+0.j]]\n"
     ]
    }
   ],
   "source": [
    "xy_prod = np.kron(gate.X.data, gate.Y.data)\n",
    "g = gate.UnivGate(xy_prod, 'XY')\n",
    "print(xy_prod)\n"
   ]
  },
  {
   "cell_type": "code",
   "execution_count": 9,
   "metadata": {},
   "outputs": [
    {
     "data": {
      "text/html": [
       "<pre style=\"word-wrap: normal;white-space: pre;background: #fff0;line-height: 1.1;font-family: &quot;Courier New&quot;,Courier,monospace\">     ┌─────────────────────┐\n",
       "q_0: ┤ U3(3.14,1.57,-1.57) ├\n",
       "     └───┬──────────────┬──┘\n",
       "q_1: ────┤ U3(3.14,0,0) ├───\n",
       "         └──────────────┘   </pre>"
      ],
      "text/plain": [
       "     ┌─────────────────────┐\n",
       "q_0: ┤ U3(3.14,1.57,-1.57) ├\n",
       "     └───┬──────────────┬──┘\n",
       "q_1: ────┤ U3(3.14,0,0) ├───\n",
       "         └──────────────┘   "
      ]
     },
     "execution_count": 9,
     "metadata": {},
     "output_type": "execute_result"
    }
   ],
   "source": [
    "circ = decompose.tensor_product_decompose(g.on([0,1]))\n",
    "circ.to_qiskit().draw()\n"
   ]
  },
  {
   "cell_type": "code",
   "execution_count": 10,
   "metadata": {},
   "outputs": [
    {
     "data": {
      "text/html": [
       "<pre style=\"word-wrap: normal;white-space: pre;background: #fff0;line-height: 1.1;font-family: &quot;Courier New&quot;,Courier,monospace\">         ┌──────────────┐   \n",
       "q_0: ────┤ U3(3.14,0,0) ├───\n",
       "     ┌───┴──────────────┴──┐\n",
       "q_1: ┤ U3(3.14,1.57,-1.57) ├\n",
       "     └─────────────────────┘</pre>"
      ],
      "text/plain": [
       "         ┌──────────────┐   \n",
       "q_0: ────┤ U3(3.14,0,0) ├───\n",
       "     ┌───┴──────────────┴──┐\n",
       "q_1: ┤ U3(3.14,1.57,-1.57) ├\n",
       "     └─────────────────────┘"
      ]
     },
     "execution_count": 10,
     "metadata": {},
     "output_type": "execute_result"
    }
   ],
   "source": [
    "circ = decompose.tensor_product_decompose(g.on([1,0])) # permute the qubits\n",
    "circ.to_qiskit().draw()\n"
   ]
  },
  {
   "attachments": {},
   "cell_type": "markdown",
   "metadata": {},
   "source": [
    "**$I\\otimes U$ gate**"
   ]
  },
  {
   "cell_type": "code",
   "execution_count": 11,
   "metadata": {},
   "outputs": [
    {
     "name": "stdout",
     "output_type": "stream",
     "text": [
      "origin U3 paramters: (2.208653326893343, -5.085970328808669, 0.11715443835178085)\n"
     ]
    }
   ],
   "source": [
    "U = rand_unitary(2, random_state=123)\n",
    "print('origin U3 paramters:', operator.params_u3(U)) # period of rotation angle is 2*pi\n"
   ]
  },
  {
   "cell_type": "code",
   "execution_count": 12,
   "metadata": {},
   "outputs": [
    {
     "data": {
      "text/html": [
       "<pre style=\"word-wrap: normal;white-space: pre;background: #fff0;line-height: 1.1;font-family: &quot;Courier New&quot;,Courier,monospace\">                          \n",
       "q_0: ─────────────────────\n",
       "     ┌───────────────────┐\n",
       "q_1: ┤ U3(2.21,1.2,0.12) ├\n",
       "     └───────────────────┘</pre>"
      ],
      "text/plain": [
       "                          \n",
       "q_0: ─────────────────────\n",
       "     ┌───────────────────┐\n",
       "q_1: ┤ U3(2.21,1.2,0.12) ├\n",
       "     └───────────────────┘"
      ]
     },
     "execution_count": 12,
     "metadata": {},
     "output_type": "execute_result"
    }
   ],
   "source": [
    "g = gate.UnivGate(np.kron(np.identity(2), U), 'IxU').on([0,1])\n",
    "circ = decompose.tensor_product_decompose(g)\n",
    "circ.to_qiskit().draw()\n"
   ]
  },
  {
   "cell_type": "markdown",
   "metadata": {},
   "source": [
    "#### ABC decomposition"
   ]
  },
  {
   "attachments": {},
   "cell_type": "markdown",
   "metadata": {},
   "source": [
    "**$CRz(\\theta)$ gate**"
   ]
  },
  {
   "cell_type": "code",
   "execution_count": 13,
   "metadata": {},
   "outputs": [
    {
     "name": "stdout",
     "output_type": "stream",
     "text": [
      "decomposition correct?: True\n"
     ]
    },
    {
     "data": {
      "text/html": [
       "<pre style=\"word-wrap: normal;white-space: pre;background: #fff0;line-height: 1.1;font-family: &quot;Courier New&quot;,Courier,monospace\">                                        \n",
       "q_0: ──────────────■─────────────────■──\n",
       "     ┌──────────┐┌─┴─┐┌───────────┐┌─┴─┐\n",
       "q_1: ┤ Rz(0.06) ├┤ X ├┤ Rz(-0.06) ├┤ X ├\n",
       "     └──────────┘└───┘└───────────┘└───┘</pre>"
      ],
      "text/plain": [
       "                                        \n",
       "q_0: ──────────────■─────────────────■──\n",
       "     ┌──────────┐┌─┴─┐┌───────────┐┌─┴─┐\n",
       "q_1: ┤ Rz(0.06) ├┤ X ├┤ Rz(-0.06) ├┤ X ├\n",
       "     └──────────┘└───┘└───────────┘└───┘"
      ]
     },
     "execution_count": 13,
     "metadata": {},
     "output_type": "execute_result"
    }
   ],
   "source": [
    "g = gate.RZ(0.12).on(1, 0)\n",
    "circ = decompose.abc_decompose(g)\n",
    "print('decomposition correct?:', operator.is_equiv_unitary(operator.controlled_unitary_matrix(g.data), circ.unitary()))\n",
    "circ.to_qiskit().draw()\n"
   ]
  },
  {
   "attachments": {},
   "cell_type": "markdown",
   "metadata": {},
   "source": [
    "**$CU$ gate**"
   ]
  },
  {
   "cell_type": "code",
   "execution_count": 14,
   "metadata": {},
   "outputs": [
    {
     "name": "stdout",
     "output_type": "stream",
     "text": [
      "decomposition correct?: True\n"
     ]
    },
    {
     "data": {
      "text/html": [
       "<pre style=\"word-wrap: normal;white-space: pre;background: #fff0;line-height: 1.1;font-family: &quot;Courier New&quot;,Courier,monospace\">                                                   ┌──────────┐  \n",
       "q_0: ─────────────■──────────────────────────■─────┤ Rz(1.15) ├──\n",
       "     ┌─────────┐┌─┴─┐┌────────────────────┐┌─┴─┐┌──┴──────────┴─┐\n",
       "q_1: ┤ Rz(2.6) ├┤ X ├┤ U3(1.1,3.14,-0.66) ├┤ X ├┤ U3(1.1,1.2,0) ├\n",
       "     └─────────┘└───┘└────────────────────┘└───┘└───────────────┘</pre>"
      ],
      "text/plain": [
       "                                                   ┌──────────┐  \n",
       "q_0: ─────────────■──────────────────────────■─────┤ Rz(1.15) ├──\n",
       "     ┌─────────┐┌─┴─┐┌────────────────────┐┌─┴─┐┌──┴──────────┴─┐\n",
       "q_1: ┤ Rz(2.6) ├┤ X ├┤ U3(1.1,3.14,-0.66) ├┤ X ├┤ U3(1.1,1.2,0) ├\n",
       "     └─────────┘└───┘└────────────────────┘└───┘└───────────────┘"
      ]
     },
     "execution_count": 14,
     "metadata": {},
     "output_type": "execute_result"
    }
   ],
   "source": [
    "g = gate.UnivGate(rand_unitary(2, random_state=123), 'U').on(1, 0)\n",
    "circ = decompose.abc_decompose(g)\n",
    "print('decomposition correct?:', operator.is_equiv_unitary(operator.controlled_unitary_matrix(g.data), circ.unitary()))\n",
    "circ.to_qiskit().draw()\n"
   ]
  },
  {
   "cell_type": "markdown",
   "metadata": {},
   "source": [
    "#### KAK decomposition"
   ]
  },
  {
   "cell_type": "code",
   "execution_count": 15,
   "metadata": {},
   "outputs": [
    {
     "name": "stdout",
     "output_type": "stream",
     "text": [
      "Circuit(num_gates: 11, num_qubits: 2, with_measure: False)\n",
      "decomposition correct?: True\n"
     ]
    },
    {
     "data": {
      "image/png": "[encoded data removed]",
      "text/plain": [
       "<Figure size 779.846x150.5 with 1 Axes>"
      ]
     },
     "execution_count": 15,
     "metadata": {},
     "output_type": "execute_result"
    }
   ],
   "source": [
    "g = gate.UnivGate(rand_unitary(4, random_state=123), 'U').on([0, 1])\n",
    "circ = decompose.kak_decompose(g)\n",
    "print(circ)\n",
    "print('decomposition correct?:', operator.is_equiv_unitary(g.data, circ.unitary()))\n",
    "circ.to_qiskit().draw('mpl', scale=0.75)\n"
   ]
  },
  {
   "attachments": {},
   "cell_type": "markdown",
   "metadata": {},
   "source": [
    "#### Quantum Shannon decomposition"
   ]
  },
  {
   "cell_type": "code",
   "execution_count": 16,
   "metadata": {},
   "outputs": [
    {
     "name": "stdout",
     "output_type": "stream",
     "text": [
      "Circuit(num_gates: 412, num_qubits: 4, with_measure: False)\n",
      "number of CNOTs: 180\n",
      "decomposition correct?: True\n"
     ]
    }
   ],
   "source": [
    "n = 4 # number of qubits\n",
    "U = rand_unitary(2 ** n, random_state=123)\n",
    "g = gate.UnivGate(U, 'U').on(list(range(n)))\n",
    "circ = decompose.qs_decompose(g)\n",
    "circ.to_qiskit().draw('mpl', filename='qs_decompose.png', scale=0.5)\n",
    "print(circ)\n",
    "print('number of CNOTs:', len([g for g in circ if isinstance(g, gate.XGate) and len(g.cqs) == 1 and len(g.tqs) == 1]))\n",
    "print('decomposition correct?:', operator.is_equiv_unitary(g.data, circ.unitary()))\n"
   ]
  },
  {
   "cell_type": "markdown",
   "metadata": {},
   "source": [
    "#### m-control n-target CU gate decomposition"
   ]
  },
  {
   "cell_type": "code",
   "execution_count": 23,
   "metadata": {},
   "outputs": [
    {
     "name": "stdout",
     "output_type": "stream",
     "text": [
      "Circuit(num_gates: 632, num_qubits: 6, with_measure: False)\n",
      "number of CNOTs: 314\n",
      "decomposition correct?: True\n"
     ]
    }
   ],
   "source": [
    "cqs = [0, 2, 4, 5]  # arbitrary order is OK\n",
    "tqs = [1, 6]\n",
    "m = len(cqs)\n",
    "n = len(tqs)\n",
    "U = rand_unitary(2 ** n, random_state=123)\n",
    "circ = decompose.cu_decompose(gate.UnivGate(U, 'U').on(tqs, cqs))\n",
    "circ.to_qiskit().draw('mpl', filename='cu_decompose.png', scale=0.5)\n",
    "print(circ)\n",
    "print('number of CNOTs:', len([g for g in circ if isinstance(g, gate.XGate) and len(g.cqs) == 1 and len(g.tqs) == 1]))\n",
    "print('decomposition correct?:', operator.is_equiv_unitary(\n",
    "    operator.tensor_slots(operator.controlled_unitary_matrix(U, m), max(cqs + tqs) + 1, cqs + tqs),\n",
    "    circ.unitary()\n",
    "))\n"
   ]
  },
  {
   "cell_type": "markdown",
   "metadata": {},
   "source": [
    "### Continuous-variable unitary synthesis"
   ]
  },
  {
   "cell_type": "markdown",
   "metadata": {},
   "source": [
    "#### Reck decomposition"
   ]
  },
  {
   "cell_type": "code",
   "execution_count": 24,
   "metadata": {},
   "outputs": [],
   "source": [
    "H3 = reduce(np.kron, [gate.H.data] * 3)\n",
    "params_list, D = decompose.reck_decompose(H3)\n"
   ]
  },
  {
   "cell_type": "code",
   "execution_count": 25,
   "metadata": {},
   "outputs": [
    {
     "name": "stdout",
     "output_type": "stream",
     "text": [
      "[1.+0.j 1.+0.j 1.+0.j 1.+0.j 1.+0.j 1.+0.j 1.+0.j 1.+0.j]\n"
     ]
    }
   ],
   "source": [
    "print(D)\n"
   ]
  },
  {
   "cell_type": "code",
   "execution_count": 26,
   "metadata": {},
   "outputs": [
    {
     "data": {
      "text/plain": [
       "[(6, 7, 0.7853981633974474, 0, 8),\n",
       " (5, 7, 2.1862760354652835, 0, 8),\n",
       " (4, 7, 2.0943951023931953, 0, 8),\n",
       " (3, 7, 2.0344439357957027, 0, 8),\n",
       " (2, 7, 1.9913306620788616, 0, 8),\n",
       " (1, 7, 1.183199640139716, 0, 8),\n",
       " (0, 7, 1.2094292028881888, 0, 8),\n",
       " (5, 6, 1.0471975511965954, 0, 8),\n",
       " (4, 6, 2.186276035465283, 0, 8),\n",
       " (3, 6, 1.1502619915109316, 0, 8),\n",
       " (2, 6, 2.0344439357957023, 0, 8),\n",
       " (1, 6, 1.9321634507016046, 0, 8),\n",
       " (0, 6, 1.183199640139716, 0, 8),\n",
       " (4, 5, -2.356194490192346, 0, 8),\n",
       " (3, 5, 1.1831996401397158, 0, 8),\n",
       " (2, 5, 1.2094292028881897, 0, 8),\n",
       " (1, 5, 1.1071487177940906, 0, 8),\n",
       " (0, 5, 1.1502619915109311, 0, 8),\n",
       " (3, 4, 1.9321634507016046, 0, 8),\n",
       " (2, 4, 1.1831996401397158, 0, 8),\n",
       " (1, 4, 1.9913306620788613, 0, 8),\n",
       " (0, 4, 1.1071487177940906, 0, 8),\n",
       " (2, 3, -2.356194490192345, 0, 8),\n",
       " (1, 3, 0.9553166181245094, 0, 8),\n",
       " (0, 3, 1.0471975511965979, 0, 8),\n",
       " (1, 2, 2.0943951023931944, 0, 8),\n",
       " (0, 2, 0.9553166181245091, 0, 8),\n",
       " (0, 1, 0.7853981633974493, 0, 8)]"
      ]
     },
     "execution_count": 26,
     "metadata": {},
     "output_type": "execute_result"
    }
   ],
   "source": [
    "params_list\n"
   ]
  },
  {
   "cell_type": "markdown",
   "metadata": {},
   "source": [
    "## State Preparation"
   ]
  },
  {
   "cell_type": "markdown",
   "metadata": {},
   "source": [
    "### Arbitrary single-qubit state preparation"
   ]
  },
  {
   "cell_type": "code",
   "execution_count": 27,
   "metadata": {},
   "outputs": [
    {
     "data": {
      "text/html": [
       "<pre style=\"word-wrap: normal;white-space: pre;background: #fff0;line-height: 1.1;font-family: &quot;Courier New&quot;,Courier,monospace\">     ┌──────────────────────┐                           \n",
       "q_0: ┤ U3(1.91,-0.93,-0.93) ├─■─────────────────────────\n",
       "     └┬────────────────────┬┘ │ ┌──────────────────────┐\n",
       "q_1: ─┤ U3(2.36,1.85,1.85) ├──■─┤ U3(1.13,-0.67,-0.77) ├\n",
       "      └────────────────────┘    └──────────────────────┘</pre>"
      ],
      "text/plain": [
       "     ┌──────────────────────┐                           \n",
       "q_0: ┤ U3(1.91,-0.93,-0.93) ├─■─────────────────────────\n",
       "     └┬────────────────────┬┘ │ ┌──────────────────────┐\n",
       "q_1: ─┤ U3(2.36,1.85,1.85) ├──■─┤ U3(1.13,-0.67,-0.77) ├\n",
       "      └────────────────────┘    └──────────────────────┘"
      ]
     },
     "execution_count": 27,
     "metadata": {},
     "output_type": "execute_result"
    }
   ],
   "source": [
    "psi = np.array([1j, -2, -2 + 1j, 2 - 1j]) / np.sqrt(15)\n",
    "circ = spam.arbitrary_2_qubit_state_circuit(psi, return_u3=True)\n",
    "circ.to_qiskit().draw()\n"
   ]
  },
  {
   "cell_type": "code",
   "execution_count": 28,
   "metadata": {},
   "outputs": [
    {
     "name": "stdout",
     "output_type": "stream",
     "text": [
      "global phase factor: (-0.9792195562182059-0.20280301054132324j)\n"
     ]
    }
   ],
   "source": [
    "print('global phase factor:', operator.times_two_matrix(circ.unitary() @ np.array([1, 0, 0, 0]), psi))\n"
   ]
  },
  {
   "attachments": {},
   "cell_type": "markdown",
   "metadata": {},
   "source": [
    "### Arbitrary two-qubit state preparation"
   ]
  },
  {
   "cell_type": "code",
   "execution_count": 23,
   "metadata": {},
   "outputs": [],
   "source": [
    "# ...\n"
   ]
  },
  {
   "cell_type": "code",
   "execution_count": null,
   "metadata": {},
   "outputs": [],
   "source": []
  },
  {
   "cell_type": "code",
   "execution_count": null,
   "metadata": {},
   "outputs": [],
   "source": []
  }
 ],
 "metadata": {
  "kernelspec": {
   "display_name": "base",
   "language": "python",
   "name": "python3"
  },
  "language_info": {
   "codemirror_mode": {
    "name": "ipython",
    "version": 3
   },
   "file_extension": ".py",
   "mimetype": "text/x-python",
   "name": "python",
   "nbconvert_exporter": "python",
   "pygments_lexer": "ipython3",
   "version": "3.8.17"
  },
  "orig_nbformat": 4,
  "vscode": {
   "interpreter": {
    "hash": "b77a81e5f1b2e8569f76c609cf8e4767cf030d92fee033b4f5ddd64efbe98908"
   }
  }
 },
 "nbformat": 4,
 "nbformat_minor": 2
}
