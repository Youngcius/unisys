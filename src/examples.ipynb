{
 "cells": [
  {
   "cell_type": "code",
   "execution_count": 1,
   "metadata": {
    "collapsed": true
   },
   "outputs": [],
   "source": [
    "import numpy as np\n",
    "import gate\n",
    "from utils import *\n",
    "from circuit import *\n",
    "from decompose import *\n",
    "from reck import *\n",
    "from scipy.stats import unitary_group\n",
    "\n",
    "rand_unitary = unitary_group.rvs"
   ]
  },
  {
   "cell_type": "markdown",
   "metadata": {},
   "source": [
    "## 1. Tensor product gate"
   ]
  },
  {
   "cell_type": "markdown",
   "metadata": {},
   "source": [
    "### 1.1 XY gate"
   ]
  },
  {
   "cell_type": "code",
   "execution_count": 2,
   "metadata": {},
   "outputs": [
    {
     "name": "stdout",
     "output_type": "stream",
     "text": [
      "XY product gate:\n",
      "[[0.+0.j 0.+0.j 0.+0.j 0.-1.j]\n",
      " [0.+0.j 0.+0.j 0.+1.j 0.+0.j]\n",
      " [0.+0.j 0.-1.j 0.+0.j 0.+0.j]\n",
      " [0.+1.j 0.+0.j 0.+0.j 0.+0.j]]\n"
     ]
    }
   ],
   "source": [
    "xy_prod = np.kron(gate.X.data, gate.Y.data)\n",
    "print('XY product gate:')\n",
    "print(xy_prod)"
   ]
  },
  {
   "cell_type": "code",
   "execution_count": 3,
   "metadata": {},
   "outputs": [
    {
     "data": {
      "text/plain": "True"
     },
     "execution_count": 3,
     "metadata": {},
     "output_type": "execute_result"
    }
   ],
   "source": [
    "# after decomposition\n",
    "circ = decomp_gate(xy_prod)\n",
    "opr = circuit_to_unitary(circ)\n",
    "is_equiv_unitary(xy_prod, opr)"
   ]
  },
  {
   "cell_type": "markdown",
   "metadata": {},
   "source": [
    "### U $\\otimes$ I gate"
   ]
  },
  {
   "cell_type": "code",
   "execution_count": 4,
   "metadata": {},
   "outputs": [
    {
     "name": "stdout",
     "output_type": "stream",
     "text": [
      "origin U3 paramters: (2.208653326893343, -5.085970328808669, 0.11715443835178085)\n",
      "is decomposition correct?: True\n",
      "                          \n",
      "q_0: ─────────────────────\n",
      "     ┌───────────────────┐\n",
      "q_1: ┤ U3(2.21,1.2,0.12) ├\n",
      "     └───────────────────┘\n"
     ]
    }
   ],
   "source": [
    "u3_gate = rand_unitary(2, random_state=123)\n",
    "print('origin U3 paramters:', params_u3(u3_gate)) # period of rotation angle is 2*pi\n",
    "i_kron_u3 = np.kron(np.identity(2), u3_gate)\n",
    "circ = decomp_gate(i_kron_u3, return_u3=True) # if return_u3 is True, the circuit can be \n",
    "print('is decomposition correct?:', is_equiv_unitary(circuit_to_unitary(circ), i_kron_u3))\n",
    "disp_circuit(circ)"
   ]
  },
  {
   "cell_type": "markdown",
   "metadata": {},
   "source": [
    "## 2. Swap gate"
   ]
  },
  {
   "cell_type": "code",
   "execution_count": 5,
   "metadata": {},
   "outputs": [
    {
     "name": "stdout",
     "output_type": "stream",
     "text": [
      "origin operator of Swap gate:\n",
      "[[1.+0.j 0.+0.j 0.+0.j 0.+0.j]\n",
      " [0.+0.j 0.+0.j 1.+0.j 0.+0.j]\n",
      " [0.+0.j 1.+0.j 0.+0.j 0.+0.j]\n",
      " [0.+0.j 0.+0.j 0.+0.j 1.+0.j]]\n"
     ]
    }
   ],
   "source": [
    "print('origin operator of Swap gate:')\n",
    "print(gate.Swap.data)"
   ]
  },
  {
   "cell_type": "code",
   "execution_count": 6,
   "metadata": {},
   "outputs": [
    {
     "name": "stdout",
     "output_type": "stream",
     "text": [
      "          ┌───┐     \n",
      "q_0: ──■──┤ X ├──■──\n",
      "     ┌─┴─┐└─┬─┘┌─┴─┐\n",
      "q_1: ┤ X ├──■──┤ X ├\n",
      "     └───┘     └───┘\n"
     ]
    }
   ],
   "source": [
    "circ = decomp_gate(gate.Swap.data)\n",
    "\n",
    "# results are three CNOT gates\n",
    "# visualization: use QASM & Qsikit interfaces\n",
    "disp_circuit(circ)"
   ]
  },
  {
   "cell_type": "markdown",
   "metadata": {},
   "source": [
    "## 3. Controlled-U3 gate"
   ]
  },
  {
   "cell_type": "markdown",
   "metadata": {},
   "source": [
    "### 3.1 CZ gate"
   ]
  },
  {
   "cell_type": "code",
   "execution_count": 7,
   "metadata": {},
   "outputs": [
    {
     "data": {
      "text/plain": [
       "True"
      ]
     },
     "execution_count": 7,
     "metadata": {},
     "output_type": "execute_result"
    }
   ],
   "source": [
    "cz = gate.CZ.data\n",
    "circ = decomp_gate(cz, return_u3=True)\n",
    "is_equiv_unitary(circuit_to_unitary(circ), cz)"
   ]
  },
  {
   "cell_type": "code",
   "execution_count": 8,
   "metadata": {},
   "outputs": [
    {
     "name": "stdout",
     "output_type": "stream",
     "text": [
      "                    \n",
      "q_0: ───────■───────\n",
      "     ┌───┐┌─┴─┐┌───┐\n",
      "q_1: ┤ H ├┤ X ├┤ H ├\n",
      "     └───┘└───┘└───┘\n"
     ]
    }
   ],
   "source": [
    "disp_circuit(circ)"
   ]
  },
  {
   "cell_type": "markdown",
   "metadata": {},
   "source": [
    "### 3.2 CRz($\\pi$) gate"
   ]
  },
  {
   "cell_type": "code",
   "execution_count": 9,
   "metadata": {},
   "outputs": [
    {
     "name": "stdout",
     "output_type": "stream",
     "text": [
      "is decomposition correct?: True\n",
      "               ┌───────────┐\n",
      "q_0: ───────■──┤ Rz(-1.57) ├\n",
      "     ┌───┐┌─┴─┐└───┬───┬───┘\n",
      "q_1: ┤ H ├┤ X ├────┤ H ├────\n",
      "     └───┘└───┘    └───┘    \n"
     ]
    }
   ],
   "source": [
    "crz = np.kron(np.diag([1,0]), np.identity(2)) + np.kron(np.diag([0,1]), gate.CRz(np.pi).data)\n",
    "circ = decomp_gate(crz, return_u3=True)\n",
    "print('is decomposition correct?:', is_equiv_unitary(circuit_to_unitary(circ), crz))\n",
    "disp_circuit(circ)"
   ]
  },
  {
   "cell_type": "markdown",
   "metadata": {},
   "source": [
    "### 3.2 arbitrary CU3 gate"
   ]
  },
  {
   "cell_type": "code",
   "execution_count": 10,
   "metadata": {},
   "outputs": [
    {
     "name": "stdout",
     "output_type": "stream",
     "text": [
      "[[ 1.  +0.j    0.  +0.j    0.  +0.j    0.  +0.j  ]\n",
      " [ 0.  +0.j    1.  +0.j    0.  +0.j    0.  +0.j  ]\n",
      " [ 0.  +0.j    0.  +0.j   -0.4 -0.21j  0.73+0.51j]\n",
      " [ 0.  +0.j    0.  +0.j    0.1 -0.89j  0.1 -0.44j]]\n"
     ]
    }
   ],
   "source": [
    "u3_gate = rand_unitary(2, random_state=123)\n",
    "cu3 = np.kron(np.diag([1, 0]), np.identity(2)) + np.kron(np.diag([0, 1]), u3_gate)\n",
    "print(cu3.round(2))"
   ]
  },
  {
   "cell_type": "code",
   "execution_count": 11,
   "metadata": {},
   "outputs": [
    {
     "name": "stdout",
     "output_type": "stream",
     "text": [
      "True\n"
     ]
    }
   ],
   "source": [
    "# decompose and verification\n",
    "circ = decomp_gate(cu3, return_u3=True)\n",
    "print(is_equiv_unitary(circuit_to_unitary(circ), cu3))"
   ]
  },
  {
   "cell_type": "code",
   "execution_count": 12,
   "metadata": {},
   "outputs": [
    {
     "name": "stdout",
     "output_type": "stream",
     "text": [
      "                                                   ┌──────────┐  \n",
      "q_0: ─────────────■──────────────────────────■─────┤ Rz(1.15) ├──\n",
      "     ┌─────────┐┌─┴─┐┌────────────────────┐┌─┴─┐┌──┴──────────┴─┐\n",
      "q_1: ┤ Rz(2.6) ├┤ X ├┤ U3(1.1,3.14,-0.66) ├┤ X ├┤ U3(1.1,1.2,0) ├\n",
      "     └─────────┘└───┘└────────────────────┘└───┘└───────────────┘\n"
     ]
    }
   ],
   "source": [
    "# visualization\n",
    "disp_circuit(circ)"
   ]
  },
  {
   "cell_type": "code",
   "execution_count": null,
   "metadata": {},
   "outputs": [],
   "source": []
  },
  {
   "cell_type": "markdown",
   "metadata": {},
   "source": [
    "## 4. Arbitrary two-qubit gate"
   ]
  },
  {
   "cell_type": "code",
   "execution_count": 13,
   "metadata": {},
   "outputs": [
    {
     "name": "stdout",
     "output_type": "stream",
     "text": [
      "[[-0.309+0.628j -0.253+0.39j   0.101+0.533j -0.001-0.009j]\n",
      " [-0.165+0.21j   0.564+0.409j -0.584-0.266j  0.05 -0.174j]\n",
      " [ 0.36 -0.357j -0.067+0.313j -0.228+0.414j  0.643+0.063j]\n",
      " [ 0.425-0.04j  -0.408+0.175j -0.267+0.011j -0.43 -0.604j]]\n"
     ]
    }
   ],
   "source": [
    "u_arb = unitary_group.rvs(4, random_state=123)\n",
    "print(u_arb.round(3))"
   ]
  },
  {
   "cell_type": "code",
   "execution_count": 14,
   "metadata": {},
   "outputs": [
    {
     "name": "stdout",
     "output_type": "stream",
     "text": [
      "True\n"
     ]
    }
   ],
   "source": [
    "# decompose and verification\n",
    "circ = decomp_gate(u_arb, return_u3=True)\n",
    "print(is_equiv_unitary(circuit_to_unitary(circ), u_arb))"
   ]
  },
  {
   "cell_type": "code",
   "execution_count": 15,
   "metadata": {},
   "outputs": [
    {
     "data": {
      "image/png": "[encoded data removed]",
      "text/plain": [
       "<Figure size 1039.79x200.667 with 1 Axes>"
      ]
     },
     "execution_count": 15,
     "metadata": {},
     "output_type": "execute_result"
    }
   ],
   "source": [
    "from qiskit import QuantumCircuit\n",
    "qc = QuantumCircuit.from_qasm_str(to_qasm(circ))\n",
    "qc.draw('mpl')\n",
    "# disp_circuit(circ, 'mpl')"
   ]
  },
  {
   "cell_type": "markdown",
   "metadata": {},
   "source": [
    "**Other: Reck decomposition**"
   ]
  },
  {
   "cell_type": "code",
   "execution_count": 16,
   "metadata": {},
   "outputs": [],
   "source": [
    "H3 = reduce(np.kron, [gate.H.data] * 3)\n",
    "params_list, D = reck_decomp(H3)"
   ]
  },
  {
   "cell_type": "code",
   "execution_count": 17,
   "metadata": {},
   "outputs": [
    {
     "name": "stdout",
     "output_type": "stream",
     "text": [
      "[1.+0.j 1.+0.j 1.+0.j 1.+0.j 1.+0.j 1.+0.j 1.+0.j 1.+0.j]\n"
     ]
    }
   ],
   "source": [
    "print(D)"
   ]
  },
  {
   "cell_type": "code",
   "execution_count": 18,
   "metadata": {},
   "outputs": [
    {
     "data": {
      "text/plain": [
       "[(6, 7, 0.7853981633974476, 0, 8),\n",
       " (5, 7, 2.1862760354652835, 0, 8),\n",
       " (4, 7, 2.0943951023931953, 0, 8),\n",
       " (3, 7, 2.0344439357957027, 0, 8),\n",
       " (2, 7, 1.9913306620788616, 0, 8),\n",
       " (1, 7, 1.183199640139716, 0, 8),\n",
       " (0, 7, 1.209429202888189, 0, 8),\n",
       " (5, 6, 1.0471975511965954, 0, 8),\n",
       " (4, 6, 2.186276035465283, 0, 8),\n",
       " (3, 6, 1.1502619915109316, 0, 8),\n",
       " (2, 6, 2.0344439357957023, 0, 8),\n",
       " (1, 6, 1.9321634507016046, 0, 8),\n",
       " (0, 6, 1.183199640139716, 0, 8),\n",
       " (4, 5, -2.3561944901923466, 0, 8),\n",
       " (3, 5, 1.1831996401397158, 0, 8),\n",
       " (2, 5, 1.2094292028881897, 0, 8),\n",
       " (1, 5, 1.1071487177940909, 0, 8),\n",
       " (0, 5, 1.1502619915109311, 0, 8),\n",
       " (3, 4, 1.9321634507016048, 0, 8),\n",
       " (2, 4, 1.183199640139716, 0, 8),\n",
       " (1, 4, 1.9913306620788616, 0, 8),\n",
       " (0, 4, 1.1071487177940909, 0, 8),\n",
       " (2, 3, -2.3561944901923453, 0, 8),\n",
       " (1, 3, 0.9553166181245096, 0, 8),\n",
       " (0, 3, 1.0471975511965974, 0, 8),\n",
       " (1, 2, 2.0943951023931953, 0, 8),\n",
       " (0, 2, 0.9553166181245093, 0, 8),\n",
       " (0, 1, 0.7853981633974488, 0, 8)]"
      ]
     },
     "execution_count": 18,
     "metadata": {},
     "output_type": "execute_result"
    }
   ],
   "source": [
    "params_list"
   ]
  },
  {
   "cell_type": "code",
   "execution_count": null,
   "metadata": {},
   "outputs": [],
   "source": []
  }
 ],
 "metadata": {
  "kernelspec": {
   "display_name": "Python 3.9.13 ('base')",
   "language": "python",
   "name": "python3"
  },
  "language_info": {
   "codemirror_mode": {
    "name": "ipython",
    "version": 3
   },
   "file_extension": ".py",
   "mimetype": "text/x-python",
   "name": "python",
   "nbconvert_exporter": "python",
   "pygments_lexer": "ipython3",
   "version": "3.9.13"
  },
  "vscode": {
   "interpreter": {
    "hash": "cc486558b4ddc182b3265822741974733f8cb8462442c4659a40a8ca5b0402c5"
   }
  }
 },
 "nbformat": 4,
 "nbformat_minor": 0
}
