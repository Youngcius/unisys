{
 "cells": [
  {
   "cell_type": "code",
   "execution_count": 2,
   "metadata": {},
   "outputs": [],
   "source": [
    "import os, sys\n",
    "\n",
    "module_path = os.path.abspath('../..')\n",
    "if module_path not in sys.path:\n",
    "    sys.path.append(module_path)\n",
    "    \n",
    "import numpy as np    \n",
    "import networkx as nx\n",
    "from unisys import gate, circuit\n",
    "from unisys import Gate, Circuit\n",
    "from unisys.utils import operator, arch\n"
   ]
  },
  {
   "cell_type": "code",
   "execution_count": 3,
   "metadata": {},
   "outputs": [],
   "source": [
    "inserted_swap = gate.SWAP.on([0,3])\n",
    "circ = circuit.Circuit([\n",
    "    gate.H.on(0), gate.H.on(2), gate.H.on(5),\n",
    "    gate.Z.on(0), gate.X.on(2, 1), gate.X.on(5, 4),\n",
    "    gate.X.on(1, 0), gate.X.on(3, 2),\n",
    "    gate.H.on(2), gate.H.on(3),\n",
    "    gate.X.on(2, 1), gate.X.on(5, 3),\n",
    "    gate.Z.on(3),\n",
    "    gate.X.on(3, 4),\n",
    "    gate.X.on(0, 3)\n",
    "])\n",
    "circ_with_swaps = circ.clone()\n",
    "circ_with_swaps.insert(-2, inserted_swap)"
   ]
  },
  {
   "cell_type": "code",
   "execution_count": 4,
   "metadata": {},
   "outputs": [
    {
     "name": "stdout",
     "output_type": "stream",
     "text": [
      "Circuit(num_gates: 16, num_qubits: 6, with_measure: False)\n"
     ]
    }
   ],
   "source": [
    "print(circ_with_swaps)"
   ]
  },
  {
   "cell_type": "code",
   "execution_count": 8,
   "metadata": {},
   "outputs": [
    {
     "name": "stdout",
     "output_type": "stream",
     "text": [
      "--------------------------------------------------\n",
      "logical_qubits: [0, 1, 2, 3, 4, 5]\n",
      "physical_qubits: [0, 1, 2, 3, 4, 5, 6]\n",
      "Initial mapping: {0: 1, 1: 6, 2: 4, 3: 3, 4: 5, 5: 0}\n",
      "Updated mapping: {0: 3, 1: 6, 2: 4, 3: 1, 4: 5, 5: 0} after inserting SWAP: targ [0, 3]\n"
     ]
    }
   ],
   "source": [
    "device = arch.read_device_topology('../../benchmark/topology/oslo.graphml')\n",
    "mapping = arch.gene_init_mapping(circ, device)\n",
    "updated_mapping = arch.update_mapping(mapping, inserted_swap)\n",
    "print('Initial mapping:', mapping)\n",
    "print('Updated mapping: {} after inserting {}'.format(updated_mapping, inserted_swap))\n"
   ]
  },
  {
   "cell_type": "code",
   "execution_count": 9,
   "metadata": {},
   "outputs": [
    {
     "data": {
      "text/plain": [
       "{0: 3, 1: 1, 2: 2, 3: 0, 4: 4, 5: 5}"
      ]
     },
     "execution_count": 9,
     "metadata": {},
     "output_type": "execute_result"
    }
   ],
   "source": [
    "arch.obtain_logic_logic_mapping(mapping, updated_mapping)"
   ]
  },
  {
   "cell_type": "code",
   "execution_count": 10,
   "metadata": {},
   "outputs": [
    {
     "name": "stdout",
     "output_type": "stream",
     "text": [
      "[H: targ [0], H: targ [2], H: targ [5], Z: targ [0], X: targ [2] | ctrl [1], X: targ [5] | ctrl [4], X: targ [1] | ctrl [0], X: targ [3] | ctrl [2], H: targ [2], H: targ [3], X: targ [2] | ctrl [1], X: targ [5] | ctrl [3], Z: targ [3], X: targ [3] | ctrl [4], X: targ [0] | ctrl [3]]\n"
     ]
    }
   ],
   "source": [
    "print(circ.gates)"
   ]
  },
  {
   "cell_type": "code",
   "execution_count": 11,
   "metadata": {},
   "outputs": [
    {
     "name": "stdout",
     "output_type": "stream",
     "text": [
      "Circuit(num_gates: 15, num_qubits: 6, with_measure: False)\n",
      "     ┌───┐┌───┐                         ┌───┐\n",
      "q_0: ┤ H ├┤ Z ├──■──────────────────────┤ X ├\n",
      "     └───┘└───┘┌─┴─┐                    └─┬─┘\n",
      "q_1: ───────■──┤ X ├───────■──────────────┼──\n",
      "     ┌───┐┌─┴─┐└───┘┌───┐┌─┴─┐            │  \n",
      "q_2: ┤ H ├┤ X ├──■──┤ H ├┤ X ├────────────┼──\n",
      "     └───┘└───┘┌─┴─┐├───┤└───┘┌───┐┌───┐  │  \n",
      "q_3: ──────────┤ X ├┤ H ├──■──┤ Z ├┤ X ├──■──\n",
      "               └───┘└───┘  │  └───┘└─┬─┘     \n",
      "q_4: ───────■──────────────┼─────────■───────\n",
      "     ┌───┐┌─┴─┐          ┌─┴─┐               \n",
      "q_5: ┤ H ├┤ X ├──────────┤ X ├───────────────\n",
      "     └───┘└───┘          └───┘               \n"
     ]
    }
   ],
   "source": [
    "print(circ)\n",
    "print(circ.to_qiskit().draw())"
   ]
  },
  {
   "cell_type": "code",
   "execution_count": 12,
   "metadata": {},
   "outputs": [
    {
     "data": {
      "text/html": [
       "<pre style=\"word-wrap: normal;white-space: pre;background: #fff0;line-height: 1.1;font-family: &quot;Courier New&quot;,Courier,monospace\">     ┌───┐┌───┐                            ┌───┐\n",
       "q_0: ┤ H ├┤ Z ├──■──────────────────X──────┤ X ├\n",
       "     └───┘└───┘┌─┴─┐                │      └─┬─┘\n",
       "q_1: ───────■──┤ X ├───────■────────┼────────┼──\n",
       "     ┌───┐┌─┴─┐└───┘┌───┐┌─┴─┐      │        │  \n",
       "q_2: ┤ H ├┤ X ├──■──┤ H ├┤ X ├──────┼────────┼──\n",
       "     └───┘└───┘┌─┴─┐├───┤└───┘┌───┐ │ ┌───┐  │  \n",
       "q_3: ──────────┤ X ├┤ H ├──■──┤ Z ├─X─┤ X ├──■──\n",
       "               └───┘└───┘  │  └───┘   └─┬─┘     \n",
       "q_4: ───────■──────────────┼────────────■───────\n",
       "     ┌───┐┌─┴─┐          ┌─┴─┐                  \n",
       "q_5: ┤ H ├┤ X ├──────────┤ X ├──────────────────\n",
       "     └───┘└───┘          └───┘                  </pre>"
      ],
      "text/plain": [
       "     ┌───┐┌───┐                            ┌───┐\n",
       "q_0: ┤ H ├┤ Z ├──■──────────────────X──────┤ X ├\n",
       "     └───┘└───┘┌─┴─┐                │      └─┬─┘\n",
       "q_1: ───────■──┤ X ├───────■────────┼────────┼──\n",
       "     ┌───┐┌─┴─┐└───┘┌───┐┌─┴─┐      │        │  \n",
       "q_2: ┤ H ├┤ X ├──■──┤ H ├┤ X ├──────┼────────┼──\n",
       "     └───┘└───┘┌─┴─┐├───┤└───┘┌───┐ │ ┌───┐  │  \n",
       "q_3: ──────────┤ X ├┤ H ├──■──┤ Z ├─X─┤ X ├──■──\n",
       "               └───┘└───┘  │  └───┘   └─┬─┘     \n",
       "q_4: ───────■──────────────┼────────────■───────\n",
       "     ┌───┐┌─┴─┐          ┌─┴─┐                  \n",
       "q_5: ┤ H ├┤ X ├──────────┤ X ├──────────────────\n",
       "     └───┘└───┘          └───┘                  "
      ]
     },
     "execution_count": 12,
     "metadata": {},
     "output_type": "execute_result"
    }
   ],
   "source": [
    "circ_with_swaps.to_qiskit().draw()"
   ]
  },
  {
   "cell_type": "code",
   "execution_count": 13,
   "metadata": {},
   "outputs": [
    {
     "name": "stdout",
     "output_type": "stream",
     "text": [
      "Circuit(num_gates: 18, num_qubits: 6, with_measure: False)\n",
      "     ┌───┐┌───┐                    ┌───┐     ┌───┐┌───┐     \n",
      "q_0: ┤ H ├┤ Z ├──■─────────────────┤ X ├──■──┤ X ├┤ X ├──■──\n",
      "     └───┘└───┘┌─┴─┐               └─┬─┘  │  └─┬─┘└─┬─┘  │  \n",
      "q_1: ───────■──┤ X ├───────■─────────┼────┼────┼────┼────┼──\n",
      "     ┌───┐┌─┴─┐└───┘┌───┐┌─┴─┐       │    │    │    │    │  \n",
      "q_2: ┤ H ├┤ X ├──■──┤ H ├┤ X ├───────┼────┼────┼────┼────┼──\n",
      "     └───┘└───┘┌─┴─┐├───┤└───┘┌───┐  │  ┌─┴─┐  │    │  ┌─┴─┐\n",
      "q_3: ──────────┤ X ├┤ H ├──■──┤ Z ├──■──┤ X ├──■────┼──┤ X ├\n",
      "               └───┘└───┘  │  └───┘     └───┘       │  └───┘\n",
      "q_4: ───────■──────────────┼────────────────────────■───────\n",
      "     ┌───┐┌─┴─┐          ┌─┴─┐                              \n",
      "q_5: ┤ H ├┤ X ├──────────┤ X ├──────────────────────────────\n",
      "     └───┘└───┘          └───┘                              \n"
     ]
    }
   ],
   "source": [
    "mapped_circ = arch.unify_mapped_circuit(circ_with_swaps, [mapping, updated_mapping])\n",
    "print(mapped_circ)\n",
    "print(mapped_circ.to_qiskit().draw())"
   ]
  },
  {
   "cell_type": "code",
   "execution_count": 14,
   "metadata": {},
   "outputs": [
    {
     "data": {
      "text/plain": [
       "True"
      ]
     },
     "execution_count": 14,
     "metadata": {},
     "output_type": "execute_result"
    }
   ],
   "source": [
    "arch.verify_mapped_circuit(circ, mapped_circ, mapping, updated_mapping)"
   ]
  },
  {
   "cell_type": "code",
   "execution_count": null,
   "metadata": {},
   "outputs": [],
   "source": []
  }
 ],
 "metadata": {
  "kernelspec": {
   "display_name": "base",
   "language": "python",
   "name": "python3"
  },
  "language_info": {
   "codemirror_mode": {
    "name": "ipython",
    "version": 3
   },
   "file_extension": ".py",
   "mimetype": "text/x-python",
   "name": "python",
   "nbconvert_exporter": "python",
   "pygments_lexer": "ipython3",
   "version": "3.8.17"
  },
  "orig_nbformat": 4
 },
 "nbformat": 4,
 "nbformat_minor": 2
}
