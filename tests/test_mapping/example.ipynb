{
 "cells": [
  {
   "cell_type": "code",
   "execution_count": 1,
   "metadata": {
    "ExecuteTime": {
     "end_time": "2023-09-04T01:27:09.592774Z",
     "start_time": "2023-09-04T01:27:08.810526Z"
    }
   },
   "outputs": [],
   "source": [
    "import os, sys\n",
    "\n",
    "module_path = os.path.abspath('../..')\n",
    "if module_path not in sys.path:\n",
    "    sys.path.append(module_path)\n",
    "\n",
    "import numpy as np\n",
    "import networkx as nx\n",
    "import matplotlib.pyplot as plt\n",
    "from unisys import gate, circuit\n",
    "from unisys.utils import operator, arch\n",
    "from unisys.mapping import heuristic\n"
   ]
  },
  {
   "cell_type": "markdown",
   "source": [
    "## SABRE routing algorithm"
   ],
   "metadata": {
    "collapsed": false
   }
  },
  {
   "cell_type": "markdown",
   "source": [
    "### Overview demo\n",
    "\n",
    "Overall, the SABRE routing algorithm will \"pass\" the circuit forward-and-backward for several periods and then perform a forward pass to search optimal SWAP gates to insert.\n",
    "\n",
    "The default bidirectional pass period number `k=3`, meaning searching for 2k+1 passes in total"
   ],
   "metadata": {
    "collapsed": false
   }
  },
  {
   "cell_type": "code",
   "execution_count": 19,
   "outputs": [],
   "source": [
    "circ = circuit.Circuit([\n",
    "    gate.H.on(0), gate.H.on(2), gate.H.on(5),\n",
    "    gate.Z.on(0), gate.X.on(2, 1), gate.X.on(5, 4),\n",
    "    gate.X.on(1, 0), gate.X.on(3, 2),\n",
    "    gate.H.on(2), gate.H.on(3),\n",
    "    gate.X.on(2, 1), gate.X.on(5, 3),\n",
    "    gate.Z.on(3),\n",
    "    gate.X.on(3, 4),\n",
    "    gate.X.on(0, 3)\n",
    "])"
   ],
   "metadata": {
    "collapsed": false,
    "ExecuteTime": {
     "end_time": "2023-09-04T01:37:28.185026Z",
     "start_time": "2023-09-04T01:37:28.180213Z"
    }
   }
  },
  {
   "cell_type": "code",
   "execution_count": 20,
   "outputs": [
    {
     "data": {
      "text/plain": "<Figure size 300x200 with 1 Axes>",
      "image/png": "[encoded data removed]"
     },
     "metadata": {},
     "output_type": "display_data"
    }
   ],
   "source": [
    "device = arch.read_device_topology('../../benchmark/topology/oslo.graphml')\n",
    "plt.figure(figsize=(3, 2))\n",
    "nx.draw(device, with_labels=True)\n",
    "plt.title('coupling graph')\n",
    "plt.show()"
   ],
   "metadata": {
    "collapsed": false,
    "ExecuteTime": {
     "end_time": "2023-09-04T01:37:28.385811Z",
     "start_time": "2023-09-04T01:37:28.300438Z"
    }
   }
  },
  {
   "cell_type": "code",
   "execution_count": 37,
   "outputs": [
    {
     "data": {
      "text/plain": "\u001B[92m──────────────────────────────────────── \u001B[0mSABRE bidirectional pass period \u001B[1;36m0\u001B[0m\u001B[92m ────────────────────────────────────────\u001B[0m\n",
      "text/html": "<pre style=\"white-space:pre;overflow-x:auto;line-height:normal;font-family:Menlo,'DejaVu Sans Mono',consolas,'Courier New',monospace\"><span style=\"color: #00ff00; text-decoration-color: #00ff00\">──────────────────────────────────────── </span>SABRE bidirectional pass period <span style=\"color: #008080; text-decoration-color: #008080; font-weight: bold\">0</span><span style=\"color: #00ff00; text-decoration-color: #00ff00\"> ────────────────────────────────────────</span>\n</pre>\n"
     },
     "metadata": {},
     "output_type": "display_data"
    },
    {
     "data": {
      "text/plain": "\u001B[1;32mforward pass\u001B[0m\n",
      "text/html": "<pre style=\"white-space:pre;overflow-x:auto;line-height:normal;font-family:Menlo,'DejaVu Sans Mono',consolas,'Courier New',monospace\"><span style=\"color: #008000; text-decoration-color: #008000; font-weight: bold\">forward pass</span>\n</pre>\n"
     },
     "metadata": {},
     "output_type": "display_data"
    },
    {
     "name": "stdout",
     "output_type": "stream",
     "text": [
      "dag nodes: [0, 1, 2, 3, 4, 5, 6, 7, 8, 9, 10, 11, 12, 13, 14]\n",
      "--------------------------------------------------\n",
      "logical_qubits: [0, 1, 2, 3, 4, 5]\n",
      "physical_qubits: [0, 1, 2, 3, 4, 5, 6]\n",
      "initial_mapping: {0: 3, 1: 1, 2: 2, 3: 0, 4: 5, 5: 4}\n",
      "final_mapping: {0: 1, 1: 2, 2: 0, 3: 3, 4: 5, 5: 4}\n"
     ]
    },
    {
     "data": {
      "text/plain": "\u001B[1;34mreversed pass\u001B[0m\n",
      "text/html": "<pre style=\"white-space:pre;overflow-x:auto;line-height:normal;font-family:Menlo,'DejaVu Sans Mono',consolas,'Courier New',monospace\"><span style=\"color: #000080; text-decoration-color: #000080; font-weight: bold\">reversed pass</span>\n</pre>\n"
     },
     "metadata": {},
     "output_type": "display_data"
    },
    {
     "name": "stdout",
     "output_type": "stream",
     "text": [
      "dag nodes: [0, 1, 2, 3, 4, 5, 6, 7, 8, 9, 10, 11, 12, 13, 14, 15, 16, 17, 18, 19, 20, 21, 22, 23, 24, 25, 26, 27, 28, 29]\n",
      "initial_mapping: {0: 1, 1: 2, 2: 0, 3: 3, 4: 5, 5: 4}\n",
      "final_mapping: {0: 2, 1: 1, 2: 0, 3: 3, 4: 5, 5: 4}\n"
     ]
    },
    {
     "data": {
      "text/plain": "\u001B[92m──────────────────────────────────────── \u001B[0mSABRE bidirectional pass period \u001B[1;36m1\u001B[0m\u001B[92m ────────────────────────────────────────\u001B[0m\n",
      "text/html": "<pre style=\"white-space:pre;overflow-x:auto;line-height:normal;font-family:Menlo,'DejaVu Sans Mono',consolas,'Courier New',monospace\"><span style=\"color: #00ff00; text-decoration-color: #00ff00\">──────────────────────────────────────── </span>SABRE bidirectional pass period <span style=\"color: #008080; text-decoration-color: #008080; font-weight: bold\">1</span><span style=\"color: #00ff00; text-decoration-color: #00ff00\"> ────────────────────────────────────────</span>\n</pre>\n"
     },
     "metadata": {},
     "output_type": "display_data"
    },
    {
     "data": {
      "text/plain": "\u001B[1;32mforward pass\u001B[0m\n",
      "text/html": "<pre style=\"white-space:pre;overflow-x:auto;line-height:normal;font-family:Menlo,'DejaVu Sans Mono',consolas,'Courier New',monospace\"><span style=\"color: #008000; text-decoration-color: #008000; font-weight: bold\">forward pass</span>\n</pre>\n"
     },
     "metadata": {},
     "output_type": "display_data"
    },
    {
     "name": "stdout",
     "output_type": "stream",
     "text": [
      "dag nodes: [0, 1, 2, 3, 4, 5, 6, 7, 8, 9, 10, 11, 12, 13, 14]\n",
      "initial_mapping: {0: 2, 1: 1, 2: 0, 3: 3, 4: 5, 5: 4}\n",
      "final_mapping: {0: 3, 1: 0, 2: 2, 3: 5, 4: 1, 5: 4}\n"
     ]
    },
    {
     "data": {
      "text/plain": "\u001B[1;34mreversed pass\u001B[0m\n",
      "text/html": "<pre style=\"white-space:pre;overflow-x:auto;line-height:normal;font-family:Menlo,'DejaVu Sans Mono',consolas,'Courier New',monospace\"><span style=\"color: #000080; text-decoration-color: #000080; font-weight: bold\">reversed pass</span>\n</pre>\n"
     },
     "metadata": {},
     "output_type": "display_data"
    },
    {
     "name": "stdout",
     "output_type": "stream",
     "text": [
      "dag nodes: [0, 1, 2, 3, 4, 5, 6, 7, 8, 9, 10, 11, 12, 13, 14, 15, 16, 17, 18, 19, 20, 21, 22, 23, 24, 25, 26]\n",
      "initial_mapping: {0: 3, 1: 0, 2: 2, 3: 5, 4: 1, 5: 4}\n",
      "final_mapping: {0: 3, 1: 1, 2: 2, 3: 0, 4: 5, 5: 4}\n"
     ]
    },
    {
     "data": {
      "text/plain": "\u001B[92m──────────────────────────────────────── \u001B[0mSABRE bidirectional pass period \u001B[1;36m2\u001B[0m\u001B[92m ────────────────────────────────────────\u001B[0m\n",
      "text/html": "<pre style=\"white-space:pre;overflow-x:auto;line-height:normal;font-family:Menlo,'DejaVu Sans Mono',consolas,'Courier New',monospace\"><span style=\"color: #00ff00; text-decoration-color: #00ff00\">──────────────────────────────────────── </span>SABRE bidirectional pass period <span style=\"color: #008080; text-decoration-color: #008080; font-weight: bold\">2</span><span style=\"color: #00ff00; text-decoration-color: #00ff00\"> ────────────────────────────────────────</span>\n</pre>\n"
     },
     "metadata": {},
     "output_type": "display_data"
    },
    {
     "data": {
      "text/plain": "\u001B[1;32mforward pass\u001B[0m\n",
      "text/html": "<pre style=\"white-space:pre;overflow-x:auto;line-height:normal;font-family:Menlo,'DejaVu Sans Mono',consolas,'Courier New',monospace\"><span style=\"color: #008000; text-decoration-color: #008000; font-weight: bold\">forward pass</span>\n</pre>\n"
     },
     "metadata": {},
     "output_type": "display_data"
    },
    {
     "name": "stdout",
     "output_type": "stream",
     "text": [
      "dag nodes: [0, 1, 2, 3, 4, 5, 6, 7, 8, 9, 10, 11, 12, 13, 14]\n",
      "initial_mapping: {0: 3, 1: 1, 2: 2, 3: 0, 4: 5, 5: 4}\n",
      "final_mapping: {0: 1, 1: 2, 2: 0, 3: 3, 4: 5, 5: 4}\n"
     ]
    },
    {
     "data": {
      "text/plain": "\u001B[1;34mreversed pass\u001B[0m\n",
      "text/html": "<pre style=\"white-space:pre;overflow-x:auto;line-height:normal;font-family:Menlo,'DejaVu Sans Mono',consolas,'Courier New',monospace\"><span style=\"color: #000080; text-decoration-color: #000080; font-weight: bold\">reversed pass</span>\n</pre>\n"
     },
     "metadata": {},
     "output_type": "display_data"
    },
    {
     "name": "stdout",
     "output_type": "stream",
     "text": [
      "dag nodes: [0, 1, 2, 3, 4, 5, 6, 7, 8, 9, 10, 11, 12, 13, 14, 15, 16, 17, 18, 19, 20, 21, 22, 23, 24, 25, 26, 27, 28, 29]\n",
      "initial_mapping: {0: 1, 1: 2, 2: 0, 3: 3, 4: 5, 5: 4}\n",
      "final_mapping: {0: 2, 1: 1, 2: 0, 3: 3, 4: 5, 5: 4}\n",
      "dag nodes: [0, 1, 2, 3, 4, 5, 6, 7, 8, 9, 10, 11, 12, 13, 14]\n",
      "initial_mapping: {0: 2, 1: 1, 2: 0, 3: 3, 4: 5, 5: 4}\n",
      "final_mapping: {0: 3, 1: 0, 2: 2, 3: 5, 4: 1, 5: 4}\n"
     ]
    }
   ],
   "source": [
    "mapped_circ, init_mapping, final_mapping = heuristic.sabre_search(circ, device)"
   ],
   "metadata": {
    "collapsed": false,
    "ExecuteTime": {
     "end_time": "2023-09-04T01:40:15.466159Z",
     "start_time": "2023-09-04T01:40:15.346844Z"
    }
   }
  },
  {
   "cell_type": "code",
   "execution_count": 44,
   "outputs": [
    {
     "name": "stdout",
     "output_type": "stream",
     "text": [
      "original circuit: Circuit(num_gates: 15, num_qubits: 6, with_measure: False)\n"
     ]
    },
    {
     "data": {
      "text/plain": "q_0: ───H───Z───@───────────────────X───\n                │                   │\nq_1: ───────@───X───────@───────────┼───\n            │           │           │\nq_2: ───H───X───@───H───X───────────┼───\n                │                   │\nq_3: ───────────X───H───@───Z───X───@───\n                        │       │\nq_4: ───────@───────────┼───────@───────\n            │           │\nq_5: ───H───X───────────X───────────────",
      "text/html": "<pre style=\"overflow: auto; white-space: pre;\">q_0: ───H───Z───@───────────────────X───\n                │                   │\nq_1: ───────@───X───────@───────────┼───\n            │           │           │\nq_2: ───H───X───@───H───X───────────┼───\n                │                   │\nq_3: ───────────X───H───@───Z───X───@───\n                        │       │\nq_4: ───────@───────────┼───────@───────\n            │           │\nq_5: ───H───X───────────X───────────────</pre>"
     },
     "execution_count": 44,
     "metadata": {},
     "output_type": "execute_result"
    }
   ],
   "source": [
    "# original circuit\n",
    "print('original circuit:', circ)\n",
    "circ.to_cirq()"
   ],
   "metadata": {
    "collapsed": false,
    "ExecuteTime": {
     "end_time": "2023-09-04T01:41:18.006774Z",
     "start_time": "2023-09-04T01:41:17.972365Z"
    }
   }
  },
  {
   "cell_type": "code",
   "execution_count": 45,
   "outputs": [
    {
     "name": "stdout",
     "output_type": "stream",
     "text": [
      "mapped circuit: Circuit(num_gates: 27, num_qubits: 6, with_measure: False)\n",
      "init_mapping: {0: 2, 1: 1, 2: 0, 3: 3, 4: 5, 5: 4}\n",
      "final_mapping: {0: 3, 1: 0, 2: 2, 3: 5, 4: 1, 5: 4}\n"
     ]
    },
    {
     "data": {
      "text/plain": "q_0: ───H───Z───@───────────────────────────X───@───X───────────────────────────\n                │                           │   │   │\nq_1: ───────@───X───@───X───@───@───H───X───@───X───@───────────X───@───X───────\n            │       │   │   │   │       │                       │   │   │\nq_2: ───H───X───────X───@───X───┼───────@───────────────────────┼───┼───┼───────\n                                │                               │   │   │\nq_3: ───────────────────────────X───H───X───@───X───────────@───@───X───@───X───\n                                        │   │   │           │               │\nq_4: ───────@───────────────────────────@───X───@───@───Z───X───────────────@───\n            │                                       │\nq_5: ───H───X───────────────────────────────────────X───────────────────────────",
      "text/html": "<pre style=\"overflow: auto; white-space: pre;\">q_0: ───H───Z───@───────────────────────────X───@───X───────────────────────────\n                │                           │   │   │\nq_1: ───────@───X───@───X───@───@───H───X───@───X───@───────────X───@───X───────\n            │       │   │   │   │       │                       │   │   │\nq_2: ───H───X───────X───@───X───┼───────@───────────────────────┼───┼───┼───────\n                                │                               │   │   │\nq_3: ───────────────────────────X───H───X───@───X───────────@───@───X───@───X───\n                                        │   │   │           │               │\nq_4: ───────@───────────────────────────@───X───@───@───Z───X───────────────@───\n            │                                       │\nq_5: ───H───X───────────────────────────────────────X───────────────────────────</pre>"
     },
     "execution_count": 45,
     "metadata": {},
     "output_type": "execute_result"
    }
   ],
   "source": [
    "# mapped circuit\n",
    "print('mapped circuit:', mapped_circ)\n",
    "print('init_mapping:', init_mapping)\n",
    "print('final_mapping:', final_mapping)\n",
    "mapped_circ.to_cirq()"
   ],
   "metadata": {
    "collapsed": false,
    "ExecuteTime": {
     "end_time": "2023-09-04T01:41:32.760783Z",
     "start_time": "2023-09-04T01:41:32.721584Z"
    }
   }
  },
  {
   "cell_type": "code",
   "execution_count": 46,
   "outputs": [
    {
     "data": {
      "text/plain": "True"
     },
     "execution_count": 46,
     "metadata": {},
     "output_type": "execute_result"
    }
   ],
   "source": [
    "# verify the mapped circuit\n",
    "arch.verify_mapped_circuit(circ, mapped_circ, init_mapping, final_mapping)"
   ],
   "metadata": {
    "collapsed": false,
    "ExecuteTime": {
     "end_time": "2023-09-04T01:41:53.820860Z",
     "start_time": "2023-09-04T01:41:53.792155Z"
    }
   }
  },
  {
   "cell_type": "markdown",
   "source": [
    "### Detailed demo\n",
    "\n",
    "Herein we can see the detailed process of the one pass of SABRE routing algorithm."
   ],
   "metadata": {
    "collapsed": false
   }
  },
  {
   "cell_type": "code",
   "execution_count": 4,
   "outputs": [
    {
     "name": "stdout",
     "output_type": "stream",
     "text": [
      "dag nodes: [0, 1, 2, 3, 4, 5, 6, 7, 8, 9, 10, 11, 12, 13, 14]\n",
      "--------------------------------------------------\n",
      "logical_qubits: [0, 1, 2, 3, 4, 5]\n",
      "physical_qubits: [0, 1, 2, 3, 4, 5, 6]\n",
      "initial_mapping: {0: 0, 1: 1, 2: 2, 3: 3, 4: 4, 5: 5}\n",
      "final_mapping: {0: 1, 1: 2, 2: 0, 3: 3, 4: 5, 5: 4}\n"
     ]
    }
   ],
   "source": [
    "circ_with_swaps, mappings = heuristic.sabre_search_one_pass(circ, device, return_circ_with_swaps=True, gene_init_mapping_type='trivial')"
   ],
   "metadata": {
    "collapsed": false,
    "ExecuteTime": {
     "end_time": "2023-09-04T01:27:11.528081Z",
     "start_time": "2023-09-04T01:27:11.526026Z"
    }
   }
  },
  {
   "cell_type": "code",
   "execution_count": 5,
   "outputs": [
    {
     "data": {
      "text/plain": "     ┌───┐┌───┐                         ┌───┐\nq_0: ┤ H ├┤ Z ├──■──────────────────────┤ X ├\n     └───┘└───┘┌─┴─┐                    └─┬─┘\nq_1: ───────■──┤ X ├───────■──────────────┼──\n     ┌───┐┌─┴─┐└───┘┌───┐┌─┴─┐            │  \nq_2: ┤ H ├┤ X ├──■──┤ H ├┤ X ├────────────┼──\n     └───┘└───┘┌─┴─┐├───┤└───┘┌───┐┌───┐  │  \nq_3: ──────────┤ X ├┤ H ├──■──┤ Z ├┤ X ├──■──\n               └───┘└───┘  │  └───┘└─┬─┘     \nq_4: ───────■──────────────┼─────────■───────\n     ┌───┐┌─┴─┐          ┌─┴─┐               \nq_5: ┤ H ├┤ X ├──────────┤ X ├───────────────\n     └───┘└───┘          └───┘               ",
      "text/html": "<pre style=\"word-wrap: normal;white-space: pre;background: #fff0;line-height: 1.1;font-family: &quot;Courier New&quot;,Courier,monospace\">     ┌───┐┌───┐                         ┌───┐\nq_0: ┤ H ├┤ Z ├──■──────────────────────┤ X ├\n     └───┘└───┘┌─┴─┐                    └─┬─┘\nq_1: ───────■──┤ X ├───────■──────────────┼──\n     ┌───┐┌─┴─┐└───┘┌───┐┌─┴─┐            │  \nq_2: ┤ H ├┤ X ├──■──┤ H ├┤ X ├────────────┼──\n     └───┘└───┘┌─┴─┐├───┤└───┘┌───┐┌───┐  │  \nq_3: ──────────┤ X ├┤ H ├──■──┤ Z ├┤ X ├──■──\n               └───┘└───┘  │  └───┘└─┬─┘     \nq_4: ───────■──────────────┼─────────■───────\n     ┌───┐┌─┴─┐          ┌─┴─┐               \nq_5: ┤ H ├┤ X ├──────────┤ X ├───────────────\n     └───┘└───┘          └───┘               </pre>"
     },
     "execution_count": 5,
     "metadata": {},
     "output_type": "execute_result"
    }
   ],
   "source": [
    "# original circuit\n",
    "circ.to_qiskit().draw()"
   ],
   "metadata": {
    "collapsed": false,
    "ExecuteTime": {
     "end_time": "2023-09-04T01:27:18.559612Z",
     "start_time": "2023-09-04T01:27:18.118212Z"
    }
   }
  },
  {
   "cell_type": "code",
   "execution_count": 6,
   "outputs": [
    {
     "data": {
      "text/plain": "     ┌───┐┌───┐                                 ┌───┐\nq_0: ┤ H ├┤ Z ├──■──────────────────────X───────┤ X ├\n     └───┘└───┘┌─┴─┐                    │       └─┬─┘\nq_1: ───────■──┤ X ├─X─────────────■────┼─────────┼──\n     ┌───┐┌─┴─┐└───┘ │      ┌───┐┌─┴─┐  │         │  \nq_2: ┤ H ├┤ X ├──────X───■──┤ H ├┤ X ├──X─────────┼──\n     └───┘└───┘        ┌─┴─┐├───┤└───┘┌───┐┌───┐  │  \nq_3: ──────────────────┤ X ├┤ H ├──■──┤ Z ├┤ X ├──■──\n                       └───┘└───┘  │  └───┘└─┬─┘     \nq_4: ───────■──────────────────────┼────X────■───────\n     ┌───┐┌─┴─┐                  ┌─┴─┐  │            \nq_5: ┤ H ├┤ X ├──────────────────┤ X ├──X────────────\n     └───┘└───┘                  └───┘               ",
      "text/html": "<pre style=\"word-wrap: normal;white-space: pre;background: #fff0;line-height: 1.1;font-family: &quot;Courier New&quot;,Courier,monospace\">     ┌───┐┌───┐                                 ┌───┐\nq_0: ┤ H ├┤ Z ├──■──────────────────────X───────┤ X ├\n     └───┘└───┘┌─┴─┐                    │       └─┬─┘\nq_1: ───────■──┤ X ├─X─────────────■────┼─────────┼──\n     ┌───┐┌─┴─┐└───┘ │      ┌───┐┌─┴─┐  │         │  \nq_2: ┤ H ├┤ X ├──────X───■──┤ H ├┤ X ├──X─────────┼──\n     └───┘└───┘        ┌─┴─┐├───┤└───┘┌───┐┌───┐  │  \nq_3: ──────────────────┤ X ├┤ H ├──■──┤ Z ├┤ X ├──■──\n                       └───┘└───┘  │  └───┘└─┬─┘     \nq_4: ───────■──────────────────────┼────X────■───────\n     ┌───┐┌─┴─┐                  ┌─┴─┐  │            \nq_5: ┤ H ├┤ X ├──────────────────┤ X ├──X────────────\n     └───┘└───┘                  └───┘               </pre>"
     },
     "execution_count": 6,
     "metadata": {},
     "output_type": "execute_result"
    }
   ],
   "source": [
    "# circuit with inserted swaps\n",
    "circ_with_swaps.to_qiskit().draw()"
   ],
   "metadata": {
    "collapsed": false,
    "ExecuteTime": {
     "end_time": "2023-09-04T01:27:19.202207Z",
     "start_time": "2023-09-04T01:27:19.155738Z"
    }
   }
  },
  {
   "cell_type": "markdown",
   "source": [
    "As we can see, there are 3 SWAP gates inserted, so the result maintains 4 intermediate mappings (the first one is the initial mapping; the last one is the final mapping). \n",
    "\n",
    "We can unify such a circuit to generate a circuit with only the initial and final mappings, i.e., all the inner intermediate mappings hold the same, which will be more convenient for execution analysis and execution on hardware."
   ],
   "metadata": {
    "collapsed": false
   }
  },
  {
   "cell_type": "code",
   "execution_count": 8,
   "outputs": [
    {
     "data": {
      "text/plain": "[{0: 0, 1: 1, 2: 2, 3: 3, 4: 4, 5: 5},\n {0: 0, 1: 2, 2: 1, 3: 3, 4: 4, 5: 5},\n {0: 0, 1: 2, 2: 1, 3: 3, 4: 5, 5: 4},\n {0: 1, 1: 2, 2: 0, 3: 3, 4: 5, 5: 4}]"
     },
     "execution_count": 8,
     "metadata": {},
     "output_type": "execute_result"
    }
   ],
   "source": [
    "mappings"
   ],
   "metadata": {
    "collapsed": false,
    "ExecuteTime": {
     "end_time": "2023-09-04T01:31:11.881530Z",
     "start_time": "2023-09-04T01:31:11.879127Z"
    }
   }
  },
  {
   "cell_type": "code",
   "execution_count": 13,
   "outputs": [
    {
     "data": {
      "text/plain": "     ┌───┐┌───┐                                   ┌───┐     ┌───┐          \nq_0: ┤ H ├┤ Z ├──■────────────────────────────────┤ X ├──■──┤ X ├──────────\n     └───┘└───┘┌─┴─┐     ┌───┐          ┌───┐┌───┐└─┬─┘┌─┴─┐└─┬─┘     ┌───┐\nq_1: ───────■──┤ X ├──■──┤ X ├──■────■──┤ H ├┤ X ├──■──┤ X ├──■───────┤ X ├\n     ┌───┐┌─┴─┐└───┘┌─┴─┐└─┬─┘┌─┴─┐  │  └───┘└─┬─┘     └───┘          └─┬─┘\nq_2: ┤ H ├┤ X ├─────┤ X ├──■──┤ X ├──┼─────────■────────────────────────┼──\n     └───┘└───┘     └───┘     └───┘┌─┴─┐┌───┐     ┌───┐          ┌───┐  │  \nq_3: ──────────────────────────────┤ X ├┤ H ├──■──┤ Z ├──────────┤ X ├──■──\n                                   └───┘└───┘  │  ├───┤     ┌───┐└─┬─┘     \nq_4: ───────■──────────────────────────────────┼──┤ X ├──■──┤ X ├──┼───────\n     ┌───┐┌─┴─┐                              ┌─┴─┐└─┬─┘┌─┴─┐└─┬─┘  │       \nq_5: ┤ H ├┤ X ├──────────────────────────────┤ X ├──■──┤ X ├──■────■───────\n     └───┘└───┘                              └───┘     └───┘               ",
      "text/html": "<pre style=\"word-wrap: normal;white-space: pre;background: #fff0;line-height: 1.1;font-family: &quot;Courier New&quot;,Courier,monospace\">     ┌───┐┌───┐                                   ┌───┐     ┌───┐          \nq_0: ┤ H ├┤ Z ├──■────────────────────────────────┤ X ├──■──┤ X ├──────────\n     └───┘└───┘┌─┴─┐     ┌───┐          ┌───┐┌───┐└─┬─┘┌─┴─┐└─┬─┘     ┌───┐\nq_1: ───────■──┤ X ├──■──┤ X ├──■────■──┤ H ├┤ X ├──■──┤ X ├──■───────┤ X ├\n     ┌───┐┌─┴─┐└───┘┌─┴─┐└─┬─┘┌─┴─┐  │  └───┘└─┬─┘     └───┘          └─┬─┘\nq_2: ┤ H ├┤ X ├─────┤ X ├──■──┤ X ├──┼─────────■────────────────────────┼──\n     └───┘└───┘     └───┘     └───┘┌─┴─┐┌───┐     ┌───┐          ┌───┐  │  \nq_3: ──────────────────────────────┤ X ├┤ H ├──■──┤ Z ├──────────┤ X ├──■──\n                                   └───┘└───┘  │  ├───┤     ┌───┐└─┬─┘     \nq_4: ───────■──────────────────────────────────┼──┤ X ├──■──┤ X ├──┼───────\n     ┌───┐┌─┴─┐                              ┌─┴─┐└─┬─┘┌─┴─┐└─┬─┘  │       \nq_5: ┤ H ├┤ X ├──────────────────────────────┤ X ├──■──┤ X ├──■────■───────\n     └───┘└───┘                              └───┘     └───┘               </pre>"
     },
     "execution_count": 13,
     "metadata": {},
     "output_type": "execute_result"
    }
   ],
   "source": [
    "# mapped circuit with only init_mapping and final_mapping\n",
    "init_mapping, final_mapping = mappings[0], mappings[-1]\n",
    "mapped_circ = arch.unify_mapped_circuit(circ_with_swaps, mappings)\n",
    "mapped_circ.to_qiskit().draw()"
   ],
   "metadata": {
    "collapsed": false,
    "ExecuteTime": {
     "end_time": "2023-09-04T01:32:36.011520Z",
     "start_time": "2023-09-04T01:32:35.968308Z"
    }
   }
  },
  {
   "cell_type": "markdown",
   "source": [
    "Then let us see whether the `mapped_circ` is unitary equivalent to the original circuit `circ`."
   ],
   "metadata": {
    "collapsed": false
   }
  },
  {
   "cell_type": "code",
   "execution_count": 12,
   "metadata": {
    "ExecuteTime": {
     "end_time": "2023-09-04T01:32:27.132893Z",
     "start_time": "2023-09-04T01:32:27.109188Z"
    }
   },
   "outputs": [
    {
     "data": {
      "text/plain": "True"
     },
     "execution_count": 12,
     "metadata": {},
     "output_type": "execute_result"
    }
   ],
   "source": [
    "arch.verify_mapped_circuit(circ, mapped_circ, init_mapping, final_mapping)"
   ]
  },
  {
   "cell_type": "code",
   "execution_count": 13,
   "metadata": {
    "ExecuteTime": {
     "end_time": "2023-09-04T01:32:48.198269Z",
     "start_time": "2023-09-04T01:32:48.186389Z"
    }
   },
   "outputs": [],
   "source": []
  },
  {
   "cell_type": "code",
   "execution_count": 13,
   "outputs": [],
   "source": [],
   "metadata": {
    "collapsed": false,
    "ExecuteTime": {
     "end_time": "2023-09-04T01:32:48.341093Z",
     "start_time": "2023-09-04T01:32:48.334987Z"
    }
   }
  },
  {
   "cell_type": "code",
   "execution_count": 13,
   "outputs": [],
   "source": [],
   "metadata": {
    "collapsed": false,
    "ExecuteTime": {
     "end_time": "2023-09-04T01:32:48.478295Z",
     "start_time": "2023-09-04T01:32:48.472515Z"
    }
   }
  },
  {
   "cell_type": "code",
   "execution_count": 13,
   "outputs": [],
   "source": [],
   "metadata": {
    "collapsed": false,
    "ExecuteTime": {
     "end_time": "2023-09-04T01:32:48.577393Z",
     "start_time": "2023-09-04T01:32:48.570249Z"
    }
   }
  },
  {
   "cell_type": "code",
   "execution_count": 13,
   "outputs": [],
   "source": [],
   "metadata": {
    "collapsed": false,
    "ExecuteTime": {
     "end_time": "2023-09-04T01:32:48.748536Z",
     "start_time": "2023-09-04T01:32:48.741300Z"
    }
   }
  },
  {
   "cell_type": "code",
   "execution_count": 13,
   "outputs": [],
   "source": [],
   "metadata": {
    "collapsed": false,
    "ExecuteTime": {
     "end_time": "2023-09-04T01:32:48.888844Z",
     "start_time": "2023-09-04T01:32:48.880716Z"
    }
   }
  },
  {
   "cell_type": "code",
   "execution_count": 13,
   "outputs": [],
   "source": [],
   "metadata": {
    "collapsed": false,
    "ExecuteTime": {
     "end_time": "2023-09-04T01:32:49.014443Z",
     "start_time": "2023-09-04T01:32:49.006689Z"
    }
   }
  },
  {
   "cell_type": "code",
   "execution_count": null,
   "outputs": [],
   "source": [],
   "metadata": {
    "collapsed": false
   }
  }
 ],
 "metadata": {
  "kernelspec": {
   "display_name": "base",
   "language": "python",
   "name": "python3"
  },
  "language_info": {
   "codemirror_mode": {
    "name": "ipython",
    "version": 3
   },
   "file_extension": ".py",
   "mimetype": "text/x-python",
   "name": "python",
   "nbconvert_exporter": "python",
   "pygments_lexer": "ipython3",
   "version": "3.8.17"
  },
  "orig_nbformat": 4
 },
 "nbformat": 4,
 "nbformat_minor": 2
}
